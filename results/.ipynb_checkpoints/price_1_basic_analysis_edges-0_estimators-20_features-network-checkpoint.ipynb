{
 "cells": [
  {
   "cell_type": "markdown",
   "metadata": {
    "papermill": {
     "duration": 0.06829,
     "end_time": "2019-02-05T03:26:19.462118",
     "exception": false,
     "start_time": "2019-02-05T03:26:19.393828",
     "status": "completed"
    },
    "tags": []
   },
   "source": [
    "# Amazon Copurchased"
   ]
  },
  {
   "cell_type": "markdown",
   "metadata": {
    "papermill": {
     "duration": 0.036925,
     "end_time": "2019-02-05T03:26:19.536988",
     "exception": false,
     "start_time": "2019-02-05T03:26:19.500063",
     "status": "completed"
    },
    "tags": []
   },
   "source": [
    "This is a Python notebook created using \"jupyter\".\n",
    "\n",
    "Author: Rafael J. P. dos Santos"
   ]
  },
  {
   "cell_type": "code",
   "execution_count": 1,
   "metadata": {
    "ExecuteTime": {
     "end_time": "2019-02-05T10:19:23.525244Z",
     "start_time": "2019-02-05T10:19:23.519753Z"
    },
    "papermill": {
     "duration": 0.045996,
     "end_time": "2019-02-05T03:26:19.619954",
     "exception": false,
     "start_time": "2019-02-05T03:26:19.573958",
     "status": "completed"
    },
    "tags": []
   },
   "outputs": [
    {
     "name": "stdout",
     "output_type": "stream",
     "text": [
      "1549361963.52\n"
     ]
    }
   ],
   "source": [
    "import time\n",
    "started_at = time.time()\n",
    "print started_at"
   ]
  },
  {
   "cell_type": "markdown",
   "metadata": {
    "papermill": {
     "duration": 0.038319,
     "end_time": "2019-02-05T03:26:19.695766",
     "exception": false,
     "start_time": "2019-02-05T03:26:19.657447",
     "status": "completed"
    },
    "tags": []
   },
   "source": [
    "## Condições do experimento"
   ]
  },
  {
   "cell_type": "markdown",
   "metadata": {
    "papermill": {
     "duration": 0.036714,
     "end_time": "2019-02-05T03:26:19.770888",
     "exception": false,
     "start_time": "2019-02-05T03:26:19.734174",
     "status": "completed"
    },
    "tags": []
   },
   "source": [
    "* Quantidade limitada de arestas\n",
    "* Todas as features\n",
    "* Quantidade variável de n_estimators"
   ]
  },
  {
   "cell_type": "markdown",
   "metadata": {
    "papermill": {
     "duration": 0.037239,
     "end_time": "2019-02-05T03:26:19.845145",
     "exception": false,
     "start_time": "2019-02-05T03:26:19.807906",
     "status": "completed"
    },
    "tags": []
   },
   "source": [
    "## Parameters"
   ]
  },
  {
   "cell_type": "markdown",
   "metadata": {
    "papermill": {
     "duration": 0.036889,
     "end_time": "2019-02-05T03:26:19.921132",
     "exception": false,
     "start_time": "2019-02-05T03:26:19.884243",
     "status": "completed"
    },
    "tags": []
   },
   "source": [
    "We use the parameter below to set the maximum number of edges to be read from the CSV containing edges (links)."
   ]
  },
  {
   "cell_type": "code",
   "execution_count": 2,
   "metadata": {
    "ExecuteTime": {
     "end_time": "2019-02-05T10:19:23.672249Z",
     "start_time": "2019-02-05T10:19:23.666499Z"
    },
    "cell_style": "center",
    "collapsed": true,
    "hide_input": false,
    "papermill": {
     "duration": 0.04333,
     "end_time": "2019-02-05T03:26:20.001315",
     "exception": false,
     "start_time": "2019-02-05T03:26:19.957985",
     "status": "completed"
    },
    "tags": [
     "parameters"
    ]
   },
   "outputs": [],
   "source": [
    "max_edges = 160000 # Set quantity to read from file\n",
    "edges_csv_file = \"data/20180812_links\"\n",
    "nodes_csv_file = \"data/20180812_nodes\"\n",
    "n_estimators = 20\n",
    "features = 'all'"
   ]
  },
  {
   "cell_type": "code",
   "execution_count": 3,
   "metadata": {
    "ExecuteTime": {
     "end_time": "2019-02-05T10:19:23.700490Z",
     "start_time": "2019-02-05T10:19:23.674264Z"
    },
    "collapsed": true,
    "papermill": {
     "duration": 0.042376,
     "end_time": "2019-02-05T03:26:20.081981",
     "exception": false,
     "start_time": "2019-02-05T03:26:20.039605",
     "status": "completed"
    },
    "tags": [
     "injected-parameters"
    ]
   },
   "outputs": [],
   "source": [
    "# Parameters\n",
    "n_estimators = 20\n",
    "max_edges = 0\n",
    "features = \"network\"\n"
   ]
  },
  {
   "cell_type": "markdown",
   "metadata": {
    "papermill": {
     "duration": 0.037351,
     "end_time": "2019-02-05T03:26:20.156769",
     "exception": false,
     "start_time": "2019-02-05T03:26:20.119418",
     "status": "completed"
    },
    "tags": []
   },
   "source": [
    "## Load the libraries"
   ]
  },
  {
   "cell_type": "markdown",
   "metadata": {
    "papermill": {
     "duration": 0.036704,
     "end_time": "2019-02-05T03:26:20.232045",
     "exception": false,
     "start_time": "2019-02-05T03:26:20.195341",
     "status": "completed"
    },
    "tags": []
   },
   "source": [
    "Let's load the Python libraries that we will need throughout the script"
   ]
  },
  {
   "cell_type": "code",
   "execution_count": 4,
   "metadata": {
    "ExecuteTime": {
     "end_time": "2019-02-05T10:19:23.842072Z",
     "start_time": "2019-02-05T10:19:23.767294Z"
    },
    "papermill": {
     "duration": 0.715265,
     "end_time": "2019-02-05T03:26:20.984255",
     "exception": false,
     "start_time": "2019-02-05T03:26:20.268990",
     "status": "completed"
    },
    "tags": []
   },
   "outputs": [
    {
     "ename": "ImportError",
     "evalue": "No module named shared_functions",
     "output_type": "error",
     "traceback": [
      "\u001b[0;31m---------------------------------------------------------------------------\u001b[0m",
      "\u001b[0;31mImportError\u001b[0m                               Traceback (most recent call last)",
      "\u001b[0;32m<ipython-input-4-bd7de8ec681a>\u001b[0m in \u001b[0;36m<module>\u001b[0;34m()\u001b[0m\n\u001b[1;32m      1\u001b[0m \u001b[0mget_ipython\u001b[0m\u001b[0;34m(\u001b[0m\u001b[0;34m)\u001b[0m\u001b[0;34m.\u001b[0m\u001b[0mmagic\u001b[0m\u001b[0;34m(\u001b[0m\u001b[0;34mu'load_ext autoreload'\u001b[0m\u001b[0;34m)\u001b[0m\u001b[0;34m\u001b[0m\u001b[0m\n\u001b[1;32m      2\u001b[0m \u001b[0mget_ipython\u001b[0m\u001b[0;34m(\u001b[0m\u001b[0;34m)\u001b[0m\u001b[0;34m.\u001b[0m\u001b[0mmagic\u001b[0m\u001b[0;34m(\u001b[0m\u001b[0;34mu'autoreload 1'\u001b[0m\u001b[0;34m)\u001b[0m\u001b[0;34m\u001b[0m\u001b[0m\n\u001b[0;32m----> 3\u001b[0;31m \u001b[0mget_ipython\u001b[0m\u001b[0;34m(\u001b[0m\u001b[0;34m)\u001b[0m\u001b[0;34m.\u001b[0m\u001b[0mmagic\u001b[0m\u001b[0;34m(\u001b[0m\u001b[0;34mu'aimport shared_functions'\u001b[0m\u001b[0;34m)\u001b[0m\u001b[0;34m\u001b[0m\u001b[0m\n\u001b[0m\u001b[1;32m      4\u001b[0m \u001b[0;32mimport\u001b[0m \u001b[0mpandas\u001b[0m \u001b[0;32mas\u001b[0m \u001b[0mpd\u001b[0m\u001b[0;34m\u001b[0m\u001b[0m\n\u001b[1;32m      5\u001b[0m \u001b[0;32mimport\u001b[0m \u001b[0mnumpy\u001b[0m \u001b[0;32mas\u001b[0m \u001b[0mnp\u001b[0m\u001b[0;34m\u001b[0m\u001b[0m\n",
      "\u001b[0;32m/home/rafael/anaconda2/lib/python2.7/site-packages/IPython/core/interactiveshell.pyc\u001b[0m in \u001b[0;36mmagic\u001b[0;34m(self, arg_s)\u001b[0m\n\u001b[1;32m   2156\u001b[0m         \u001b[0mmagic_name\u001b[0m\u001b[0;34m,\u001b[0m \u001b[0m_\u001b[0m\u001b[0;34m,\u001b[0m \u001b[0mmagic_arg_s\u001b[0m \u001b[0;34m=\u001b[0m \u001b[0marg_s\u001b[0m\u001b[0;34m.\u001b[0m\u001b[0mpartition\u001b[0m\u001b[0;34m(\u001b[0m\u001b[0;34m' '\u001b[0m\u001b[0;34m)\u001b[0m\u001b[0;34m\u001b[0m\u001b[0m\n\u001b[1;32m   2157\u001b[0m         \u001b[0mmagic_name\u001b[0m \u001b[0;34m=\u001b[0m \u001b[0mmagic_name\u001b[0m\u001b[0;34m.\u001b[0m\u001b[0mlstrip\u001b[0m\u001b[0;34m(\u001b[0m\u001b[0mprefilter\u001b[0m\u001b[0;34m.\u001b[0m\u001b[0mESC_MAGIC\u001b[0m\u001b[0;34m)\u001b[0m\u001b[0;34m\u001b[0m\u001b[0m\n\u001b[0;32m-> 2158\u001b[0;31m         \u001b[0;32mreturn\u001b[0m \u001b[0mself\u001b[0m\u001b[0;34m.\u001b[0m\u001b[0mrun_line_magic\u001b[0m\u001b[0;34m(\u001b[0m\u001b[0mmagic_name\u001b[0m\u001b[0;34m,\u001b[0m \u001b[0mmagic_arg_s\u001b[0m\u001b[0;34m)\u001b[0m\u001b[0;34m\u001b[0m\u001b[0m\n\u001b[0m\u001b[1;32m   2159\u001b[0m \u001b[0;34m\u001b[0m\u001b[0m\n\u001b[1;32m   2160\u001b[0m     \u001b[0;31m#-------------------------------------------------------------------------\u001b[0m\u001b[0;34m\u001b[0m\u001b[0;34m\u001b[0m\u001b[0m\n",
      "\u001b[0;32m/home/rafael/anaconda2/lib/python2.7/site-packages/IPython/core/interactiveshell.pyc\u001b[0m in \u001b[0;36mrun_line_magic\u001b[0;34m(self, magic_name, line)\u001b[0m\n\u001b[1;32m   2077\u001b[0m                 \u001b[0mkwargs\u001b[0m\u001b[0;34m[\u001b[0m\u001b[0;34m'local_ns'\u001b[0m\u001b[0;34m]\u001b[0m \u001b[0;34m=\u001b[0m \u001b[0msys\u001b[0m\u001b[0;34m.\u001b[0m\u001b[0m_getframe\u001b[0m\u001b[0;34m(\u001b[0m\u001b[0mstack_depth\u001b[0m\u001b[0;34m)\u001b[0m\u001b[0;34m.\u001b[0m\u001b[0mf_locals\u001b[0m\u001b[0;34m\u001b[0m\u001b[0m\n\u001b[1;32m   2078\u001b[0m             \u001b[0;32mwith\u001b[0m \u001b[0mself\u001b[0m\u001b[0;34m.\u001b[0m\u001b[0mbuiltin_trap\u001b[0m\u001b[0;34m:\u001b[0m\u001b[0;34m\u001b[0m\u001b[0m\n\u001b[0;32m-> 2079\u001b[0;31m                 \u001b[0mresult\u001b[0m \u001b[0;34m=\u001b[0m \u001b[0mfn\u001b[0m\u001b[0;34m(\u001b[0m\u001b[0;34m*\u001b[0m\u001b[0margs\u001b[0m\u001b[0;34m,\u001b[0m\u001b[0;34m**\u001b[0m\u001b[0mkwargs\u001b[0m\u001b[0;34m)\u001b[0m\u001b[0;34m\u001b[0m\u001b[0m\n\u001b[0m\u001b[1;32m   2080\u001b[0m             \u001b[0;32mreturn\u001b[0m \u001b[0mresult\u001b[0m\u001b[0;34m\u001b[0m\u001b[0m\n\u001b[1;32m   2081\u001b[0m \u001b[0;34m\u001b[0m\u001b[0m\n",
      "\u001b[0;32m<decorator-gen-123>\u001b[0m in \u001b[0;36maimport\u001b[0;34m(self, parameter_s, stream)\u001b[0m\n",
      "\u001b[0;32m/home/rafael/anaconda2/lib/python2.7/site-packages/IPython/core/magic.pyc\u001b[0m in \u001b[0;36m<lambda>\u001b[0;34m(f, *a, **k)\u001b[0m\n\u001b[1;32m    186\u001b[0m     \u001b[0;31m# but it's overkill for just that one bit of state.\u001b[0m\u001b[0;34m\u001b[0m\u001b[0;34m\u001b[0m\u001b[0m\n\u001b[1;32m    187\u001b[0m     \u001b[0;32mdef\u001b[0m \u001b[0mmagic_deco\u001b[0m\u001b[0;34m(\u001b[0m\u001b[0marg\u001b[0m\u001b[0;34m)\u001b[0m\u001b[0;34m:\u001b[0m\u001b[0;34m\u001b[0m\u001b[0m\n\u001b[0;32m--> 188\u001b[0;31m         \u001b[0mcall\u001b[0m \u001b[0;34m=\u001b[0m \u001b[0;32mlambda\u001b[0m \u001b[0mf\u001b[0m\u001b[0;34m,\u001b[0m \u001b[0;34m*\u001b[0m\u001b[0ma\u001b[0m\u001b[0;34m,\u001b[0m \u001b[0;34m**\u001b[0m\u001b[0mk\u001b[0m\u001b[0;34m:\u001b[0m \u001b[0mf\u001b[0m\u001b[0;34m(\u001b[0m\u001b[0;34m*\u001b[0m\u001b[0ma\u001b[0m\u001b[0;34m,\u001b[0m \u001b[0;34m**\u001b[0m\u001b[0mk\u001b[0m\u001b[0;34m)\u001b[0m\u001b[0;34m\u001b[0m\u001b[0m\n\u001b[0m\u001b[1;32m    189\u001b[0m \u001b[0;34m\u001b[0m\u001b[0m\n\u001b[1;32m    190\u001b[0m         \u001b[0;32mif\u001b[0m \u001b[0mcallable\u001b[0m\u001b[0;34m(\u001b[0m\u001b[0marg\u001b[0m\u001b[0;34m)\u001b[0m\u001b[0;34m:\u001b[0m\u001b[0;34m\u001b[0m\u001b[0m\n",
      "\u001b[0;32m/home/rafael/anaconda2/lib/python2.7/site-packages/IPython/extensions/autoreload.pyc\u001b[0m in \u001b[0;36maimport\u001b[0;34m(self, parameter_s, stream)\u001b[0m\n\u001b[1;32m    505\u001b[0m             \u001b[0mself\u001b[0m\u001b[0;34m.\u001b[0m\u001b[0m_reloader\u001b[0m\u001b[0;34m.\u001b[0m\u001b[0mmark_module_skipped\u001b[0m\u001b[0;34m(\u001b[0m\u001b[0mmodname\u001b[0m\u001b[0;34m)\u001b[0m\u001b[0;34m\u001b[0m\u001b[0m\n\u001b[1;32m    506\u001b[0m         \u001b[0;32melse\u001b[0m\u001b[0;34m:\u001b[0m\u001b[0;34m\u001b[0m\u001b[0m\n\u001b[0;32m--> 507\u001b[0;31m             \u001b[0mtop_module\u001b[0m\u001b[0;34m,\u001b[0m \u001b[0mtop_name\u001b[0m \u001b[0;34m=\u001b[0m \u001b[0mself\u001b[0m\u001b[0;34m.\u001b[0m\u001b[0m_reloader\u001b[0m\u001b[0;34m.\u001b[0m\u001b[0maimport_module\u001b[0m\u001b[0;34m(\u001b[0m\u001b[0mmodname\u001b[0m\u001b[0;34m)\u001b[0m\u001b[0;34m\u001b[0m\u001b[0m\n\u001b[0m\u001b[1;32m    508\u001b[0m \u001b[0;34m\u001b[0m\u001b[0m\n\u001b[1;32m    509\u001b[0m             \u001b[0;31m# Inject module to user namespace\u001b[0m\u001b[0;34m\u001b[0m\u001b[0;34m\u001b[0m\u001b[0m\n",
      "\u001b[0;32m/home/rafael/anaconda2/lib/python2.7/site-packages/IPython/extensions/autoreload.pyc\u001b[0m in \u001b[0;36maimport_module\u001b[0;34m(self, module_name)\u001b[0m\n\u001b[1;32m    178\u001b[0m         \u001b[0mself\u001b[0m\u001b[0;34m.\u001b[0m\u001b[0mmark_module_reloadable\u001b[0m\u001b[0;34m(\u001b[0m\u001b[0mmodule_name\u001b[0m\u001b[0;34m)\u001b[0m\u001b[0;34m\u001b[0m\u001b[0m\n\u001b[1;32m    179\u001b[0m \u001b[0;34m\u001b[0m\u001b[0m\n\u001b[0;32m--> 180\u001b[0;31m         \u001b[0m__import__\u001b[0m\u001b[0;34m(\u001b[0m\u001b[0mmodule_name\u001b[0m\u001b[0;34m)\u001b[0m\u001b[0;34m\u001b[0m\u001b[0m\n\u001b[0m\u001b[1;32m    181\u001b[0m         \u001b[0mtop_name\u001b[0m \u001b[0;34m=\u001b[0m \u001b[0mmodule_name\u001b[0m\u001b[0;34m.\u001b[0m\u001b[0msplit\u001b[0m\u001b[0;34m(\u001b[0m\u001b[0;34m'.'\u001b[0m\u001b[0;34m)\u001b[0m\u001b[0;34m[\u001b[0m\u001b[0;36m0\u001b[0m\u001b[0;34m]\u001b[0m\u001b[0;34m\u001b[0m\u001b[0m\n\u001b[1;32m    182\u001b[0m         \u001b[0mtop_module\u001b[0m \u001b[0;34m=\u001b[0m \u001b[0msys\u001b[0m\u001b[0;34m.\u001b[0m\u001b[0mmodules\u001b[0m\u001b[0;34m[\u001b[0m\u001b[0mtop_name\u001b[0m\u001b[0;34m]\u001b[0m\u001b[0;34m\u001b[0m\u001b[0m\n",
      "\u001b[0;31mImportError\u001b[0m: No module named shared_functions"
     ]
    }
   ],
   "source": [
    "%load_ext autoreload\n",
    "%autoreload 1\n",
    "%aimport shared_functions\n",
    "import pandas as pd\n",
    "import numpy as np\n",
    "from __future__ import division\n",
    "import shared_functions\n",
    "from IPython.display import display, HTML"
   ]
  },
  {
   "cell_type": "markdown",
   "metadata": {
    "papermill": {
     "duration": 0.036671,
     "end_time": "2019-02-05T03:26:21.058063",
     "exception": false,
     "start_time": "2019-02-05T03:26:21.021392",
     "status": "completed"
    },
    "tags": []
   },
   "source": [
    "## Read graph"
   ]
  },
  {
   "cell_type": "markdown",
   "metadata": {
    "papermill": {
     "duration": 0.037712,
     "end_time": "2019-02-05T03:26:21.132873",
     "exception": false,
     "start_time": "2019-02-05T03:26:21.095161",
     "status": "completed"
    },
    "tags": []
   },
   "source": [
    "### Read only first lines of datafile"
   ]
  },
  {
   "cell_type": "markdown",
   "metadata": {
    "papermill": {
     "duration": 0.039798,
     "end_time": "2019-02-05T03:26:21.210022",
     "exception": false,
     "start_time": "2019-02-05T03:26:21.170224",
     "status": "completed"
    },
    "tags": []
   },
   "source": [
    "Due to slowness in calculating centrality measures, we use the parameter provided in the beggining of the script to limit the number of edges we will read."
   ]
  },
  {
   "cell_type": "code",
   "execution_count": 5,
   "metadata": {
    "ExecuteTime": {
     "end_time": "2019-02-05T10:19:23.879704Z",
     "start_time": "2019-02-05T10:19:23.868453Z"
    },
    "papermill": {
     "duration": 1.033944,
     "end_time": "2019-02-05T03:26:22.281006",
     "exception": false,
     "start_time": "2019-02-05T03:26:21.247062",
     "status": "completed"
    },
    "tags": []
   },
   "outputs": [
    {
     "ename": "NameError",
     "evalue": "name 'shared_functions' is not defined",
     "output_type": "error",
     "traceback": [
      "\u001b[0;31m---------------------------------------------------------------------------\u001b[0m",
      "\u001b[0;31mNameError\u001b[0m                                 Traceback (most recent call last)",
      "\u001b[0;32m<ipython-input-5-1cdfc4726267>\u001b[0m in \u001b[0;36m<module>\u001b[0;34m()\u001b[0m\n\u001b[0;32m----> 1\u001b[0;31m \u001b[0mG\u001b[0m \u001b[0;34m=\u001b[0m \u001b[0mshared_functions\u001b[0m\u001b[0;34m.\u001b[0m\u001b[0mread_G\u001b[0m\u001b[0;34m(\u001b[0m\u001b[0medges_csv_file\u001b[0m\u001b[0;34m,\u001b[0m \u001b[0mmax_edges\u001b[0m\u001b[0;34m)\u001b[0m\u001b[0;34m\u001b[0m\u001b[0m\n\u001b[0m",
      "\u001b[0;31mNameError\u001b[0m: name 'shared_functions' is not defined"
     ]
    }
   ],
   "source": [
    "G = shared_functions.read_G(edges_csv_file, max_edges)"
   ]
  },
  {
   "cell_type": "markdown",
   "metadata": {
    "papermill": {
     "duration": 0.037036,
     "end_time": "2019-02-05T03:26:22.355370",
     "exception": false,
     "start_time": "2019-02-05T03:26:22.318334",
     "status": "completed"
    },
    "tags": []
   },
   "source": [
    "### Calculate nodes centrality measures"
   ]
  },
  {
   "cell_type": "markdown",
   "metadata": {
    "papermill": {
     "duration": 0.037149,
     "end_time": "2019-02-05T03:26:22.430402",
     "exception": false,
     "start_time": "2019-02-05T03:26:22.393253",
     "status": "completed"
    },
    "tags": []
   },
   "source": [
    "Now that we have our NetworkX graph, let's calculate some centrality measures for every node."
   ]
  },
  {
   "cell_type": "code",
   "execution_count": 6,
   "metadata": {
    "ExecuteTime": {
     "end_time": "2019-02-05T10:19:23.953838Z",
     "start_time": "2019-02-05T10:19:23.936401Z"
    },
    "papermill": {
     "duration": 61.187912,
     "end_time": "2019-02-05T03:27:23.657085",
     "exception": false,
     "start_time": "2019-02-05T03:26:22.469173",
     "status": "completed"
    },
    "tags": []
   },
   "outputs": [
    {
     "ename": "NameError",
     "evalue": "name 'shared_functions' is not defined",
     "output_type": "error",
     "traceback": [
      "\u001b[0;31m---------------------------------------------------------------------------\u001b[0m",
      "\u001b[0;31mNameError\u001b[0m                                 Traceback (most recent call last)",
      "\u001b[0;32m<ipython-input-6-e050eb478fa7>\u001b[0m in \u001b[0;36m<module>\u001b[0;34m()\u001b[0m\n\u001b[0;32m----> 1\u001b[0;31m \u001b[0mcentrality_measures\u001b[0m \u001b[0;34m=\u001b[0m \u001b[0mshared_functions\u001b[0m\u001b[0;34m.\u001b[0m\u001b[0mcentrality_measures\u001b[0m\u001b[0;34m(\u001b[0m\u001b[0mG\u001b[0m\u001b[0;34m)\u001b[0m\u001b[0;34m\u001b[0m\u001b[0m\n\u001b[0m\u001b[1;32m      2\u001b[0m \u001b[0;32mprint\u001b[0m \u001b[0mcentrality_measures\u001b[0m\u001b[0;34m.\u001b[0m\u001b[0mkeys\u001b[0m\u001b[0;34m(\u001b[0m\u001b[0;34m)\u001b[0m\u001b[0;34m\u001b[0m\u001b[0m\n",
      "\u001b[0;31mNameError\u001b[0m: name 'shared_functions' is not defined"
     ]
    }
   ],
   "source": [
    "centrality_measures = shared_functions.centrality_measures(G)\n",
    "print centrality_measures.keys()"
   ]
  },
  {
   "cell_type": "markdown",
   "metadata": {
    "collapsed": true,
    "papermill": {
     "duration": 0.038283,
     "end_time": "2019-02-05T03:27:23.734058",
     "exception": false,
     "start_time": "2019-02-05T03:27:23.695775",
     "status": "completed"
    },
    "tags": []
   },
   "source": [
    "### Load node properties"
   ]
  },
  {
   "cell_type": "markdown",
   "metadata": {
    "papermill": {
     "duration": 0.037435,
     "end_time": "2019-02-05T03:27:23.808975",
     "exception": false,
     "start_time": "2019-02-05T03:27:23.771540",
     "status": "completed"
    },
    "tags": []
   },
   "source": [
    "Let's load the CSV containing the nodes data (title, price) into a Pandas dataframe, and append the centrality measures calculated above."
   ]
  },
  {
   "cell_type": "code",
   "execution_count": 7,
   "metadata": {
    "ExecuteTime": {
     "end_time": "2019-02-05T10:19:24.024228Z",
     "start_time": "2019-02-05T10:19:24.009608Z"
    },
    "papermill": {
     "duration": 0.113002,
     "end_time": "2019-02-05T03:27:23.959579",
     "exception": false,
     "start_time": "2019-02-05T03:27:23.846577",
     "status": "completed"
    },
    "tags": []
   },
   "outputs": [
    {
     "ename": "NameError",
     "evalue": "name 'pd' is not defined",
     "output_type": "error",
     "traceback": [
      "\u001b[0;31m---------------------------------------------------------------------------\u001b[0m",
      "\u001b[0;31mNameError\u001b[0m                                 Traceback (most recent call last)",
      "\u001b[0;32m<ipython-input-7-1e77fdabfb9d>\u001b[0m in \u001b[0;36m<module>\u001b[0;34m()\u001b[0m\n\u001b[0;32m----> 1\u001b[0;31m \u001b[0mdf\u001b[0m \u001b[0;34m=\u001b[0m \u001b[0mpd\u001b[0m\u001b[0;34m.\u001b[0m\u001b[0mread_csv\u001b[0m\u001b[0;34m(\u001b[0m\u001b[0mnodes_csv_file\u001b[0m\u001b[0;34m)\u001b[0m\u001b[0;34m\u001b[0m\u001b[0m\n\u001b[0m",
      "\u001b[0;31mNameError\u001b[0m: name 'pd' is not defined"
     ]
    }
   ],
   "source": [
    "df = pd.read_csv(nodes_csv_file)"
   ]
  },
  {
   "cell_type": "markdown",
   "metadata": {
    "papermill": {
     "duration": 0.038166,
     "end_time": "2019-02-05T03:27:24.035692",
     "exception": false,
     "start_time": "2019-02-05T03:27:23.997526",
     "status": "completed"
    },
    "tags": []
   },
   "source": [
    "####  Convert ID to random int to avoid leaking knowledge"
   ]
  },
  {
   "cell_type": "code",
   "execution_count": 8,
   "metadata": {
    "ExecuteTime": {
     "end_time": "2019-02-05T10:19:24.072352Z",
     "start_time": "2019-02-05T10:19:24.057370Z"
    },
    "papermill": {
     "duration": 0.092478,
     "end_time": "2019-02-05T03:27:24.166252",
     "exception": false,
     "start_time": "2019-02-05T03:27:24.073774",
     "status": "completed"
    },
    "tags": []
   },
   "outputs": [
    {
     "ename": "NameError",
     "evalue": "name 'shared_functions' is not defined",
     "output_type": "error",
     "traceback": [
      "\u001b[0;31m---------------------------------------------------------------------------\u001b[0m",
      "\u001b[0;31mNameError\u001b[0m                                 Traceback (most recent call last)",
      "\u001b[0;32m<ipython-input-8-9f80e013244e>\u001b[0m in \u001b[0;36m<module>\u001b[0;34m()\u001b[0m\n\u001b[0;32m----> 1\u001b[0;31m \u001b[0mdf\u001b[0m \u001b[0;34m=\u001b[0m \u001b[0mshared_functions\u001b[0m\u001b[0;34m.\u001b[0m\u001b[0madd_sha256_column_from_id\u001b[0m\u001b[0;34m(\u001b[0m\u001b[0mdf\u001b[0m\u001b[0;34m)\u001b[0m\u001b[0;34m\u001b[0m\u001b[0m\n\u001b[0m",
      "\u001b[0;31mNameError\u001b[0m: name 'shared_functions' is not defined"
     ]
    }
   ],
   "source": [
    "df = shared_functions.add_sha256_column_from_id(df)"
   ]
  },
  {
   "cell_type": "markdown",
   "metadata": {
    "papermill": {
     "duration": 0.037852,
     "end_time": "2019-02-05T03:27:24.241982",
     "exception": false,
     "start_time": "2019-02-05T03:27:24.204130",
     "status": "completed"
    },
    "tags": []
   },
   "source": [
    "#### Add centrality measures"
   ]
  },
  {
   "cell_type": "code",
   "execution_count": 9,
   "metadata": {
    "ExecuteTime": {
     "end_time": "2019-02-05T10:19:24.109987Z",
     "start_time": "2019-02-05T10:19:24.097609Z"
    },
    "papermill": {
     "duration": 0.136878,
     "end_time": "2019-02-05T03:27:24.419799",
     "exception": false,
     "start_time": "2019-02-05T03:27:24.282921",
     "status": "completed"
    },
    "tags": []
   },
   "outputs": [
    {
     "ename": "NameError",
     "evalue": "name 'shared_functions' is not defined",
     "output_type": "error",
     "traceback": [
      "\u001b[0;31m---------------------------------------------------------------------------\u001b[0m",
      "\u001b[0;31mNameError\u001b[0m                                 Traceback (most recent call last)",
      "\u001b[0;32m<ipython-input-9-3c5a441e8b19>\u001b[0m in \u001b[0;36m<module>\u001b[0;34m()\u001b[0m\n\u001b[0;32m----> 1\u001b[0;31m \u001b[0mdf\u001b[0m \u001b[0;34m=\u001b[0m \u001b[0mshared_functions\u001b[0m\u001b[0;34m.\u001b[0m\u001b[0mmerge_columns\u001b[0m\u001b[0;34m(\u001b[0m\u001b[0mdf\u001b[0m\u001b[0;34m,\u001b[0m \u001b[0mcentrality_measures\u001b[0m\u001b[0;34m)\u001b[0m\u001b[0;34m\u001b[0m\u001b[0m\n\u001b[0m",
      "\u001b[0;31mNameError\u001b[0m: name 'shared_functions' is not defined"
     ]
    }
   ],
   "source": [
    "df = shared_functions.merge_columns(df, centrality_measures)"
   ]
  },
  {
   "cell_type": "markdown",
   "metadata": {
    "papermill": {
     "duration": 0.038346,
     "end_time": "2019-02-05T03:27:24.495860",
     "exception": false,
     "start_time": "2019-02-05T03:27:24.457514",
     "status": "completed"
    },
    "tags": []
   },
   "source": [
    "### Let's convert some fields to numeric"
   ]
  },
  {
   "cell_type": "code",
   "execution_count": 10,
   "metadata": {
    "ExecuteTime": {
     "end_time": "2019-02-05T10:19:24.162033Z",
     "start_time": "2019-02-05T10:19:24.134942Z"
    },
    "papermill": {
     "duration": 0.125465,
     "end_time": "2019-02-05T03:27:24.658831",
     "exception": false,
     "start_time": "2019-02-05T03:27:24.533366",
     "status": "completed"
    },
    "tags": []
   },
   "outputs": [
    {
     "ename": "NameError",
     "evalue": "name 'shared_functions' is not defined",
     "output_type": "error",
     "traceback": [
      "\u001b[0;31m---------------------------------------------------------------------------\u001b[0m",
      "\u001b[0;31mNameError\u001b[0m                                 Traceback (most recent call last)",
      "\u001b[0;32m<ipython-input-10-84f7a887b4fd>\u001b[0m in \u001b[0;36m<module>\u001b[0;34m()\u001b[0m\n\u001b[1;32m     76\u001b[0m     ]\n\u001b[1;32m     77\u001b[0m \u001b[0;34m\u001b[0m\u001b[0m\n\u001b[0;32m---> 78\u001b[0;31m \u001b[0mdf\u001b[0m \u001b[0;34m=\u001b[0m \u001b[0mshared_functions\u001b[0m\u001b[0;34m.\u001b[0m\u001b[0mprepare_data\u001b[0m\u001b[0;34m(\u001b[0m\u001b[0mdf\u001b[0m\u001b[0;34m,\u001b[0m \u001b[0mnumeric_features\u001b[0m\u001b[0;34m)\u001b[0m\u001b[0;34m\u001b[0m\u001b[0m\n\u001b[0m",
      "\u001b[0;31mNameError\u001b[0m: name 'shared_functions' is not defined"
     ]
    }
   ],
   "source": [
    "if features == 'all':\n",
    "    \n",
    "    categorical_features = [\n",
    "        'category1',\n",
    "        'category2',\n",
    "        'category3',\n",
    "        'category4',\n",
    "        'category5',\n",
    "        'category6',\n",
    "        'category7',\n",
    "        'category8',\n",
    "        'category9',\n",
    "        'category10',\n",
    "        'language',\n",
    "        'coverType',\n",
    "        'publisher',\n",
    "        'rankingCategory',\n",
    "        'authors'\n",
    "    ]\n",
    "\n",
    "    numeric_features = [\n",
    "        'degree',\n",
    "        'eigenvector_centrality',\n",
    "        'betweenness_centrality',\n",
    "        'ranking',\n",
    "        'reviewCount',\n",
    "        'pages',\n",
    "        'weight',\n",
    "        'height',\n",
    "        'width',\n",
    "        'depth',\n",
    "        'rating'\n",
    "    ]\n",
    "    \n",
    "elif features == 'all_except_network_metrics':\n",
    "    \n",
    "    categorical_features = [\n",
    "        'category1',\n",
    "        'category2',\n",
    "        'category3',\n",
    "        'category4',\n",
    "        'category5',\n",
    "        'category6',\n",
    "        'category7',\n",
    "        'category8',\n",
    "        'category9',\n",
    "        'category10',\n",
    "        'language',\n",
    "        'coverType',\n",
    "        'publisher',\n",
    "        'rankingCategory',\n",
    "        'authors'\n",
    "    ]\n",
    "\n",
    "    numeric_features = [\n",
    "        'ranking',\n",
    "        'reviewCount',\n",
    "        'pages',\n",
    "        'weight',\n",
    "        'height',\n",
    "        'width',\n",
    "        'depth',\n",
    "        'rating'\n",
    "    ]\n",
    "\n",
    "elif features == 'none':\n",
    "    categorical_features = []\n",
    "    numeric_features = []\n",
    "    \n",
    "elif features == 'network':\n",
    "    categorical_features = []\n",
    "    numeric_features = [\n",
    "        'degree',\n",
    "        'eigenvector_centrality',\n",
    "        'betweenness_centrality'\n",
    "    ]\n",
    "\n",
    "df = shared_functions.prepare_data(df, numeric_features)"
   ]
  },
  {
   "cell_type": "markdown",
   "metadata": {
    "papermill": {
     "duration": 0.038266,
     "end_time": "2019-02-05T03:27:24.735418",
     "exception": false,
     "start_time": "2019-02-05T03:27:24.697152",
     "status": "completed"
    },
    "tags": []
   },
   "source": [
    "### Remove nodes without price"
   ]
  },
  {
   "cell_type": "code",
   "execution_count": 11,
   "metadata": {
    "ExecuteTime": {
     "end_time": "2019-02-05T10:19:24.194791Z",
     "start_time": "2019-02-05T10:19:24.171823Z"
    },
    "papermill": {
     "duration": 0.04886,
     "end_time": "2019-02-05T03:27:24.822115",
     "exception": false,
     "start_time": "2019-02-05T03:27:24.773255",
     "status": "completed"
    },
    "tags": []
   },
   "outputs": [
    {
     "ename": "NameError",
     "evalue": "name 'df' is not defined",
     "output_type": "error",
     "traceback": [
      "\u001b[0;31m---------------------------------------------------------------------------\u001b[0m",
      "\u001b[0;31mNameError\u001b[0m                                 Traceback (most recent call last)",
      "\u001b[0;32m<ipython-input-11-01769db541c7>\u001b[0m in \u001b[0;36m<module>\u001b[0;34m()\u001b[0m\n\u001b[0;32m----> 1\u001b[0;31m \u001b[0mdf\u001b[0m \u001b[0;34m=\u001b[0m \u001b[0mdf\u001b[0m\u001b[0;34m.\u001b[0m\u001b[0mdrop\u001b[0m\u001b[0;34m(\u001b[0m\u001b[0mdf\u001b[0m\u001b[0;34m[\u001b[0m\u001b[0mdf\u001b[0m\u001b[0;34m[\u001b[0m\u001b[0;34m\"price\"\u001b[0m\u001b[0;34m]\u001b[0m\u001b[0;34m.\u001b[0m\u001b[0misnull\u001b[0m\u001b[0;34m(\u001b[0m\u001b[0;34m)\u001b[0m\u001b[0;34m]\u001b[0m\u001b[0;34m.\u001b[0m\u001b[0mindex\u001b[0m\u001b[0;34m)\u001b[0m\u001b[0;34m\u001b[0m\u001b[0m\n\u001b[0m",
      "\u001b[0;31mNameError\u001b[0m: name 'df' is not defined"
     ]
    }
   ],
   "source": [
    "df = df.drop(df[df[\"price\"].isnull()].index)"
   ]
  },
  {
   "cell_type": "markdown",
   "metadata": {
    "papermill": {
     "duration": 0.03818,
     "end_time": "2019-02-05T03:27:24.898586",
     "exception": false,
     "start_time": "2019-02-05T03:27:24.860406",
     "status": "completed"
    },
    "tags": []
   },
   "source": [
    "### Inspect columns"
   ]
  },
  {
   "cell_type": "code",
   "execution_count": 12,
   "metadata": {
    "ExecuteTime": {
     "end_time": "2019-02-05T10:19:24.223591Z",
     "start_time": "2019-02-05T10:19:24.210980Z"
    },
    "papermill": {
     "duration": 0.046145,
     "end_time": "2019-02-05T03:27:24.982751",
     "exception": false,
     "start_time": "2019-02-05T03:27:24.936606",
     "status": "completed"
    },
    "tags": []
   },
   "outputs": [
    {
     "ename": "NameError",
     "evalue": "name 'df' is not defined",
     "output_type": "error",
     "traceback": [
      "\u001b[0;31m---------------------------------------------------------------------------\u001b[0m",
      "\u001b[0;31mNameError\u001b[0m                                 Traceback (most recent call last)",
      "\u001b[0;32m<ipython-input-12-6a4642092433>\u001b[0m in \u001b[0;36m<module>\u001b[0;34m()\u001b[0m\n\u001b[0;32m----> 1\u001b[0;31m \u001b[0mdf\u001b[0m\u001b[0;34m.\u001b[0m\u001b[0mcolumns\u001b[0m\u001b[0;34m\u001b[0m\u001b[0m\n\u001b[0m",
      "\u001b[0;31mNameError\u001b[0m: name 'df' is not defined"
     ]
    }
   ],
   "source": [
    "df.columns"
   ]
  },
  {
   "cell_type": "markdown",
   "metadata": {
    "papermill": {
     "duration": 0.038432,
     "end_time": "2019-02-05T03:27:25.059935",
     "exception": false,
     "start_time": "2019-02-05T03:27:25.021503",
     "status": "completed"
    },
    "tags": []
   },
   "source": [
    "### Features summary"
   ]
  },
  {
   "cell_type": "markdown",
   "metadata": {
    "papermill": {
     "duration": 0.036627,
     "end_time": "2019-02-05T03:27:25.137721",
     "exception": false,
     "start_time": "2019-02-05T03:27:25.101094",
     "status": "completed"
    },
    "tags": []
   },
   "source": [
    "Below we have a summary of the Pandas dataframe. We can see the number of nodes that we are actually analyzing, which depends on the max_edges parameter defined before."
   ]
  },
  {
   "cell_type": "code",
   "execution_count": 13,
   "metadata": {
    "ExecuteTime": {
     "end_time": "2019-02-05T10:19:24.294840Z",
     "start_time": "2019-02-05T10:19:24.282399Z"
    },
    "papermill": {
     "duration": 0.228775,
     "end_time": "2019-02-05T03:27:25.404285",
     "exception": false,
     "start_time": "2019-02-05T03:27:25.175510",
     "status": "completed"
    },
    "tags": []
   },
   "outputs": [
    {
     "ename": "NameError",
     "evalue": "name 'pd' is not defined",
     "output_type": "error",
     "traceback": [
      "\u001b[0;31m---------------------------------------------------------------------------\u001b[0m",
      "\u001b[0;31mNameError\u001b[0m                                 Traceback (most recent call last)",
      "\u001b[0;32m<ipython-input-13-71f3e456d8b1>\u001b[0m in \u001b[0;36m<module>\u001b[0;34m()\u001b[0m\n\u001b[0;32m----> 1\u001b[0;31m \u001b[0mpd\u001b[0m\u001b[0;34m.\u001b[0m\u001b[0mset_option\u001b[0m\u001b[0;34m(\u001b[0m\u001b[0;34m'display.max_columns'\u001b[0m\u001b[0;34m,\u001b[0m \u001b[0mNone\u001b[0m\u001b[0;34m)\u001b[0m\u001b[0;34m\u001b[0m\u001b[0m\n\u001b[0m\u001b[1;32m      2\u001b[0m \u001b[0mdf\u001b[0m\u001b[0;34m.\u001b[0m\u001b[0mdescribe\u001b[0m\u001b[0;34m(\u001b[0m\u001b[0minclude\u001b[0m\u001b[0;34m=\u001b[0m\u001b[0;34m'all'\u001b[0m\u001b[0;34m,\u001b[0m \u001b[0mpercentiles\u001b[0m\u001b[0;34m=\u001b[0m\u001b[0;34m[\u001b[0m\u001b[0;36m0.25\u001b[0m\u001b[0;34m,\u001b[0m \u001b[0;36m0.5\u001b[0m\u001b[0;34m,\u001b[0m \u001b[0;36m0.75\u001b[0m\u001b[0;34m,\u001b[0m \u001b[0;36m0.85\u001b[0m\u001b[0;34m,\u001b[0m \u001b[0;36m0.9\u001b[0m\u001b[0;34m,\u001b[0m \u001b[0;36m0.95\u001b[0m\u001b[0;34m,\u001b[0m \u001b[0;36m0.99\u001b[0m\u001b[0;34m]\u001b[0m\u001b[0;34m)\u001b[0m\u001b[0;34m\u001b[0m\u001b[0m\n",
      "\u001b[0;31mNameError\u001b[0m: name 'pd' is not defined"
     ]
    }
   ],
   "source": [
    "pd.set_option('display.max_columns', None)\n",
    "df.describe(include='all', percentiles=[0.25, 0.5, 0.75, 0.85, 0.9, 0.95, 0.99])"
   ]
  },
  {
   "cell_type": "markdown",
   "metadata": {
    "papermill": {
     "duration": 0.040855,
     "end_time": "2019-02-05T03:27:25.486317",
     "exception": false,
     "start_time": "2019-02-05T03:27:25.445462",
     "status": "completed"
    },
    "tags": []
   },
   "source": [
    "Below we can inspect the first rows of data, containing title, price, degree and other centrality measures."
   ]
  },
  {
   "cell_type": "code",
   "execution_count": 14,
   "metadata": {
    "ExecuteTime": {
     "end_time": "2019-02-05T10:19:24.330528Z",
     "start_time": "2019-02-05T10:19:24.318813Z"
    },
    "papermill": {
     "duration": 0.113291,
     "end_time": "2019-02-05T03:27:25.640689",
     "exception": false,
     "start_time": "2019-02-05T03:27:25.527398",
     "status": "completed"
    },
    "tags": []
   },
   "outputs": [
    {
     "ename": "NameError",
     "evalue": "name 'df' is not defined",
     "output_type": "error",
     "traceback": [
      "\u001b[0;31m---------------------------------------------------------------------------\u001b[0m",
      "\u001b[0;31mNameError\u001b[0m                                 Traceback (most recent call last)",
      "\u001b[0;32m<ipython-input-14-6fae94b3c442>\u001b[0m in \u001b[0;36m<module>\u001b[0;34m()\u001b[0m\n\u001b[0;32m----> 1\u001b[0;31m \u001b[0mdf\u001b[0m\u001b[0;34m.\u001b[0m\u001b[0mhead\u001b[0m\u001b[0;34m(\u001b[0m\u001b[0;36m10\u001b[0m\u001b[0;34m)\u001b[0m\u001b[0;34m\u001b[0m\u001b[0m\n\u001b[0m",
      "\u001b[0;31mNameError\u001b[0m: name 'df' is not defined"
     ]
    }
   ],
   "source": [
    "df.head(10)"
   ]
  },
  {
   "cell_type": "markdown",
   "metadata": {
    "papermill": {
     "duration": 0.043441,
     "end_time": "2019-02-05T03:27:25.729916",
     "exception": false,
     "start_time": "2019-02-05T03:27:25.686475",
     "status": "completed"
    },
    "tags": []
   },
   "source": [
    "## Random forest using various features, price as target"
   ]
  },
  {
   "cell_type": "markdown",
   "metadata": {
    "papermill": {
     "duration": 0.047971,
     "end_time": "2019-02-05T03:27:25.821497",
     "exception": false,
     "start_time": "2019-02-05T03:27:25.773526",
     "status": "completed"
    },
    "tags": []
   },
   "source": [
    "### Preparing data"
   ]
  },
  {
   "cell_type": "code",
   "execution_count": 15,
   "metadata": {
    "ExecuteTime": {
     "end_time": "2019-02-05T10:19:24.437731Z",
     "start_time": "2019-02-05T10:19:24.426186Z"
    },
    "papermill": {
     "duration": 0.063204,
     "end_time": "2019-02-05T03:27:25.935031",
     "exception": false,
     "start_time": "2019-02-05T03:27:25.871827",
     "status": "completed"
    },
    "tags": []
   },
   "outputs": [
    {
     "ename": "NameError",
     "evalue": "name 'shared_functions' is not defined",
     "output_type": "error",
     "traceback": [
      "\u001b[0;31m---------------------------------------------------------------------------\u001b[0m",
      "\u001b[0;31mNameError\u001b[0m                                 Traceback (most recent call last)",
      "\u001b[0;32m<ipython-input-15-4498803d8823>\u001b[0m in \u001b[0;36m<module>\u001b[0;34m()\u001b[0m\n\u001b[0;32m----> 1\u001b[0;31m \u001b[0mtarget\u001b[0m\u001b[0;34m,\u001b[0m \u001b[0mfeatures\u001b[0m\u001b[0;34m,\u001b[0m \u001b[0mfeature_list\u001b[0m\u001b[0;34m,\u001b[0m \u001b[0mtest_features\u001b[0m\u001b[0;34m,\u001b[0m \u001b[0mtest_target\u001b[0m \u001b[0;34m=\u001b[0m \u001b[0mshared_functions\u001b[0m\u001b[0;34m.\u001b[0m\u001b[0mprepare_datasets\u001b[0m\u001b[0;34m(\u001b[0m\u001b[0mdf\u001b[0m\u001b[0;34m,\u001b[0m \u001b[0mnumeric_features\u001b[0m\u001b[0;34m,\u001b[0m \u001b[0mcategorical_features\u001b[0m\u001b[0;34m,\u001b[0m \u001b[0;34m'price'\u001b[0m\u001b[0;34m)\u001b[0m\u001b[0;34m\u001b[0m\u001b[0m\n\u001b[0m",
      "\u001b[0;31mNameError\u001b[0m: name 'shared_functions' is not defined"
     ]
    }
   ],
   "source": [
    "target, features, feature_list, test_features, test_target = shared_functions.prepare_datasets(df, numeric_features, categorical_features, 'price')"
   ]
  },
  {
   "cell_type": "markdown",
   "metadata": {
    "papermill": {
     "duration": 0.043699,
     "end_time": "2019-02-05T03:27:26.023453",
     "exception": false,
     "start_time": "2019-02-05T03:27:25.979754",
     "status": "completed"
    },
    "tags": []
   },
   "source": [
    "### Average price and median price as baselines"
   ]
  },
  {
   "cell_type": "markdown",
   "metadata": {
    "papermill": {
     "duration": 0.042189,
     "end_time": "2019-02-05T03:27:26.109599",
     "exception": false,
     "start_time": "2019-02-05T03:27:26.067410",
     "status": "completed"
    },
    "tags": []
   },
   "source": [
    "It's important to have a baseline, so we can validate our predictions after running our model. One easy choice for baseline is the average price of a book.\n",
    "\n",
    "We have an average price around R\\$43, so this means that a very easy prediction would be to always guess R$43 for the price of any book."
   ]
  },
  {
   "cell_type": "code",
   "execution_count": 16,
   "metadata": {
    "ExecuteTime": {
     "end_time": "2019-02-05T10:19:24.514810Z",
     "start_time": "2019-02-05T10:19:24.503771Z"
    },
    "papermill": {
     "duration": 0.051652,
     "end_time": "2019-02-05T03:27:26.204812",
     "exception": false,
     "start_time": "2019-02-05T03:27:26.153160",
     "status": "completed"
    },
    "tags": []
   },
   "outputs": [
    {
     "ename": "NameError",
     "evalue": "name 'np' is not defined",
     "output_type": "error",
     "traceback": [
      "\u001b[0;31m---------------------------------------------------------------------------\u001b[0m",
      "\u001b[0;31mNameError\u001b[0m                                 Traceback (most recent call last)",
      "\u001b[0;32m<ipython-input-16-b14acd53a2da>\u001b[0m in \u001b[0;36m<module>\u001b[0;34m()\u001b[0m\n\u001b[0;32m----> 1\u001b[0;31m \u001b[0maverage_target\u001b[0m \u001b[0;34m=\u001b[0m \u001b[0mnp\u001b[0m\u001b[0;34m.\u001b[0m\u001b[0maverage\u001b[0m\u001b[0;34m(\u001b[0m\u001b[0mtarget\u001b[0m\u001b[0;34m)\u001b[0m\u001b[0;34m\u001b[0m\u001b[0m\n\u001b[0m\u001b[1;32m      2\u001b[0m \u001b[0mmedian_target\u001b[0m \u001b[0;34m=\u001b[0m \u001b[0mnp\u001b[0m\u001b[0;34m.\u001b[0m\u001b[0mmedian\u001b[0m\u001b[0;34m(\u001b[0m\u001b[0mtarget\u001b[0m\u001b[0;34m)\u001b[0m\u001b[0;34m\u001b[0m\u001b[0m\n\u001b[1;32m      3\u001b[0m \u001b[0;32mprint\u001b[0m \u001b[0;34m\"Average price: R$\"\u001b[0m\u001b[0;34m,\u001b[0m \u001b[0maverage_target\u001b[0m\u001b[0;34m\u001b[0m\u001b[0m\n\u001b[1;32m      4\u001b[0m \u001b[0;32mprint\u001b[0m \u001b[0;34m\"Median parice; R$\"\u001b[0m\u001b[0;34m,\u001b[0m \u001b[0mmedian_target\u001b[0m\u001b[0;34m\u001b[0m\u001b[0m\n",
      "\u001b[0;31mNameError\u001b[0m: name 'np' is not defined"
     ]
    }
   ],
   "source": [
    "average_target = np.average(target)\n",
    "median_target = np.median(target)\n",
    "print \"Average price: R$\", average_target\n",
    "print \"Median parice; R$\", median_target"
   ]
  },
  {
   "cell_type": "markdown",
   "metadata": {
    "papermill": {
     "duration": 0.044019,
     "end_time": "2019-02-05T03:27:26.293428",
     "exception": false,
     "start_time": "2019-02-05T03:27:26.249409",
     "status": "completed"
    },
    "tags": []
   },
   "source": [
    "### Cross val"
   ]
  },
  {
   "cell_type": "markdown",
   "metadata": {
    "papermill": {
     "duration": 0.044912,
     "end_time": "2019-02-05T03:27:26.388735",
     "exception": false,
     "start_time": "2019-02-05T03:27:26.343823",
     "status": "completed"
    },
    "tags": []
   },
   "source": [
    "#### Run cross val"
   ]
  },
  {
   "cell_type": "code",
   "execution_count": 17,
   "metadata": {
    "ExecuteTime": {
     "end_time": "2019-02-05T10:19:24.589446Z",
     "start_time": "2019-02-05T10:19:24.576734Z"
    },
    "papermill": {
     "duration": 12.670457,
     "end_time": "2019-02-05T03:27:39.104022",
     "exception": false,
     "start_time": "2019-02-05T03:27:26.433565",
     "status": "completed"
    },
    "tags": []
   },
   "outputs": [
    {
     "ename": "NameError",
     "evalue": "name 'shared_functions' is not defined",
     "output_type": "error",
     "traceback": [
      "\u001b[0;31m---------------------------------------------------------------------------\u001b[0m",
      "\u001b[0;31mNameError\u001b[0m                                 Traceback (most recent call last)",
      "\u001b[0;32m<ipython-input-17-6f43571b6885>\u001b[0m in \u001b[0;36m<module>\u001b[0;34m()\u001b[0m\n\u001b[0;32m----> 1\u001b[0;31m \u001b[0mestimators\u001b[0m\u001b[0;34m,\u001b[0m \u001b[0msplits\u001b[0m\u001b[0;34m,\u001b[0m \u001b[0mscores\u001b[0m \u001b[0;34m=\u001b[0m \u001b[0mshared_functions\u001b[0m\u001b[0;34m.\u001b[0m\u001b[0mrun_cross_validation_regression\u001b[0m\u001b[0;34m(\u001b[0m\u001b[0mfeatures\u001b[0m\u001b[0;34m,\u001b[0m \u001b[0mtarget\u001b[0m\u001b[0;34m,\u001b[0m \u001b[0mn_estimators\u001b[0m\u001b[0;34m)\u001b[0m\u001b[0;34m\u001b[0m\u001b[0m\n\u001b[0m",
      "\u001b[0;31mNameError\u001b[0m: name 'shared_functions' is not defined"
     ]
    }
   ],
   "source": [
    "estimators, splits, scores = shared_functions.run_cross_validation_regression(features, target, n_estimators)"
   ]
  },
  {
   "cell_type": "markdown",
   "metadata": {
    "papermill": {
     "duration": 0.044701,
     "end_time": "2019-02-05T03:27:39.210115",
     "exception": false,
     "start_time": "2019-02-05T03:27:39.165414",
     "status": "completed"
    },
    "tags": []
   },
   "source": [
    "#### Cross val score"
   ]
  },
  {
   "cell_type": "code",
   "execution_count": 18,
   "metadata": {
    "ExecuteTime": {
     "end_time": "2019-02-05T10:19:24.624656Z",
     "start_time": "2019-02-05T10:19:24.614503Z"
    },
    "papermill": {
     "duration": 0.053238,
     "end_time": "2019-02-05T03:27:39.307926",
     "exception": false,
     "start_time": "2019-02-05T03:27:39.254688",
     "status": "completed"
    },
    "tags": []
   },
   "outputs": [
    {
     "ename": "NameError",
     "evalue": "name 'shared_functions' is not defined",
     "output_type": "error",
     "traceback": [
      "\u001b[0;31m---------------------------------------------------------------------------\u001b[0m",
      "\u001b[0;31mNameError\u001b[0m                                 Traceback (most recent call last)",
      "\u001b[0;32m<ipython-input-18-804789364ca9>\u001b[0m in \u001b[0;36m<module>\u001b[0;34m()\u001b[0m\n\u001b[0;32m----> 1\u001b[0;31m \u001b[0mshared_functions\u001b[0m\u001b[0;34m.\u001b[0m\u001b[0mprint_score_summary\u001b[0m\u001b[0;34m(\u001b[0m\u001b[0mscores\u001b[0m\u001b[0;34m)\u001b[0m\u001b[0;34m\u001b[0m\u001b[0m\n\u001b[0m",
      "\u001b[0;31mNameError\u001b[0m: name 'shared_functions' is not defined"
     ]
    }
   ],
   "source": [
    "shared_functions.print_score_summary(scores)"
   ]
  },
  {
   "cell_type": "markdown",
   "metadata": {
    "papermill": {
     "duration": 0.044818,
     "end_time": "2019-02-05T03:27:39.399024",
     "exception": false,
     "start_time": "2019-02-05T03:27:39.354206",
     "status": "completed"
    },
    "tags": []
   },
   "source": [
    "####  List of most important features"
   ]
  },
  {
   "cell_type": "code",
   "execution_count": 19,
   "metadata": {
    "ExecuteTime": {
     "end_time": "2019-02-05T10:19:24.671363Z",
     "start_time": "2019-02-05T10:19:24.656963Z"
    },
    "papermill": {
     "duration": 1.580797,
     "end_time": "2019-02-05T03:27:41.024431",
     "exception": false,
     "start_time": "2019-02-05T03:27:39.443634",
     "status": "completed"
    },
    "tags": []
   },
   "outputs": [
    {
     "ename": "NameError",
     "evalue": "name 'shared_functions' is not defined",
     "output_type": "error",
     "traceback": [
      "\u001b[0;31m---------------------------------------------------------------------------\u001b[0m",
      "\u001b[0;31mNameError\u001b[0m                                 Traceback (most recent call last)",
      "\u001b[0;32m<ipython-input-19-edf8cdd36866>\u001b[0m in \u001b[0;36m<module>\u001b[0;34m()\u001b[0m\n\u001b[0;32m----> 1\u001b[0;31m \u001b[0mshared_functions\u001b[0m\u001b[0;34m.\u001b[0m\u001b[0mget_most_important_features\u001b[0m\u001b[0;34m(\u001b[0m\u001b[0mestimators\u001b[0m\u001b[0;34m,\u001b[0m \u001b[0mfeature_list\u001b[0m\u001b[0;34m)\u001b[0m\u001b[0;34m\u001b[0m\u001b[0m\n\u001b[0m",
      "\u001b[0;31mNameError\u001b[0m: name 'shared_functions' is not defined"
     ]
    }
   ],
   "source": [
    "shared_functions.get_most_important_features(estimators, feature_list)"
   ]
  },
  {
   "cell_type": "markdown",
   "metadata": {
    "papermill": {
     "duration": 0.045613,
     "end_time": "2019-02-05T03:27:41.116588",
     "exception": false,
     "start_time": "2019-02-05T03:27:41.070975",
     "status": "completed"
    },
    "tags": []
   },
   "source": [
    "### Predicted price vs real price"
   ]
  },
  {
   "cell_type": "code",
   "execution_count": 20,
   "metadata": {
    "ExecuteTime": {
     "end_time": "2019-02-05T10:19:24.710502Z",
     "start_time": "2019-02-05T10:19:24.696960Z"
    },
    "papermill": {
     "duration": 3.048023,
     "end_time": "2019-02-05T03:27:44.209814",
     "exception": false,
     "start_time": "2019-02-05T03:27:41.161791",
     "status": "completed"
    },
    "tags": []
   },
   "outputs": [
    {
     "ename": "NameError",
     "evalue": "name 'shared_functions' is not defined",
     "output_type": "error",
     "traceback": [
      "\u001b[0;31m---------------------------------------------------------------------------\u001b[0m",
      "\u001b[0;31mNameError\u001b[0m                                 Traceback (most recent call last)",
      "\u001b[0;32m<ipython-input-20-7436c74827f1>\u001b[0m in \u001b[0;36m<module>\u001b[0;34m()\u001b[0m\n\u001b[0;32m----> 1\u001b[0;31m \u001b[0my_pred\u001b[0m \u001b[0;34m=\u001b[0m \u001b[0mshared_functions\u001b[0m\u001b[0;34m.\u001b[0m\u001b[0mget_all_predictions_from_splits\u001b[0m\u001b[0;34m(\u001b[0m\u001b[0mfeatures\u001b[0m\u001b[0;34m,\u001b[0m \u001b[0mtarget\u001b[0m\u001b[0;34m,\u001b[0m \u001b[0msplits\u001b[0m\u001b[0;34m,\u001b[0m \u001b[0mestimators\u001b[0m\u001b[0;34m)\u001b[0m\u001b[0;34m\u001b[0m\u001b[0m\n\u001b[0m\u001b[1;32m      2\u001b[0m \u001b[0mshared_functions\u001b[0m\u001b[0;34m.\u001b[0m\u001b[0mplot_splits_predicted_vs_real\u001b[0m\u001b[0;34m(\u001b[0m\u001b[0mtarget\u001b[0m\u001b[0;34m,\u001b[0m \u001b[0my_pred\u001b[0m\u001b[0;34m,\u001b[0m \u001b[0mtitle\u001b[0m\u001b[0;34m=\u001b[0m\u001b[0;34mu'Preço previsto pelo modelo vs. Preço real'\u001b[0m\u001b[0;34m,\u001b[0m \u001b[0mxlabel\u001b[0m\u001b[0;34m=\u001b[0m\u001b[0;34mu'Preço real (R$)'\u001b[0m\u001b[0;34m,\u001b[0m \u001b[0mylabel\u001b[0m\u001b[0;34m=\u001b[0m\u001b[0;34mu'Preço previsto pelo modelo (R$)'\u001b[0m\u001b[0;34m,\u001b[0m \u001b[0mlegend\u001b[0m\u001b[0;34m=\u001b[0m\u001b[0;34mu'Preço previsto pelo modelo = Preço real'\u001b[0m\u001b[0;34m,\u001b[0m \u001b[0mzoomY\u001b[0m \u001b[0;34m=\u001b[0m \u001b[0;36m150\u001b[0m\u001b[0;34m)\u001b[0m\u001b[0;34m\u001b[0m\u001b[0m\n",
      "\u001b[0;31mNameError\u001b[0m: name 'shared_functions' is not defined"
     ]
    }
   ],
   "source": [
    "y_pred = shared_functions.get_all_predictions_from_splits(features, target, splits, estimators)                                                  \n",
    "shared_functions.plot_splits_predicted_vs_real(target, y_pred, title=u'Preço previsto pelo modelo vs. Preço real', xlabel=u'Preço real (R$)', ylabel=u'Preço previsto pelo modelo (R$)', legend=u'Preço previsto pelo modelo = Preço real', zoomY = 150)"
   ]
  },
  {
   "cell_type": "markdown",
   "metadata": {
    "papermill": {
     "duration": 0.08922,
     "end_time": "2019-02-05T03:27:44.370997",
     "exception": false,
     "start_time": "2019-02-05T03:27:44.281777",
     "status": "completed"
    },
    "tags": []
   },
   "source": [
    "### Mean absolute error"
   ]
  },
  {
   "cell_type": "markdown",
   "metadata": {
    "papermill": {
     "duration": 0.087053,
     "end_time": "2019-02-05T03:27:44.546011",
     "exception": false,
     "start_time": "2019-02-05T03:27:44.458958",
     "status": "completed"
    },
    "tags": []
   },
   "source": [
    "Now we can compare the errors obtained by our predictions against the errors provided by the baseline (average price). Our prediction errors should be less than the baseline errors to consider the model successful."
   ]
  },
  {
   "cell_type": "code",
   "execution_count": 21,
   "metadata": {
    "ExecuteTime": {
     "end_time": "2019-02-05T10:19:24.780629Z",
     "start_time": "2019-02-05T10:19:24.768000Z"
    },
    "papermill": {
     "duration": 0.086444,
     "end_time": "2019-02-05T03:27:44.719158",
     "exception": false,
     "start_time": "2019-02-05T03:27:44.632714",
     "status": "completed"
    },
    "tags": []
   },
   "outputs": [
    {
     "ename": "NameError",
     "evalue": "name 'shared_functions' is not defined",
     "output_type": "error",
     "traceback": [
      "\u001b[0;31m---------------------------------------------------------------------------\u001b[0m",
      "\u001b[0;31mNameError\u001b[0m                                 Traceback (most recent call last)",
      "\u001b[0;32m<ipython-input-21-da32f4bd0e15>\u001b[0m in \u001b[0;36m<module>\u001b[0;34m()\u001b[0m\n\u001b[0;32m----> 1\u001b[0;31m \u001b[0merrors\u001b[0m\u001b[0;34m,\u001b[0m \u001b[0merrors_baseline\u001b[0m\u001b[0;34m,\u001b[0m \u001b[0merrors_relative\u001b[0m\u001b[0;34m,\u001b[0m \u001b[0merrors_baseline_relative\u001b[0m\u001b[0;34m,\u001b[0m \u001b[0merrors_baseline_median\u001b[0m\u001b[0;34m,\u001b[0m \u001b[0merrors_baseline_median_relative\u001b[0m \u001b[0;34m=\u001b[0m \u001b[0mshared_functions\u001b[0m\u001b[0;34m.\u001b[0m\u001b[0mprint_mean_absolute_error\u001b[0m\u001b[0;34m(\u001b[0m\u001b[0my_pred\u001b[0m\u001b[0;34m,\u001b[0m \u001b[0mtarget\u001b[0m\u001b[0;34m,\u001b[0m \u001b[0maverage_target\u001b[0m\u001b[0;34m,\u001b[0m \u001b[0mmedian_target\u001b[0m\u001b[0;34m)\u001b[0m\u001b[0;34m\u001b[0m\u001b[0m\n\u001b[0m",
      "\u001b[0;31mNameError\u001b[0m: name 'shared_functions' is not defined"
     ]
    }
   ],
   "source": [
    "errors, errors_baseline, errors_relative, errors_baseline_relative, errors_baseline_median, errors_baseline_median_relative = shared_functions.print_mean_absolute_error(y_pred, target, average_target, median_target)"
   ]
  },
  {
   "cell_type": "markdown",
   "metadata": {
    "papermill": {
     "duration": 0.074709,
     "end_time": "2019-02-05T03:27:44.900467",
     "exception": false,
     "start_time": "2019-02-05T03:27:44.825758",
     "status": "completed"
    },
    "tags": []
   },
   "source": [
    "### Join data"
   ]
  },
  {
   "cell_type": "code",
   "execution_count": 22,
   "metadata": {
    "ExecuteTime": {
     "end_time": "2019-02-05T10:19:24.824359Z",
     "start_time": "2019-02-05T10:19:24.807474Z"
    },
    "papermill": {
     "duration": 0.107407,
     "end_time": "2019-02-05T03:27:45.085034",
     "exception": false,
     "start_time": "2019-02-05T03:27:44.977627",
     "status": "completed"
    },
    "tags": []
   },
   "outputs": [
    {
     "ename": "NameError",
     "evalue": "name 'pd' is not defined",
     "output_type": "error",
     "traceback": [
      "\u001b[0;31m---------------------------------------------------------------------------\u001b[0m",
      "\u001b[0;31mNameError\u001b[0m                                 Traceback (most recent call last)",
      "\u001b[0;32m<ipython-input-22-68a83fbd07fa>\u001b[0m in \u001b[0;36m<module>\u001b[0;34m()\u001b[0m\n\u001b[0;32m----> 1\u001b[0;31m \u001b[0mpd\u001b[0m\u001b[0;34m.\u001b[0m\u001b[0mset_option\u001b[0m\u001b[0;34m(\u001b[0m\u001b[0;34m'display.max_columns'\u001b[0m\u001b[0;34m,\u001b[0m \u001b[0mNone\u001b[0m\u001b[0;34m)\u001b[0m\u001b[0;34m\u001b[0m\u001b[0m\n\u001b[0m\u001b[1;32m      2\u001b[0m \u001b[0mpredicted_df\u001b[0m\u001b[0;34m,\u001b[0m \u001b[0mjoined_predicted_df\u001b[0m \u001b[0;34m=\u001b[0m \u001b[0mshared_functions\u001b[0m\u001b[0;34m.\u001b[0m\u001b[0mjoin_predicted_df\u001b[0m\u001b[0;34m(\u001b[0m\u001b[0mdf\u001b[0m\u001b[0;34m,\u001b[0m \u001b[0mfeatures\u001b[0m\u001b[0;34m,\u001b[0m \u001b[0mtarget\u001b[0m\u001b[0;34m,\u001b[0m \u001b[0my_pred\u001b[0m\u001b[0;34m,\u001b[0m \u001b[0merrors\u001b[0m\u001b[0;34m,\u001b[0m \u001b[0merrors_relative\u001b[0m\u001b[0;34m,\u001b[0m \u001b[0merrors_baseline\u001b[0m\u001b[0;34m,\u001b[0m \u001b[0merrors_baseline_relative\u001b[0m\u001b[0;34m,\u001b[0m \u001b[0merrors_baseline_median\u001b[0m\u001b[0;34m,\u001b[0m \u001b[0merrors_baseline_median_relative\u001b[0m\u001b[0;34m)\u001b[0m\u001b[0;34m\u001b[0m\u001b[0m\n",
      "\u001b[0;31mNameError\u001b[0m: name 'pd' is not defined"
     ]
    }
   ],
   "source": [
    "pd.set_option('display.max_columns', None)\n",
    "predicted_df, joined_predicted_df = shared_functions.join_predicted_df(df, features, target, y_pred, errors, errors_relative, errors_baseline, errors_baseline_relative, errors_baseline_median, errors_baseline_median_relative)"
   ]
  },
  {
   "cell_type": "markdown",
   "metadata": {
    "papermill": {
     "duration": 0.064488,
     "end_time": "2019-02-05T03:27:45.214017",
     "exception": false,
     "start_time": "2019-02-05T03:27:45.149529",
     "status": "completed"
    },
    "tags": []
   },
   "source": [
    "### Worst absolute predictions"
   ]
  },
  {
   "cell_type": "markdown",
   "metadata": {
    "papermill": {
     "duration": 0.066944,
     "end_time": "2019-02-05T03:27:45.345554",
     "exception": false,
     "start_time": "2019-02-05T03:27:45.278610",
     "status": "completed"
    },
    "tags": []
   },
   "source": [
    "Below we can inspect the rows with the biggest prediction error."
   ]
  },
  {
   "cell_type": "code",
   "execution_count": 23,
   "metadata": {
    "ExecuteTime": {
     "end_time": "2019-02-05T10:19:24.896697Z",
     "start_time": "2019-02-05T10:19:24.884821Z"
    },
    "papermill": {
     "duration": 0.29062,
     "end_time": "2019-02-05T03:27:45.702538",
     "exception": false,
     "start_time": "2019-02-05T03:27:45.411918",
     "status": "completed"
    },
    "tags": []
   },
   "outputs": [
    {
     "ename": "NameError",
     "evalue": "name 'joined_predicted_df' is not defined",
     "output_type": "error",
     "traceback": [
      "\u001b[0;31m---------------------------------------------------------------------------\u001b[0m",
      "\u001b[0;31mNameError\u001b[0m                                 Traceback (most recent call last)",
      "\u001b[0;32m<ipython-input-23-b55583f3a89a>\u001b[0m in \u001b[0;36m<module>\u001b[0;34m()\u001b[0m\n\u001b[0;32m----> 1\u001b[0;31m \u001b[0mjoined_predicted_df\u001b[0m\u001b[0;34m.\u001b[0m\u001b[0msort_values\u001b[0m\u001b[0;34m(\u001b[0m\u001b[0;34m'error'\u001b[0m\u001b[0;34m,\u001b[0m \u001b[0mascending\u001b[0m \u001b[0;34m=\u001b[0m \u001b[0mFalse\u001b[0m\u001b[0;34m)\u001b[0m\u001b[0;34m.\u001b[0m\u001b[0mhead\u001b[0m\u001b[0;34m(\u001b[0m\u001b[0;36m20\u001b[0m\u001b[0;34m)\u001b[0m\u001b[0;34m\u001b[0m\u001b[0m\n\u001b[0m",
      "\u001b[0;31mNameError\u001b[0m: name 'joined_predicted_df' is not defined"
     ]
    }
   ],
   "source": [
    "joined_predicted_df.sort_values('error', ascending = False).head(20)"
   ]
  },
  {
   "cell_type": "markdown",
   "metadata": {
    "papermill": {
     "duration": 0.070719,
     "end_time": "2019-02-05T03:27:45.845388",
     "exception": false,
     "start_time": "2019-02-05T03:27:45.774669",
     "status": "completed"
    },
    "tags": []
   },
   "source": [
    "### Worst relative predictions"
   ]
  },
  {
   "cell_type": "code",
   "execution_count": 24,
   "metadata": {
    "ExecuteTime": {
     "end_time": "2019-02-05T10:19:24.939371Z",
     "start_time": "2019-02-05T10:19:24.926707Z"
    },
    "papermill": {
     "duration": 0.174391,
     "end_time": "2019-02-05T03:27:46.090715",
     "exception": false,
     "start_time": "2019-02-05T03:27:45.916324",
     "status": "completed"
    },
    "scrolled": true,
    "tags": []
   },
   "outputs": [
    {
     "ename": "NameError",
     "evalue": "name 'joined_predicted_df' is not defined",
     "output_type": "error",
     "traceback": [
      "\u001b[0;31m---------------------------------------------------------------------------\u001b[0m",
      "\u001b[0;31mNameError\u001b[0m                                 Traceback (most recent call last)",
      "\u001b[0;32m<ipython-input-24-5d843d36c1d0>\u001b[0m in \u001b[0;36m<module>\u001b[0;34m()\u001b[0m\n\u001b[0;32m----> 1\u001b[0;31m \u001b[0mjoined_predicted_df\u001b[0m\u001b[0;34m.\u001b[0m\u001b[0msort_values\u001b[0m\u001b[0;34m(\u001b[0m\u001b[0;34m'error_relative'\u001b[0m\u001b[0;34m,\u001b[0m \u001b[0mascending\u001b[0m \u001b[0;34m=\u001b[0m \u001b[0mFalse\u001b[0m\u001b[0;34m)\u001b[0m\u001b[0;34m.\u001b[0m\u001b[0mhead\u001b[0m\u001b[0;34m(\u001b[0m\u001b[0;36m20\u001b[0m\u001b[0;34m)\u001b[0m\u001b[0;34m\u001b[0m\u001b[0m\n\u001b[0m",
      "\u001b[0;31mNameError\u001b[0m: name 'joined_predicted_df' is not defined"
     ]
    }
   ],
   "source": [
    "joined_predicted_df.sort_values('error_relative', ascending = False).head(20)"
   ]
  },
  {
   "cell_type": "markdown",
   "metadata": {
    "papermill": {
     "duration": 0.079434,
     "end_time": "2019-02-05T03:27:46.245812",
     "exception": false,
     "start_time": "2019-02-05T03:27:46.166378",
     "status": "completed"
    },
    "tags": []
   },
   "source": [
    "### Best absolute predictions"
   ]
  },
  {
   "cell_type": "code",
   "execution_count": 25,
   "metadata": {
    "ExecuteTime": {
     "end_time": "2019-02-05T10:19:24.977256Z",
     "start_time": "2019-02-05T10:19:24.966871Z"
    },
    "papermill": {
     "duration": 0.186764,
     "end_time": "2019-02-05T03:27:46.508340",
     "exception": false,
     "start_time": "2019-02-05T03:27:46.321576",
     "status": "completed"
    },
    "tags": []
   },
   "outputs": [
    {
     "ename": "NameError",
     "evalue": "name 'joined_predicted_df' is not defined",
     "output_type": "error",
     "traceback": [
      "\u001b[0;31m---------------------------------------------------------------------------\u001b[0m",
      "\u001b[0;31mNameError\u001b[0m                                 Traceback (most recent call last)",
      "\u001b[0;32m<ipython-input-25-f5c3ad6c0c0d>\u001b[0m in \u001b[0;36m<module>\u001b[0;34m()\u001b[0m\n\u001b[0;32m----> 1\u001b[0;31m \u001b[0mjoined_predicted_df\u001b[0m\u001b[0;34m.\u001b[0m\u001b[0msort_values\u001b[0m\u001b[0;34m(\u001b[0m\u001b[0;34m'error'\u001b[0m\u001b[0;34m,\u001b[0m \u001b[0mascending\u001b[0m \u001b[0;34m=\u001b[0m \u001b[0mTrue\u001b[0m\u001b[0;34m)\u001b[0m\u001b[0;34m.\u001b[0m\u001b[0mhead\u001b[0m\u001b[0;34m(\u001b[0m\u001b[0;36m20\u001b[0m\u001b[0;34m)\u001b[0m\u001b[0;34m\u001b[0m\u001b[0m\n\u001b[0m",
      "\u001b[0;31mNameError\u001b[0m: name 'joined_predicted_df' is not defined"
     ]
    }
   ],
   "source": [
    "joined_predicted_df.sort_values('error', ascending = True).head(20)"
   ]
  },
  {
   "cell_type": "markdown",
   "metadata": {
    "papermill": {
     "duration": 0.088486,
     "end_time": "2019-02-05T03:27:46.678483",
     "exception": false,
     "start_time": "2019-02-05T03:27:46.589997",
     "status": "completed"
    },
    "tags": []
   },
   "source": [
    "### Best relative predictions"
   ]
  },
  {
   "cell_type": "code",
   "execution_count": 26,
   "metadata": {
    "ExecuteTime": {
     "end_time": "2019-02-05T10:19:25.023221Z",
     "start_time": "2019-02-05T10:19:25.013408Z"
    },
    "papermill": {
     "duration": 0.184456,
     "end_time": "2019-02-05T03:27:46.947332",
     "exception": false,
     "start_time": "2019-02-05T03:27:46.762876",
     "status": "completed"
    },
    "tags": []
   },
   "outputs": [
    {
     "ename": "NameError",
     "evalue": "name 'joined_predicted_df' is not defined",
     "output_type": "error",
     "traceback": [
      "\u001b[0;31m---------------------------------------------------------------------------\u001b[0m",
      "\u001b[0;31mNameError\u001b[0m                                 Traceback (most recent call last)",
      "\u001b[0;32m<ipython-input-26-f5c3ad6c0c0d>\u001b[0m in \u001b[0;36m<module>\u001b[0;34m()\u001b[0m\n\u001b[0;32m----> 1\u001b[0;31m \u001b[0mjoined_predicted_df\u001b[0m\u001b[0;34m.\u001b[0m\u001b[0msort_values\u001b[0m\u001b[0;34m(\u001b[0m\u001b[0;34m'error'\u001b[0m\u001b[0;34m,\u001b[0m \u001b[0mascending\u001b[0m \u001b[0;34m=\u001b[0m \u001b[0mTrue\u001b[0m\u001b[0;34m)\u001b[0m\u001b[0;34m.\u001b[0m\u001b[0mhead\u001b[0m\u001b[0;34m(\u001b[0m\u001b[0;36m20\u001b[0m\u001b[0;34m)\u001b[0m\u001b[0;34m\u001b[0m\u001b[0m\n\u001b[0m",
      "\u001b[0;31mNameError\u001b[0m: name 'joined_predicted_df' is not defined"
     ]
    }
   ],
   "source": [
    "joined_predicted_df.sort_values('error', ascending = True).head(20)"
   ]
  },
  {
   "cell_type": "markdown",
   "metadata": {
    "papermill": {
     "duration": 0.095264,
     "end_time": "2019-02-05T03:27:47.128306",
     "exception": false,
     "start_time": "2019-02-05T03:27:47.033042",
     "status": "completed"
    },
    "tags": []
   },
   "source": [
    "### Relative errors distribution"
   ]
  },
  {
   "cell_type": "code",
   "execution_count": 27,
   "metadata": {
    "ExecuteTime": {
     "end_time": "2019-02-05T10:19:25.065458Z",
     "start_time": "2019-02-05T10:19:25.053684Z"
    },
    "papermill": {
     "duration": 0.461277,
     "end_time": "2019-02-05T03:27:47.675379",
     "exception": false,
     "start_time": "2019-02-05T03:27:47.214102",
     "status": "completed"
    },
    "tags": []
   },
   "outputs": [
    {
     "ename": "NameError",
     "evalue": "name 'shared_functions' is not defined",
     "output_type": "error",
     "traceback": [
      "\u001b[0;31m---------------------------------------------------------------------------\u001b[0m",
      "\u001b[0;31mNameError\u001b[0m                                 Traceback (most recent call last)",
      "\u001b[0;32m<ipython-input-27-fcdd67fe96b3>\u001b[0m in \u001b[0;36m<module>\u001b[0;34m()\u001b[0m\n\u001b[0;32m----> 1\u001b[0;31m \u001b[0mcenters\u001b[0m\u001b[0;34m,\u001b[0m \u001b[0mnormalized_hist_predicted\u001b[0m\u001b[0;34m,\u001b[0m \u001b[0mnormalized_hist_baseline\u001b[0m\u001b[0;34m,\u001b[0m \u001b[0mnormalized_hist_baseline_median\u001b[0m \u001b[0;34m=\u001b[0m \u001b[0mshared_functions\u001b[0m\u001b[0;34m.\u001b[0m\u001b[0mplot_relative_error_distribution\u001b[0m\u001b[0;34m(\u001b[0m\u001b[0mpredicted_df\u001b[0m\u001b[0;34m)\u001b[0m\u001b[0;34m\u001b[0m\u001b[0m\n\u001b[0m",
      "\u001b[0;31mNameError\u001b[0m: name 'shared_functions' is not defined"
     ]
    }
   ],
   "source": [
    "centers, normalized_hist_predicted, normalized_hist_baseline, normalized_hist_baseline_median = shared_functions.plot_relative_error_distribution(predicted_df)"
   ]
  },
  {
   "cell_type": "markdown",
   "metadata": {
    "papermill": {
     "duration": 0.089304,
     "end_time": "2019-02-05T03:27:47.858588",
     "exception": false,
     "start_time": "2019-02-05T03:27:47.769284",
     "status": "completed"
    },
    "tags": []
   },
   "source": [
    "#### Accumulated"
   ]
  },
  {
   "cell_type": "code",
   "execution_count": 28,
   "metadata": {
    "ExecuteTime": {
     "end_time": "2019-02-05T10:19:25.115349Z",
     "start_time": "2019-02-05T10:19:25.103459Z"
    },
    "papermill": {
     "duration": 0.492677,
     "end_time": "2019-02-05T03:27:48.442932",
     "exception": false,
     "start_time": "2019-02-05T03:27:47.950255",
     "status": "completed"
    },
    "tags": []
   },
   "outputs": [
    {
     "ename": "NameError",
     "evalue": "name 'shared_functions' is not defined",
     "output_type": "error",
     "traceback": [
      "\u001b[0;31m---------------------------------------------------------------------------\u001b[0m",
      "\u001b[0;31mNameError\u001b[0m                                 Traceback (most recent call last)",
      "\u001b[0;32m<ipython-input-28-7b6c66625de1>\u001b[0m in \u001b[0;36m<module>\u001b[0;34m()\u001b[0m\n\u001b[0;32m----> 1\u001b[0;31m \u001b[0mshared_functions\u001b[0m\u001b[0;34m.\u001b[0m\u001b[0mplot_accumulated_relative_error\u001b[0m\u001b[0;34m(\u001b[0m\u001b[0mcenters\u001b[0m\u001b[0;34m,\u001b[0m \u001b[0mnormalized_hist_predicted\u001b[0m\u001b[0;34m,\u001b[0m \u001b[0mnormalized_hist_baseline\u001b[0m\u001b[0;34m,\u001b[0m \u001b[0mnormalized_hist_baseline_median\u001b[0m\u001b[0;34m)\u001b[0m\u001b[0;34m\u001b[0m\u001b[0m\n\u001b[0m",
      "\u001b[0;31mNameError\u001b[0m: name 'shared_functions' is not defined"
     ]
    }
   ],
   "source": [
    "shared_functions.plot_accumulated_relative_error(centers, normalized_hist_predicted, normalized_hist_baseline, normalized_hist_baseline_median)"
   ]
  },
  {
   "cell_type": "markdown",
   "metadata": {
    "papermill": {
     "duration": 0.108636,
     "end_time": "2019-02-05T03:27:48.646220",
     "exception": false,
     "start_time": "2019-02-05T03:27:48.537584",
     "status": "completed"
    },
    "tags": []
   },
   "source": [
    "### Joined data summary"
   ]
  },
  {
   "cell_type": "code",
   "execution_count": 29,
   "metadata": {
    "ExecuteTime": {
     "end_time": "2019-02-05T10:19:25.164861Z",
     "start_time": "2019-02-05T10:19:25.153110Z"
    },
    "papermill": {
     "duration": 0.189695,
     "end_time": "2019-02-05T03:27:48.935827",
     "exception": false,
     "start_time": "2019-02-05T03:27:48.746132",
     "status": "completed"
    },
    "tags": []
   },
   "outputs": [
    {
     "ename": "NameError",
     "evalue": "name 'joined_predicted_df' is not defined",
     "output_type": "error",
     "traceback": [
      "\u001b[0;31m---------------------------------------------------------------------------\u001b[0m",
      "\u001b[0;31mNameError\u001b[0m                                 Traceback (most recent call last)",
      "\u001b[0;32m<ipython-input-29-a548a5e12b29>\u001b[0m in \u001b[0;36m<module>\u001b[0;34m()\u001b[0m\n\u001b[0;32m----> 1\u001b[0;31m \u001b[0mjoined_predicted_df\u001b[0m\u001b[0;34m.\u001b[0m\u001b[0mdescribe\u001b[0m\u001b[0;34m(\u001b[0m\u001b[0mpercentiles\u001b[0m\u001b[0;34m=\u001b[0m\u001b[0;34m[\u001b[0m\u001b[0;36m0.25\u001b[0m\u001b[0;34m,\u001b[0m \u001b[0;36m0.5\u001b[0m\u001b[0;34m,\u001b[0m \u001b[0;36m0.75\u001b[0m\u001b[0;34m,\u001b[0m \u001b[0;36m0.85\u001b[0m\u001b[0;34m,\u001b[0m \u001b[0;36m0.9\u001b[0m\u001b[0;34m,\u001b[0m \u001b[0;36m0.95\u001b[0m\u001b[0;34m,\u001b[0m \u001b[0;36m0.99\u001b[0m\u001b[0;34m]\u001b[0m\u001b[0;34m)\u001b[0m\u001b[0;34m\u001b[0m\u001b[0m\n\u001b[0m",
      "\u001b[0;31mNameError\u001b[0m: name 'joined_predicted_df' is not defined"
     ]
    }
   ],
   "source": [
    "joined_predicted_df.describe(percentiles=[0.25, 0.5, 0.75, 0.85, 0.9, 0.95, 0.99])"
   ]
  },
  {
   "cell_type": "markdown",
   "metadata": {
    "papermill": {
     "duration": 0.091702,
     "end_time": "2019-02-05T03:27:49.127684",
     "exception": false,
     "start_time": "2019-02-05T03:27:49.035982",
     "status": "completed"
    },
    "tags": []
   },
   "source": [
    "# Finished"
   ]
  },
  {
   "cell_type": "code",
   "execution_count": 30,
   "metadata": {
    "ExecuteTime": {
     "end_time": "2019-02-05T10:19:25.222456Z",
     "start_time": "2019-02-05T10:19:25.217519Z"
    },
    "papermill": {
     "duration": 0.101127,
     "end_time": "2019-02-05T03:27:49.322786",
     "exception": false,
     "start_time": "2019-02-05T03:27:49.221659",
     "status": "completed"
    },
    "tags": []
   },
   "outputs": [
    {
     "name": "stdout",
     "output_type": "stream",
     "text": [
      "Duração em segundos:\n",
      "1.69727706909\n"
     ]
    }
   ],
   "source": [
    "finished_at = time.time()\n",
    "duration = finished_at - started_at\n",
    "print \"Duração em segundos:\"\n",
    "print duration"
   ]
  },
  {
   "cell_type": "markdown",
   "metadata": {
    "papermill": {
     "duration": 0.099176,
     "end_time": "2019-02-05T03:27:49.515718",
     "exception": false,
     "start_time": "2019-02-05T03:27:49.416542",
     "status": "completed"
    },
    "tags": []
   },
   "source": [
    "<img src=\"files/image.png\">"
   ]
  }
 ],
 "metadata": {
  "kernelspec": {
   "display_name": "Python 2",
   "language": "python",
   "name": "python2"
  },
  "language_info": {
   "codemirror_mode": {
    "name": "ipython",
    "version": 2
   },
   "file_extension": ".py",
   "mimetype": "text/x-python",
   "name": "python",
   "nbconvert_exporter": "python",
   "pygments_lexer": "ipython2",
   "version": "2.7.15"
  },
  "papermill": {
   "duration": 92.020321,
   "end_time": "2019-02-05T03:27:50.567616",
   "environment_variables": {},
   "exception": null,
   "input_path": "price_1_basic_analysis.ipynb",
   "output_path": "results/price_1_basic_analysis_edges-0_estimators-20_features-none.ipynb",
   "parameters": {
    "features": "none",
    "max_edges": 0,
    "n_estimators": 20
   },
   "start_time": "2019-02-05T03:26:18.547295",
   "version": "0.17.1"
  },
  "toc": {
   "base_numbering": 1,
   "nav_menu": {
    "height": "591px",
    "width": "459px"
   },
   "number_sections": true,
   "sideBar": true,
   "skip_h1_title": false,
   "title_cell": "Table of Contents",
   "title_sidebar": "Contents",
   "toc_cell": false,
   "toc_position": {
    "height": "calc(100% - 180px)",
    "left": "10px",
    "top": "150px",
    "width": "384px"
   },
   "toc_section_display": true,
   "toc_window_display": true
  },
  "varInspector": {
   "cols": {
    "lenName": 16,
    "lenType": 16,
    "lenVar": 40
   },
   "kernels_config": {
    "python": {
     "delete_cmd_postfix": "",
     "delete_cmd_prefix": "del ",
     "library": "var_list.py",
     "varRefreshCmd": "print(var_dic_list())"
    },
    "r": {
     "delete_cmd_postfix": ") ",
     "delete_cmd_prefix": "rm(",
     "library": "var_list.r",
     "varRefreshCmd": "cat(var_dic_list()) "
    }
   },
   "position": {
    "height": "241px",
    "left": "1550px",
    "right": "20px",
    "top": "120px",
    "width": "353px"
   },
   "types_to_exclude": [
    "module",
    "function",
    "builtin_function_or_method",
    "instance",
    "_Feature"
   ],
   "window_display": false
  }
 },
 "nbformat": 4,
 "nbformat_minor": 2
}
