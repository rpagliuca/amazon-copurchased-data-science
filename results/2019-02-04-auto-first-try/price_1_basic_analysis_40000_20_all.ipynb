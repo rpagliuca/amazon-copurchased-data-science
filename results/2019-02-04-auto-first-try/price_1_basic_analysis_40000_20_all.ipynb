{
 "cells": [
  {
   "cell_type": "markdown",
   "metadata": {
    "papermill": {
     "duration": 0.144245,
     "end_time": "2019-02-05T00:17:13.119474",
     "exception": false,
     "start_time": "2019-02-05T00:17:12.975229",
     "status": "completed"
    },
    "tags": []
   },
   "source": [
    "# Amazon Copurchased"
   ]
  },
  {
   "cell_type": "markdown",
   "metadata": {
    "papermill": {
     "duration": 0.036018,
     "end_time": "2019-02-05T00:17:13.198417",
     "exception": false,
     "start_time": "2019-02-05T00:17:13.162399",
     "status": "completed"
    },
    "tags": []
   },
   "source": [
    "This is a Python notebook created using \"jupyter\".\n",
    "\n",
    "Author: Rafael J. P. dos Santos"
   ]
  },
  {
   "cell_type": "code",
   "execution_count": 1,
   "metadata": {
    "papermill": {
     "duration": 0.043432,
     "end_time": "2019-02-05T00:17:13.280312",
     "exception": false,
     "start_time": "2019-02-05T00:17:13.236880",
     "status": "completed"
    },
    "tags": []
   },
   "outputs": [
    {
     "name": "stdout",
     "output_type": "stream",
     "text": [
      "1549325833.28\n"
     ]
    }
   ],
   "source": [
    "import time\n",
    "started_at = time.time()\n",
    "print started_at"
   ]
  },
  {
   "cell_type": "markdown",
   "metadata": {
    "papermill": {
     "duration": 0.049797,
     "end_time": "2019-02-05T00:17:13.367824",
     "exception": false,
     "start_time": "2019-02-05T00:17:13.318027",
     "status": "completed"
    },
    "tags": []
   },
   "source": [
    "## Condições do experimento"
   ]
  },
  {
   "cell_type": "markdown",
   "metadata": {
    "papermill": {
     "duration": 0.04799,
     "end_time": "2019-02-05T00:17:13.465269",
     "exception": false,
     "start_time": "2019-02-05T00:17:13.417279",
     "status": "completed"
    },
    "tags": []
   },
   "source": [
    "* Quantidade limitada de arestas\n",
    "* Todas as features\n",
    "* Quantidade variável de n_estimators"
   ]
  },
  {
   "cell_type": "markdown",
   "metadata": {
    "papermill": {
     "duration": 0.036796,
     "end_time": "2019-02-05T00:17:13.540541",
     "exception": false,
     "start_time": "2019-02-05T00:17:13.503745",
     "status": "completed"
    },
    "tags": []
   },
   "source": [
    "## Parameters"
   ]
  },
  {
   "cell_type": "markdown",
   "metadata": {
    "papermill": {
     "duration": 0.03643,
     "end_time": "2019-02-05T00:17:13.614374",
     "exception": false,
     "start_time": "2019-02-05T00:17:13.577944",
     "status": "completed"
    },
    "tags": []
   },
   "source": [
    "We use the parameter below to set the maximum number of edges to be read from the CSV containing edges (links)."
   ]
  },
  {
   "cell_type": "code",
   "execution_count": 2,
   "metadata": {
    "cell_style": "center",
    "collapsed": true,
    "hide_input": false,
    "papermill": {
     "duration": 0.077927,
     "end_time": "2019-02-05T00:17:13.738584",
     "exception": false,
     "start_time": "2019-02-05T00:17:13.660657",
     "status": "completed"
    },
    "tags": [
     "parameters"
    ]
   },
   "outputs": [],
   "source": [
    "max_edges = 160000 # Set quantity to read from file\n",
    "edges_csv_file = \"data/20180812_links\"\n",
    "nodes_csv_file = \"data/20180812_nodes\"\n",
    "n_estimators = 20\n",
    "features = 'all'"
   ]
  },
  {
   "cell_type": "code",
   "execution_count": 3,
   "metadata": {
    "papermill": {
     "duration": 0.067116,
     "end_time": "2019-02-05T00:17:13.866805",
     "exception": false,
     "start_time": "2019-02-05T00:17:13.799689",
     "status": "completed"
    },
    "tags": [
     "injected-parameters"
    ]
   },
   "outputs": [],
   "source": [
    "# Parameters\n",
    "n_estimators = 20\n",
    "max_edges = 40000\n",
    "features = \"all\"\n"
   ]
  },
  {
   "cell_type": "markdown",
   "metadata": {
    "papermill": {
     "duration": 0.051187,
     "end_time": "2019-02-05T00:17:13.967537",
     "exception": false,
     "start_time": "2019-02-05T00:17:13.916350",
     "status": "completed"
    },
    "tags": []
   },
   "source": [
    "## Load the libraries"
   ]
  },
  {
   "cell_type": "markdown",
   "metadata": {
    "papermill": {
     "duration": 0.051606,
     "end_time": "2019-02-05T00:17:14.068401",
     "exception": false,
     "start_time": "2019-02-05T00:17:14.016795",
     "status": "completed"
    },
    "tags": []
   },
   "source": [
    "Let's load the Python libraries that we will need throughout the script"
   ]
  },
  {
   "cell_type": "code",
   "execution_count": 4,
   "metadata": {
    "collapsed": true,
    "papermill": {
     "duration": 0.969315,
     "end_time": "2019-02-05T00:17:15.087935",
     "exception": false,
     "start_time": "2019-02-05T00:17:14.118620",
     "status": "completed"
    },
    "tags": []
   },
   "outputs": [],
   "source": [
    "%load_ext autoreload\n",
    "%autoreload 1\n",
    "%aimport shared_functions\n",
    "import pandas as pd\n",
    "import numpy as np\n",
    "from __future__ import division\n",
    "import shared_functions\n",
    "from IPython.display import display, HTML"
   ]
  },
  {
   "cell_type": "markdown",
   "metadata": {
    "papermill": {
     "duration": 0.03742,
     "end_time": "2019-02-05T00:17:15.163431",
     "exception": false,
     "start_time": "2019-02-05T00:17:15.126011",
     "status": "completed"
    },
    "tags": []
   },
   "source": [
    "## Read graph"
   ]
  },
  {
   "cell_type": "markdown",
   "metadata": {
    "papermill": {
     "duration": 0.036587,
     "end_time": "2019-02-05T00:17:15.237342",
     "exception": false,
     "start_time": "2019-02-05T00:17:15.200755",
     "status": "completed"
    },
    "tags": []
   },
   "source": [
    "### Read only first lines of datafile"
   ]
  },
  {
   "cell_type": "markdown",
   "metadata": {
    "papermill": {
     "duration": 0.036478,
     "end_time": "2019-02-05T00:17:15.310827",
     "exception": false,
     "start_time": "2019-02-05T00:17:15.274349",
     "status": "completed"
    },
    "tags": []
   },
   "source": [
    "Due to slowness in calculating centrality measures, we use the parameter provided in the beggining of the script to limit the number of edges we will read."
   ]
  },
  {
   "cell_type": "code",
   "execution_count": 5,
   "metadata": {
    "papermill": {
     "duration": 0.327019,
     "end_time": "2019-02-05T00:17:15.674599",
     "exception": false,
     "start_time": "2019-02-05T00:17:15.347580",
     "status": "completed"
    },
    "tags": []
   },
   "outputs": [
    {
     "name": "stdout",
     "output_type": "stream",
     "text": [
      "Using 40000 edges out of 229338 available (17.44% of data)\n"
     ]
    }
   ],
   "source": [
    "G = shared_functions.read_G(edges_csv_file, max_edges)"
   ]
  },
  {
   "cell_type": "markdown",
   "metadata": {
    "papermill": {
     "duration": 0.042795,
     "end_time": "2019-02-05T00:17:15.760996",
     "exception": false,
     "start_time": "2019-02-05T00:17:15.718201",
     "status": "completed"
    },
    "tags": []
   },
   "source": [
    "### Calculate nodes centrality measures"
   ]
  },
  {
   "cell_type": "markdown",
   "metadata": {
    "papermill": {
     "duration": 0.056351,
     "end_time": "2019-02-05T00:17:15.871207",
     "exception": false,
     "start_time": "2019-02-05T00:17:15.814856",
     "status": "completed"
    },
    "tags": []
   },
   "source": [
    "Now that we have our NetworkX graph, let's calculate some centrality measures for every node."
   ]
  },
  {
   "cell_type": "code",
   "execution_count": 6,
   "metadata": {
    "papermill": {
     "duration": 28.984217,
     "end_time": "2019-02-05T00:17:44.909875",
     "exception": false,
     "start_time": "2019-02-05T00:17:15.925658",
     "status": "completed"
    },
    "tags": []
   },
   "outputs": [
    {
     "name": "stdout",
     "output_type": "stream",
     "text": [
      "['eigenvector_centrality', 'degree', 'betweenness_centrality']\n"
     ]
    }
   ],
   "source": [
    "centrality_measures = shared_functions.centrality_measures(G)\n",
    "print centrality_measures.keys()"
   ]
  },
  {
   "cell_type": "markdown",
   "metadata": {
    "collapsed": true,
    "papermill": {
     "duration": 0.038856,
     "end_time": "2019-02-05T00:17:44.990170",
     "exception": false,
     "start_time": "2019-02-05T00:17:44.951314",
     "status": "completed"
    },
    "tags": []
   },
   "source": [
    "### Load node properties"
   ]
  },
  {
   "cell_type": "markdown",
   "metadata": {
    "papermill": {
     "duration": 0.039708,
     "end_time": "2019-02-05T00:17:45.071500",
     "exception": false,
     "start_time": "2019-02-05T00:17:45.031792",
     "status": "completed"
    },
    "tags": []
   },
   "source": [
    "Let's load the CSV containing the nodes data (title, price) into a Pandas dataframe, and append the centrality measures calculated above."
   ]
  },
  {
   "cell_type": "code",
   "execution_count": 7,
   "metadata": {
    "collapsed": true,
    "papermill": {
     "duration": 0.11968,
     "end_time": "2019-02-05T00:17:45.231755",
     "exception": false,
     "start_time": "2019-02-05T00:17:45.112075",
     "status": "completed"
    },
    "tags": []
   },
   "outputs": [],
   "source": [
    "df = pd.read_csv(nodes_csv_file)"
   ]
  },
  {
   "cell_type": "markdown",
   "metadata": {
    "papermill": {
     "duration": 0.039059,
     "end_time": "2019-02-05T00:17:45.311134",
     "exception": false,
     "start_time": "2019-02-05T00:17:45.272075",
     "status": "completed"
    },
    "tags": []
   },
   "source": [
    "####  Convert ID to random int to avoid leaking knowledge"
   ]
  },
  {
   "cell_type": "code",
   "execution_count": 8,
   "metadata": {
    "collapsed": true,
    "papermill": {
     "duration": 0.104469,
     "end_time": "2019-02-05T00:17:45.455503",
     "exception": false,
     "start_time": "2019-02-05T00:17:45.351034",
     "status": "completed"
    },
    "tags": []
   },
   "outputs": [],
   "source": [
    "df = shared_functions.add_sha256_column_from_id(df)"
   ]
  },
  {
   "cell_type": "markdown",
   "metadata": {
    "papermill": {
     "duration": 0.037378,
     "end_time": "2019-02-05T00:17:45.532430",
     "exception": false,
     "start_time": "2019-02-05T00:17:45.495052",
     "status": "completed"
    },
    "tags": []
   },
   "source": [
    "#### Add centrality measures"
   ]
  },
  {
   "cell_type": "code",
   "execution_count": 9,
   "metadata": {
    "collapsed": true,
    "papermill": {
     "duration": 0.122336,
     "end_time": "2019-02-05T00:17:45.694659",
     "exception": false,
     "start_time": "2019-02-05T00:17:45.572323",
     "status": "completed"
    },
    "tags": []
   },
   "outputs": [],
   "source": [
    "df = shared_functions.merge_columns(df, centrality_measures)"
   ]
  },
  {
   "cell_type": "markdown",
   "metadata": {
    "papermill": {
     "duration": 0.037197,
     "end_time": "2019-02-05T00:17:45.769328",
     "exception": false,
     "start_time": "2019-02-05T00:17:45.732131",
     "status": "completed"
    },
    "tags": []
   },
   "source": [
    "### Let's convert some fields to numeric"
   ]
  },
  {
   "cell_type": "code",
   "execution_count": 10,
   "metadata": {
    "collapsed": true,
    "papermill": {
     "duration": 0.174582,
     "end_time": "2019-02-05T00:17:45.981163",
     "exception": false,
     "start_time": "2019-02-05T00:17:45.806581",
     "status": "completed"
    },
    "tags": []
   },
   "outputs": [],
   "source": [
    "if features == 'all':\n",
    "    \n",
    "    categorical_features = [\n",
    "        'category1',\n",
    "        'category2',\n",
    "        'category3',\n",
    "        'category4',\n",
    "        'category5',\n",
    "        'category6',\n",
    "        'category7',\n",
    "        'category8',\n",
    "        'category9',\n",
    "        'category10',\n",
    "        'language',\n",
    "        'coverType',\n",
    "        'publisher',\n",
    "        'rankingCategory',\n",
    "        'authors'\n",
    "    ]\n",
    "\n",
    "    numeric_features = [\n",
    "        'degree',\n",
    "        'eigenvector_centrality',\n",
    "        'betweenness_centrality',\n",
    "        'ranking',\n",
    "        'reviewCount',\n",
    "        'pages',\n",
    "        'weight',\n",
    "        'height',\n",
    "        'width',\n",
    "        'depth',\n",
    "        'rating'\n",
    "    ]\n",
    "    \n",
    "elif features == 'all_except_network_metrics':\n",
    "    \n",
    "    categorical_features = [\n",
    "        'category1',\n",
    "        'category2',\n",
    "        'category3',\n",
    "        'category4',\n",
    "        'category5',\n",
    "        'category6',\n",
    "        'category7',\n",
    "        'category8',\n",
    "        'category9',\n",
    "        'category10',\n",
    "        'language',\n",
    "        'coverType',\n",
    "        'publisher',\n",
    "        'rankingCategory',\n",
    "        'authors'\n",
    "    ]\n",
    "\n",
    "    numeric_features = [\n",
    "        'ranking',\n",
    "        'reviewCount',\n",
    "        'pages',\n",
    "        'weight',\n",
    "        'height',\n",
    "        'width',\n",
    "        'depth',\n",
    "        'rating'\n",
    "    ]\n",
    "\n",
    "elif features == 'none':\n",
    "    \n",
    "    categorical_features = []\n",
    "\n",
    "    numeric_features = []\n",
    "\n",
    "df = shared_functions.prepare_data(df, numeric_features)"
   ]
  },
  {
   "cell_type": "markdown",
   "metadata": {
    "papermill": {
     "duration": 0.037844,
     "end_time": "2019-02-05T00:17:46.056665",
     "exception": false,
     "start_time": "2019-02-05T00:17:46.018821",
     "status": "completed"
    },
    "tags": []
   },
   "source": [
    "### Remove nodes without price"
   ]
  },
  {
   "cell_type": "code",
   "execution_count": 11,
   "metadata": {
    "collapsed": true,
    "papermill": {
     "duration": 0.048296,
     "end_time": "2019-02-05T00:17:46.142742",
     "exception": false,
     "start_time": "2019-02-05T00:17:46.094446",
     "status": "completed"
    },
    "tags": []
   },
   "outputs": [],
   "source": [
    "df = df.drop(df[df[\"price\"].isnull()].index)"
   ]
  },
  {
   "cell_type": "markdown",
   "metadata": {
    "papermill": {
     "duration": 0.037255,
     "end_time": "2019-02-05T00:17:46.218854",
     "exception": false,
     "start_time": "2019-02-05T00:17:46.181599",
     "status": "completed"
    },
    "tags": []
   },
   "source": [
    "### Inspect columns"
   ]
  },
  {
   "cell_type": "code",
   "execution_count": 12,
   "metadata": {
    "papermill": {
     "duration": 0.045879,
     "end_time": "2019-02-05T00:17:46.302072",
     "exception": false,
     "start_time": "2019-02-05T00:17:46.256193",
     "status": "completed"
    },
    "tags": []
   },
   "outputs": [
    {
     "data": {
      "text/plain": [
       "Index([u'id', u'title', u'url', u'authors', u'coverType', u'publisher',\n",
       "       u'edition', u'publicationDate', u'rankingCategory', u'category1',\n",
       "       u'category2', u'category3', u'category4', u'category5', u'category6',\n",
       "       u'category7', u'category8', u'category9', u'category10', u'isbn10',\n",
       "       u'isbn13', u'language', u'postProcessed', u'price', u'ranking',\n",
       "       u'pages', u'reviewCount', u'rating', u'width', u'height', u'depth',\n",
       "       u'weight', u'sha256_id', u'eigenvector_centrality', u'degree',\n",
       "       u'betweenness_centrality'],\n",
       "      dtype='object')"
      ]
     },
     "execution_count": 12,
     "metadata": {},
     "output_type": "execute_result"
    }
   ],
   "source": [
    "df.columns"
   ]
  },
  {
   "cell_type": "markdown",
   "metadata": {
    "papermill": {
     "duration": 0.037649,
     "end_time": "2019-02-05T00:17:46.378375",
     "exception": false,
     "start_time": "2019-02-05T00:17:46.340726",
     "status": "completed"
    },
    "tags": []
   },
   "source": [
    "### Features summary"
   ]
  },
  {
   "cell_type": "markdown",
   "metadata": {
    "papermill": {
     "duration": 0.036287,
     "end_time": "2019-02-05T00:17:46.452111",
     "exception": false,
     "start_time": "2019-02-05T00:17:46.415824",
     "status": "completed"
    },
    "tags": []
   },
   "source": [
    "Below we have a summary of the Pandas dataframe. We can see the number of nodes that we are actually analyzing, which depends on the max_edges parameter defined before."
   ]
  },
  {
   "cell_type": "code",
   "execution_count": 13,
   "metadata": {
    "papermill": {
     "duration": 0.220885,
     "end_time": "2019-02-05T00:17:46.710694",
     "exception": false,
     "start_time": "2019-02-05T00:17:46.489809",
     "status": "completed"
    },
    "tags": []
   },
   "outputs": [
    {
     "data": {
      "text/html": [
       "<div>\n",
       "<style scoped>\n",
       "    .dataframe tbody tr th:only-of-type {\n",
       "        vertical-align: middle;\n",
       "    }\n",
       "\n",
       "    .dataframe tbody tr th {\n",
       "        vertical-align: top;\n",
       "    }\n",
       "\n",
       "    .dataframe thead th {\n",
       "        text-align: right;\n",
       "    }\n",
       "</style>\n",
       "<table border=\"1\" class=\"dataframe\">\n",
       "  <thead>\n",
       "    <tr style=\"text-align: right;\">\n",
       "      <th></th>\n",
       "      <th>id</th>\n",
       "      <th>title</th>\n",
       "      <th>url</th>\n",
       "      <th>authors</th>\n",
       "      <th>coverType</th>\n",
       "      <th>publisher</th>\n",
       "      <th>edition</th>\n",
       "      <th>publicationDate</th>\n",
       "      <th>rankingCategory</th>\n",
       "      <th>category1</th>\n",
       "      <th>category2</th>\n",
       "      <th>category3</th>\n",
       "      <th>category4</th>\n",
       "      <th>category5</th>\n",
       "      <th>category6</th>\n",
       "      <th>category7</th>\n",
       "      <th>category8</th>\n",
       "      <th>category9</th>\n",
       "      <th>category10</th>\n",
       "      <th>isbn10</th>\n",
       "      <th>isbn13</th>\n",
       "      <th>language</th>\n",
       "      <th>postProcessed</th>\n",
       "      <th>price</th>\n",
       "      <th>ranking</th>\n",
       "      <th>pages</th>\n",
       "      <th>reviewCount</th>\n",
       "      <th>rating</th>\n",
       "      <th>width</th>\n",
       "      <th>height</th>\n",
       "      <th>depth</th>\n",
       "      <th>weight</th>\n",
       "      <th>sha256_id</th>\n",
       "      <th>eigenvector_centrality</th>\n",
       "      <th>degree</th>\n",
       "      <th>betweenness_centrality</th>\n",
       "    </tr>\n",
       "  </thead>\n",
       "  <tbody>\n",
       "    <tr>\n",
       "      <th>count</th>\n",
       "      <td>7449.000000</td>\n",
       "      <td>7449</td>\n",
       "      <td>7449</td>\n",
       "      <td>7448</td>\n",
       "      <td>7376</td>\n",
       "      <td>7389</td>\n",
       "      <td>0.0</td>\n",
       "      <td>580</td>\n",
       "      <td>7172</td>\n",
       "      <td>7086</td>\n",
       "      <td>7086</td>\n",
       "      <td>5305</td>\n",
       "      <td>2608</td>\n",
       "      <td>886</td>\n",
       "      <td>150</td>\n",
       "      <td>11</td>\n",
       "      <td>0.0</td>\n",
       "      <td>0.0</td>\n",
       "      <td>0.0</td>\n",
       "      <td>7392</td>\n",
       "      <td>7392</td>\n",
       "      <td>7388</td>\n",
       "      <td>7449.0</td>\n",
       "      <td>7449.000000</td>\n",
       "      <td>7449.000000</td>\n",
       "      <td>7449.000000</td>\n",
       "      <td>7449.000000</td>\n",
       "      <td>7449.000000</td>\n",
       "      <td>7449.000000</td>\n",
       "      <td>7449.000000</td>\n",
       "      <td>7449.000000</td>\n",
       "      <td>7449.000000</td>\n",
       "      <td>7.449000e+03</td>\n",
       "      <td>7.449000e+03</td>\n",
       "      <td>7449.000000</td>\n",
       "      <td>7449.000000</td>\n",
       "    </tr>\n",
       "    <tr>\n",
       "      <th>unique</th>\n",
       "      <td>NaN</td>\n",
       "      <td>7280</td>\n",
       "      <td>7449</td>\n",
       "      <td>5056</td>\n",
       "      <td>10</td>\n",
       "      <td>610</td>\n",
       "      <td>NaN</td>\n",
       "      <td>452</td>\n",
       "      <td>1</td>\n",
       "      <td>1</td>\n",
       "      <td>28</td>\n",
       "      <td>213</td>\n",
       "      <td>393</td>\n",
       "      <td>235</td>\n",
       "      <td>59</td>\n",
       "      <td>5</td>\n",
       "      <td>NaN</td>\n",
       "      <td>NaN</td>\n",
       "      <td>NaN</td>\n",
       "      <td>7392</td>\n",
       "      <td>7392</td>\n",
       "      <td>7</td>\n",
       "      <td>NaN</td>\n",
       "      <td>NaN</td>\n",
       "      <td>NaN</td>\n",
       "      <td>NaN</td>\n",
       "      <td>NaN</td>\n",
       "      <td>NaN</td>\n",
       "      <td>NaN</td>\n",
       "      <td>NaN</td>\n",
       "      <td>NaN</td>\n",
       "      <td>NaN</td>\n",
       "      <td>NaN</td>\n",
       "      <td>NaN</td>\n",
       "      <td>NaN</td>\n",
       "      <td>NaN</td>\n",
       "    </tr>\n",
       "    <tr>\n",
       "      <th>top</th>\n",
       "      <td>NaN</td>\n",
       "      <td>Macroeconomia</td>\n",
       "      <td>https://www.amazon.com.br/dp/8580332990/</td>\n",
       "      <td>Vários Autores (Autor)</td>\n",
       "      <td>Capa comum</td>\n",
       "      <td>Companhia das Letras</td>\n",
       "      <td>NaN</td>\n",
       "      <td>1 de janeiro de 2014</td>\n",
       "      <td>Livros</td>\n",
       "      <td>Livros</td>\n",
       "      <td>Política, Filosofia e Ciências Sociais</td>\n",
       "      <td>Filosofia</td>\n",
       "      <td>Matemática</td>\n",
       "      <td>Faculdade</td>\n",
       "      <td>Probabilidade e Estatística</td>\n",
       "      <td>Neurociência</td>\n",
       "      <td>NaN</td>\n",
       "      <td>NaN</td>\n",
       "      <td>NaN</td>\n",
       "      <td>8525431494</td>\n",
       "      <td>978-8582600481</td>\n",
       "      <td>Português</td>\n",
       "      <td>NaN</td>\n",
       "      <td>NaN</td>\n",
       "      <td>NaN</td>\n",
       "      <td>NaN</td>\n",
       "      <td>NaN</td>\n",
       "      <td>NaN</td>\n",
       "      <td>NaN</td>\n",
       "      <td>NaN</td>\n",
       "      <td>NaN</td>\n",
       "      <td>NaN</td>\n",
       "      <td>NaN</td>\n",
       "      <td>NaN</td>\n",
       "      <td>NaN</td>\n",
       "      <td>NaN</td>\n",
       "    </tr>\n",
       "    <tr>\n",
       "      <th>freq</th>\n",
       "      <td>NaN</td>\n",
       "      <td>6</td>\n",
       "      <td>1</td>\n",
       "      <td>82</td>\n",
       "      <td>6281</td>\n",
       "      <td>469</td>\n",
       "      <td>NaN</td>\n",
       "      <td>11</td>\n",
       "      <td>7172</td>\n",
       "      <td>7086</td>\n",
       "      <td>1299</td>\n",
       "      <td>801</td>\n",
       "      <td>146</td>\n",
       "      <td>67</td>\n",
       "      <td>15</td>\n",
       "      <td>3</td>\n",
       "      <td>NaN</td>\n",
       "      <td>NaN</td>\n",
       "      <td>NaN</td>\n",
       "      <td>1</td>\n",
       "      <td>1</td>\n",
       "      <td>6589</td>\n",
       "      <td>NaN</td>\n",
       "      <td>NaN</td>\n",
       "      <td>NaN</td>\n",
       "      <td>NaN</td>\n",
       "      <td>NaN</td>\n",
       "      <td>NaN</td>\n",
       "      <td>NaN</td>\n",
       "      <td>NaN</td>\n",
       "      <td>NaN</td>\n",
       "      <td>NaN</td>\n",
       "      <td>NaN</td>\n",
       "      <td>NaN</td>\n",
       "      <td>NaN</td>\n",
       "      <td>NaN</td>\n",
       "    </tr>\n",
       "    <tr>\n",
       "      <th>mean</th>\n",
       "      <td>4438.479393</td>\n",
       "      <td>NaN</td>\n",
       "      <td>NaN</td>\n",
       "      <td>NaN</td>\n",
       "      <td>NaN</td>\n",
       "      <td>NaN</td>\n",
       "      <td>NaN</td>\n",
       "      <td>NaN</td>\n",
       "      <td>NaN</td>\n",
       "      <td>NaN</td>\n",
       "      <td>NaN</td>\n",
       "      <td>NaN</td>\n",
       "      <td>NaN</td>\n",
       "      <td>NaN</td>\n",
       "      <td>NaN</td>\n",
       "      <td>NaN</td>\n",
       "      <td>NaN</td>\n",
       "      <td>NaN</td>\n",
       "      <td>NaN</td>\n",
       "      <td>NaN</td>\n",
       "      <td>NaN</td>\n",
       "      <td>NaN</td>\n",
       "      <td>1.0</td>\n",
       "      <td>75.047837</td>\n",
       "      <td>33912.156406</td>\n",
       "      <td>359.112039</td>\n",
       "      <td>15.454031</td>\n",
       "      <td>4.449179</td>\n",
       "      <td>15.309942</td>\n",
       "      <td>22.291848</td>\n",
       "      <td>2.103836</td>\n",
       "      <td>430.312192</td>\n",
       "      <td>2.116023e+09</td>\n",
       "      <td>3.045638e-03</td>\n",
       "      <td>9.097463</td>\n",
       "      <td>0.001238</td>\n",
       "    </tr>\n",
       "    <tr>\n",
       "      <th>std</th>\n",
       "      <td>2674.799842</td>\n",
       "      <td>NaN</td>\n",
       "      <td>NaN</td>\n",
       "      <td>NaN</td>\n",
       "      <td>NaN</td>\n",
       "      <td>NaN</td>\n",
       "      <td>NaN</td>\n",
       "      <td>NaN</td>\n",
       "      <td>NaN</td>\n",
       "      <td>NaN</td>\n",
       "      <td>NaN</td>\n",
       "      <td>NaN</td>\n",
       "      <td>NaN</td>\n",
       "      <td>NaN</td>\n",
       "      <td>NaN</td>\n",
       "      <td>NaN</td>\n",
       "      <td>NaN</td>\n",
       "      <td>NaN</td>\n",
       "      <td>NaN</td>\n",
       "      <td>NaN</td>\n",
       "      <td>NaN</td>\n",
       "      <td>NaN</td>\n",
       "      <td>0.0</td>\n",
       "      <td>154.101678</td>\n",
       "      <td>47729.101613</td>\n",
       "      <td>253.681344</td>\n",
       "      <td>35.370909</td>\n",
       "      <td>0.547457</td>\n",
       "      <td>2.543170</td>\n",
       "      <td>2.549361</td>\n",
       "      <td>1.220995</td>\n",
       "      <td>202.125115</td>\n",
       "      <td>1.239177e+09</td>\n",
       "      <td>1.106904e-02</td>\n",
       "      <td>21.311759</td>\n",
       "      <td>0.003827</td>\n",
       "    </tr>\n",
       "    <tr>\n",
       "      <th>min</th>\n",
       "      <td>1.000000</td>\n",
       "      <td>NaN</td>\n",
       "      <td>NaN</td>\n",
       "      <td>NaN</td>\n",
       "      <td>NaN</td>\n",
       "      <td>NaN</td>\n",
       "      <td>NaN</td>\n",
       "      <td>NaN</td>\n",
       "      <td>NaN</td>\n",
       "      <td>NaN</td>\n",
       "      <td>NaN</td>\n",
       "      <td>NaN</td>\n",
       "      <td>NaN</td>\n",
       "      <td>NaN</td>\n",
       "      <td>NaN</td>\n",
       "      <td>NaN</td>\n",
       "      <td>NaN</td>\n",
       "      <td>NaN</td>\n",
       "      <td>NaN</td>\n",
       "      <td>NaN</td>\n",
       "      <td>NaN</td>\n",
       "      <td>NaN</td>\n",
       "      <td>1.0</td>\n",
       "      <td>2.900000</td>\n",
       "      <td>3.000000</td>\n",
       "      <td>2.000000</td>\n",
       "      <td>1.000000</td>\n",
       "      <td>1.000000</td>\n",
       "      <td>0.800000</td>\n",
       "      <td>8.600000</td>\n",
       "      <td>0.200000</td>\n",
       "      <td>4.500000</td>\n",
       "      <td>2.291770e+05</td>\n",
       "      <td>2.823264e-09</td>\n",
       "      <td>1.000000</td>\n",
       "      <td>0.000000</td>\n",
       "    </tr>\n",
       "    <tr>\n",
       "      <th>25%</th>\n",
       "      <td>2134.000000</td>\n",
       "      <td>NaN</td>\n",
       "      <td>NaN</td>\n",
       "      <td>NaN</td>\n",
       "      <td>NaN</td>\n",
       "      <td>NaN</td>\n",
       "      <td>NaN</td>\n",
       "      <td>NaN</td>\n",
       "      <td>NaN</td>\n",
       "      <td>NaN</td>\n",
       "      <td>NaN</td>\n",
       "      <td>NaN</td>\n",
       "      <td>NaN</td>\n",
       "      <td>NaN</td>\n",
       "      <td>NaN</td>\n",
       "      <td>NaN</td>\n",
       "      <td>NaN</td>\n",
       "      <td>NaN</td>\n",
       "      <td>NaN</td>\n",
       "      <td>NaN</td>\n",
       "      <td>NaN</td>\n",
       "      <td>NaN</td>\n",
       "      <td>1.0</td>\n",
       "      <td>26.620000</td>\n",
       "      <td>7145.000000</td>\n",
       "      <td>200.000000</td>\n",
       "      <td>2.000000</td>\n",
       "      <td>4.400000</td>\n",
       "      <td>13.700000</td>\n",
       "      <td>20.800000</td>\n",
       "      <td>1.400000</td>\n",
       "      <td>281.000000</td>\n",
       "      <td>1.027567e+09</td>\n",
       "      <td>2.078612e-05</td>\n",
       "      <td>1.000000</td>\n",
       "      <td>0.000000</td>\n",
       "    </tr>\n",
       "    <tr>\n",
       "      <th>50%</th>\n",
       "      <td>4353.000000</td>\n",
       "      <td>NaN</td>\n",
       "      <td>NaN</td>\n",
       "      <td>NaN</td>\n",
       "      <td>NaN</td>\n",
       "      <td>NaN</td>\n",
       "      <td>NaN</td>\n",
       "      <td>NaN</td>\n",
       "      <td>NaN</td>\n",
       "      <td>NaN</td>\n",
       "      <td>NaN</td>\n",
       "      <td>NaN</td>\n",
       "      <td>NaN</td>\n",
       "      <td>NaN</td>\n",
       "      <td>NaN</td>\n",
       "      <td>NaN</td>\n",
       "      <td>NaN</td>\n",
       "      <td>NaN</td>\n",
       "      <td>NaN</td>\n",
       "      <td>NaN</td>\n",
       "      <td>NaN</td>\n",
       "      <td>NaN</td>\n",
       "      <td>1.0</td>\n",
       "      <td>39.420000</td>\n",
       "      <td>20326.000000</td>\n",
       "      <td>304.000000</td>\n",
       "      <td>10.000000</td>\n",
       "      <td>4.451743</td>\n",
       "      <td>15.400000</td>\n",
       "      <td>22.600000</td>\n",
       "      <td>1.800000</td>\n",
       "      <td>431.097804</td>\n",
       "      <td>2.092761e+09</td>\n",
       "      <td>1.576019e-04</td>\n",
       "      <td>3.000000</td>\n",
       "      <td>0.000227</td>\n",
       "    </tr>\n",
       "    <tr>\n",
       "      <th>75%</th>\n",
       "      <td>6687.000000</td>\n",
       "      <td>NaN</td>\n",
       "      <td>NaN</td>\n",
       "      <td>NaN</td>\n",
       "      <td>NaN</td>\n",
       "      <td>NaN</td>\n",
       "      <td>NaN</td>\n",
       "      <td>NaN</td>\n",
       "      <td>NaN</td>\n",
       "      <td>NaN</td>\n",
       "      <td>NaN</td>\n",
       "      <td>NaN</td>\n",
       "      <td>NaN</td>\n",
       "      <td>NaN</td>\n",
       "      <td>NaN</td>\n",
       "      <td>NaN</td>\n",
       "      <td>NaN</td>\n",
       "      <td>NaN</td>\n",
       "      <td>NaN</td>\n",
       "      <td>NaN</td>\n",
       "      <td>NaN</td>\n",
       "      <td>NaN</td>\n",
       "      <td>1.0</td>\n",
       "      <td>64.000000</td>\n",
       "      <td>41003.000000</td>\n",
       "      <td>444.000000</td>\n",
       "      <td>15.365221</td>\n",
       "      <td>4.800000</td>\n",
       "      <td>16.000000</td>\n",
       "      <td>23.200000</td>\n",
       "      <td>2.600000</td>\n",
       "      <td>540.000000</td>\n",
       "      <td>3.178862e+09</td>\n",
       "      <td>1.135351e-03</td>\n",
       "      <td>7.000000</td>\n",
       "      <td>0.000877</td>\n",
       "    </tr>\n",
       "    <tr>\n",
       "      <th>85%</th>\n",
       "      <td>7700.800000</td>\n",
       "      <td>NaN</td>\n",
       "      <td>NaN</td>\n",
       "      <td>NaN</td>\n",
       "      <td>NaN</td>\n",
       "      <td>NaN</td>\n",
       "      <td>NaN</td>\n",
       "      <td>NaN</td>\n",
       "      <td>NaN</td>\n",
       "      <td>NaN</td>\n",
       "      <td>NaN</td>\n",
       "      <td>NaN</td>\n",
       "      <td>NaN</td>\n",
       "      <td>NaN</td>\n",
       "      <td>NaN</td>\n",
       "      <td>NaN</td>\n",
       "      <td>NaN</td>\n",
       "      <td>NaN</td>\n",
       "      <td>NaN</td>\n",
       "      <td>NaN</td>\n",
       "      <td>NaN</td>\n",
       "      <td>NaN</td>\n",
       "      <td>1.0</td>\n",
       "      <td>94.564000</td>\n",
       "      <td>58918.200000</td>\n",
       "      <td>552.000000</td>\n",
       "      <td>15.365221</td>\n",
       "      <td>5.000000</td>\n",
       "      <td>17.000000</td>\n",
       "      <td>24.000000</td>\n",
       "      <td>3.000000</td>\n",
       "      <td>662.000000</td>\n",
       "      <td>3.632623e+09</td>\n",
       "      <td>3.201511e-03</td>\n",
       "      <td>13.000000</td>\n",
       "      <td>0.001633</td>\n",
       "    </tr>\n",
       "    <tr>\n",
       "      <th>90%</th>\n",
       "      <td>8169.200000</td>\n",
       "      <td>NaN</td>\n",
       "      <td>NaN</td>\n",
       "      <td>NaN</td>\n",
       "      <td>NaN</td>\n",
       "      <td>NaN</td>\n",
       "      <td>NaN</td>\n",
       "      <td>NaN</td>\n",
       "      <td>NaN</td>\n",
       "      <td>NaN</td>\n",
       "      <td>NaN</td>\n",
       "      <td>NaN</td>\n",
       "      <td>NaN</td>\n",
       "      <td>NaN</td>\n",
       "      <td>NaN</td>\n",
       "      <td>NaN</td>\n",
       "      <td>NaN</td>\n",
       "      <td>NaN</td>\n",
       "      <td>NaN</td>\n",
       "      <td>NaN</td>\n",
       "      <td>NaN</td>\n",
       "      <td>NaN</td>\n",
       "      <td>1.0</td>\n",
       "      <td>126.786000</td>\n",
       "      <td>75360.000000</td>\n",
       "      <td>640.000000</td>\n",
       "      <td>23.000000</td>\n",
       "      <td>5.000000</td>\n",
       "      <td>19.000000</td>\n",
       "      <td>25.400000</td>\n",
       "      <td>3.400000</td>\n",
       "      <td>721.000000</td>\n",
       "      <td>3.863579e+09</td>\n",
       "      <td>6.629073e-03</td>\n",
       "      <td>21.000000</td>\n",
       "      <td>0.002618</td>\n",
       "    </tr>\n",
       "    <tr>\n",
       "      <th>95%</th>\n",
       "      <td>8655.600000</td>\n",
       "      <td>NaN</td>\n",
       "      <td>NaN</td>\n",
       "      <td>NaN</td>\n",
       "      <td>NaN</td>\n",
       "      <td>NaN</td>\n",
       "      <td>NaN</td>\n",
       "      <td>NaN</td>\n",
       "      <td>NaN</td>\n",
       "      <td>NaN</td>\n",
       "      <td>NaN</td>\n",
       "      <td>NaN</td>\n",
       "      <td>NaN</td>\n",
       "      <td>NaN</td>\n",
       "      <td>NaN</td>\n",
       "      <td>NaN</td>\n",
       "      <td>NaN</td>\n",
       "      <td>NaN</td>\n",
       "      <td>NaN</td>\n",
       "      <td>NaN</td>\n",
       "      <td>NaN</td>\n",
       "      <td>NaN</td>\n",
       "      <td>1.0</td>\n",
       "      <td>208.428000</td>\n",
       "      <td>108457.800000</td>\n",
       "      <td>800.000000</td>\n",
       "      <td>48.000000</td>\n",
       "      <td>5.000000</td>\n",
       "      <td>20.800000</td>\n",
       "      <td>27.600000</td>\n",
       "      <td>4.200000</td>\n",
       "      <td>839.000000</td>\n",
       "      <td>4.065777e+09</td>\n",
       "      <td>1.690109e-02</td>\n",
       "      <td>40.000000</td>\n",
       "      <td>0.005111</td>\n",
       "    </tr>\n",
       "    <tr>\n",
       "      <th>99%</th>\n",
       "      <td>9445.600000</td>\n",
       "      <td>NaN</td>\n",
       "      <td>NaN</td>\n",
       "      <td>NaN</td>\n",
       "      <td>NaN</td>\n",
       "      <td>NaN</td>\n",
       "      <td>NaN</td>\n",
       "      <td>NaN</td>\n",
       "      <td>NaN</td>\n",
       "      <td>NaN</td>\n",
       "      <td>NaN</td>\n",
       "      <td>NaN</td>\n",
       "      <td>NaN</td>\n",
       "      <td>NaN</td>\n",
       "      <td>NaN</td>\n",
       "      <td>NaN</td>\n",
       "      <td>NaN</td>\n",
       "      <td>NaN</td>\n",
       "      <td>NaN</td>\n",
       "      <td>NaN</td>\n",
       "      <td>NaN</td>\n",
       "      <td>NaN</td>\n",
       "      <td>1.0</td>\n",
       "      <td>778.422400</td>\n",
       "      <td>277522.640000</td>\n",
       "      <td>1216.000000</td>\n",
       "      <td>151.000000</td>\n",
       "      <td>5.000000</td>\n",
       "      <td>21.800000</td>\n",
       "      <td>28.400000</td>\n",
       "      <td>6.200000</td>\n",
       "      <td>962.000000</td>\n",
       "      <td>4.243298e+09</td>\n",
       "      <td>4.609768e-02</td>\n",
       "      <td>100.000000</td>\n",
       "      <td>0.018339</td>\n",
       "    </tr>\n",
       "    <tr>\n",
       "      <th>max</th>\n",
       "      <td>9746.000000</td>\n",
       "      <td>NaN</td>\n",
       "      <td>NaN</td>\n",
       "      <td>NaN</td>\n",
       "      <td>NaN</td>\n",
       "      <td>NaN</td>\n",
       "      <td>NaN</td>\n",
       "      <td>NaN</td>\n",
       "      <td>NaN</td>\n",
       "      <td>NaN</td>\n",
       "      <td>NaN</td>\n",
       "      <td>NaN</td>\n",
       "      <td>NaN</td>\n",
       "      <td>NaN</td>\n",
       "      <td>NaN</td>\n",
       "      <td>NaN</td>\n",
       "      <td>NaN</td>\n",
       "      <td>NaN</td>\n",
       "      <td>NaN</td>\n",
       "      <td>NaN</td>\n",
       "      <td>NaN</td>\n",
       "      <td>NaN</td>\n",
       "      <td>1.0</td>\n",
       "      <td>2531.070000</td>\n",
       "      <td>438525.000000</td>\n",
       "      <td>4804.000000</td>\n",
       "      <td>755.000000</td>\n",
       "      <td>5.000000</td>\n",
       "      <td>30.400000</td>\n",
       "      <td>40.900000</td>\n",
       "      <td>17.800000</td>\n",
       "      <td>998.000000</td>\n",
       "      <td>4.294447e+09</td>\n",
       "      <td>2.616285e-01</td>\n",
       "      <td>474.000000</td>\n",
       "      <td>0.077137</td>\n",
       "    </tr>\n",
       "  </tbody>\n",
       "</table>\n",
       "</div>"
      ],
      "text/plain": [
       "                 id          title                                       url  \\\n",
       "count   7449.000000           7449                                      7449   \n",
       "unique          NaN           7280                                      7449   \n",
       "top             NaN  Macroeconomia  https://www.amazon.com.br/dp/8580332990/   \n",
       "freq            NaN              6                                         1   \n",
       "mean    4438.479393            NaN                                       NaN   \n",
       "std     2674.799842            NaN                                       NaN   \n",
       "min        1.000000            NaN                                       NaN   \n",
       "25%     2134.000000            NaN                                       NaN   \n",
       "50%     4353.000000            NaN                                       NaN   \n",
       "75%     6687.000000            NaN                                       NaN   \n",
       "85%     7700.800000            NaN                                       NaN   \n",
       "90%     8169.200000            NaN                                       NaN   \n",
       "95%     8655.600000            NaN                                       NaN   \n",
       "99%     9445.600000            NaN                                       NaN   \n",
       "max     9746.000000            NaN                                       NaN   \n",
       "\n",
       "                       authors   coverType             publisher  edition  \\\n",
       "count                     7448        7376                  7389      0.0   \n",
       "unique                    5056          10                   610      NaN   \n",
       "top     Vários Autores (Autor)  Capa comum  Companhia das Letras      NaN   \n",
       "freq                        82        6281                   469      NaN   \n",
       "mean                       NaN         NaN                   NaN      NaN   \n",
       "std                        NaN         NaN                   NaN      NaN   \n",
       "min                        NaN         NaN                   NaN      NaN   \n",
       "25%                        NaN         NaN                   NaN      NaN   \n",
       "50%                        NaN         NaN                   NaN      NaN   \n",
       "75%                        NaN         NaN                   NaN      NaN   \n",
       "85%                        NaN         NaN                   NaN      NaN   \n",
       "90%                        NaN         NaN                   NaN      NaN   \n",
       "95%                        NaN         NaN                   NaN      NaN   \n",
       "99%                        NaN         NaN                   NaN      NaN   \n",
       "max                        NaN         NaN                   NaN      NaN   \n",
       "\n",
       "             publicationDate rankingCategory category1  \\\n",
       "count                    580            7172      7086   \n",
       "unique                   452               1         1   \n",
       "top     1 de janeiro de 2014          Livros    Livros   \n",
       "freq                      11            7172      7086   \n",
       "mean                     NaN             NaN       NaN   \n",
       "std                      NaN             NaN       NaN   \n",
       "min                      NaN             NaN       NaN   \n",
       "25%                      NaN             NaN       NaN   \n",
       "50%                      NaN             NaN       NaN   \n",
       "75%                      NaN             NaN       NaN   \n",
       "85%                      NaN             NaN       NaN   \n",
       "90%                      NaN             NaN       NaN   \n",
       "95%                      NaN             NaN       NaN   \n",
       "99%                      NaN             NaN       NaN   \n",
       "max                      NaN             NaN       NaN   \n",
       "\n",
       "                                     category2  category3   category4  \\\n",
       "count                                     7086       5305        2608   \n",
       "unique                                      28        213         393   \n",
       "top     Política, Filosofia e Ciências Sociais  Filosofia  Matemática   \n",
       "freq                                      1299        801         146   \n",
       "mean                                       NaN        NaN         NaN   \n",
       "std                                        NaN        NaN         NaN   \n",
       "min                                        NaN        NaN         NaN   \n",
       "25%                                        NaN        NaN         NaN   \n",
       "50%                                        NaN        NaN         NaN   \n",
       "75%                                        NaN        NaN         NaN   \n",
       "85%                                        NaN        NaN         NaN   \n",
       "90%                                        NaN        NaN         NaN   \n",
       "95%                                        NaN        NaN         NaN   \n",
       "99%                                        NaN        NaN         NaN   \n",
       "max                                        NaN        NaN         NaN   \n",
       "\n",
       "        category5                    category6     category7  category8  \\\n",
       "count         886                          150            11        0.0   \n",
       "unique        235                           59             5        NaN   \n",
       "top     Faculdade  Probabilidade e Estatística  Neurociência        NaN   \n",
       "freq           67                           15             3        NaN   \n",
       "mean          NaN                          NaN           NaN        NaN   \n",
       "std           NaN                          NaN           NaN        NaN   \n",
       "min           NaN                          NaN           NaN        NaN   \n",
       "25%           NaN                          NaN           NaN        NaN   \n",
       "50%           NaN                          NaN           NaN        NaN   \n",
       "75%           NaN                          NaN           NaN        NaN   \n",
       "85%           NaN                          NaN           NaN        NaN   \n",
       "90%           NaN                          NaN           NaN        NaN   \n",
       "95%           NaN                          NaN           NaN        NaN   \n",
       "99%           NaN                          NaN           NaN        NaN   \n",
       "max           NaN                          NaN           NaN        NaN   \n",
       "\n",
       "        category9  category10      isbn10          isbn13   language  \\\n",
       "count         0.0         0.0        7392            7392       7388   \n",
       "unique        NaN         NaN        7392            7392          7   \n",
       "top           NaN         NaN  8525431494  978-8582600481  Português   \n",
       "freq          NaN         NaN           1               1       6589   \n",
       "mean          NaN         NaN         NaN             NaN        NaN   \n",
       "std           NaN         NaN         NaN             NaN        NaN   \n",
       "min           NaN         NaN         NaN             NaN        NaN   \n",
       "25%           NaN         NaN         NaN             NaN        NaN   \n",
       "50%           NaN         NaN         NaN             NaN        NaN   \n",
       "75%           NaN         NaN         NaN             NaN        NaN   \n",
       "85%           NaN         NaN         NaN             NaN        NaN   \n",
       "90%           NaN         NaN         NaN             NaN        NaN   \n",
       "95%           NaN         NaN         NaN             NaN        NaN   \n",
       "99%           NaN         NaN         NaN             NaN        NaN   \n",
       "max           NaN         NaN         NaN             NaN        NaN   \n",
       "\n",
       "        postProcessed        price        ranking        pages  reviewCount  \\\n",
       "count          7449.0  7449.000000    7449.000000  7449.000000  7449.000000   \n",
       "unique            NaN          NaN            NaN          NaN          NaN   \n",
       "top               NaN          NaN            NaN          NaN          NaN   \n",
       "freq              NaN          NaN            NaN          NaN          NaN   \n",
       "mean              1.0    75.047837   33912.156406   359.112039    15.454031   \n",
       "std               0.0   154.101678   47729.101613   253.681344    35.370909   \n",
       "min               1.0     2.900000       3.000000     2.000000     1.000000   \n",
       "25%               1.0    26.620000    7145.000000   200.000000     2.000000   \n",
       "50%               1.0    39.420000   20326.000000   304.000000    10.000000   \n",
       "75%               1.0    64.000000   41003.000000   444.000000    15.365221   \n",
       "85%               1.0    94.564000   58918.200000   552.000000    15.365221   \n",
       "90%               1.0   126.786000   75360.000000   640.000000    23.000000   \n",
       "95%               1.0   208.428000  108457.800000   800.000000    48.000000   \n",
       "99%               1.0   778.422400  277522.640000  1216.000000   151.000000   \n",
       "max               1.0  2531.070000  438525.000000  4804.000000   755.000000   \n",
       "\n",
       "             rating        width       height        depth       weight  \\\n",
       "count   7449.000000  7449.000000  7449.000000  7449.000000  7449.000000   \n",
       "unique          NaN          NaN          NaN          NaN          NaN   \n",
       "top             NaN          NaN          NaN          NaN          NaN   \n",
       "freq            NaN          NaN          NaN          NaN          NaN   \n",
       "mean       4.449179    15.309942    22.291848     2.103836   430.312192   \n",
       "std        0.547457     2.543170     2.549361     1.220995   202.125115   \n",
       "min        1.000000     0.800000     8.600000     0.200000     4.500000   \n",
       "25%        4.400000    13.700000    20.800000     1.400000   281.000000   \n",
       "50%        4.451743    15.400000    22.600000     1.800000   431.097804   \n",
       "75%        4.800000    16.000000    23.200000     2.600000   540.000000   \n",
       "85%        5.000000    17.000000    24.000000     3.000000   662.000000   \n",
       "90%        5.000000    19.000000    25.400000     3.400000   721.000000   \n",
       "95%        5.000000    20.800000    27.600000     4.200000   839.000000   \n",
       "99%        5.000000    21.800000    28.400000     6.200000   962.000000   \n",
       "max        5.000000    30.400000    40.900000    17.800000   998.000000   \n",
       "\n",
       "           sha256_id  eigenvector_centrality       degree  \\\n",
       "count   7.449000e+03            7.449000e+03  7449.000000   \n",
       "unique           NaN                     NaN          NaN   \n",
       "top              NaN                     NaN          NaN   \n",
       "freq             NaN                     NaN          NaN   \n",
       "mean    2.116023e+09            3.045638e-03     9.097463   \n",
       "std     1.239177e+09            1.106904e-02    21.311759   \n",
       "min     2.291770e+05            2.823264e-09     1.000000   \n",
       "25%     1.027567e+09            2.078612e-05     1.000000   \n",
       "50%     2.092761e+09            1.576019e-04     3.000000   \n",
       "75%     3.178862e+09            1.135351e-03     7.000000   \n",
       "85%     3.632623e+09            3.201511e-03    13.000000   \n",
       "90%     3.863579e+09            6.629073e-03    21.000000   \n",
       "95%     4.065777e+09            1.690109e-02    40.000000   \n",
       "99%     4.243298e+09            4.609768e-02   100.000000   \n",
       "max     4.294447e+09            2.616285e-01   474.000000   \n",
       "\n",
       "        betweenness_centrality  \n",
       "count              7449.000000  \n",
       "unique                     NaN  \n",
       "top                        NaN  \n",
       "freq                       NaN  \n",
       "mean                  0.001238  \n",
       "std                   0.003827  \n",
       "min                   0.000000  \n",
       "25%                   0.000000  \n",
       "50%                   0.000227  \n",
       "75%                   0.000877  \n",
       "85%                   0.001633  \n",
       "90%                   0.002618  \n",
       "95%                   0.005111  \n",
       "99%                   0.018339  \n",
       "max                   0.077137  "
      ]
     },
     "execution_count": 13,
     "metadata": {},
     "output_type": "execute_result"
    }
   ],
   "source": [
    "pd.set_option('display.max_columns', None)\n",
    "df.describe(include='all', percentiles=[0.25, 0.5, 0.75, 0.85, 0.9, 0.95, 0.99])"
   ]
  },
  {
   "cell_type": "markdown",
   "metadata": {
    "papermill": {
     "duration": 0.040088,
     "end_time": "2019-02-05T00:17:46.793861",
     "exception": false,
     "start_time": "2019-02-05T00:17:46.753773",
     "status": "completed"
    },
    "tags": []
   },
   "source": [
    "Below we can inspect the first rows of data, containing title, price, degree and other centrality measures."
   ]
  },
  {
   "cell_type": "code",
   "execution_count": 14,
   "metadata": {
    "papermill": {
     "duration": 0.111068,
     "end_time": "2019-02-05T00:17:46.944286",
     "exception": false,
     "start_time": "2019-02-05T00:17:46.833218",
     "status": "completed"
    },
    "tags": []
   },
   "outputs": [
    {
     "data": {
      "text/html": [
       "<div>\n",
       "<style scoped>\n",
       "    .dataframe tbody tr th:only-of-type {\n",
       "        vertical-align: middle;\n",
       "    }\n",
       "\n",
       "    .dataframe tbody tr th {\n",
       "        vertical-align: top;\n",
       "    }\n",
       "\n",
       "    .dataframe thead th {\n",
       "        text-align: right;\n",
       "    }\n",
       "</style>\n",
       "<table border=\"1\" class=\"dataframe\">\n",
       "  <thead>\n",
       "    <tr style=\"text-align: right;\">\n",
       "      <th></th>\n",
       "      <th>id</th>\n",
       "      <th>title</th>\n",
       "      <th>url</th>\n",
       "      <th>authors</th>\n",
       "      <th>coverType</th>\n",
       "      <th>publisher</th>\n",
       "      <th>edition</th>\n",
       "      <th>publicationDate</th>\n",
       "      <th>rankingCategory</th>\n",
       "      <th>category1</th>\n",
       "      <th>category2</th>\n",
       "      <th>category3</th>\n",
       "      <th>category4</th>\n",
       "      <th>category5</th>\n",
       "      <th>category6</th>\n",
       "      <th>category7</th>\n",
       "      <th>category8</th>\n",
       "      <th>category9</th>\n",
       "      <th>category10</th>\n",
       "      <th>isbn10</th>\n",
       "      <th>isbn13</th>\n",
       "      <th>language</th>\n",
       "      <th>postProcessed</th>\n",
       "      <th>price</th>\n",
       "      <th>ranking</th>\n",
       "      <th>pages</th>\n",
       "      <th>reviewCount</th>\n",
       "      <th>rating</th>\n",
       "      <th>width</th>\n",
       "      <th>height</th>\n",
       "      <th>depth</th>\n",
       "      <th>weight</th>\n",
       "      <th>sha256_id</th>\n",
       "      <th>eigenvector_centrality</th>\n",
       "      <th>degree</th>\n",
       "      <th>betweenness_centrality</th>\n",
       "    </tr>\n",
       "  </thead>\n",
       "  <tbody>\n",
       "    <tr>\n",
       "      <th>0</th>\n",
       "      <td>1</td>\n",
       "      <td>The Stanford Mathematics Problem Book: With Hi...</td>\n",
       "      <td>https://www.amazon.com.br/dp/0486469247/</td>\n",
       "      <td>George Polya (Autor),</td>\n",
       "      <td>Capa comum</td>\n",
       "      <td>Dover Publications</td>\n",
       "      <td>NaN</td>\n",
       "      <td>19 de fevereiro de 2009</td>\n",
       "      <td>Livros</td>\n",
       "      <td>Livros</td>\n",
       "      <td>Inglês e Outras Línguas</td>\n",
       "      <td>Ciências Tecnológicas</td>\n",
       "      <td>Matemática</td>\n",
       "      <td>Estudo e Ensino</td>\n",
       "      <td>NaN</td>\n",
       "      <td>NaN</td>\n",
       "      <td>NaN</td>\n",
       "      <td>NaN</td>\n",
       "      <td>NaN</td>\n",
       "      <td>0486469247</td>\n",
       "      <td>978-0486469249</td>\n",
       "      <td>Inglês</td>\n",
       "      <td>1</td>\n",
       "      <td>26.25</td>\n",
       "      <td>59183.0</td>\n",
       "      <td>68.0</td>\n",
       "      <td>1.000000</td>\n",
       "      <td>4.000000</td>\n",
       "      <td>14.0</td>\n",
       "      <td>21.0</td>\n",
       "      <td>0.6</td>\n",
       "      <td>181.0</td>\n",
       "      <td>3564330554</td>\n",
       "      <td>0.000100</td>\n",
       "      <td>19</td>\n",
       "      <td>0.002135</td>\n",
       "    </tr>\n",
       "    <tr>\n",
       "      <th>1</th>\n",
       "      <td>2</td>\n",
       "      <td>Fourier Series</td>\n",
       "      <td>https://www.amazon.com.br/dp/0486633179/</td>\n",
       "      <td>Georgi P. Tolstov (Autor),</td>\n",
       "      <td>Capa comum</td>\n",
       "      <td>Dover Publications</td>\n",
       "      <td>NaN</td>\n",
       "      <td>1 de junho de 1976</td>\n",
       "      <td>Livros</td>\n",
       "      <td>Livros</td>\n",
       "      <td>Inglês e Outras Línguas</td>\n",
       "      <td>Ciências Tecnológicas</td>\n",
       "      <td>Matemática</td>\n",
       "      <td>Aplicada</td>\n",
       "      <td>Probabilidade e Estatística</td>\n",
       "      <td>NaN</td>\n",
       "      <td>NaN</td>\n",
       "      <td>NaN</td>\n",
       "      <td>NaN</td>\n",
       "      <td>0486633179</td>\n",
       "      <td>978-0486633176</td>\n",
       "      <td>Inglês</td>\n",
       "      <td>1</td>\n",
       "      <td>50.37</td>\n",
       "      <td>56112.0</td>\n",
       "      <td>352.0</td>\n",
       "      <td>3.000000</td>\n",
       "      <td>4.600000</td>\n",
       "      <td>14.6</td>\n",
       "      <td>21.0</td>\n",
       "      <td>1.9</td>\n",
       "      <td>363.0</td>\n",
       "      <td>1309098117</td>\n",
       "      <td>0.000199</td>\n",
       "      <td>62</td>\n",
       "      <td>0.001435</td>\n",
       "    </tr>\n",
       "    <tr>\n",
       "      <th>2</th>\n",
       "      <td>3</td>\n",
       "      <td>Probability Theory: A Concise Course</td>\n",
       "      <td>https://www.amazon.com.br/dp/0486635449/</td>\n",
       "      <td>Y. A. Rozanov (Autor),</td>\n",
       "      <td>Capa comum</td>\n",
       "      <td>Dover Publications</td>\n",
       "      <td>NaN</td>\n",
       "      <td>NaN</td>\n",
       "      <td>Livros</td>\n",
       "      <td>Livros</td>\n",
       "      <td>Inglês e Outras Línguas</td>\n",
       "      <td>Ciências Tecnológicas</td>\n",
       "      <td>Matemática</td>\n",
       "      <td>Aplicada</td>\n",
       "      <td>Probabilidade e Estatística</td>\n",
       "      <td>NaN</td>\n",
       "      <td>NaN</td>\n",
       "      <td>NaN</td>\n",
       "      <td>NaN</td>\n",
       "      <td>0486635449</td>\n",
       "      <td>978-0486635446</td>\n",
       "      <td>Inglês</td>\n",
       "      <td>1</td>\n",
       "      <td>29.23</td>\n",
       "      <td>44345.0</td>\n",
       "      <td>160.0</td>\n",
       "      <td>15.365221</td>\n",
       "      <td>4.451743</td>\n",
       "      <td>14.4</td>\n",
       "      <td>20.8</td>\n",
       "      <td>0.8</td>\n",
       "      <td>200.0</td>\n",
       "      <td>1260550007</td>\n",
       "      <td>0.000148</td>\n",
       "      <td>59</td>\n",
       "      <td>0.005487</td>\n",
       "    </tr>\n",
       "    <tr>\n",
       "      <th>3</th>\n",
       "      <td>4</td>\n",
       "      <td>Vectors, Tensors and the Basic Equations of Fl...</td>\n",
       "      <td>https://www.amazon.com.br/dp/0486661105/</td>\n",
       "      <td>Rutherford Aris (Autor),</td>\n",
       "      <td>Capa comum</td>\n",
       "      <td>Dover Publications</td>\n",
       "      <td>NaN</td>\n",
       "      <td>NaN</td>\n",
       "      <td>Livros</td>\n",
       "      <td>Livros</td>\n",
       "      <td>Inglês e Outras Línguas</td>\n",
       "      <td>Engenharia e Transporte</td>\n",
       "      <td>Engenharia</td>\n",
       "      <td>Mecânica</td>\n",
       "      <td>Hidráulica</td>\n",
       "      <td>NaN</td>\n",
       "      <td>NaN</td>\n",
       "      <td>NaN</td>\n",
       "      <td>NaN</td>\n",
       "      <td>0486661105</td>\n",
       "      <td>978-0486661100</td>\n",
       "      <td>Inglês</td>\n",
       "      <td>1</td>\n",
       "      <td>48.79</td>\n",
       "      <td>82275.0</td>\n",
       "      <td>320.0</td>\n",
       "      <td>2.000000</td>\n",
       "      <td>4.500000</td>\n",
       "      <td>13.7</td>\n",
       "      <td>21.5</td>\n",
       "      <td>1.6</td>\n",
       "      <td>381.0</td>\n",
       "      <td>4012708477</td>\n",
       "      <td>0.000049</td>\n",
       "      <td>18</td>\n",
       "      <td>0.001090</td>\n",
       "    </tr>\n",
       "    <tr>\n",
       "      <th>4</th>\n",
       "      <td>5</td>\n",
       "      <td>Ordinary Differential Equations</td>\n",
       "      <td>https://www.amazon.com.br/dp/0486649407/</td>\n",
       "      <td>Morris Tenenbaum (Autor),</td>\n",
       "      <td>Capa comum</td>\n",
       "      <td>Dover Publications</td>\n",
       "      <td>NaN</td>\n",
       "      <td>NaN</td>\n",
       "      <td>Livros</td>\n",
       "      <td>Livros</td>\n",
       "      <td>Inglês e Outras Línguas</td>\n",
       "      <td>Ciências Tecnológicas</td>\n",
       "      <td>Matemática</td>\n",
       "      <td>Aplicada</td>\n",
       "      <td>Equações Diferenciais</td>\n",
       "      <td>NaN</td>\n",
       "      <td>NaN</td>\n",
       "      <td>NaN</td>\n",
       "      <td>NaN</td>\n",
       "      <td>0486649407</td>\n",
       "      <td>978-0486649405</td>\n",
       "      <td>Inglês</td>\n",
       "      <td>1</td>\n",
       "      <td>71.63</td>\n",
       "      <td>40840.0</td>\n",
       "      <td>848.0</td>\n",
       "      <td>4.000000</td>\n",
       "      <td>4.500000</td>\n",
       "      <td>13.8</td>\n",
       "      <td>21.8</td>\n",
       "      <td>4.0</td>\n",
       "      <td>939.0</td>\n",
       "      <td>3891707921</td>\n",
       "      <td>0.000291</td>\n",
       "      <td>88</td>\n",
       "      <td>0.005314</td>\n",
       "    </tr>\n",
       "    <tr>\n",
       "      <th>5</th>\n",
       "      <td>6</td>\n",
       "      <td>The Variational Principles of Mechanics</td>\n",
       "      <td>https://www.amazon.com.br/dp/0486650677/</td>\n",
       "      <td>Cornelius Lanczos (Autor),</td>\n",
       "      <td>Capa comum</td>\n",
       "      <td>Dover Publications</td>\n",
       "      <td>NaN</td>\n",
       "      <td>NaN</td>\n",
       "      <td>Livros</td>\n",
       "      <td>Livros</td>\n",
       "      <td>Inglês e Outras Línguas</td>\n",
       "      <td>Ciências Tecnológicas</td>\n",
       "      <td>Física</td>\n",
       "      <td>Mecânica</td>\n",
       "      <td>NaN</td>\n",
       "      <td>NaN</td>\n",
       "      <td>NaN</td>\n",
       "      <td>NaN</td>\n",
       "      <td>NaN</td>\n",
       "      <td>0486650677</td>\n",
       "      <td>978-0486650678</td>\n",
       "      <td>Inglês</td>\n",
       "      <td>1</td>\n",
       "      <td>88.15</td>\n",
       "      <td>36960.0</td>\n",
       "      <td>418.0</td>\n",
       "      <td>1.000000</td>\n",
       "      <td>5.000000</td>\n",
       "      <td>13.8</td>\n",
       "      <td>21.5</td>\n",
       "      <td>2.2</td>\n",
       "      <td>581.0</td>\n",
       "      <td>2030201243</td>\n",
       "      <td>0.000276</td>\n",
       "      <td>43</td>\n",
       "      <td>0.002865</td>\n",
       "    </tr>\n",
       "    <tr>\n",
       "      <th>6</th>\n",
       "      <td>7</td>\n",
       "      <td>A First Look at Perturbation Theory</td>\n",
       "      <td>https://www.amazon.com.br/dp/0486675513/</td>\n",
       "      <td>James G. Simmonds (Autor)</td>\n",
       "      <td>Capa comum</td>\n",
       "      <td>Dover Publications Inc.</td>\n",
       "      <td>NaN</td>\n",
       "      <td>NaN</td>\n",
       "      <td>Livros</td>\n",
       "      <td>Livros</td>\n",
       "      <td>Inglês e Outras Línguas</td>\n",
       "      <td>Ciências Tecnológicas</td>\n",
       "      <td>Matemática</td>\n",
       "      <td>Aplicada</td>\n",
       "      <td>Equações Diferenciais</td>\n",
       "      <td>NaN</td>\n",
       "      <td>NaN</td>\n",
       "      <td>NaN</td>\n",
       "      <td>NaN</td>\n",
       "      <td>0486675513</td>\n",
       "      <td>978-0486675510</td>\n",
       "      <td>Inglês</td>\n",
       "      <td>1</td>\n",
       "      <td>36.10</td>\n",
       "      <td>37291.0</td>\n",
       "      <td>160.0</td>\n",
       "      <td>15.365221</td>\n",
       "      <td>4.451743</td>\n",
       "      <td>13.7</td>\n",
       "      <td>21.5</td>\n",
       "      <td>0.8</td>\n",
       "      <td>159.0</td>\n",
       "      <td>744636978</td>\n",
       "      <td>0.000032</td>\n",
       "      <td>9</td>\n",
       "      <td>0.000260</td>\n",
       "    </tr>\n",
       "    <tr>\n",
       "      <th>7</th>\n",
       "      <td>8</td>\n",
       "      <td>Thermodynamics and the Kinetic Theory of Gases...</td>\n",
       "      <td>https://www.amazon.com.br/dp/0486414612/</td>\n",
       "      <td>Wolfgang Pauli (Autor),</td>\n",
       "      <td>Capa comum</td>\n",
       "      <td>Dover Publications</td>\n",
       "      <td>NaN</td>\n",
       "      <td>18 de outubro de 2010</td>\n",
       "      <td>Livros</td>\n",
       "      <td>Livros</td>\n",
       "      <td>Inglês e Outras Línguas</td>\n",
       "      <td>Ciências Tecnológicas</td>\n",
       "      <td>Física</td>\n",
       "      <td>Dinâmica</td>\n",
       "      <td>Termodinâmica</td>\n",
       "      <td>NaN</td>\n",
       "      <td>NaN</td>\n",
       "      <td>NaN</td>\n",
       "      <td>NaN</td>\n",
       "      <td>0486414612</td>\n",
       "      <td>978-0486414614</td>\n",
       "      <td>Inglês</td>\n",
       "      <td>1</td>\n",
       "      <td>26.01</td>\n",
       "      <td>24406.0</td>\n",
       "      <td>160.0</td>\n",
       "      <td>2.000000</td>\n",
       "      <td>5.000000</td>\n",
       "      <td>13.8</td>\n",
       "      <td>21.6</td>\n",
       "      <td>1.0</td>\n",
       "      <td>159.0</td>\n",
       "      <td>425205287</td>\n",
       "      <td>0.000207</td>\n",
       "      <td>10</td>\n",
       "      <td>0.002604</td>\n",
       "    </tr>\n",
       "    <tr>\n",
       "      <th>8</th>\n",
       "      <td>9</td>\n",
       "      <td>Mechanics</td>\n",
       "      <td>https://www.amazon.com.br/dp/0486607542/</td>\n",
       "      <td>Jacob P. Den Hartog (Autor),</td>\n",
       "      <td>Capa comum</td>\n",
       "      <td>Dover Publications</td>\n",
       "      <td>NaN</td>\n",
       "      <td>1 de junho de 1961</td>\n",
       "      <td>Livros</td>\n",
       "      <td>Livros</td>\n",
       "      <td>Inglês e Outras Línguas</td>\n",
       "      <td>Ciências Tecnológicas</td>\n",
       "      <td>Física</td>\n",
       "      <td>Mecânica</td>\n",
       "      <td>NaN</td>\n",
       "      <td>NaN</td>\n",
       "      <td>NaN</td>\n",
       "      <td>NaN</td>\n",
       "      <td>NaN</td>\n",
       "      <td>0486607542</td>\n",
       "      <td>978-0486607542</td>\n",
       "      <td>Inglês</td>\n",
       "      <td>1</td>\n",
       "      <td>50.96</td>\n",
       "      <td>90609.0</td>\n",
       "      <td>480.0</td>\n",
       "      <td>15.365221</td>\n",
       "      <td>4.451743</td>\n",
       "      <td>13.6</td>\n",
       "      <td>20.3</td>\n",
       "      <td>2.3</td>\n",
       "      <td>522.0</td>\n",
       "      <td>1246026773</td>\n",
       "      <td>0.000077</td>\n",
       "      <td>23</td>\n",
       "      <td>0.000583</td>\n",
       "    </tr>\n",
       "    <tr>\n",
       "      <th>9</th>\n",
       "      <td>10</td>\n",
       "      <td>Statistical Thermodynamics</td>\n",
       "      <td>https://www.amazon.com.br/dp/0486661016/</td>\n",
       "      <td>Erwin Schrodinger (Autor),</td>\n",
       "      <td>Capa comum</td>\n",
       "      <td>Dover Publications</td>\n",
       "      <td>NaN</td>\n",
       "      <td>NaN</td>\n",
       "      <td>Livros</td>\n",
       "      <td>Livros</td>\n",
       "      <td>Inglês e Outras Línguas</td>\n",
       "      <td>Ciências Tecnológicas</td>\n",
       "      <td>Física</td>\n",
       "      <td>Dinâmica</td>\n",
       "      <td>Termodinâmica</td>\n",
       "      <td>NaN</td>\n",
       "      <td>NaN</td>\n",
       "      <td>NaN</td>\n",
       "      <td>NaN</td>\n",
       "      <td>0486661016</td>\n",
       "      <td>978-0486661018</td>\n",
       "      <td>Inglês</td>\n",
       "      <td>1</td>\n",
       "      <td>32.16</td>\n",
       "      <td>65112.0</td>\n",
       "      <td>112.0</td>\n",
       "      <td>15.365221</td>\n",
       "      <td>4.451743</td>\n",
       "      <td>14.0</td>\n",
       "      <td>20.3</td>\n",
       "      <td>1.3</td>\n",
       "      <td>159.0</td>\n",
       "      <td>1338518310</td>\n",
       "      <td>0.000046</td>\n",
       "      <td>15</td>\n",
       "      <td>0.001483</td>\n",
       "    </tr>\n",
       "  </tbody>\n",
       "</table>\n",
       "</div>"
      ],
      "text/plain": [
       "   id                                              title  \\\n",
       "0   1  The Stanford Mathematics Problem Book: With Hi...   \n",
       "1   2                                     Fourier Series   \n",
       "2   3               Probability Theory: A Concise Course   \n",
       "3   4  Vectors, Tensors and the Basic Equations of Fl...   \n",
       "4   5                    Ordinary Differential Equations   \n",
       "5   6            The Variational Principles of Mechanics   \n",
       "6   7                A First Look at Perturbation Theory   \n",
       "7   8  Thermodynamics and the Kinetic Theory of Gases...   \n",
       "8   9                                          Mechanics   \n",
       "9  10                         Statistical Thermodynamics   \n",
       "\n",
       "                                        url                       authors  \\\n",
       "0  https://www.amazon.com.br/dp/0486469247/         George Polya (Autor),   \n",
       "1  https://www.amazon.com.br/dp/0486633179/    Georgi P. Tolstov (Autor),   \n",
       "2  https://www.amazon.com.br/dp/0486635449/        Y. A. Rozanov (Autor),   \n",
       "3  https://www.amazon.com.br/dp/0486661105/      Rutherford Aris (Autor),   \n",
       "4  https://www.amazon.com.br/dp/0486649407/     Morris Tenenbaum (Autor),   \n",
       "5  https://www.amazon.com.br/dp/0486650677/    Cornelius Lanczos (Autor),   \n",
       "6  https://www.amazon.com.br/dp/0486675513/     James G. Simmonds (Autor)   \n",
       "7  https://www.amazon.com.br/dp/0486414612/       Wolfgang Pauli (Autor),   \n",
       "8  https://www.amazon.com.br/dp/0486607542/  Jacob P. Den Hartog (Autor),   \n",
       "9  https://www.amazon.com.br/dp/0486661016/    Erwin Schrodinger (Autor),   \n",
       "\n",
       "    coverType                publisher  edition          publicationDate  \\\n",
       "0  Capa comum       Dover Publications      NaN  19 de fevereiro de 2009   \n",
       "1  Capa comum       Dover Publications      NaN       1 de junho de 1976   \n",
       "2  Capa comum       Dover Publications      NaN                      NaN   \n",
       "3  Capa comum       Dover Publications      NaN                      NaN   \n",
       "4  Capa comum       Dover Publications      NaN                      NaN   \n",
       "5  Capa comum       Dover Publications      NaN                      NaN   \n",
       "6  Capa comum  Dover Publications Inc.      NaN                      NaN   \n",
       "7  Capa comum       Dover Publications      NaN    18 de outubro de 2010   \n",
       "8  Capa comum       Dover Publications      NaN       1 de junho de 1961   \n",
       "9  Capa comum       Dover Publications      NaN                      NaN   \n",
       "\n",
       "  rankingCategory category1                category2                category3  \\\n",
       "0          Livros    Livros  Inglês e Outras Línguas    Ciências Tecnológicas   \n",
       "1          Livros    Livros  Inglês e Outras Línguas    Ciências Tecnológicas   \n",
       "2          Livros    Livros  Inglês e Outras Línguas    Ciências Tecnológicas   \n",
       "3          Livros    Livros  Inglês e Outras Línguas  Engenharia e Transporte   \n",
       "4          Livros    Livros  Inglês e Outras Línguas    Ciências Tecnológicas   \n",
       "5          Livros    Livros  Inglês e Outras Línguas    Ciências Tecnológicas   \n",
       "6          Livros    Livros  Inglês e Outras Línguas    Ciências Tecnológicas   \n",
       "7          Livros    Livros  Inglês e Outras Línguas    Ciências Tecnológicas   \n",
       "8          Livros    Livros  Inglês e Outras Línguas    Ciências Tecnológicas   \n",
       "9          Livros    Livros  Inglês e Outras Línguas    Ciências Tecnológicas   \n",
       "\n",
       "    category4        category5                    category6 category7  \\\n",
       "0  Matemática  Estudo e Ensino                          NaN       NaN   \n",
       "1  Matemática         Aplicada  Probabilidade e Estatística       NaN   \n",
       "2  Matemática         Aplicada  Probabilidade e Estatística       NaN   \n",
       "3  Engenharia         Mecânica                   Hidráulica       NaN   \n",
       "4  Matemática         Aplicada        Equações Diferenciais       NaN   \n",
       "5      Física         Mecânica                          NaN       NaN   \n",
       "6  Matemática         Aplicada        Equações Diferenciais       NaN   \n",
       "7      Física         Dinâmica                Termodinâmica       NaN   \n",
       "8      Física         Mecânica                          NaN       NaN   \n",
       "9      Física         Dinâmica                Termodinâmica       NaN   \n",
       "\n",
       "   category8  category9  category10      isbn10          isbn13 language  \\\n",
       "0        NaN        NaN         NaN  0486469247  978-0486469249   Inglês   \n",
       "1        NaN        NaN         NaN  0486633179  978-0486633176   Inglês   \n",
       "2        NaN        NaN         NaN  0486635449  978-0486635446   Inglês   \n",
       "3        NaN        NaN         NaN  0486661105  978-0486661100   Inglês   \n",
       "4        NaN        NaN         NaN  0486649407  978-0486649405   Inglês   \n",
       "5        NaN        NaN         NaN  0486650677  978-0486650678   Inglês   \n",
       "6        NaN        NaN         NaN  0486675513  978-0486675510   Inglês   \n",
       "7        NaN        NaN         NaN  0486414612  978-0486414614   Inglês   \n",
       "8        NaN        NaN         NaN  0486607542  978-0486607542   Inglês   \n",
       "9        NaN        NaN         NaN  0486661016  978-0486661018   Inglês   \n",
       "\n",
       "   postProcessed  price  ranking  pages  reviewCount    rating  width  height  \\\n",
       "0              1  26.25  59183.0   68.0     1.000000  4.000000   14.0    21.0   \n",
       "1              1  50.37  56112.0  352.0     3.000000  4.600000   14.6    21.0   \n",
       "2              1  29.23  44345.0  160.0    15.365221  4.451743   14.4    20.8   \n",
       "3              1  48.79  82275.0  320.0     2.000000  4.500000   13.7    21.5   \n",
       "4              1  71.63  40840.0  848.0     4.000000  4.500000   13.8    21.8   \n",
       "5              1  88.15  36960.0  418.0     1.000000  5.000000   13.8    21.5   \n",
       "6              1  36.10  37291.0  160.0    15.365221  4.451743   13.7    21.5   \n",
       "7              1  26.01  24406.0  160.0     2.000000  5.000000   13.8    21.6   \n",
       "8              1  50.96  90609.0  480.0    15.365221  4.451743   13.6    20.3   \n",
       "9              1  32.16  65112.0  112.0    15.365221  4.451743   14.0    20.3   \n",
       "\n",
       "   depth  weight   sha256_id  eigenvector_centrality  degree  \\\n",
       "0    0.6   181.0  3564330554                0.000100      19   \n",
       "1    1.9   363.0  1309098117                0.000199      62   \n",
       "2    0.8   200.0  1260550007                0.000148      59   \n",
       "3    1.6   381.0  4012708477                0.000049      18   \n",
       "4    4.0   939.0  3891707921                0.000291      88   \n",
       "5    2.2   581.0  2030201243                0.000276      43   \n",
       "6    0.8   159.0   744636978                0.000032       9   \n",
       "7    1.0   159.0   425205287                0.000207      10   \n",
       "8    2.3   522.0  1246026773                0.000077      23   \n",
       "9    1.3   159.0  1338518310                0.000046      15   \n",
       "\n",
       "   betweenness_centrality  \n",
       "0                0.002135  \n",
       "1                0.001435  \n",
       "2                0.005487  \n",
       "3                0.001090  \n",
       "4                0.005314  \n",
       "5                0.002865  \n",
       "6                0.000260  \n",
       "7                0.002604  \n",
       "8                0.000583  \n",
       "9                0.001483  "
      ]
     },
     "execution_count": 14,
     "metadata": {},
     "output_type": "execute_result"
    }
   ],
   "source": [
    "df.head(10)"
   ]
  },
  {
   "cell_type": "markdown",
   "metadata": {
    "papermill": {
     "duration": 0.052331,
     "end_time": "2019-02-05T00:17:47.039727",
     "exception": false,
     "start_time": "2019-02-05T00:17:46.987396",
     "status": "completed"
    },
    "tags": []
   },
   "source": [
    "## Random forest using various features, price as target"
   ]
  },
  {
   "cell_type": "markdown",
   "metadata": {
    "papermill": {
     "duration": 0.044342,
     "end_time": "2019-02-05T00:17:47.127801",
     "exception": false,
     "start_time": "2019-02-05T00:17:47.083459",
     "status": "completed"
    },
    "tags": []
   },
   "source": [
    "### Preparing data"
   ]
  },
  {
   "cell_type": "code",
   "execution_count": 15,
   "metadata": {
    "papermill": {
     "duration": 3.747988,
     "end_time": "2019-02-05T00:17:50.921008",
     "exception": false,
     "start_time": "2019-02-05T00:17:47.173020",
     "status": "completed"
    },
    "tags": []
   },
   "outputs": [
    {
     "name": "stdout",
     "output_type": "stream",
     "text": [
      "Numeric features:  ['degree', 'eigenvector_centrality', 'betweenness_centrality', 'ranking', 'reviewCount', 'pages', 'weight', 'height', 'width', 'depth', 'rating']\n",
      "Categorical features:  ['category1', 'category2', 'category3', 'category4', 'category5', 'category6', 'category7', 'category8', 'category9', 'category10', 'language', 'coverType', 'publisher', 'rankingCategory', 'authors']\n",
      "Target column:  price\n"
     ]
    },
    {
     "name": "stdout",
     "output_type": "stream",
     "text": [
      "Test percentage:  0.200026849242\n",
      "Train features shape:  (5959, 6618)\n",
      "Train target shape:  (5959,)\n",
      "Test features shape:  (1490, 6618)\n",
      "Test target shape:  (1490,)\n"
     ]
    }
   ],
   "source": [
    "target, features, feature_list, test_features, test_target = shared_functions.prepare_datasets(df, numeric_features, categorical_features, 'price')"
   ]
  },
  {
   "cell_type": "markdown",
   "metadata": {
    "papermill": {
     "duration": 0.046667,
     "end_time": "2019-02-05T00:17:51.019343",
     "exception": false,
     "start_time": "2019-02-05T00:17:50.972676",
     "status": "completed"
    },
    "tags": []
   },
   "source": [
    "### Average price and median price as baselines"
   ]
  },
  {
   "cell_type": "markdown",
   "metadata": {
    "papermill": {
     "duration": 0.043839,
     "end_time": "2019-02-05T00:17:51.107319",
     "exception": false,
     "start_time": "2019-02-05T00:17:51.063480",
     "status": "completed"
    },
    "tags": []
   },
   "source": [
    "It's important to have a baseline, so we can validate our predictions after running our model. One easy choice for baseline is the average price of a book.\n",
    "\n",
    "We have an average price around R\\$43, so this means that a very easy prediction would be to always guess R$43 for the price of any book."
   ]
  },
  {
   "cell_type": "code",
   "execution_count": 16,
   "metadata": {
    "papermill": {
     "duration": 0.052273,
     "end_time": "2019-02-05T00:17:51.204031",
     "exception": false,
     "start_time": "2019-02-05T00:17:51.151758",
     "status": "completed"
    },
    "tags": []
   },
   "outputs": [
    {
     "name": "stdout",
     "output_type": "stream",
     "text": [
      "Average price: R$ 75.06735022654807\n",
      "Median parice; R$ 39.15\n"
     ]
    }
   ],
   "source": [
    "average_target = np.average(target)\n",
    "median_target = np.median(target)\n",
    "print \"Average price: R$\", average_target\n",
    "print \"Median parice; R$\", median_target"
   ]
  },
  {
   "cell_type": "markdown",
   "metadata": {
    "papermill": {
     "duration": 0.044153,
     "end_time": "2019-02-05T00:17:51.292973",
     "exception": false,
     "start_time": "2019-02-05T00:17:51.248820",
     "status": "completed"
    },
    "tags": []
   },
   "source": [
    "### Cross val"
   ]
  },
  {
   "cell_type": "markdown",
   "metadata": {
    "papermill": {
     "duration": 0.042847,
     "end_time": "2019-02-05T00:17:51.385710",
     "exception": false,
     "start_time": "2019-02-05T00:17:51.342863",
     "status": "completed"
    },
    "tags": []
   },
   "source": [
    "#### Run cross val"
   ]
  },
  {
   "cell_type": "code",
   "execution_count": null,
   "metadata": {
    "collapsed": true,
    "papermill": {
     "duration": null,
     "end_time": null,
     "exception": false,
     "start_time": "2019-02-05T00:17:51.429885",
     "status": "running"
    },
    "tags": []
   },
   "outputs": [],
   "source": [
    "estimators, splits, scores = shared_functions.run_cross_validation_regression(features, target, n_estimators)"
   ]
  },
  {
   "cell_type": "markdown",
   "metadata": {
    "papermill": {
     "duration": null,
     "end_time": null,
     "exception": null,
     "start_time": null,
     "status": "pending"
    },
    "tags": []
   },
   "source": [
    "#### Cross val score"
   ]
  },
  {
   "cell_type": "code",
   "execution_count": null,
   "metadata": {
    "papermill": {
     "duration": null,
     "end_time": null,
     "exception": null,
     "start_time": null,
     "status": "pending"
    },
    "tags": []
   },
   "outputs": [],
   "source": [
    "shared_functions.print_score_summary(scores)"
   ]
  },
  {
   "cell_type": "markdown",
   "metadata": {
    "papermill": {
     "duration": null,
     "end_time": null,
     "exception": null,
     "start_time": null,
     "status": "pending"
    },
    "tags": []
   },
   "source": [
    "####  List of most important features"
   ]
  },
  {
   "cell_type": "code",
   "execution_count": null,
   "metadata": {
    "papermill": {
     "duration": null,
     "end_time": null,
     "exception": null,
     "start_time": null,
     "status": "pending"
    },
    "tags": []
   },
   "outputs": [],
   "source": [
    "shared_functions.get_most_important_features(estimators, feature_list)"
   ]
  },
  {
   "cell_type": "markdown",
   "metadata": {
    "papermill": {
     "duration": null,
     "end_time": null,
     "exception": null,
     "start_time": null,
     "status": "pending"
    },
    "tags": []
   },
   "source": [
    "### Predicted price vs real price"
   ]
  },
  {
   "cell_type": "code",
   "execution_count": null,
   "metadata": {
    "papermill": {
     "duration": null,
     "end_time": null,
     "exception": null,
     "start_time": null,
     "status": "pending"
    },
    "tags": []
   },
   "outputs": [],
   "source": [
    "y_pred = shared_functions.get_all_predictions_from_splits(features, target, splits, estimators)                                                  \n",
    "shared_functions.plot_splits_predicted_vs_real(target, y_pred, title=u'Preço previsto pelo modelo vs. Preço real', xlabel=u'Preço real (R$)', ylabel=u'Preço previsto pelo modelo (R$)', legend=u'Preço previsto pelo modelo = Preço real', zoomY = 150)"
   ]
  },
  {
   "cell_type": "markdown",
   "metadata": {
    "papermill": {
     "duration": null,
     "end_time": null,
     "exception": null,
     "start_time": null,
     "status": "pending"
    },
    "tags": []
   },
   "source": [
    "### Mean absolute error"
   ]
  },
  {
   "cell_type": "markdown",
   "metadata": {
    "papermill": {
     "duration": null,
     "end_time": null,
     "exception": null,
     "start_time": null,
     "status": "pending"
    },
    "tags": []
   },
   "source": [
    "Now we can compare the errors obtained by our predictions against the errors provided by the baseline (average price). Our prediction errors should be less than the baseline errors to consider the model successful."
   ]
  },
  {
   "cell_type": "code",
   "execution_count": null,
   "metadata": {
    "papermill": {
     "duration": null,
     "end_time": null,
     "exception": null,
     "start_time": null,
     "status": "pending"
    },
    "tags": []
   },
   "outputs": [],
   "source": [
    "errors, errors_baseline, errors_relative, errors_baseline_relative, errors_baseline_median, errors_baseline_median_relative = shared_functions.print_mean_absolute_error(y_pred, target, average_target, median_target)"
   ]
  },
  {
   "cell_type": "markdown",
   "metadata": {
    "papermill": {
     "duration": null,
     "end_time": null,
     "exception": null,
     "start_time": null,
     "status": "pending"
    },
    "tags": []
   },
   "source": [
    "### Join data"
   ]
  },
  {
   "cell_type": "code",
   "execution_count": null,
   "metadata": {
    "collapsed": true,
    "papermill": {
     "duration": null,
     "end_time": null,
     "exception": null,
     "start_time": null,
     "status": "pending"
    },
    "tags": []
   },
   "outputs": [],
   "source": [
    "pd.set_option('display.max_columns', None)\n",
    "predicted_df, joined_predicted_df = shared_functions.join_predicted_df(df, features, target, y_pred, errors, errors_relative, errors_baseline, errors_baseline_relative, errors_baseline_median, errors_baseline_median_relative)"
   ]
  },
  {
   "cell_type": "markdown",
   "metadata": {
    "papermill": {
     "duration": null,
     "end_time": null,
     "exception": null,
     "start_time": null,
     "status": "pending"
    },
    "tags": []
   },
   "source": [
    "### Worst absolute predictions"
   ]
  },
  {
   "cell_type": "markdown",
   "metadata": {
    "papermill": {
     "duration": null,
     "end_time": null,
     "exception": null,
     "start_time": null,
     "status": "pending"
    },
    "tags": []
   },
   "source": [
    "Below we can inspect the rows with the biggest prediction error."
   ]
  },
  {
   "cell_type": "code",
   "execution_count": null,
   "metadata": {
    "papermill": {
     "duration": null,
     "end_time": null,
     "exception": null,
     "start_time": null,
     "status": "pending"
    },
    "tags": []
   },
   "outputs": [],
   "source": [
    "joined_predicted_df.sort_values('error', ascending = False).head(20)"
   ]
  },
  {
   "cell_type": "markdown",
   "metadata": {
    "papermill": {
     "duration": null,
     "end_time": null,
     "exception": null,
     "start_time": null,
     "status": "pending"
    },
    "tags": []
   },
   "source": [
    "### Worst relative predictions"
   ]
  },
  {
   "cell_type": "code",
   "execution_count": null,
   "metadata": {
    "papermill": {
     "duration": null,
     "end_time": null,
     "exception": null,
     "start_time": null,
     "status": "pending"
    },
    "scrolled": true,
    "tags": []
   },
   "outputs": [],
   "source": [
    "joined_predicted_df.sort_values('error_relative', ascending = False).head(20)"
   ]
  },
  {
   "cell_type": "markdown",
   "metadata": {
    "papermill": {
     "duration": null,
     "end_time": null,
     "exception": null,
     "start_time": null,
     "status": "pending"
    },
    "tags": []
   },
   "source": [
    "### Best absolute predictions"
   ]
  },
  {
   "cell_type": "code",
   "execution_count": null,
   "metadata": {
    "papermill": {
     "duration": null,
     "end_time": null,
     "exception": null,
     "start_time": null,
     "status": "pending"
    },
    "tags": []
   },
   "outputs": [],
   "source": [
    "joined_predicted_df.sort_values('error', ascending = True).head(20)"
   ]
  },
  {
   "cell_type": "markdown",
   "metadata": {
    "papermill": {
     "duration": null,
     "end_time": null,
     "exception": null,
     "start_time": null,
     "status": "pending"
    },
    "tags": []
   },
   "source": [
    "### Best relative predictions"
   ]
  },
  {
   "cell_type": "code",
   "execution_count": null,
   "metadata": {
    "papermill": {
     "duration": null,
     "end_time": null,
     "exception": null,
     "start_time": null,
     "status": "pending"
    },
    "tags": []
   },
   "outputs": [],
   "source": [
    "joined_predicted_df.sort_values('error', ascending = True).head(20)"
   ]
  },
  {
   "cell_type": "markdown",
   "metadata": {
    "papermill": {
     "duration": null,
     "end_time": null,
     "exception": null,
     "start_time": null,
     "status": "pending"
    },
    "tags": []
   },
   "source": [
    "### Relative errors distribution"
   ]
  },
  {
   "cell_type": "code",
   "execution_count": null,
   "metadata": {
    "papermill": {
     "duration": null,
     "end_time": null,
     "exception": null,
     "start_time": null,
     "status": "pending"
    },
    "tags": []
   },
   "outputs": [],
   "source": [
    "centers, normalized_hist_predicted, normalized_hist_baseline, normalized_hist_baseline_median = shared_functions.plot_relative_error_distribution(predicted_df)"
   ]
  },
  {
   "cell_type": "markdown",
   "metadata": {
    "papermill": {
     "duration": null,
     "end_time": null,
     "exception": null,
     "start_time": null,
     "status": "pending"
    },
    "tags": []
   },
   "source": [
    "#### Accumulated"
   ]
  },
  {
   "cell_type": "code",
   "execution_count": null,
   "metadata": {
    "papermill": {
     "duration": null,
     "end_time": null,
     "exception": null,
     "start_time": null,
     "status": "pending"
    },
    "tags": []
   },
   "outputs": [],
   "source": [
    "shared_functions.plot_accumulated_relative_error(centers, normalized_hist_predicted, normalized_hist_baseline, normalized_hist_baseline_median)"
   ]
  },
  {
   "cell_type": "markdown",
   "metadata": {
    "papermill": {
     "duration": null,
     "end_time": null,
     "exception": null,
     "start_time": null,
     "status": "pending"
    },
    "tags": []
   },
   "source": [
    "### Joined data summary"
   ]
  },
  {
   "cell_type": "code",
   "execution_count": null,
   "metadata": {
    "papermill": {
     "duration": null,
     "end_time": null,
     "exception": null,
     "start_time": null,
     "status": "pending"
    },
    "tags": []
   },
   "outputs": [],
   "source": [
    "joined_predicted_df.describe(percentiles=[0.25, 0.5, 0.75, 0.85, 0.9, 0.95, 0.99])"
   ]
  },
  {
   "cell_type": "markdown",
   "metadata": {
    "papermill": {
     "duration": null,
     "end_time": null,
     "exception": null,
     "start_time": null,
     "status": "pending"
    },
    "tags": []
   },
   "source": [
    "# Finished"
   ]
  },
  {
   "cell_type": "code",
   "execution_count": null,
   "metadata": {
    "papermill": {
     "duration": null,
     "end_time": null,
     "exception": null,
     "start_time": null,
     "status": "pending"
    },
    "tags": []
   },
   "outputs": [],
   "source": [
    "finished_at = time.time()\n",
    "duration = finished_at - started_at\n",
    "print \"Duração em segundos:\"\n",
    "print duration"
   ]
  },
  {
   "cell_type": "markdown",
   "metadata": {
    "papermill": {
     "duration": null,
     "end_time": null,
     "exception": null,
     "start_time": null,
     "status": "pending"
    },
    "tags": []
   },
   "source": [
    "<img src=\"files/image.png\">"
   ]
  }
 ],
 "metadata": {
  "kernelspec": {
   "display_name": "Python 2",
   "language": "python",
   "name": "python2"
  },
  "language_info": {
   "codemirror_mode": {
    "name": "ipython",
    "version": 2
   },
   "file_extension": ".py",
   "mimetype": "text/x-python",
   "name": "python",
   "nbconvert_exporter": "python",
   "pygments_lexer": "ipython2",
   "version": "2.7.15"
  },
  "papermill": {
   "duration": null,
   "end_time": null,
   "environment_variables": {},
   "exception": null,
   "input_path": "price_1_basic_analysis.ipynb",
   "output_path": "results/price_1_basic_analysis_40000_20_all.ipynb",
   "parameters": {
    "features": "all",
    "max_edges": 40000,
    "n_estimators": 20
   },
   "start_time": "2019-02-05T00:17:12.003120",
   "version": "0.17.1"
  },
  "toc": {
   "base_numbering": 1,
   "nav_menu": {
    "height": "591px",
    "width": "459px"
   },
   "number_sections": true,
   "sideBar": true,
   "skip_h1_title": false,
   "title_cell": "Table of Contents",
   "title_sidebar": "Contents",
   "toc_cell": false,
   "toc_position": {
    "height": "calc(100% - 180px)",
    "left": "10px",
    "top": "150px",
    "width": "384px"
   },
   "toc_section_display": true,
   "toc_window_display": true
  },
  "varInspector": {
   "cols": {
    "lenName": 16,
    "lenType": 16,
    "lenVar": 40
   },
   "kernels_config": {
    "python": {
     "delete_cmd_postfix": "",
     "delete_cmd_prefix": "del ",
     "library": "var_list.py",
     "varRefreshCmd": "print(var_dic_list())"
    },
    "r": {
     "delete_cmd_postfix": ") ",
     "delete_cmd_prefix": "rm(",
     "library": "var_list.r",
     "varRefreshCmd": "cat(var_dic_list()) "
    }
   },
   "position": {
    "height": "241px",
    "left": "1550px",
    "right": "20px",
    "top": "120px",
    "width": "353px"
   },
   "types_to_exclude": [
    "module",
    "function",
    "builtin_function_or_method",
    "instance",
    "_Feature"
   ],
   "window_display": false
  }
 },
 "nbformat": 4,
 "nbformat_minor": 2
}