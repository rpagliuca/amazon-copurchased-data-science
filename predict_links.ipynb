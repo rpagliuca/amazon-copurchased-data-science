{
 "cells": [
  {
   "cell_type": "markdown",
   "metadata": {},
   "source": [
    "# Amazon Copurchased"
   ]
  },
  {
   "cell_type": "markdown",
   "metadata": {},
   "source": [
    "This is a Python notebook created using \"jupyter\".\n",
    "\n",
    "Author: Rafael J. P. dos Santos"
   ]
  },
  {
   "cell_type": "markdown",
   "metadata": {},
   "source": [
    "## Parameters"
   ]
  },
  {
   "cell_type": "markdown",
   "metadata": {},
   "source": [
    "We use the parameter below to set the maximum number of edges to be read from the CSV containing edges (links)."
   ]
  },
  {
   "cell_type": "code",
   "execution_count": 1,
   "metadata": {
    "ExecuteTime": {
     "end_time": "2018-11-05T11:09:40.511343Z",
     "start_time": "2018-11-05T11:09:40.506262Z"
    },
    "cell_style": "center",
    "collapsed": true,
    "hide_input": false
   },
   "outputs": [],
   "source": [
    "max_edges = 15000 # Set quantity to read from file\n",
    "edges_csv_file = \"data/20180812_links\"\n",
    "nodes_csv_file = \"data/20180812_nodes\""
   ]
  },
  {
   "cell_type": "markdown",
   "metadata": {},
   "source": [
    "## Load the libraries"
   ]
  },
  {
   "cell_type": "markdown",
   "metadata": {},
   "source": [
    "Let's load the Python libraries that we will need throughout the script"
   ]
  },
  {
   "cell_type": "code",
   "execution_count": 2,
   "metadata": {
    "ExecuteTime": {
     "end_time": "2018-11-05T11:09:41.327186Z",
     "start_time": "2018-11-05T11:09:40.583873Z"
    },
    "collapsed": true
   },
   "outputs": [],
   "source": [
    "import networkx as nx\n",
    "import matplotlib.pyplot as plt\n",
    "import pandas as pd\n",
    "from sklearn.model_selection import train_test_split\n",
    "import numpy as np\n",
    "from sklearn.tree import export_graphviz\n",
    "import pydot\n",
    "from sklearn.ensemble import RandomForestRegressor\n",
    "from sklearn.ensemble import RandomForestClassifier\n",
    "from __future__ import division\n",
    "from functools import reduce\n",
    "import sklearn\n",
    "import itertools"
   ]
  },
  {
   "cell_type": "markdown",
   "metadata": {},
   "source": [
    "## Define some functions"
   ]
  },
  {
   "cell_type": "code",
   "execution_count": 3,
   "metadata": {
    "ExecuteTime": {
     "end_time": "2018-11-05T11:09:41.347623Z",
     "start_time": "2018-11-05T11:09:41.328981Z"
    },
    "collapsed": true
   },
   "outputs": [],
   "source": [
    "def plot_confusion_matrix(cm, classes,\n",
    "                          normalize=False,\n",
    "                          title='Confusion matrix',\n",
    "                          cmap=plt.cm.Blues):\n",
    "    \"\"\"\n",
    "    This function prints and plots the confusion matrix.\n",
    "    Normalization can be applied by setting `normalize=True`.\n",
    "    \"\"\"\n",
    "    if normalize:\n",
    "        cm = cm.astype('float') / cm.sum(axis=1)[:, np.newaxis]\n",
    "        print(\"Normalized confusion matrix\")\n",
    "    else:\n",
    "        print('Confusion matrix, without normalization')\n",
    "\n",
    "    print(cm)\n",
    "\n",
    "    plt.imshow(cm, interpolation='nearest', cmap=cmap)\n",
    "    plt.title(title)\n",
    "    plt.colorbar()\n",
    "    tick_marks = np.arange(len(classes))\n",
    "    plt.xticks(tick_marks, classes, rotation=45)\n",
    "    plt.yticks(tick_marks, classes)\n",
    "\n",
    "    fmt = '.2f' if normalize else 'd'\n",
    "    thresh = cm.max() / 2.\n",
    "    for i, j in itertools.product(range(cm.shape[0]), range(cm.shape[1])):\n",
    "        plt.text(j, i, format(cm[i, j], fmt),\n",
    "                 horizontalalignment=\"center\",\n",
    "                 color=\"white\" if cm[i, j] > thresh else \"black\")\n",
    "\n",
    "    plt.tight_layout()\n",
    "    plt.ylabel('True label')\n",
    "    plt.xlabel('Predicted label')"
   ]
  },
  {
   "cell_type": "markdown",
   "metadata": {},
   "source": [
    "## Read graph"
   ]
  },
  {
   "cell_type": "markdown",
   "metadata": {},
   "source": [
    "### Read only first lines of datafile"
   ]
  },
  {
   "cell_type": "markdown",
   "metadata": {},
   "source": [
    "Due to slowness in calculating centrality measures, we use the parameter provided in the beggining of the script to limit the number of edges we will read."
   ]
  },
  {
   "cell_type": "code",
   "execution_count": 4,
   "metadata": {
    "ExecuteTime": {
     "end_time": "2018-11-05T11:09:41.639608Z",
     "start_time": "2018-11-05T11:09:41.350287Z"
    },
    "collapsed": true
   },
   "outputs": [],
   "source": [
    "lines = []\n",
    "total_line_count = 0\n",
    "with open(edges_csv_file, 'rb') as f:\n",
    "    f.readline()   # skip first line / header\n",
    "    while True:\n",
    "        line = f.readline()\n",
    "        if not line:\n",
    "            break\n",
    "        if not (max_edges > 0 and len(lines) >= max_edges):\n",
    "            lines.append(line)\n",
    "        total_line_count += 1\n",
    "G = nx.parse_edgelist(lines, delimiter=',', nodetype=int)"
   ]
  },
  {
   "cell_type": "code",
   "execution_count": 5,
   "metadata": {
    "ExecuteTime": {
     "end_time": "2018-11-05T11:09:41.644658Z",
     "start_time": "2018-11-05T11:09:41.641243Z"
    }
   },
   "outputs": [
    {
     "name": "stdout",
     "output_type": "stream",
     "text": [
      "Using 15000 edges out of 229338 available (6.54% of data)\n"
     ]
    }
   ],
   "source": [
    "print \"Using %d edges out of %d available (%.2f%% of data)\" % (len(lines), total_line_count, len(lines)/total_line_count * 100)"
   ]
  },
  {
   "cell_type": "markdown",
   "metadata": {},
   "source": [
    "### Calculate nodes centrality measures"
   ]
  },
  {
   "cell_type": "markdown",
   "metadata": {},
   "source": [
    "Now that we have our NetworkX graph, let's calculate some centrality measures for every node."
   ]
  },
  {
   "cell_type": "code",
   "execution_count": 6,
   "metadata": {
    "ExecuteTime": {
     "end_time": "2018-11-05T11:09:41.674547Z",
     "start_time": "2018-11-05T11:09:41.646618Z"
    },
    "collapsed": true
   },
   "outputs": [],
   "source": [
    "centrality_measures = {}"
   ]
  },
  {
   "cell_type": "markdown",
   "metadata": {},
   "source": [
    "#### Degree"
   ]
  },
  {
   "cell_type": "code",
   "execution_count": 7,
   "metadata": {
    "ExecuteTime": {
     "end_time": "2018-11-05T11:09:41.701907Z",
     "start_time": "2018-11-05T11:09:41.676578Z"
    },
    "collapsed": true
   },
   "outputs": [],
   "source": [
    "centrality_measures[\"degree\"] = nx.degree(G)"
   ]
  },
  {
   "cell_type": "markdown",
   "metadata": {},
   "source": [
    "#### Eigenvector centrality"
   ]
  },
  {
   "cell_type": "code",
   "execution_count": 8,
   "metadata": {
    "ExecuteTime": {
     "end_time": "2018-11-05T11:09:41.831313Z",
     "start_time": "2018-11-05T11:09:41.703492Z"
    },
    "collapsed": true
   },
   "outputs": [],
   "source": [
    "centrality_measures[\"eigenvector_centrality\"] = nx.eigenvector_centrality_numpy(G)"
   ]
  },
  {
   "cell_type": "markdown",
   "metadata": {},
   "source": [
    "####  Approximate betweenness centrality (current flow)"
   ]
  },
  {
   "cell_type": "code",
   "execution_count": 9,
   "metadata": {
    "ExecuteTime": {
     "end_time": "2018-11-05T11:09:48.133494Z",
     "start_time": "2018-11-05T11:09:41.833478Z"
    },
    "collapsed": true
   },
   "outputs": [],
   "source": [
    "centrality_measures[\"betweenness_centrality\"] = nx.approximate_current_flow_betweenness_centrality(G)"
   ]
  },
  {
   "cell_type": "markdown",
   "metadata": {
    "deletable": false,
    "editable": false,
    "run_control": {
     "frozen": true
    }
   },
   "source": [
    "#### Closeness centrality"
   ]
  },
  {
   "cell_type": "code",
   "execution_count": 8,
   "metadata": {
    "ExecuteTime": {
     "end_time": "2018-08-12T14:15:29.579010Z",
     "start_time": "2018-08-12T14:09:40.277456Z"
    },
    "collapsed": true,
    "deletable": false,
    "editable": false,
    "run_control": {
     "frozen": true
    }
   },
   "outputs": [],
   "source": [
    "# Very slow!\n",
    "centrality_measures[\"closeness_centrality\"] = nx.closeness_centrality(G)"
   ]
  },
  {
   "cell_type": "markdown",
   "metadata": {
    "deletable": false,
    "editable": false,
    "run_control": {
     "frozen": true
    }
   },
   "source": [
    "#### Betweenness centrality"
   ]
  },
  {
   "cell_type": "code",
   "execution_count": 9,
   "metadata": {
    "ExecuteTime": {
     "end_time": "2018-08-12T14:30:59.943012Z",
     "start_time": "2018-08-12T14:15:29.580763Z"
    },
    "collapsed": true,
    "deletable": false,
    "editable": false,
    "run_control": {
     "frozen": true
    }
   },
   "outputs": [],
   "source": [
    "# Very slow!\n",
    "centrality_measures[\"betweenness_centrality\"] = nx.betweenness_centrality(G)"
   ]
  },
  {
   "cell_type": "markdown",
   "metadata": {},
   "source": [
    "#### Has link with node 1?"
   ]
  },
  {
   "cell_type": "code",
   "execution_count": 10,
   "metadata": {
    "ExecuteTime": {
     "end_time": "2018-11-05T11:09:48.167358Z",
     "start_time": "2018-11-05T11:09:48.137572Z"
    },
    "collapsed": true
   },
   "outputs": [],
   "source": [
    "def has_link_to_node(node):\n",
    "    return dict(map(lambda n: [n, reduce(lambda t, i: (t+1)%2 if i == node else t, nx.all_neighbors(G, n), 0)], G.nodes_iter()))\n",
    "\n",
    "centrality_measures['has_link_to_node_1'] = has_link_to_node(1)"
   ]
  },
  {
   "cell_type": "markdown",
   "metadata": {
    "collapsed": true
   },
   "source": [
    "### Load node properties"
   ]
  },
  {
   "cell_type": "markdown",
   "metadata": {},
   "source": [
    "Let's load the CSV containing the nodes data (title, price) into a Pandas dataframe, and append the centrality measures calculated above."
   ]
  },
  {
   "cell_type": "code",
   "execution_count": 11,
   "metadata": {
    "ExecuteTime": {
     "end_time": "2018-11-05T11:09:48.381160Z",
     "start_time": "2018-11-05T11:09:48.169880Z"
    },
    "collapsed": true
   },
   "outputs": [],
   "source": [
    "df = pd.read_csv(nodes_csv_file)"
   ]
  },
  {
   "cell_type": "code",
   "execution_count": 12,
   "metadata": {
    "ExecuteTime": {
     "end_time": "2018-11-05T11:09:48.522268Z",
     "start_time": "2018-11-05T11:09:48.382948Z"
    },
    "collapsed": true
   },
   "outputs": [],
   "source": [
    "# Add columns to dataframe\n",
    "def merge_columns(dataframe, data):\n",
    "    df = dataframe.copy()\n",
    "    for col in data:\n",
    "        rows = []\n",
    "        for item in data[col].items():\n",
    "            rows.append({\"id\": item[0], col: item[1]})\n",
    "        df = df.merge(pd.DataFrame(rows))\n",
    "    return df\n",
    "\n",
    "df = merge_columns(df, centrality_measures)"
   ]
  },
  {
   "cell_type": "markdown",
   "metadata": {},
   "source": [
    "### Let's convert some fields to numeric"
   ]
  },
  {
   "cell_type": "code",
   "execution_count": 13,
   "metadata": {
    "ExecuteTime": {
     "end_time": "2018-11-05T11:09:48.606083Z",
     "start_time": "2018-11-05T11:09:48.524620Z"
    },
    "collapsed": true
   },
   "outputs": [],
   "source": [
    "categorical_features = [\n",
    "    'category1',\n",
    "    'category2',\n",
    "    'category3',\n",
    "    'category4',\n",
    "    'category5',\n",
    "    'category6',\n",
    "    'category7',\n",
    "    'category8',\n",
    "    'category9',\n",
    "    'category10',\n",
    "    'language',\n",
    "    'coverType',\n",
    "    'publisher',\n",
    "    'rankingCategory'\n",
    "]\n",
    "\n",
    "numeric_features = [\n",
    "    'degree',\n",
    "    'eigenvector_centrality',\n",
    "    #'closeness_centrality',\n",
    "    'betweenness_centrality',\n",
    "    'ranking',\n",
    "    'reviewCount',\n",
    "    'pages',\n",
    "    'weight',\n",
    "    'height',\n",
    "    'width',\n",
    "    'depth',\n",
    "    'rating'\n",
    "]\n",
    "\n",
    "df = df.replace(\"<<MISSING_DATA>>\", np.NaN)\n",
    "df[numeric_features] = df[numeric_features].apply(pd.to_numeric)\n",
    "df[['price']] = df[['price']].apply(pd.to_numeric)\n",
    "\n",
    "for feature in numeric_features:\n",
    "    df[feature].fillna(df[feature].mean(), inplace = True)"
   ]
  },
  {
   "cell_type": "markdown",
   "metadata": {},
   "source": [
    "### Remove nodes without price and outliers"
   ]
  },
  {
   "cell_type": "code",
   "execution_count": 14,
   "metadata": {
    "ExecuteTime": {
     "end_time": "2018-11-05T11:09:48.621470Z",
     "start_time": "2018-11-05T11:09:48.607458Z"
    },
    "collapsed": true
   },
   "outputs": [],
   "source": [
    "df = df.drop(df[df[\"price\"].isnull()].index)\n",
    "df = df.drop(df[df[\"price\"] > 500].index)"
   ]
  },
  {
   "cell_type": "markdown",
   "metadata": {},
   "source": [
    "### Inspect columns"
   ]
  },
  {
   "cell_type": "code",
   "execution_count": 15,
   "metadata": {
    "ExecuteTime": {
     "end_time": "2018-11-05T11:09:48.667098Z",
     "start_time": "2018-11-05T11:09:48.624632Z"
    }
   },
   "outputs": [
    {
     "data": {
      "text/plain": [
       "Index([u'id', u'title', u'url', u'authors', u'coverType', u'publisher',\n",
       "       u'edition', u'publicationDate', u'rankingCategory', u'category1',\n",
       "       u'category2', u'category3', u'category4', u'category5', u'category6',\n",
       "       u'category7', u'category8', u'category9', u'category10', u'isbn10',\n",
       "       u'isbn13', u'language', u'postProcessed', u'price', u'ranking',\n",
       "       u'pages', u'reviewCount', u'rating', u'width', u'height', u'depth',\n",
       "       u'weight', u'has_link_to_node_1', u'eigenvector_centrality', u'degree',\n",
       "       u'betweenness_centrality'],\n",
       "      dtype='object')"
      ]
     },
     "execution_count": 15,
     "metadata": {},
     "output_type": "execute_result"
    }
   ],
   "source": [
    "df.columns"
   ]
  },
  {
   "cell_type": "markdown",
   "metadata": {},
   "source": [
    "### Features summary"
   ]
  },
  {
   "cell_type": "markdown",
   "metadata": {},
   "source": [
    "Below we have a summary of the Pandas dataframe. We can see the number of nodes that we are actually analyzing, which depends on the max_edges parameter defined before."
   ]
  },
  {
   "cell_type": "code",
   "execution_count": 16,
   "metadata": {
    "ExecuteTime": {
     "end_time": "2018-11-05T11:09:48.840740Z",
     "start_time": "2018-11-05T11:09:48.669088Z"
    }
   },
   "outputs": [
    {
     "data": {
      "text/html": [
       "<div>\n",
       "<style scoped>\n",
       "    .dataframe tbody tr th:only-of-type {\n",
       "        vertical-align: middle;\n",
       "    }\n",
       "\n",
       "    .dataframe tbody tr th {\n",
       "        vertical-align: top;\n",
       "    }\n",
       "\n",
       "    .dataframe thead th {\n",
       "        text-align: right;\n",
       "    }\n",
       "</style>\n",
       "<table border=\"1\" class=\"dataframe\">\n",
       "  <thead>\n",
       "    <tr style=\"text-align: right;\">\n",
       "      <th></th>\n",
       "      <th>id</th>\n",
       "      <th>title</th>\n",
       "      <th>url</th>\n",
       "      <th>authors</th>\n",
       "      <th>coverType</th>\n",
       "      <th>publisher</th>\n",
       "      <th>edition</th>\n",
       "      <th>publicationDate</th>\n",
       "      <th>rankingCategory</th>\n",
       "      <th>category1</th>\n",
       "      <th>...</th>\n",
       "      <th>reviewCount</th>\n",
       "      <th>rating</th>\n",
       "      <th>width</th>\n",
       "      <th>height</th>\n",
       "      <th>depth</th>\n",
       "      <th>weight</th>\n",
       "      <th>has_link_to_node_1</th>\n",
       "      <th>eigenvector_centrality</th>\n",
       "      <th>degree</th>\n",
       "      <th>betweenness_centrality</th>\n",
       "    </tr>\n",
       "  </thead>\n",
       "  <tbody>\n",
       "    <tr>\n",
       "      <th>count</th>\n",
       "      <td>3070.000000</td>\n",
       "      <td>3070</td>\n",
       "      <td>3070</td>\n",
       "      <td>3070</td>\n",
       "      <td>3045</td>\n",
       "      <td>3045</td>\n",
       "      <td>0.0</td>\n",
       "      <td>346</td>\n",
       "      <td>2922</td>\n",
       "      <td>2882</td>\n",
       "      <td>...</td>\n",
       "      <td>3070.000000</td>\n",
       "      <td>3070.000000</td>\n",
       "      <td>3070.000000</td>\n",
       "      <td>3070.000000</td>\n",
       "      <td>3070.000000</td>\n",
       "      <td>3070.000000</td>\n",
       "      <td>3070.000000</td>\n",
       "      <td>3.070000e+03</td>\n",
       "      <td>3070.000000</td>\n",
       "      <td>3070.000000</td>\n",
       "    </tr>\n",
       "    <tr>\n",
       "      <th>unique</th>\n",
       "      <td>NaN</td>\n",
       "      <td>3014</td>\n",
       "      <td>3070</td>\n",
       "      <td>2319</td>\n",
       "      <td>8</td>\n",
       "      <td>382</td>\n",
       "      <td>NaN</td>\n",
       "      <td>287</td>\n",
       "      <td>1</td>\n",
       "      <td>1</td>\n",
       "      <td>...</td>\n",
       "      <td>NaN</td>\n",
       "      <td>NaN</td>\n",
       "      <td>NaN</td>\n",
       "      <td>NaN</td>\n",
       "      <td>NaN</td>\n",
       "      <td>NaN</td>\n",
       "      <td>NaN</td>\n",
       "      <td>NaN</td>\n",
       "      <td>NaN</td>\n",
       "      <td>NaN</td>\n",
       "    </tr>\n",
       "    <tr>\n",
       "      <th>top</th>\n",
       "      <td>NaN</td>\n",
       "      <td>Macroeconomia</td>\n",
       "      <td>https://www.amazon.com.br/dp/9724418553/</td>\n",
       "      <td>Vários Autores (Autor)</td>\n",
       "      <td>Capa comum</td>\n",
       "      <td>Companhia das Letras</td>\n",
       "      <td>NaN</td>\n",
       "      <td>1 de janeiro de 2014</td>\n",
       "      <td>Livros</td>\n",
       "      <td>Livros</td>\n",
       "      <td>...</td>\n",
       "      <td>NaN</td>\n",
       "      <td>NaN</td>\n",
       "      <td>NaN</td>\n",
       "      <td>NaN</td>\n",
       "      <td>NaN</td>\n",
       "      <td>NaN</td>\n",
       "      <td>NaN</td>\n",
       "      <td>NaN</td>\n",
       "      <td>NaN</td>\n",
       "      <td>NaN</td>\n",
       "    </tr>\n",
       "    <tr>\n",
       "      <th>freq</th>\n",
       "      <td>NaN</td>\n",
       "      <td>5</td>\n",
       "      <td>1</td>\n",
       "      <td>33</td>\n",
       "      <td>2629</td>\n",
       "      <td>192</td>\n",
       "      <td>NaN</td>\n",
       "      <td>5</td>\n",
       "      <td>2922</td>\n",
       "      <td>2882</td>\n",
       "      <td>...</td>\n",
       "      <td>NaN</td>\n",
       "      <td>NaN</td>\n",
       "      <td>NaN</td>\n",
       "      <td>NaN</td>\n",
       "      <td>NaN</td>\n",
       "      <td>NaN</td>\n",
       "      <td>NaN</td>\n",
       "      <td>NaN</td>\n",
       "      <td>NaN</td>\n",
       "      <td>NaN</td>\n",
       "    </tr>\n",
       "    <tr>\n",
       "      <th>mean</th>\n",
       "      <td>2465.511075</td>\n",
       "      <td>NaN</td>\n",
       "      <td>NaN</td>\n",
       "      <td>NaN</td>\n",
       "      <td>NaN</td>\n",
       "      <td>NaN</td>\n",
       "      <td>NaN</td>\n",
       "      <td>NaN</td>\n",
       "      <td>NaN</td>\n",
       "      <td>NaN</td>\n",
       "      <td>...</td>\n",
       "      <td>13.951694</td>\n",
       "      <td>4.469695</td>\n",
       "      <td>15.464900</td>\n",
       "      <td>22.448944</td>\n",
       "      <td>2.147453</td>\n",
       "      <td>441.911335</td>\n",
       "      <td>0.005863</td>\n",
       "      <td>4.059117e-03</td>\n",
       "      <td>7.702606</td>\n",
       "      <td>0.002646</td>\n",
       "    </tr>\n",
       "    <tr>\n",
       "      <th>std</th>\n",
       "      <td>2176.371452</td>\n",
       "      <td>NaN</td>\n",
       "      <td>NaN</td>\n",
       "      <td>NaN</td>\n",
       "      <td>NaN</td>\n",
       "      <td>NaN</td>\n",
       "      <td>NaN</td>\n",
       "      <td>NaN</td>\n",
       "      <td>NaN</td>\n",
       "      <td>NaN</td>\n",
       "      <td>...</td>\n",
       "      <td>34.035873</td>\n",
       "      <td>0.534578</td>\n",
       "      <td>2.570196</td>\n",
       "      <td>2.584363</td>\n",
       "      <td>1.202483</td>\n",
       "      <td>205.124700</td>\n",
       "      <td>0.076359</td>\n",
       "      <td>1.587279e-02</td>\n",
       "      <td>17.326353</td>\n",
       "      <td>0.008421</td>\n",
       "    </tr>\n",
       "    <tr>\n",
       "      <th>min</th>\n",
       "      <td>1.000000</td>\n",
       "      <td>NaN</td>\n",
       "      <td>NaN</td>\n",
       "      <td>NaN</td>\n",
       "      <td>NaN</td>\n",
       "      <td>NaN</td>\n",
       "      <td>NaN</td>\n",
       "      <td>NaN</td>\n",
       "      <td>NaN</td>\n",
       "      <td>NaN</td>\n",
       "      <td>...</td>\n",
       "      <td>1.000000</td>\n",
       "      <td>1.000000</td>\n",
       "      <td>2.600000</td>\n",
       "      <td>10.000000</td>\n",
       "      <td>0.200000</td>\n",
       "      <td>18.100000</td>\n",
       "      <td>0.000000</td>\n",
       "      <td>5.842757e-08</td>\n",
       "      <td>1.000000</td>\n",
       "      <td>0.000000</td>\n",
       "    </tr>\n",
       "    <tr>\n",
       "      <th>25%</th>\n",
       "      <td>896.250000</td>\n",
       "      <td>NaN</td>\n",
       "      <td>NaN</td>\n",
       "      <td>NaN</td>\n",
       "      <td>NaN</td>\n",
       "      <td>NaN</td>\n",
       "      <td>NaN</td>\n",
       "      <td>NaN</td>\n",
       "      <td>NaN</td>\n",
       "      <td>NaN</td>\n",
       "      <td>...</td>\n",
       "      <td>2.000000</td>\n",
       "      <td>4.473275</td>\n",
       "      <td>13.800000</td>\n",
       "      <td>20.800000</td>\n",
       "      <td>1.400000</td>\n",
       "      <td>299.000000</td>\n",
       "      <td>0.000000</td>\n",
       "      <td>4.509963e-06</td>\n",
       "      <td>1.000000</td>\n",
       "      <td>0.000000</td>\n",
       "    </tr>\n",
       "    <tr>\n",
       "      <th>50%</th>\n",
       "      <td>2100.000000</td>\n",
       "      <td>NaN</td>\n",
       "      <td>NaN</td>\n",
       "      <td>NaN</td>\n",
       "      <td>NaN</td>\n",
       "      <td>NaN</td>\n",
       "      <td>NaN</td>\n",
       "      <td>NaN</td>\n",
       "      <td>NaN</td>\n",
       "      <td>NaN</td>\n",
       "      <td>...</td>\n",
       "      <td>9.000000</td>\n",
       "      <td>4.473275</td>\n",
       "      <td>15.500000</td>\n",
       "      <td>22.800000</td>\n",
       "      <td>2.000000</td>\n",
       "      <td>449.233179</td>\n",
       "      <td>0.000000</td>\n",
       "      <td>1.322924e-05</td>\n",
       "      <td>2.000000</td>\n",
       "      <td>0.000237</td>\n",
       "    </tr>\n",
       "    <tr>\n",
       "      <th>75%</th>\n",
       "      <td>3215.750000</td>\n",
       "      <td>NaN</td>\n",
       "      <td>NaN</td>\n",
       "      <td>NaN</td>\n",
       "      <td>NaN</td>\n",
       "      <td>NaN</td>\n",
       "      <td>NaN</td>\n",
       "      <td>NaN</td>\n",
       "      <td>NaN</td>\n",
       "      <td>NaN</td>\n",
       "      <td>...</td>\n",
       "      <td>13.873001</td>\n",
       "      <td>4.900000</td>\n",
       "      <td>16.200000</td>\n",
       "      <td>23.400000</td>\n",
       "      <td>2.600000</td>\n",
       "      <td>544.000000</td>\n",
       "      <td>0.000000</td>\n",
       "      <td>1.293926e-04</td>\n",
       "      <td>5.000000</td>\n",
       "      <td>0.001897</td>\n",
       "    </tr>\n",
       "    <tr>\n",
       "      <th>max</th>\n",
       "      <td>9996.000000</td>\n",
       "      <td>NaN</td>\n",
       "      <td>NaN</td>\n",
       "      <td>NaN</td>\n",
       "      <td>NaN</td>\n",
       "      <td>NaN</td>\n",
       "      <td>NaN</td>\n",
       "      <td>NaN</td>\n",
       "      <td>NaN</td>\n",
       "      <td>NaN</td>\n",
       "      <td>...</td>\n",
       "      <td>755.000000</td>\n",
       "      <td>5.000000</td>\n",
       "      <td>30.400000</td>\n",
       "      <td>37.800000</td>\n",
       "      <td>16.000000</td>\n",
       "      <td>998.000000</td>\n",
       "      <td>1.000000</td>\n",
       "      <td>1.928515e-01</td>\n",
       "      <td>198.000000</td>\n",
       "      <td>0.143284</td>\n",
       "    </tr>\n",
       "  </tbody>\n",
       "</table>\n",
       "<p>11 rows × 36 columns</p>\n",
       "</div>"
      ],
      "text/plain": [
       "                 id          title                                       url  \\\n",
       "count   3070.000000           3070                                      3070   \n",
       "unique          NaN           3014                                      3070   \n",
       "top             NaN  Macroeconomia  https://www.amazon.com.br/dp/9724418553/   \n",
       "freq            NaN              5                                         1   \n",
       "mean    2465.511075            NaN                                       NaN   \n",
       "std     2176.371452            NaN                                       NaN   \n",
       "min        1.000000            NaN                                       NaN   \n",
       "25%      896.250000            NaN                                       NaN   \n",
       "50%     2100.000000            NaN                                       NaN   \n",
       "75%     3215.750000            NaN                                       NaN   \n",
       "max     9996.000000            NaN                                       NaN   \n",
       "\n",
       "                       authors   coverType             publisher  edition  \\\n",
       "count                     3070        3045                  3045      0.0   \n",
       "unique                    2319           8                   382      NaN   \n",
       "top     Vários Autores (Autor)  Capa comum  Companhia das Letras      NaN   \n",
       "freq                        33        2629                   192      NaN   \n",
       "mean                       NaN         NaN                   NaN      NaN   \n",
       "std                        NaN         NaN                   NaN      NaN   \n",
       "min                        NaN         NaN                   NaN      NaN   \n",
       "25%                        NaN         NaN                   NaN      NaN   \n",
       "50%                        NaN         NaN                   NaN      NaN   \n",
       "75%                        NaN         NaN                   NaN      NaN   \n",
       "max                        NaN         NaN                   NaN      NaN   \n",
       "\n",
       "             publicationDate rankingCategory category1          ...            \\\n",
       "count                    346            2922      2882          ...             \n",
       "unique                   287               1         1          ...             \n",
       "top     1 de janeiro de 2014          Livros    Livros          ...             \n",
       "freq                       5            2922      2882          ...             \n",
       "mean                     NaN             NaN       NaN          ...             \n",
       "std                      NaN             NaN       NaN          ...             \n",
       "min                      NaN             NaN       NaN          ...             \n",
       "25%                      NaN             NaN       NaN          ...             \n",
       "50%                      NaN             NaN       NaN          ...             \n",
       "75%                      NaN             NaN       NaN          ...             \n",
       "max                      NaN             NaN       NaN          ...             \n",
       "\n",
       "        reviewCount       rating        width       height        depth  \\\n",
       "count   3070.000000  3070.000000  3070.000000  3070.000000  3070.000000   \n",
       "unique          NaN          NaN          NaN          NaN          NaN   \n",
       "top             NaN          NaN          NaN          NaN          NaN   \n",
       "freq            NaN          NaN          NaN          NaN          NaN   \n",
       "mean      13.951694     4.469695    15.464900    22.448944     2.147453   \n",
       "std       34.035873     0.534578     2.570196     2.584363     1.202483   \n",
       "min        1.000000     1.000000     2.600000    10.000000     0.200000   \n",
       "25%        2.000000     4.473275    13.800000    20.800000     1.400000   \n",
       "50%        9.000000     4.473275    15.500000    22.800000     2.000000   \n",
       "75%       13.873001     4.900000    16.200000    23.400000     2.600000   \n",
       "max      755.000000     5.000000    30.400000    37.800000    16.000000   \n",
       "\n",
       "             weight  has_link_to_node_1  eigenvector_centrality       degree  \\\n",
       "count   3070.000000         3070.000000            3.070000e+03  3070.000000   \n",
       "unique          NaN                 NaN                     NaN          NaN   \n",
       "top             NaN                 NaN                     NaN          NaN   \n",
       "freq            NaN                 NaN                     NaN          NaN   \n",
       "mean     441.911335            0.005863            4.059117e-03     7.702606   \n",
       "std      205.124700            0.076359            1.587279e-02    17.326353   \n",
       "min       18.100000            0.000000            5.842757e-08     1.000000   \n",
       "25%      299.000000            0.000000            4.509963e-06     1.000000   \n",
       "50%      449.233179            0.000000            1.322924e-05     2.000000   \n",
       "75%      544.000000            0.000000            1.293926e-04     5.000000   \n",
       "max      998.000000            1.000000            1.928515e-01   198.000000   \n",
       "\n",
       "       betweenness_centrality  \n",
       "count             3070.000000  \n",
       "unique                    NaN  \n",
       "top                       NaN  \n",
       "freq                      NaN  \n",
       "mean                 0.002646  \n",
       "std                  0.008421  \n",
       "min                  0.000000  \n",
       "25%                  0.000000  \n",
       "50%                  0.000237  \n",
       "75%                  0.001897  \n",
       "max                  0.143284  \n",
       "\n",
       "[11 rows x 36 columns]"
      ]
     },
     "execution_count": 16,
     "metadata": {},
     "output_type": "execute_result"
    }
   ],
   "source": [
    "df.describe(include='all')"
   ]
  },
  {
   "cell_type": "markdown",
   "metadata": {},
   "source": [
    "Below we can inspect the first rows of data, containing title, price, degree and other centrality measures."
   ]
  },
  {
   "cell_type": "code",
   "execution_count": 17,
   "metadata": {
    "ExecuteTime": {
     "end_time": "2018-11-05T11:09:48.894537Z",
     "start_time": "2018-11-05T11:09:48.842275Z"
    }
   },
   "outputs": [
    {
     "data": {
      "text/html": [
       "<div>\n",
       "<style scoped>\n",
       "    .dataframe tbody tr th:only-of-type {\n",
       "        vertical-align: middle;\n",
       "    }\n",
       "\n",
       "    .dataframe tbody tr th {\n",
       "        vertical-align: top;\n",
       "    }\n",
       "\n",
       "    .dataframe thead th {\n",
       "        text-align: right;\n",
       "    }\n",
       "</style>\n",
       "<table border=\"1\" class=\"dataframe\">\n",
       "  <thead>\n",
       "    <tr style=\"text-align: right;\">\n",
       "      <th></th>\n",
       "      <th>id</th>\n",
       "      <th>title</th>\n",
       "      <th>url</th>\n",
       "      <th>authors</th>\n",
       "      <th>coverType</th>\n",
       "      <th>publisher</th>\n",
       "      <th>edition</th>\n",
       "      <th>publicationDate</th>\n",
       "      <th>rankingCategory</th>\n",
       "      <th>category1</th>\n",
       "      <th>...</th>\n",
       "      <th>reviewCount</th>\n",
       "      <th>rating</th>\n",
       "      <th>width</th>\n",
       "      <th>height</th>\n",
       "      <th>depth</th>\n",
       "      <th>weight</th>\n",
       "      <th>has_link_to_node_1</th>\n",
       "      <th>eigenvector_centrality</th>\n",
       "      <th>degree</th>\n",
       "      <th>betweenness_centrality</th>\n",
       "    </tr>\n",
       "  </thead>\n",
       "  <tbody>\n",
       "    <tr>\n",
       "      <th>0</th>\n",
       "      <td>1</td>\n",
       "      <td>The Stanford Mathematics Problem Book: With Hi...</td>\n",
       "      <td>https://www.amazon.com.br/dp/0486469247/</td>\n",
       "      <td>George Polya (Autor),</td>\n",
       "      <td>Capa comum</td>\n",
       "      <td>Dover Publications</td>\n",
       "      <td>NaN</td>\n",
       "      <td>19 de fevereiro de 2009</td>\n",
       "      <td>Livros</td>\n",
       "      <td>Livros</td>\n",
       "      <td>...</td>\n",
       "      <td>1.000000</td>\n",
       "      <td>4.000000</td>\n",
       "      <td>14.0</td>\n",
       "      <td>21.0</td>\n",
       "      <td>0.6</td>\n",
       "      <td>181.0</td>\n",
       "      <td>0</td>\n",
       "      <td>0.012593</td>\n",
       "      <td>19</td>\n",
       "      <td>0.004650</td>\n",
       "    </tr>\n",
       "    <tr>\n",
       "      <th>1</th>\n",
       "      <td>2</td>\n",
       "      <td>Fourier Series</td>\n",
       "      <td>https://www.amazon.com.br/dp/0486633179/</td>\n",
       "      <td>Georgi P. Tolstov (Autor),</td>\n",
       "      <td>Capa comum</td>\n",
       "      <td>Dover Publications</td>\n",
       "      <td>NaN</td>\n",
       "      <td>1 de junho de 1976</td>\n",
       "      <td>Livros</td>\n",
       "      <td>Livros</td>\n",
       "      <td>...</td>\n",
       "      <td>3.000000</td>\n",
       "      <td>4.600000</td>\n",
       "      <td>14.6</td>\n",
       "      <td>21.0</td>\n",
       "      <td>1.9</td>\n",
       "      <td>363.0</td>\n",
       "      <td>1</td>\n",
       "      <td>0.053497</td>\n",
       "      <td>62</td>\n",
       "      <td>0.002308</td>\n",
       "    </tr>\n",
       "    <tr>\n",
       "      <th>2</th>\n",
       "      <td>3</td>\n",
       "      <td>Probability Theory: A Concise Course</td>\n",
       "      <td>https://www.amazon.com.br/dp/0486635449/</td>\n",
       "      <td>Y. A. Rozanov (Autor),</td>\n",
       "      <td>Capa comum</td>\n",
       "      <td>Dover Publications</td>\n",
       "      <td>NaN</td>\n",
       "      <td>NaN</td>\n",
       "      <td>Livros</td>\n",
       "      <td>Livros</td>\n",
       "      <td>...</td>\n",
       "      <td>13.873001</td>\n",
       "      <td>4.473275</td>\n",
       "      <td>14.4</td>\n",
       "      <td>20.8</td>\n",
       "      <td>0.8</td>\n",
       "      <td>200.0</td>\n",
       "      <td>1</td>\n",
       "      <td>0.034535</td>\n",
       "      <td>59</td>\n",
       "      <td>0.005629</td>\n",
       "    </tr>\n",
       "    <tr>\n",
       "      <th>3</th>\n",
       "      <td>4</td>\n",
       "      <td>Vectors, Tensors and the Basic Equations of Fl...</td>\n",
       "      <td>https://www.amazon.com.br/dp/0486661105/</td>\n",
       "      <td>Rutherford Aris (Autor),</td>\n",
       "      <td>Capa comum</td>\n",
       "      <td>Dover Publications</td>\n",
       "      <td>NaN</td>\n",
       "      <td>NaN</td>\n",
       "      <td>Livros</td>\n",
       "      <td>Livros</td>\n",
       "      <td>...</td>\n",
       "      <td>2.000000</td>\n",
       "      <td>4.500000</td>\n",
       "      <td>13.7</td>\n",
       "      <td>21.5</td>\n",
       "      <td>1.6</td>\n",
       "      <td>381.0</td>\n",
       "      <td>1</td>\n",
       "      <td>0.011868</td>\n",
       "      <td>18</td>\n",
       "      <td>0.002832</td>\n",
       "    </tr>\n",
       "    <tr>\n",
       "      <th>4</th>\n",
       "      <td>5</td>\n",
       "      <td>Ordinary Differential Equations</td>\n",
       "      <td>https://www.amazon.com.br/dp/0486649407/</td>\n",
       "      <td>Morris Tenenbaum (Autor),</td>\n",
       "      <td>Capa comum</td>\n",
       "      <td>Dover Publications</td>\n",
       "      <td>NaN</td>\n",
       "      <td>NaN</td>\n",
       "      <td>Livros</td>\n",
       "      <td>Livros</td>\n",
       "      <td>...</td>\n",
       "      <td>4.000000</td>\n",
       "      <td>4.500000</td>\n",
       "      <td>13.8</td>\n",
       "      <td>21.8</td>\n",
       "      <td>4.0</td>\n",
       "      <td>939.0</td>\n",
       "      <td>0</td>\n",
       "      <td>0.074795</td>\n",
       "      <td>88</td>\n",
       "      <td>0.011057</td>\n",
       "    </tr>\n",
       "    <tr>\n",
       "      <th>5</th>\n",
       "      <td>6</td>\n",
       "      <td>The Variational Principles of Mechanics</td>\n",
       "      <td>https://www.amazon.com.br/dp/0486650677/</td>\n",
       "      <td>Cornelius Lanczos (Autor),</td>\n",
       "      <td>Capa comum</td>\n",
       "      <td>Dover Publications</td>\n",
       "      <td>NaN</td>\n",
       "      <td>NaN</td>\n",
       "      <td>Livros</td>\n",
       "      <td>Livros</td>\n",
       "      <td>...</td>\n",
       "      <td>1.000000</td>\n",
       "      <td>5.000000</td>\n",
       "      <td>13.8</td>\n",
       "      <td>21.5</td>\n",
       "      <td>2.2</td>\n",
       "      <td>581.0</td>\n",
       "      <td>0</td>\n",
       "      <td>0.050004</td>\n",
       "      <td>43</td>\n",
       "      <td>0.010446</td>\n",
       "    </tr>\n",
       "    <tr>\n",
       "      <th>6</th>\n",
       "      <td>7</td>\n",
       "      <td>A First Look at Perturbation Theory</td>\n",
       "      <td>https://www.amazon.com.br/dp/0486675513/</td>\n",
       "      <td>James G. Simmonds (Autor)</td>\n",
       "      <td>Capa comum</td>\n",
       "      <td>Dover Publications Inc.</td>\n",
       "      <td>NaN</td>\n",
       "      <td>NaN</td>\n",
       "      <td>Livros</td>\n",
       "      <td>Livros</td>\n",
       "      <td>...</td>\n",
       "      <td>13.873001</td>\n",
       "      <td>4.473275</td>\n",
       "      <td>13.7</td>\n",
       "      <td>21.5</td>\n",
       "      <td>0.8</td>\n",
       "      <td>159.0</td>\n",
       "      <td>0</td>\n",
       "      <td>0.008733</td>\n",
       "      <td>9</td>\n",
       "      <td>0.000324</td>\n",
       "    </tr>\n",
       "    <tr>\n",
       "      <th>7</th>\n",
       "      <td>8</td>\n",
       "      <td>Thermodynamics and the Kinetic Theory of Gases...</td>\n",
       "      <td>https://www.amazon.com.br/dp/0486414612/</td>\n",
       "      <td>Wolfgang Pauli (Autor),</td>\n",
       "      <td>Capa comum</td>\n",
       "      <td>Dover Publications</td>\n",
       "      <td>NaN</td>\n",
       "      <td>18 de outubro de 2010</td>\n",
       "      <td>Livros</td>\n",
       "      <td>Livros</td>\n",
       "      <td>...</td>\n",
       "      <td>2.000000</td>\n",
       "      <td>5.000000</td>\n",
       "      <td>13.8</td>\n",
       "      <td>21.6</td>\n",
       "      <td>1.0</td>\n",
       "      <td>159.0</td>\n",
       "      <td>0</td>\n",
       "      <td>0.004537</td>\n",
       "      <td>10</td>\n",
       "      <td>0.006390</td>\n",
       "    </tr>\n",
       "    <tr>\n",
       "      <th>8</th>\n",
       "      <td>9</td>\n",
       "      <td>Mechanics</td>\n",
       "      <td>https://www.amazon.com.br/dp/0486607542/</td>\n",
       "      <td>Jacob P. Den Hartog (Autor),</td>\n",
       "      <td>Capa comum</td>\n",
       "      <td>Dover Publications</td>\n",
       "      <td>NaN</td>\n",
       "      <td>1 de junho de 1961</td>\n",
       "      <td>Livros</td>\n",
       "      <td>Livros</td>\n",
       "      <td>...</td>\n",
       "      <td>13.873001</td>\n",
       "      <td>4.473275</td>\n",
       "      <td>13.6</td>\n",
       "      <td>20.3</td>\n",
       "      <td>2.3</td>\n",
       "      <td>522.0</td>\n",
       "      <td>0</td>\n",
       "      <td>0.019512</td>\n",
       "      <td>23</td>\n",
       "      <td>0.003693</td>\n",
       "    </tr>\n",
       "    <tr>\n",
       "      <th>9</th>\n",
       "      <td>10</td>\n",
       "      <td>Statistical Thermodynamics</td>\n",
       "      <td>https://www.amazon.com.br/dp/0486661016/</td>\n",
       "      <td>Erwin Schrodinger (Autor),</td>\n",
       "      <td>Capa comum</td>\n",
       "      <td>Dover Publications</td>\n",
       "      <td>NaN</td>\n",
       "      <td>NaN</td>\n",
       "      <td>Livros</td>\n",
       "      <td>Livros</td>\n",
       "      <td>...</td>\n",
       "      <td>13.873001</td>\n",
       "      <td>4.473275</td>\n",
       "      <td>14.0</td>\n",
       "      <td>20.3</td>\n",
       "      <td>1.3</td>\n",
       "      <td>159.0</td>\n",
       "      <td>0</td>\n",
       "      <td>0.007206</td>\n",
       "      <td>15</td>\n",
       "      <td>0.003613</td>\n",
       "    </tr>\n",
       "  </tbody>\n",
       "</table>\n",
       "<p>10 rows × 36 columns</p>\n",
       "</div>"
      ],
      "text/plain": [
       "   id                                              title  \\\n",
       "0   1  The Stanford Mathematics Problem Book: With Hi...   \n",
       "1   2                                     Fourier Series   \n",
       "2   3               Probability Theory: A Concise Course   \n",
       "3   4  Vectors, Tensors and the Basic Equations of Fl...   \n",
       "4   5                    Ordinary Differential Equations   \n",
       "5   6            The Variational Principles of Mechanics   \n",
       "6   7                A First Look at Perturbation Theory   \n",
       "7   8  Thermodynamics and the Kinetic Theory of Gases...   \n",
       "8   9                                          Mechanics   \n",
       "9  10                         Statistical Thermodynamics   \n",
       "\n",
       "                                        url                       authors  \\\n",
       "0  https://www.amazon.com.br/dp/0486469247/         George Polya (Autor),   \n",
       "1  https://www.amazon.com.br/dp/0486633179/    Georgi P. Tolstov (Autor),   \n",
       "2  https://www.amazon.com.br/dp/0486635449/        Y. A. Rozanov (Autor),   \n",
       "3  https://www.amazon.com.br/dp/0486661105/      Rutherford Aris (Autor),   \n",
       "4  https://www.amazon.com.br/dp/0486649407/     Morris Tenenbaum (Autor),   \n",
       "5  https://www.amazon.com.br/dp/0486650677/    Cornelius Lanczos (Autor),   \n",
       "6  https://www.amazon.com.br/dp/0486675513/     James G. Simmonds (Autor)   \n",
       "7  https://www.amazon.com.br/dp/0486414612/       Wolfgang Pauli (Autor),   \n",
       "8  https://www.amazon.com.br/dp/0486607542/  Jacob P. Den Hartog (Autor),   \n",
       "9  https://www.amazon.com.br/dp/0486661016/    Erwin Schrodinger (Autor),   \n",
       "\n",
       "    coverType                publisher  edition          publicationDate  \\\n",
       "0  Capa comum       Dover Publications      NaN  19 de fevereiro de 2009   \n",
       "1  Capa comum       Dover Publications      NaN       1 de junho de 1976   \n",
       "2  Capa comum       Dover Publications      NaN                      NaN   \n",
       "3  Capa comum       Dover Publications      NaN                      NaN   \n",
       "4  Capa comum       Dover Publications      NaN                      NaN   \n",
       "5  Capa comum       Dover Publications      NaN                      NaN   \n",
       "6  Capa comum  Dover Publications Inc.      NaN                      NaN   \n",
       "7  Capa comum       Dover Publications      NaN    18 de outubro de 2010   \n",
       "8  Capa comum       Dover Publications      NaN       1 de junho de 1961   \n",
       "9  Capa comum       Dover Publications      NaN                      NaN   \n",
       "\n",
       "  rankingCategory category1          ...           reviewCount    rating  \\\n",
       "0          Livros    Livros          ...              1.000000  4.000000   \n",
       "1          Livros    Livros          ...              3.000000  4.600000   \n",
       "2          Livros    Livros          ...             13.873001  4.473275   \n",
       "3          Livros    Livros          ...              2.000000  4.500000   \n",
       "4          Livros    Livros          ...              4.000000  4.500000   \n",
       "5          Livros    Livros          ...              1.000000  5.000000   \n",
       "6          Livros    Livros          ...             13.873001  4.473275   \n",
       "7          Livros    Livros          ...              2.000000  5.000000   \n",
       "8          Livros    Livros          ...             13.873001  4.473275   \n",
       "9          Livros    Livros          ...             13.873001  4.473275   \n",
       "\n",
       "  width height depth weight  has_link_to_node_1  eigenvector_centrality  \\\n",
       "0  14.0   21.0   0.6  181.0                   0                0.012593   \n",
       "1  14.6   21.0   1.9  363.0                   1                0.053497   \n",
       "2  14.4   20.8   0.8  200.0                   1                0.034535   \n",
       "3  13.7   21.5   1.6  381.0                   1                0.011868   \n",
       "4  13.8   21.8   4.0  939.0                   0                0.074795   \n",
       "5  13.8   21.5   2.2  581.0                   0                0.050004   \n",
       "6  13.7   21.5   0.8  159.0                   0                0.008733   \n",
       "7  13.8   21.6   1.0  159.0                   0                0.004537   \n",
       "8  13.6   20.3   2.3  522.0                   0                0.019512   \n",
       "9  14.0   20.3   1.3  159.0                   0                0.007206   \n",
       "\n",
       "   degree betweenness_centrality  \n",
       "0      19               0.004650  \n",
       "1      62               0.002308  \n",
       "2      59               0.005629  \n",
       "3      18               0.002832  \n",
       "4      88               0.011057  \n",
       "5      43               0.010446  \n",
       "6       9               0.000324  \n",
       "7      10               0.006390  \n",
       "8      23               0.003693  \n",
       "9      15               0.003613  \n",
       "\n",
       "[10 rows x 36 columns]"
      ]
     },
     "execution_count": 17,
     "metadata": {},
     "output_type": "execute_result"
    }
   ],
   "source": [
    "df.head(10)"
   ]
  },
  {
   "cell_type": "markdown",
   "metadata": {},
   "source": [
    "## Random forest using multiple features, has_link_to_node_1 as target"
   ]
  },
  {
   "cell_type": "markdown",
   "metadata": {},
   "source": [
    "### Preparing data"
   ]
  },
  {
   "cell_type": "code",
   "execution_count": 18,
   "metadata": {
    "ExecuteTime": {
     "end_time": "2018-11-05T11:09:48.940587Z",
     "start_time": "2018-11-05T11:09:48.895939Z"
    },
    "collapsed": true
   },
   "outputs": [],
   "source": [
    "df_with_dummies = pd.get_dummies(df[numeric_features + categorical_features + ['has_link_to_node_1']],columns=categorical_features,drop_first=True)"
   ]
  },
  {
   "cell_type": "code",
   "execution_count": 19,
   "metadata": {
    "ExecuteTime": {
     "end_time": "2018-11-05T11:09:48.990721Z",
     "start_time": "2018-11-05T11:09:48.942965Z"
    },
    "collapsed": true
   },
   "outputs": [],
   "source": [
    "feature_list = list(df_with_dummies.drop(columns = ['has_link_to_node_1']))\n",
    "features = np.array(df_with_dummies.drop(columns = ['has_link_to_node_1']))\n",
    "target = np.array(df_with_dummies['has_link_to_node_1'])"
   ]
  },
  {
   "cell_type": "markdown",
   "metadata": {},
   "source": [
    "### Average links to node 1"
   ]
  },
  {
   "cell_type": "markdown",
   "metadata": {},
   "source": [
    "It's important to have a baseline, so we can validate our predictions after running our model. One easy choice for baseline is the average price of a book."
   ]
  },
  {
   "cell_type": "code",
   "execution_count": 20,
   "metadata": {
    "ExecuteTime": {
     "end_time": "2018-11-05T11:09:49.002981Z",
     "start_time": "2018-11-05T11:09:48.992085Z"
    }
   },
   "outputs": [
    {
     "name": "stdout",
     "output_type": "stream",
     "text": [
      "Average has_link_to_node_1:  0.00586319218241\n"
     ]
    }
   ],
   "source": [
    "average_target = np.average(target)\n",
    "print \"Average has_link_to_node_1: \", average_target"
   ]
  },
  {
   "cell_type": "markdown",
   "metadata": {},
   "source": [
    "### Training data split"
   ]
  },
  {
   "cell_type": "markdown",
   "metadata": {},
   "source": [
    "Let's split our dataset into two sets: train and test. We use the first to train or model, and we use the second to test the precision of our model."
   ]
  },
  {
   "cell_type": "code",
   "execution_count": 21,
   "metadata": {
    "ExecuteTime": {
     "end_time": "2018-11-05T11:09:49.087510Z",
     "start_time": "2018-11-05T11:09:49.005396Z"
    }
   },
   "outputs": [
    {
     "name": "stdout",
     "output_type": "stream",
     "text": [
      "('Training Features Shape:', (2302, 1061))\n",
      "('Training Labels Shape:', (2302,))\n",
      "('Testing Features Shape:', (768, 1061))\n",
      "('Testing Labels Shape:', (768,))\n"
     ]
    }
   ],
   "source": [
    "# Split the data into training and testing sets\n",
    "train_features, test_features, train_target, test_target \\\n",
    "    = train_test_split(features, target, test_size = 0.25)\n",
    "\n",
    "# Summary\n",
    "print('Training Features Shape:', train_features.shape)\n",
    "print('Training Labels Shape:', train_target.shape)\n",
    "print('Testing Features Shape:', test_features.shape)\n",
    "print('Testing Labels Shape:', test_target.shape)"
   ]
  },
  {
   "cell_type": "markdown",
   "metadata": {},
   "source": [
    "### Train data"
   ]
  },
  {
   "cell_type": "markdown",
   "metadata": {},
   "source": [
    "We train a random forest model with 500 estimators."
   ]
  },
  {
   "cell_type": "code",
   "execution_count": 22,
   "metadata": {
    "ExecuteTime": {
     "end_time": "2018-11-05T11:09:49.095800Z",
     "start_time": "2018-11-05T11:09:49.089713Z"
    },
    "collapsed": true
   },
   "outputs": [],
   "source": [
    "def class_weight(label):\n",
    "    return len([i for i in train_target if i == label])\n",
    "class_weights = {\n",
    "    0: (class_weight(1)/len(train_target))*1E0,\n",
    "    1: (class_weight(0)/len(train_target))*1E7\n",
    "}"
   ]
  },
  {
   "cell_type": "code",
   "execution_count": 23,
   "metadata": {
    "ExecuteTime": {
     "end_time": "2018-11-05T11:09:52.652059Z",
     "start_time": "2018-11-05T11:09:49.097535Z"
    },
    "collapsed": true
   },
   "outputs": [],
   "source": [
    "# Load model\n",
    "rf = RandomForestClassifier(n_estimators = 500, class_weight=class_weights)\n",
    "# Train\n",
    "rf.fit(train_features, train_target);"
   ]
  },
  {
   "cell_type": "markdown",
   "metadata": {},
   "source": [
    "### Prediction"
   ]
  },
  {
   "cell_type": "code",
   "execution_count": 24,
   "metadata": {
    "ExecuteTime": {
     "end_time": "2018-11-05T11:09:53.398601Z",
     "start_time": "2018-11-05T11:09:52.654502Z"
    },
    "collapsed": true
   },
   "outputs": [],
   "source": [
    "predictions_probability = rf.predict_proba(test_features)\n",
    "predictions = rf.predict(test_features)"
   ]
  },
  {
   "cell_type": "markdown",
   "metadata": {},
   "source": [
    "####  List of most important features"
   ]
  },
  {
   "cell_type": "code",
   "execution_count": 25,
   "metadata": {
    "ExecuteTime": {
     "end_time": "2018-11-05T11:09:53.771549Z",
     "start_time": "2018-11-05T11:09:53.401274Z"
    }
   },
   "outputs": [
    {
     "data": {
      "text/html": [
       "<div>\n",
       "<style scoped>\n",
       "    .dataframe tbody tr th:only-of-type {\n",
       "        vertical-align: middle;\n",
       "    }\n",
       "\n",
       "    .dataframe tbody tr th {\n",
       "        vertical-align: top;\n",
       "    }\n",
       "\n",
       "    .dataframe thead th {\n",
       "        text-align: right;\n",
       "    }\n",
       "</style>\n",
       "<table border=\"1\" class=\"dataframe\">\n",
       "  <thead>\n",
       "    <tr style=\"text-align: right;\">\n",
       "      <th></th>\n",
       "      <th>0</th>\n",
       "      <th>1</th>\n",
       "    </tr>\n",
       "  </thead>\n",
       "  <tbody>\n",
       "    <tr>\n",
       "      <th>0</th>\n",
       "      <td>language_Inglês</td>\n",
       "      <td>0.127968</td>\n",
       "    </tr>\n",
       "    <tr>\n",
       "      <th>1</th>\n",
       "      <td>eigenvector_centrality</td>\n",
       "      <td>0.125458</td>\n",
       "    </tr>\n",
       "    <tr>\n",
       "      <th>2</th>\n",
       "      <td>betweenness_centrality</td>\n",
       "      <td>0.109246</td>\n",
       "    </tr>\n",
       "    <tr>\n",
       "      <th>3</th>\n",
       "      <td>language_Português</td>\n",
       "      <td>0.104891</td>\n",
       "    </tr>\n",
       "    <tr>\n",
       "      <th>4</th>\n",
       "      <td>ranking</td>\n",
       "      <td>0.099752</td>\n",
       "    </tr>\n",
       "    <tr>\n",
       "      <th>5</th>\n",
       "      <td>degree</td>\n",
       "      <td>0.077115</td>\n",
       "    </tr>\n",
       "    <tr>\n",
       "      <th>6</th>\n",
       "      <td>rating</td>\n",
       "      <td>0.046977</td>\n",
       "    </tr>\n",
       "    <tr>\n",
       "      <th>7</th>\n",
       "      <td>reviewCount</td>\n",
       "      <td>0.029653</td>\n",
       "    </tr>\n",
       "    <tr>\n",
       "      <th>8</th>\n",
       "      <td>width</td>\n",
       "      <td>0.026578</td>\n",
       "    </tr>\n",
       "    <tr>\n",
       "      <th>9</th>\n",
       "      <td>category2_Política, Filosofia e Ciências Sociais</td>\n",
       "      <td>0.022054</td>\n",
       "    </tr>\n",
       "    <tr>\n",
       "      <th>10</th>\n",
       "      <td>weight</td>\n",
       "      <td>0.021602</td>\n",
       "    </tr>\n",
       "    <tr>\n",
       "      <th>11</th>\n",
       "      <td>height</td>\n",
       "      <td>0.021594</td>\n",
       "    </tr>\n",
       "    <tr>\n",
       "      <th>12</th>\n",
       "      <td>category2_Ciências</td>\n",
       "      <td>0.018746</td>\n",
       "    </tr>\n",
       "    <tr>\n",
       "      <th>13</th>\n",
       "      <td>pages</td>\n",
       "      <td>0.015857</td>\n",
       "    </tr>\n",
       "    <tr>\n",
       "      <th>14</th>\n",
       "      <td>category3_Filosofia</td>\n",
       "      <td>0.015111</td>\n",
       "    </tr>\n",
       "    <tr>\n",
       "      <th>15</th>\n",
       "      <td>category2_História</td>\n",
       "      <td>0.012834</td>\n",
       "    </tr>\n",
       "    <tr>\n",
       "      <th>16</th>\n",
       "      <td>depth</td>\n",
       "      <td>0.012731</td>\n",
       "    </tr>\n",
       "    <tr>\n",
       "      <th>17</th>\n",
       "      <td>category3_Ciências Tecnológicas</td>\n",
       "      <td>0.007525</td>\n",
       "    </tr>\n",
       "    <tr>\n",
       "      <th>18</th>\n",
       "      <td>category2_Literatura e Ficção</td>\n",
       "      <td>0.007030</td>\n",
       "    </tr>\n",
       "    <tr>\n",
       "      <th>19</th>\n",
       "      <td>publisher_Companhia das Letras</td>\n",
       "      <td>0.006381</td>\n",
       "    </tr>\n",
       "    <tr>\n",
       "      <th>20</th>\n",
       "      <td>category2_Religião e Espiritualidade</td>\n",
       "      <td>0.005931</td>\n",
       "    </tr>\n",
       "    <tr>\n",
       "      <th>21</th>\n",
       "      <td>category2_Saúde e Família</td>\n",
       "      <td>0.005660</td>\n",
       "    </tr>\n",
       "    <tr>\n",
       "      <th>22</th>\n",
       "      <td>coverType_Capa comum</td>\n",
       "      <td>0.004669</td>\n",
       "    </tr>\n",
       "    <tr>\n",
       "      <th>23</th>\n",
       "      <td>category2_Educação, Referência e Didáticos</td>\n",
       "      <td>0.004108</td>\n",
       "    </tr>\n",
       "    <tr>\n",
       "      <th>24</th>\n",
       "      <td>coverType_Capa dura</td>\n",
       "      <td>0.004045</td>\n",
       "    </tr>\n",
       "    <tr>\n",
       "      <th>25</th>\n",
       "      <td>category2_Biografias e Histórias Reais</td>\n",
       "      <td>0.003417</td>\n",
       "    </tr>\n",
       "    <tr>\n",
       "      <th>26</th>\n",
       "      <td>category3_Matemática</td>\n",
       "      <td>0.003387</td>\n",
       "    </tr>\n",
       "    <tr>\n",
       "      <th>27</th>\n",
       "      <td>category4_Matemática</td>\n",
       "      <td>0.003109</td>\n",
       "    </tr>\n",
       "    <tr>\n",
       "      <th>28</th>\n",
       "      <td>category3_Física</td>\n",
       "      <td>0.002820</td>\n",
       "    </tr>\n",
       "    <tr>\n",
       "      <th>29</th>\n",
       "      <td>category2_Inglês e Outras Línguas</td>\n",
       "      <td>0.002661</td>\n",
       "    </tr>\n",
       "    <tr>\n",
       "      <th>...</th>\n",
       "      <td>...</td>\n",
       "      <td>...</td>\n",
       "    </tr>\n",
       "    <tr>\n",
       "      <th>170</th>\n",
       "      <td>category4_Europeia</td>\n",
       "      <td>0.000013</td>\n",
       "    </tr>\n",
       "    <tr>\n",
       "      <th>171</th>\n",
       "      <td>category3_Saúde e Família</td>\n",
       "      <td>0.000013</td>\n",
       "    </tr>\n",
       "    <tr>\n",
       "      <th>172</th>\n",
       "      <td>category5_Astrofísica e Ciência Espacial</td>\n",
       "      <td>0.000013</td>\n",
       "    </tr>\n",
       "    <tr>\n",
       "      <th>173</th>\n",
       "      <td>publisher_Novo Século</td>\n",
       "      <td>0.000013</td>\n",
       "    </tr>\n",
       "    <tr>\n",
       "      <th>174</th>\n",
       "      <td>category3_Líderes e Pessoas Notáveis</td>\n",
       "      <td>0.000013</td>\n",
       "    </tr>\n",
       "    <tr>\n",
       "      <th>175</th>\n",
       "      <td>category3_Militar</td>\n",
       "      <td>0.000013</td>\n",
       "    </tr>\n",
       "    <tr>\n",
       "      <th>176</th>\n",
       "      <td>publisher_Casa dos Livros</td>\n",
       "      <td>0.000012</td>\n",
       "    </tr>\n",
       "    <tr>\n",
       "      <th>177</th>\n",
       "      <td>publisher_Contexto</td>\n",
       "      <td>0.000012</td>\n",
       "    </tr>\n",
       "    <tr>\n",
       "      <th>178</th>\n",
       "      <td>category4_Guias de Escrita, Pesquisa e Publicação</td>\n",
       "      <td>0.000012</td>\n",
       "    </tr>\n",
       "    <tr>\n",
       "      <th>179</th>\n",
       "      <td>category4_Psicologia e Aconselhamento</td>\n",
       "      <td>0.000011</td>\n",
       "    </tr>\n",
       "    <tr>\n",
       "      <th>180</th>\n",
       "      <td>category5_Álgebra</td>\n",
       "      <td>0.000011</td>\n",
       "    </tr>\n",
       "    <tr>\n",
       "      <th>181</th>\n",
       "      <td>publisher_Forense Universitária</td>\n",
       "      <td>0.000011</td>\n",
       "    </tr>\n",
       "    <tr>\n",
       "      <th>182</th>\n",
       "      <td>publisher_Contraponto</td>\n",
       "      <td>0.000010</td>\n",
       "    </tr>\n",
       "    <tr>\n",
       "      <th>183</th>\n",
       "      <td>category4_Civil</td>\n",
       "      <td>0.000010</td>\n",
       "    </tr>\n",
       "    <tr>\n",
       "      <th>184</th>\n",
       "      <td>category6_Cálculo</td>\n",
       "      <td>0.000010</td>\n",
       "    </tr>\n",
       "    <tr>\n",
       "      <th>185</th>\n",
       "      <td>category4_Dietas</td>\n",
       "      <td>0.000010</td>\n",
       "    </tr>\n",
       "    <tr>\n",
       "      <th>186</th>\n",
       "      <td>category3_Educação e Didáticos</td>\n",
       "      <td>0.000009</td>\n",
       "    </tr>\n",
       "    <tr>\n",
       "      <th>187</th>\n",
       "      <td>publisher_Fundamento</td>\n",
       "      <td>0.000009</td>\n",
       "    </tr>\n",
       "    <tr>\n",
       "      <th>188</th>\n",
       "      <td>category3_Profissionais e Universitários</td>\n",
       "      <td>0.000009</td>\n",
       "    </tr>\n",
       "    <tr>\n",
       "      <th>189</th>\n",
       "      <td>category4_Aventura</td>\n",
       "      <td>0.000008</td>\n",
       "    </tr>\n",
       "    <tr>\n",
       "      <th>190</th>\n",
       "      <td>publisher_EDUSP</td>\n",
       "      <td>0.000008</td>\n",
       "    </tr>\n",
       "    <tr>\n",
       "      <th>191</th>\n",
       "      <td>publisher_FGV</td>\n",
       "      <td>0.000008</td>\n",
       "    </tr>\n",
       "    <tr>\n",
       "      <th>192</th>\n",
       "      <td>publisher_McGraw-Hill</td>\n",
       "      <td>0.000008</td>\n",
       "    </tr>\n",
       "    <tr>\n",
       "      <th>193</th>\n",
       "      <td>publisher_Citadel</td>\n",
       "      <td>0.000008</td>\n",
       "    </tr>\n",
       "    <tr>\n",
       "      <th>194</th>\n",
       "      <td>publisher_Estação Liberdade</td>\n",
       "      <td>0.000008</td>\n",
       "    </tr>\n",
       "    <tr>\n",
       "      <th>195</th>\n",
       "      <td>publisher_Cleofas</td>\n",
       "      <td>0.000007</td>\n",
       "    </tr>\n",
       "    <tr>\n",
       "      <th>196</th>\n",
       "      <td>category5_Neuropsicologia</td>\n",
       "      <td>0.000006</td>\n",
       "    </tr>\n",
       "    <tr>\n",
       "      <th>197</th>\n",
       "      <td>publisher_Todavia</td>\n",
       "      <td>0.000006</td>\n",
       "    </tr>\n",
       "    <tr>\n",
       "      <th>198</th>\n",
       "      <td>publisher_Barros Fischer &amp; Associados</td>\n",
       "      <td>0.000006</td>\n",
       "    </tr>\n",
       "    <tr>\n",
       "      <th>199</th>\n",
       "      <td>category3_Memórias</td>\n",
       "      <td>0.000005</td>\n",
       "    </tr>\n",
       "  </tbody>\n",
       "</table>\n",
       "<p>200 rows × 2 columns</p>\n",
       "</div>"
      ],
      "text/plain": [
       "                                                     0         1\n",
       "0                                      language_Inglês  0.127968\n",
       "1                               eigenvector_centrality  0.125458\n",
       "2                               betweenness_centrality  0.109246\n",
       "3                                   language_Português  0.104891\n",
       "4                                              ranking  0.099752\n",
       "5                                               degree  0.077115\n",
       "6                                               rating  0.046977\n",
       "7                                          reviewCount  0.029653\n",
       "8                                                width  0.026578\n",
       "9     category2_Política, Filosofia e Ciências Sociais  0.022054\n",
       "10                                              weight  0.021602\n",
       "11                                              height  0.021594\n",
       "12                                  category2_Ciências  0.018746\n",
       "13                                               pages  0.015857\n",
       "14                                 category3_Filosofia  0.015111\n",
       "15                                  category2_História  0.012834\n",
       "16                                               depth  0.012731\n",
       "17                     category3_Ciências Tecnológicas  0.007525\n",
       "18                       category2_Literatura e Ficção  0.007030\n",
       "19                      publisher_Companhia das Letras  0.006381\n",
       "20                category2_Religião e Espiritualidade  0.005931\n",
       "21                           category2_Saúde e Família  0.005660\n",
       "22                                coverType_Capa comum  0.004669\n",
       "23          category2_Educação, Referência e Didáticos  0.004108\n",
       "24                                 coverType_Capa dura  0.004045\n",
       "25              category2_Biografias e Histórias Reais  0.003417\n",
       "26                                category3_Matemática  0.003387\n",
       "27                                category4_Matemática  0.003109\n",
       "28                                    category3_Física  0.002820\n",
       "29                   category2_Inglês e Outras Línguas  0.002661\n",
       "..                                                 ...       ...\n",
       "170                                 category4_Europeia  0.000013\n",
       "171                          category3_Saúde e Família  0.000013\n",
       "172           category5_Astrofísica e Ciência Espacial  0.000013\n",
       "173                              publisher_Novo Século  0.000013\n",
       "174               category3_Líderes e Pessoas Notáveis  0.000013\n",
       "175                                  category3_Militar  0.000013\n",
       "176                          publisher_Casa dos Livros  0.000012\n",
       "177                                 publisher_Contexto  0.000012\n",
       "178  category4_Guias de Escrita, Pesquisa e Publicação  0.000012\n",
       "179              category4_Psicologia e Aconselhamento  0.000011\n",
       "180                                  category5_Álgebra  0.000011\n",
       "181                    publisher_Forense Universitária  0.000011\n",
       "182                              publisher_Contraponto  0.000010\n",
       "183                                    category4_Civil  0.000010\n",
       "184                                  category6_Cálculo  0.000010\n",
       "185                                   category4_Dietas  0.000010\n",
       "186                     category3_Educação e Didáticos  0.000009\n",
       "187                               publisher_Fundamento  0.000009\n",
       "188           category3_Profissionais e Universitários  0.000009\n",
       "189                                 category4_Aventura  0.000008\n",
       "190                                    publisher_EDUSP  0.000008\n",
       "191                                      publisher_FGV  0.000008\n",
       "192                              publisher_McGraw-Hill  0.000008\n",
       "193                                  publisher_Citadel  0.000008\n",
       "194                        publisher_Estação Liberdade  0.000008\n",
       "195                                  publisher_Cleofas  0.000007\n",
       "196                          category5_Neuropsicologia  0.000006\n",
       "197                                  publisher_Todavia  0.000006\n",
       "198              publisher_Barros Fischer & Associados  0.000006\n",
       "199                                 category3_Memórias  0.000005\n",
       "\n",
       "[200 rows x 2 columns]"
      ]
     },
     "execution_count": 25,
     "metadata": {},
     "output_type": "execute_result"
    }
   ],
   "source": [
    "importance = zip(feature_list, rf.feature_importances_)\n",
    "importance.sort(key=lambda x:-x[1])\n",
    "pd.DataFrame(importance).head(200)"
   ]
  },
  {
   "cell_type": "markdown",
   "metadata": {},
   "source": [
    "####  Previsto vs. real"
   ]
  },
  {
   "cell_type": "code",
   "execution_count": 26,
   "metadata": {
    "ExecuteTime": {
     "end_time": "2018-11-05T11:09:54.296628Z",
     "start_time": "2018-11-05T11:09:53.774533Z"
    }
   },
   "outputs": [
    {
     "data": {
      "image/png": "[encoded data removed]",
      "text/plain": [
       "<matplotlib.figure.Figure at 0x7f17f5eebb50>"
      ]
     },
     "metadata": {},
     "output_type": "display_data"
    }
   ],
   "source": [
    "plt.figure(figsize=(8,8), dpi=130)\n",
    "plt.scatter(test_target, map(lambda i: i[1], predictions_probability), 100, alpha=0.1, edgecolors=\"none\")\n",
    "baseline = [0, np.max(test_target)]\n",
    "plt.plot(baseline, baseline, \"--\", color=\"green\", label = u\"Previsto = real\")\n",
    "ax = plt.gca()\n",
    "ax.set_ylabel(u\"Previsto\")\n",
    "ax.set_xlabel(u\"Real\")\n",
    "ax.legend()\n",
    "plt.title(u\"Previsto vs. real\")\n",
    "plt.axes().set_aspect('equal', 'datalim')\n",
    "#plt.xlim(0, 150)\n",
    "#plt.ylim(0, 150)\n",
    "plt.show()"
   ]
  },
  {
   "cell_type": "markdown",
   "metadata": {},
   "source": [
    "#### Confusion matrix"
   ]
  },
  {
   "cell_type": "code",
   "execution_count": 27,
   "metadata": {
    "ExecuteTime": {
     "end_time": "2018-11-05T11:09:54.304685Z",
     "start_time": "2018-11-05T11:09:54.298622Z"
    }
   },
   "outputs": [],
   "source": [
    "cnf_matrix = sklearn.metrics.confusion_matrix(test_target, map(lambda p: 1 if p[1] > 0.5 else 0, predictions_probability))"
   ]
  },
  {
   "cell_type": "code",
   "execution_count": 28,
   "metadata": {
    "ExecuteTime": {
     "end_time": "2018-11-05T11:09:54.638418Z",
     "start_time": "2018-11-05T11:09:54.306810Z"
    }
   },
   "outputs": [
    {
     "name": "stdout",
     "output_type": "stream",
     "text": [
      "Confusion matrix, without normalization\n",
      "[[659 102]\n",
      " [  1   6]]\n"
     ]
    },
    {
     "data": {
      "image/png": "[encoded data removed]",
      "text/plain": [
       "<matplotlib.figure.Figure at 0x7f17f5ef0490>"
      ]
     },
     "metadata": {},
     "output_type": "display_data"
    }
   ],
   "source": [
    "plt.figure()\n",
    "plot_confusion_matrix(cnf_matrix, classes=['Does not have link to node 1', 'Has link to node 1'],\n",
    "                      title='Confusion matrix for probability threshold p = 0.5')\n",
    "plt.show()"
   ]
  },
  {
   "cell_type": "markdown",
   "metadata": {
    "ExecuteTime": {
     "end_time": "2018-11-04T10:06:48.315100Z",
     "start_time": "2018-11-04T10:06:48.305210Z"
    }
   },
   "source": [
    "#### ROC Curve"
   ]
  },
  {
   "cell_type": "code",
   "execution_count": 29,
   "metadata": {
    "ExecuteTime": {
     "end_time": "2018-11-05T11:09:56.525505Z",
     "start_time": "2018-11-05T11:09:54.641511Z"
    }
   },
   "outputs": [
    {
     "data": {
      "image/png": "[encoded data removed]",
      "text/plain": [
       "<matplotlib.figure.Figure at 0x7f17f5eec110>"
      ]
     },
     "metadata": {},
     "output_type": "display_data"
    }
   ],
   "source": [
    "steps = 1001\n",
    "x = []\n",
    "y = []\n",
    "closest_to_optimal_distance = 99999\n",
    "closest_to_optimal_probability = None\n",
    "closest_to_optimal_point = None\n",
    "for r in range(0, steps):\n",
    "    s = 1/(steps - 1) * r\n",
    "    m = sklearn.metrics.confusion_matrix(test_target, map(lambda p: 1 if p[1] > s else 0, predictions_probability))\n",
    "    tn = m[0][0]\n",
    "    fp = m[0][1]\n",
    "    fn = m[1][0]\n",
    "    tp = m[1][1]\n",
    "    tpr = tp/(tp+fn)\n",
    "    fpr = fp/(fp+tn)\n",
    "    y.append(tpr)\n",
    "    x.append(fpr)\n",
    "    distance = ((fpr - 0)**2.0 + (tpr - 1)**2.0)**0.5\n",
    "    if distance < closest_to_optimal_distance:\n",
    "        closest_to_optimal_point = [fpr, tpr]\n",
    "        closest_to_optimal_distance = distance\n",
    "        closest_to_optimal_probability = s\n",
    "plt.figure(figsize=(8,8), dpi=130)\n",
    "plt.plot(x, y)\n",
    "plt.plot([0, 1], [0, 1])\n",
    "plt.plot(closest_to_optimal_point[0], closest_to_optimal_point[1], \"bx\", label=u\"Limiar de probabilidade = \" + str(closest_to_optimal_probability))\n",
    "plt.axes().set_aspect('equal')\n",
    "plt.axes().set_ylabel(u\"Taxa de verdadeiros positivos\")\n",
    "plt.axes().set_xlabel(u\"Taxa de falsos positivos\")\n",
    "plt.axes().legend()\n",
    "plt.title(u\"Curva ROC da variação do limiar de\\nprobabilidade para classificação de positivos\")\n",
    "plt.axes().set_aspect('equal')\n",
    "plt.show()"
   ]
  },
  {
   "cell_type": "code",
   "execution_count": 30,
   "metadata": {
    "ExecuteTime": {
     "end_time": "2018-11-05T11:09:56.873217Z",
     "start_time": "2018-11-05T11:09:56.527669Z"
    }
   },
   "outputs": [
    {
     "name": "stdout",
     "output_type": "stream",
     "text": [
      "Confusion matrix, without normalization\n",
      "[[679  82]\n",
      " [  1   6]]\n"
     ]
    },
    {
     "data": {
      "image/png": "[encoded data removed]",
      "text/plain": [
       "<matplotlib.figure.Figure at 0x7f17f5e476d0>"
      ]
     },
     "metadata": {},
     "output_type": "display_data"
    }
   ],
   "source": [
    "## Confusion matrix on probability threshold\n",
    "cnf_matrix = sklearn.metrics.confusion_matrix(test_target, map(lambda p: 1 if p[1] > closest_to_optimal_probability else 0, predictions_probability))\n",
    "plt.figure()\n",
    "plot_confusion_matrix(cnf_matrix, classes=['Does not have link to node 1', 'Has link to node 1'],\n",
    "                      title='Confusion matrix for probability threshold p = ' + str(closest_to_optimal_probability))\n",
    "plt.show()"
   ]
  },
  {
   "cell_type": "markdown",
   "metadata": {},
   "source": [
    "### Mean absolute error"
   ]
  },
  {
   "cell_type": "markdown",
   "metadata": {},
   "source": [
    "Now we can compare the errors obtained by our predictions against the errors provided by the baseline (average price). Our prediction errors should be less than the baseline errors to consider the model successful."
   ]
  },
  {
   "cell_type": "code",
   "execution_count": 31,
   "metadata": {
    "ExecuteTime": {
     "end_time": "2018-11-05T11:09:56.879765Z",
     "start_time": "2018-11-05T11:09:56.874701Z"
    }
   },
   "outputs": [
    {
     "name": "stdout",
     "output_type": "stream",
     "text": [
      "('Mean absolute prediction error: ', 0.13)\n",
      "('Mean absolute error using average: ', 0.01)\n"
     ]
    }
   ],
   "source": [
    "# Calculate the absolute errors\n",
    "errors = abs(predictions - test_target)\n",
    "errors_baseline = abs(average_target - test_target)\n",
    "# Print out the mean absolute error (mae)\n",
    "print('Mean absolute prediction error: ', round(np.mean(errors), 2))\n",
    "print('Mean absolute error using average: ',\n",
    "      round(np.mean(errors_baseline), 2))"
   ]
  },
  {
   "cell_type": "markdown",
   "metadata": {},
   "source": [
    "### Worst predictions"
   ]
  },
  {
   "cell_type": "markdown",
   "metadata": {},
   "source": [
    "Below we can inspect the rows with the biggest prediction error."
   ]
  },
  {
   "cell_type": "code",
   "execution_count": 32,
   "metadata": {
    "ExecuteTime": {
     "end_time": "2018-11-05T11:09:56.961289Z",
     "start_time": "2018-11-05T11:09:56.881741Z"
    }
   },
   "outputs": [
    {
     "data": {
      "text/html": [
       "<div>\n",
       "<style scoped>\n",
       "    .dataframe tbody tr th:only-of-type {\n",
       "        vertical-align: middle;\n",
       "    }\n",
       "\n",
       "    .dataframe tbody tr th {\n",
       "        vertical-align: top;\n",
       "    }\n",
       "\n",
       "    .dataframe thead th {\n",
       "        text-align: right;\n",
       "    }\n",
       "</style>\n",
       "<table border=\"1\" class=\"dataframe\">\n",
       "  <thead>\n",
       "    <tr style=\"text-align: right;\">\n",
       "      <th></th>\n",
       "      <th>degree</th>\n",
       "      <th>error</th>\n",
       "      <th>errors_baseline</th>\n",
       "      <th>prediction</th>\n",
       "      <th>target</th>\n",
       "    </tr>\n",
       "  </thead>\n",
       "  <tbody>\n",
       "    <tr>\n",
       "      <th>236</th>\n",
       "      <td>[20.0, 0.0391727755709, 0.00208708348762, 4416...</td>\n",
       "      <td>1</td>\n",
       "      <td>0.005863</td>\n",
       "      <td>1</td>\n",
       "      <td>0</td>\n",
       "    </tr>\n",
       "    <tr>\n",
       "      <th>106</th>\n",
       "      <td>[6.0, 0.00870686417133, 0.000119396352788, 441...</td>\n",
       "      <td>1</td>\n",
       "      <td>0.005863</td>\n",
       "      <td>1</td>\n",
       "      <td>0</td>\n",
       "    </tr>\n",
       "    <tr>\n",
       "      <th>477</th>\n",
       "      <td>[1.0, 0.000143429297092, 0.0, 147181.0, 13.873...</td>\n",
       "      <td>1</td>\n",
       "      <td>0.005863</td>\n",
       "      <td>1</td>\n",
       "      <td>0</td>\n",
       "    </tr>\n",
       "    <tr>\n",
       "      <th>103</th>\n",
       "      <td>[2.0, 2.44982711194e-06, 0.00645307037934, 457...</td>\n",
       "      <td>1</td>\n",
       "      <td>0.005863</td>\n",
       "      <td>1</td>\n",
       "      <td>0</td>\n",
       "    </tr>\n",
       "    <tr>\n",
       "      <th>531</th>\n",
       "      <td>[59.0, 0.0364050505282, 0.014364430011, 54724....</td>\n",
       "      <td>1</td>\n",
       "      <td>0.005863</td>\n",
       "      <td>1</td>\n",
       "      <td>0</td>\n",
       "    </tr>\n",
       "    <tr>\n",
       "      <th>96</th>\n",
       "      <td>[13.0, 0.00946747304494, 0.00847433591895, 761...</td>\n",
       "      <td>1</td>\n",
       "      <td>0.005863</td>\n",
       "      <td>1</td>\n",
       "      <td>0</td>\n",
       "    </tr>\n",
       "    <tr>\n",
       "      <th>535</th>\n",
       "      <td>[3.0, 0.000539576064195, 0.000896044176113, 10...</td>\n",
       "      <td>1</td>\n",
       "      <td>0.005863</td>\n",
       "      <td>1</td>\n",
       "      <td>0</td>\n",
       "    </tr>\n",
       "    <tr>\n",
       "      <th>608</th>\n",
       "      <td>[79.0, 0.10456661741, 0.00587648608368, 44166....</td>\n",
       "      <td>1</td>\n",
       "      <td>0.005863</td>\n",
       "      <td>1</td>\n",
       "      <td>0</td>\n",
       "    </tr>\n",
       "    <tr>\n",
       "      <th>93</th>\n",
       "      <td>[28.0, 0.0205660594229, 0.00455913847445, 6380...</td>\n",
       "      <td>1</td>\n",
       "      <td>0.005863</td>\n",
       "      <td>1</td>\n",
       "      <td>0</td>\n",
       "    </tr>\n",
       "    <tr>\n",
       "      <th>687</th>\n",
       "      <td>[2.0, 0.00290883403031, 6.53024705336e-05, 441...</td>\n",
       "      <td>1</td>\n",
       "      <td>0.005863</td>\n",
       "      <td>1</td>\n",
       "      <td>0</td>\n",
       "    </tr>\n",
       "  </tbody>\n",
       "</table>\n",
       "</div>"
      ],
      "text/plain": [
       "                                                degree  error  \\\n",
       "236  [20.0, 0.0391727755709, 0.00208708348762, 4416...      1   \n",
       "106  [6.0, 0.00870686417133, 0.000119396352788, 441...      1   \n",
       "477  [1.0, 0.000143429297092, 0.0, 147181.0, 13.873...      1   \n",
       "103  [2.0, 2.44982711194e-06, 0.00645307037934, 457...      1   \n",
       "531  [59.0, 0.0364050505282, 0.014364430011, 54724....      1   \n",
       "96   [13.0, 0.00946747304494, 0.00847433591895, 761...      1   \n",
       "535  [3.0, 0.000539576064195, 0.000896044176113, 10...      1   \n",
       "608  [79.0, 0.10456661741, 0.00587648608368, 44166....      1   \n",
       "93   [28.0, 0.0205660594229, 0.00455913847445, 6380...      1   \n",
       "687  [2.0, 0.00290883403031, 6.53024705336e-05, 441...      1   \n",
       "\n",
       "     errors_baseline  prediction  target  \n",
       "236         0.005863           1       0  \n",
       "106         0.005863           1       0  \n",
       "477         0.005863           1       0  \n",
       "103         0.005863           1       0  \n",
       "531         0.005863           1       0  \n",
       "96          0.005863           1       0  \n",
       "535         0.005863           1       0  \n",
       "608         0.005863           1       0  \n",
       "93          0.005863           1       0  \n",
       "687         0.005863           1       0  "
      ]
     },
     "execution_count": 32,
     "metadata": {},
     "output_type": "execute_result"
    }
   ],
   "source": [
    "data = {\n",
    "    \"degree\": test_features.tolist(),\n",
    "    \"target\": test_target,\n",
    "    \"prediction\": predictions,\n",
    "    \"error\": errors,\n",
    "    \"errors_baseline\": errors_baseline\n",
    "}\n",
    "predicted_df = pd.DataFrame(data = data)\n",
    "predicted_df.sort_values('error', ascending = False).head(10)"
   ]
  },
  {
   "cell_type": "markdown",
   "metadata": {},
   "source": [
    "### Best predictions"
   ]
  },
  {
   "cell_type": "code",
   "execution_count": 33,
   "metadata": {
    "ExecuteTime": {
     "end_time": "2018-11-05T11:09:57.013873Z",
     "start_time": "2018-11-05T11:09:56.963249Z"
    }
   },
   "outputs": [
    {
     "data": {
      "text/html": [
       "<div>\n",
       "<style scoped>\n",
       "    .dataframe tbody tr th:only-of-type {\n",
       "        vertical-align: middle;\n",
       "    }\n",
       "\n",
       "    .dataframe tbody tr th {\n",
       "        vertical-align: top;\n",
       "    }\n",
       "\n",
       "    .dataframe thead th {\n",
       "        text-align: right;\n",
       "    }\n",
       "</style>\n",
       "<table border=\"1\" class=\"dataframe\">\n",
       "  <thead>\n",
       "    <tr style=\"text-align: right;\">\n",
       "      <th></th>\n",
       "      <th>degree</th>\n",
       "      <th>error</th>\n",
       "      <th>errors_baseline</th>\n",
       "      <th>prediction</th>\n",
       "      <th>target</th>\n",
       "    </tr>\n",
       "  </thead>\n",
       "  <tbody>\n",
       "    <tr>\n",
       "      <th>0</th>\n",
       "      <td>[6.0, 8.55214083692e-05, 0.00343455773426, 102...</td>\n",
       "      <td>0</td>\n",
       "      <td>0.005863</td>\n",
       "      <td>0</td>\n",
       "      <td>0</td>\n",
       "    </tr>\n",
       "    <tr>\n",
       "      <th>489</th>\n",
       "      <td>[5.0, 8.48062284323e-05, 0.0025638568096, 3960...</td>\n",
       "      <td>0</td>\n",
       "      <td>0.005863</td>\n",
       "      <td>0</td>\n",
       "      <td>0</td>\n",
       "    </tr>\n",
       "    <tr>\n",
       "      <th>491</th>\n",
       "      <td>[3.0, 3.16162991824e-05, 0.00177392312394, 174...</td>\n",
       "      <td>0</td>\n",
       "      <td>0.005863</td>\n",
       "      <td>0</td>\n",
       "      <td>0</td>\n",
       "    </tr>\n",
       "    <tr>\n",
       "      <th>492</th>\n",
       "      <td>[2.0, 0.000250121692873, 0.000741089004066, 26...</td>\n",
       "      <td>0</td>\n",
       "      <td>0.005863</td>\n",
       "      <td>0</td>\n",
       "      <td>0</td>\n",
       "    </tr>\n",
       "    <tr>\n",
       "      <th>493</th>\n",
       "      <td>[1.0, 3.55009098209e-06, 0.0, 24990.0, 3.0, 60...</td>\n",
       "      <td>0</td>\n",
       "      <td>0.005863</td>\n",
       "      <td>0</td>\n",
       "      <td>0</td>\n",
       "    </tr>\n",
       "    <tr>\n",
       "      <th>494</th>\n",
       "      <td>[1.0, 2.19674834396e-05, 0.0, 1696.0, 9.0, 272...</td>\n",
       "      <td>0</td>\n",
       "      <td>0.005863</td>\n",
       "      <td>0</td>\n",
       "      <td>0</td>\n",
       "    </tr>\n",
       "    <tr>\n",
       "      <th>495</th>\n",
       "      <td>[8.0, 0.000320867158603, 0.00395975390296, 276...</td>\n",
       "      <td>0</td>\n",
       "      <td>0.005863</td>\n",
       "      <td>0</td>\n",
       "      <td>0</td>\n",
       "    </tr>\n",
       "    <tr>\n",
       "      <th>496</th>\n",
       "      <td>[1.0, 6.75370056693e-07, 0.0, 7872.0, 2.0, 144...</td>\n",
       "      <td>0</td>\n",
       "      <td>0.005863</td>\n",
       "      <td>0</td>\n",
       "      <td>0</td>\n",
       "    </tr>\n",
       "    <tr>\n",
       "      <th>497</th>\n",
       "      <td>[2.0, 4.75822437254e-06, 0.000931552678259, 29...</td>\n",
       "      <td>0</td>\n",
       "      <td>0.005863</td>\n",
       "      <td>0</td>\n",
       "      <td>0</td>\n",
       "    </tr>\n",
       "    <tr>\n",
       "      <th>488</th>\n",
       "      <td>[1.0, 2.41161829107e-05, 0.0, 49214.0, 2.0, 84...</td>\n",
       "      <td>0</td>\n",
       "      <td>0.005863</td>\n",
       "      <td>0</td>\n",
       "      <td>0</td>\n",
       "    </tr>\n",
       "  </tbody>\n",
       "</table>\n",
       "</div>"
      ],
      "text/plain": [
       "                                                degree  error  \\\n",
       "0    [6.0, 8.55214083692e-05, 0.00343455773426, 102...      0   \n",
       "489  [5.0, 8.48062284323e-05, 0.0025638568096, 3960...      0   \n",
       "491  [3.0, 3.16162991824e-05, 0.00177392312394, 174...      0   \n",
       "492  [2.0, 0.000250121692873, 0.000741089004066, 26...      0   \n",
       "493  [1.0, 3.55009098209e-06, 0.0, 24990.0, 3.0, 60...      0   \n",
       "494  [1.0, 2.19674834396e-05, 0.0, 1696.0, 9.0, 272...      0   \n",
       "495  [8.0, 0.000320867158603, 0.00395975390296, 276...      0   \n",
       "496  [1.0, 6.75370056693e-07, 0.0, 7872.0, 2.0, 144...      0   \n",
       "497  [2.0, 4.75822437254e-06, 0.000931552678259, 29...      0   \n",
       "488  [1.0, 2.41161829107e-05, 0.0, 49214.0, 2.0, 84...      0   \n",
       "\n",
       "     errors_baseline  prediction  target  \n",
       "0           0.005863           0       0  \n",
       "489         0.005863           0       0  \n",
       "491         0.005863           0       0  \n",
       "492         0.005863           0       0  \n",
       "493         0.005863           0       0  \n",
       "494         0.005863           0       0  \n",
       "495         0.005863           0       0  \n",
       "496         0.005863           0       0  \n",
       "497         0.005863           0       0  \n",
       "488         0.005863           0       0  "
      ]
     },
     "execution_count": 33,
     "metadata": {},
     "output_type": "execute_result"
    }
   ],
   "source": [
    "predicted_df.sort_values('error', ascending = True).head(10)"
   ]
  },
  {
   "cell_type": "code",
   "execution_count": 34,
   "metadata": {
    "ExecuteTime": {
     "end_time": "2018-11-05T11:09:57.059161Z",
     "start_time": "2018-11-05T11:09:57.015933Z"
    }
   },
   "outputs": [
    {
     "data": {
      "text/html": [
       "<div>\n",
       "<style scoped>\n",
       "    .dataframe tbody tr th:only-of-type {\n",
       "        vertical-align: middle;\n",
       "    }\n",
       "\n",
       "    .dataframe tbody tr th {\n",
       "        vertical-align: top;\n",
       "    }\n",
       "\n",
       "    .dataframe thead th {\n",
       "        text-align: right;\n",
       "    }\n",
       "</style>\n",
       "<table border=\"1\" class=\"dataframe\">\n",
       "  <thead>\n",
       "    <tr style=\"text-align: right;\">\n",
       "      <th></th>\n",
       "      <th>error</th>\n",
       "      <th>errors_baseline</th>\n",
       "      <th>prediction</th>\n",
       "      <th>target</th>\n",
       "    </tr>\n",
       "  </thead>\n",
       "  <tbody>\n",
       "    <tr>\n",
       "      <th>count</th>\n",
       "      <td>768.000000</td>\n",
       "      <td>768.000000</td>\n",
       "      <td>768.000000</td>\n",
       "      <td>768.000000</td>\n",
       "    </tr>\n",
       "    <tr>\n",
       "      <th>mean</th>\n",
       "      <td>0.134115</td>\n",
       "      <td>0.014871</td>\n",
       "      <td>0.140625</td>\n",
       "      <td>0.009115</td>\n",
       "    </tr>\n",
       "    <tr>\n",
       "      <th>std</th>\n",
       "      <td>0.340997</td>\n",
       "      <td>0.093981</td>\n",
       "      <td>0.347861</td>\n",
       "      <td>0.095096</td>\n",
       "    </tr>\n",
       "    <tr>\n",
       "      <th>min</th>\n",
       "      <td>0.000000</td>\n",
       "      <td>0.005863</td>\n",
       "      <td>0.000000</td>\n",
       "      <td>0.000000</td>\n",
       "    </tr>\n",
       "    <tr>\n",
       "      <th>25%</th>\n",
       "      <td>0.000000</td>\n",
       "      <td>0.005863</td>\n",
       "      <td>0.000000</td>\n",
       "      <td>0.000000</td>\n",
       "    </tr>\n",
       "    <tr>\n",
       "      <th>50%</th>\n",
       "      <td>0.000000</td>\n",
       "      <td>0.005863</td>\n",
       "      <td>0.000000</td>\n",
       "      <td>0.000000</td>\n",
       "    </tr>\n",
       "    <tr>\n",
       "      <th>75%</th>\n",
       "      <td>0.000000</td>\n",
       "      <td>0.005863</td>\n",
       "      <td>0.000000</td>\n",
       "      <td>0.000000</td>\n",
       "    </tr>\n",
       "    <tr>\n",
       "      <th>max</th>\n",
       "      <td>1.000000</td>\n",
       "      <td>0.994137</td>\n",
       "      <td>1.000000</td>\n",
       "      <td>1.000000</td>\n",
       "    </tr>\n",
       "  </tbody>\n",
       "</table>\n",
       "</div>"
      ],
      "text/plain": [
       "            error  errors_baseline  prediction      target\n",
       "count  768.000000       768.000000  768.000000  768.000000\n",
       "mean     0.134115         0.014871    0.140625    0.009115\n",
       "std      0.340997         0.093981    0.347861    0.095096\n",
       "min      0.000000         0.005863    0.000000    0.000000\n",
       "25%      0.000000         0.005863    0.000000    0.000000\n",
       "50%      0.000000         0.005863    0.000000    0.000000\n",
       "75%      0.000000         0.005863    0.000000    0.000000\n",
       "max      1.000000         0.994137    1.000000    1.000000"
      ]
     },
     "execution_count": 34,
     "metadata": {},
     "output_type": "execute_result"
    }
   ],
   "source": [
    "predicted_df.describe()"
   ]
  },
  {
   "cell_type": "markdown",
   "metadata": {},
   "source": [
    "### Visualize decision tree"
   ]
  },
  {
   "cell_type": "code",
   "execution_count": 28,
   "metadata": {
    "ExecuteTime": {
     "end_time": "2018-08-11T12:29:52.886454Z",
     "start_time": "2018-08-11T12:29:49.054278Z"
    },
    "collapsed": true,
    "deletable": false,
    "editable": false,
    "run_control": {
     "frozen": true
    }
   },
   "outputs": [],
   "source": [
    "# Pull out one tree from the forest\n",
    "tree = rf.estimators_[0]\n",
    "# Export the image to a dot file\n",
    "export_graphviz(tree, out_file = 'tree.dot',\n",
    "                feature_names = feature_list, rounded = True)\n",
    "# Use dot file to create a graph\n",
    "(graph, ) = pydot.graph_from_dot_file('tree.dot')\n",
    "# Write graph to a png file\n",
    "graph.write_png('tree.png')"
   ]
  },
  {
   "cell_type": "markdown",
   "metadata": {},
   "source": [
    "<img src=\"files/image.png\">"
   ]
  }
 ],
 "metadata": {
  "kernelspec": {
   "display_name": "Python 2",
   "language": "python",
   "name": "python2"
  },
  "language_info": {
   "codemirror_mode": {
    "name": "ipython",
    "version": 2
   },
   "file_extension": ".py",
   "mimetype": "text/x-python",
   "name": "python",
   "nbconvert_exporter": "python",
   "pygments_lexer": "ipython2",
   "version": "2.7.13"
  },
  "toc": {
   "base_numbering": 1,
   "nav_menu": {
    "height": "591px",
    "width": "459px"
   },
   "number_sections": true,
   "sideBar": true,
   "skip_h1_title": false,
   "title_cell": "Table of Contents",
   "title_sidebar": "Contents",
   "toc_cell": false,
   "toc_position": {},
   "toc_section_display": true,
   "toc_window_display": true
  },
  "varInspector": {
   "cols": {
    "lenName": 16,
    "lenType": 16,
    "lenVar": 40
   },
   "kernels_config": {
    "python": {
     "delete_cmd_postfix": "",
     "delete_cmd_prefix": "del ",
     "library": "var_list.py",
     "varRefreshCmd": "print(var_dic_list())"
    },
    "r": {
     "delete_cmd_postfix": ") ",
     "delete_cmd_prefix": "rm(",
     "library": "var_list.r",
     "varRefreshCmd": "cat(var_dic_list()) "
    }
   },
   "position": {
    "height": "241px",
    "left": "1550px",
    "right": "20px",
    "top": "120px",
    "width": "353px"
   },
   "types_to_exclude": [
    "module",
    "function",
    "builtin_function_or_method",
    "instance",
    "_Feature"
   ],
   "window_display": false
  }
 },
 "nbformat": 4,
 "nbformat_minor": 2
}
