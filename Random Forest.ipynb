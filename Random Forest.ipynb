{
 "cells": [
  {
   "cell_type": "markdown",
   "metadata": {},
   "source": [
    "# Amazon Copurchased"
   ]
  },
  {
   "cell_type": "markdown",
   "metadata": {},
   "source": [
    "This is a Python notebook created using \"jupyter\".\n",
    "\n",
    "Author: Rafael J. P. dos Santos"
   ]
  },
  {
   "cell_type": "markdown",
   "metadata": {},
   "source": [
    "## Parameters"
   ]
  },
  {
   "cell_type": "markdown",
   "metadata": {},
   "source": [
    "We use the parameter below to set the maximum number of edges to be read from the CSV containing edges (links)."
   ]
  },
  {
   "cell_type": "code",
   "execution_count": 1,
   "metadata": {
    "ExecuteTime": {
     "end_time": "2018-11-05T09:30:52.437547Z",
     "start_time": "2018-11-05T09:30:52.432658Z"
    },
    "cell_style": "center",
    "collapsed": true,
    "hide_input": false
   },
   "outputs": [],
   "source": [
    "max_edges = 15000 # Set quantity to read from file\n",
    "edges_csv_file = \"data/20180812_links\"\n",
    "nodes_csv_file = \"data/20180812_nodes\""
   ]
  },
  {
   "cell_type": "markdown",
   "metadata": {},
   "source": [
    "## Load the libraries"
   ]
  },
  {
   "cell_type": "markdown",
   "metadata": {},
   "source": [
    "Let's load the Python libraries that we will need throughout the script"
   ]
  },
  {
   "cell_type": "code",
   "execution_count": 2,
   "metadata": {
    "ExecuteTime": {
     "end_time": "2018-11-05T09:30:53.207855Z",
     "start_time": "2018-11-05T09:30:52.503100Z"
    },
    "collapsed": true
   },
   "outputs": [],
   "source": [
    "import networkx as nx\n",
    "import matplotlib.pyplot as plt\n",
    "import pandas as pd\n",
    "from sklearn.model_selection import train_test_split\n",
    "import numpy as np\n",
    "from sklearn.tree import export_graphviz\n",
    "import pydot\n",
    "from sklearn.ensemble import RandomForestRegressor\n",
    "from __future__ import division"
   ]
  },
  {
   "cell_type": "markdown",
   "metadata": {},
   "source": [
    "## Read graph"
   ]
  },
  {
   "cell_type": "markdown",
   "metadata": {},
   "source": [
    "### Read only first lines of datafile"
   ]
  },
  {
   "cell_type": "markdown",
   "metadata": {},
   "source": [
    "Due to slowness in calculating centrality measures, we use the parameter provided in the beggining of the script to limit the number of edges we will read."
   ]
  },
  {
   "cell_type": "code",
   "execution_count": 3,
   "metadata": {
    "ExecuteTime": {
     "end_time": "2018-11-05T09:30:53.394981Z",
     "start_time": "2018-11-05T09:30:53.209731Z"
    },
    "collapsed": true
   },
   "outputs": [],
   "source": [
    "lines = []\n",
    "total_line_count = 0\n",
    "with open(edges_csv_file, 'rb') as f:\n",
    "    f.readline()   # skip first line / header\n",
    "    while True:\n",
    "        line = f.readline()\n",
    "        if not line:\n",
    "            break\n",
    "        if not (max_edges > 0 and len(lines) >= max_edges):\n",
    "            lines.append(line)\n",
    "        total_line_count += 1\n",
    "G = nx.parse_edgelist(lines, delimiter=',', nodetype=int)"
   ]
  },
  {
   "cell_type": "code",
   "execution_count": 4,
   "metadata": {
    "ExecuteTime": {
     "end_time": "2018-11-05T09:30:53.401440Z",
     "start_time": "2018-11-05T09:30:53.396712Z"
    }
   },
   "outputs": [
    {
     "name": "stdout",
     "output_type": "stream",
     "text": [
      "Using 15000 edges out of 229338 available (6.54% of data)\n"
     ]
    }
   ],
   "source": [
    "print \"Using %d edges out of %d available (%.2f%% of data)\" % (len(lines), total_line_count, len(lines)/total_line_count * 100)"
   ]
  },
  {
   "cell_type": "markdown",
   "metadata": {},
   "source": [
    "### Calculate nodes centrality measures"
   ]
  },
  {
   "cell_type": "markdown",
   "metadata": {},
   "source": [
    "Now that we have our NetworkX graph, let's calculate some centrality measures for every node."
   ]
  },
  {
   "cell_type": "code",
   "execution_count": 5,
   "metadata": {
    "ExecuteTime": {
     "end_time": "2018-11-05T09:30:53.420941Z",
     "start_time": "2018-11-05T09:30:53.405074Z"
    },
    "collapsed": true
   },
   "outputs": [],
   "source": [
    "centrality_measures = {}"
   ]
  },
  {
   "cell_type": "markdown",
   "metadata": {},
   "source": [
    "#### Degree"
   ]
  },
  {
   "cell_type": "code",
   "execution_count": 6,
   "metadata": {
    "ExecuteTime": {
     "end_time": "2018-11-05T09:30:53.445550Z",
     "start_time": "2018-11-05T09:30:53.423234Z"
    },
    "collapsed": true
   },
   "outputs": [],
   "source": [
    "centrality_measures[\"degree\"] = nx.degree(G)"
   ]
  },
  {
   "cell_type": "markdown",
   "metadata": {},
   "source": [
    "#### Eigenvector centrality"
   ]
  },
  {
   "cell_type": "code",
   "execution_count": 7,
   "metadata": {
    "ExecuteTime": {
     "end_time": "2018-11-05T09:30:53.573735Z",
     "start_time": "2018-11-05T09:30:53.447744Z"
    },
    "collapsed": true
   },
   "outputs": [],
   "source": [
    "centrality_measures[\"eigenvector_centrality\"] = nx.eigenvector_centrality_numpy(G)"
   ]
  },
  {
   "cell_type": "markdown",
   "metadata": {},
   "source": [
    "####  Approximate betweenness centrality (current flow)"
   ]
  },
  {
   "cell_type": "code",
   "execution_count": 8,
   "metadata": {
    "ExecuteTime": {
     "end_time": "2018-11-05T09:30:58.151195Z",
     "start_time": "2018-11-05T09:30:53.575953Z"
    },
    "collapsed": true
   },
   "outputs": [],
   "source": [
    "centrality_measures[\"betweenness_centrality\"] = nx.approximate_current_flow_betweenness_centrality(G)"
   ]
  },
  {
   "cell_type": "markdown",
   "metadata": {
    "deletable": false,
    "editable": false,
    "run_control": {
     "frozen": true
    }
   },
   "source": [
    "#### Closeness centrality"
   ]
  },
  {
   "cell_type": "code",
   "execution_count": 8,
   "metadata": {
    "ExecuteTime": {
     "end_time": "2018-08-12T14:15:29.579010Z",
     "start_time": "2018-08-12T14:09:40.277456Z"
    },
    "collapsed": true,
    "deletable": false,
    "editable": false,
    "run_control": {
     "frozen": true
    }
   },
   "outputs": [],
   "source": [
    "# Very slow!\n",
    "centrality_measures[\"closeness_centrality\"] = nx.closeness_centrality(G)"
   ]
  },
  {
   "cell_type": "markdown",
   "metadata": {
    "deletable": false,
    "editable": false,
    "run_control": {
     "frozen": true
    }
   },
   "source": [
    "#### Betweenness centrality"
   ]
  },
  {
   "cell_type": "code",
   "execution_count": 9,
   "metadata": {
    "ExecuteTime": {
     "end_time": "2018-08-12T14:30:59.943012Z",
     "start_time": "2018-08-12T14:15:29.580763Z"
    },
    "collapsed": true,
    "deletable": false,
    "editable": false,
    "run_control": {
     "frozen": true
    }
   },
   "outputs": [],
   "source": [
    "# Very slow!\n",
    "centrality_measures[\"betweenness_centrality\"] = nx.betweenness_centrality(G)"
   ]
  },
  {
   "cell_type": "markdown",
   "metadata": {
    "collapsed": true
   },
   "source": [
    "### Load node properties"
   ]
  },
  {
   "cell_type": "markdown",
   "metadata": {},
   "source": [
    "Let's load the CSV containing the nodes data (title, price) into a Pandas dataframe, and append the centrality measures calculated above."
   ]
  },
  {
   "cell_type": "code",
   "execution_count": 9,
   "metadata": {
    "ExecuteTime": {
     "end_time": "2018-11-05T09:30:58.232609Z",
     "start_time": "2018-11-05T09:30:58.152591Z"
    },
    "collapsed": true
   },
   "outputs": [],
   "source": [
    "df = pd.read_csv(nodes_csv_file)"
   ]
  },
  {
   "cell_type": "code",
   "execution_count": 10,
   "metadata": {
    "ExecuteTime": {
     "end_time": "2018-11-05T09:30:58.335555Z",
     "start_time": "2018-11-05T09:30:58.234220Z"
    },
    "collapsed": true
   },
   "outputs": [],
   "source": [
    "# Add columns to dataframe\n",
    "def merge_columns(dataframe, data):\n",
    "    df = dataframe.copy()\n",
    "    for col in data:\n",
    "        rows = []\n",
    "        for item in data[col].items():\n",
    "            rows.append({\"id\": item[0], col: item[1]})\n",
    "        df = df.merge(pd.DataFrame(rows))\n",
    "    return df\n",
    "\n",
    "df = merge_columns(df, centrality_measures)"
   ]
  },
  {
   "cell_type": "markdown",
   "metadata": {},
   "source": [
    "### Let's convert some fields to numeric"
   ]
  },
  {
   "cell_type": "code",
   "execution_count": 11,
   "metadata": {
    "ExecuteTime": {
     "end_time": "2018-11-05T09:30:58.402965Z",
     "start_time": "2018-11-05T09:30:58.337476Z"
    },
    "collapsed": true
   },
   "outputs": [],
   "source": [
    "categorical_features = [\n",
    "    'category1',\n",
    "    'category2',\n",
    "    'category3',\n",
    "    'category4',\n",
    "    'category5',\n",
    "    'category6',\n",
    "    'category7',\n",
    "    'category8',\n",
    "    'category9',\n",
    "    'category10',\n",
    "    'language',\n",
    "    'coverType',\n",
    "    'publisher',\n",
    "    'rankingCategory'\n",
    "]\n",
    "\n",
    "numeric_features = [\n",
    "    'degree',\n",
    "    'eigenvector_centrality',\n",
    "    #'closeness_centrality',\n",
    "    'betweenness_centrality',\n",
    "    'ranking',\n",
    "    'reviewCount',\n",
    "    'pages',\n",
    "    'weight',\n",
    "    'height',\n",
    "    'width',\n",
    "    'depth',\n",
    "    'rating'\n",
    "]\n",
    "\n",
    "df = df.replace(\"<<MISSING_DATA>>\", np.NaN)\n",
    "df[numeric_features] = df[numeric_features].apply(pd.to_numeric)\n",
    "df[['price']] = df[['price']].apply(pd.to_numeric)\n",
    "\n",
    "for feature in numeric_features:\n",
    "    df[feature].fillna(df[feature].mean(), inplace = True)"
   ]
  },
  {
   "cell_type": "markdown",
   "metadata": {},
   "source": [
    "### Remove nodes without price and outliers"
   ]
  },
  {
   "cell_type": "code",
   "execution_count": 12,
   "metadata": {
    "ExecuteTime": {
     "end_time": "2018-11-05T09:30:58.416505Z",
     "start_time": "2018-11-05T09:30:58.404553Z"
    },
    "collapsed": true
   },
   "outputs": [],
   "source": [
    "df = df.drop(df[df[\"price\"].isnull()].index)\n",
    "df = df.drop(df[df[\"price\"] > 500].index)"
   ]
  },
  {
   "cell_type": "markdown",
   "metadata": {},
   "source": [
    "### Inspect columns"
   ]
  },
  {
   "cell_type": "code",
   "execution_count": 13,
   "metadata": {
    "ExecuteTime": {
     "end_time": "2018-11-05T09:30:58.444844Z",
     "start_time": "2018-11-05T09:30:58.417768Z"
    }
   },
   "outputs": [
    {
     "data": {
      "text/plain": [
       "Index([u'id', u'title', u'url', u'authors', u'coverType', u'publisher',\n",
       "       u'edition', u'publicationDate', u'rankingCategory', u'category1',\n",
       "       u'category2', u'category3', u'category4', u'category5', u'category6',\n",
       "       u'category7', u'category8', u'category9', u'category10', u'isbn10',\n",
       "       u'isbn13', u'language', u'postProcessed', u'price', u'ranking',\n",
       "       u'pages', u'reviewCount', u'rating', u'width', u'height', u'depth',\n",
       "       u'weight', u'eigenvector_centrality', u'degree',\n",
       "       u'betweenness_centrality'],\n",
       "      dtype='object')"
      ]
     },
     "execution_count": 13,
     "metadata": {},
     "output_type": "execute_result"
    }
   ],
   "source": [
    "df.columns"
   ]
  },
  {
   "cell_type": "markdown",
   "metadata": {},
   "source": [
    "### Features summary"
   ]
  },
  {
   "cell_type": "markdown",
   "metadata": {},
   "source": [
    "Below we have a summary of the Pandas dataframe. We can see the number of nodes that we are actually analyzing, which depends on the max_edges parameter defined before."
   ]
  },
  {
   "cell_type": "code",
   "execution_count": 14,
   "metadata": {
    "ExecuteTime": {
     "end_time": "2018-11-05T09:30:58.668302Z",
     "start_time": "2018-11-05T09:30:58.446910Z"
    }
   },
   "outputs": [
    {
     "data": {
      "text/html": [
       "<div>\n",
       "<style scoped>\n",
       "    .dataframe tbody tr th:only-of-type {\n",
       "        vertical-align: middle;\n",
       "    }\n",
       "\n",
       "    .dataframe tbody tr th {\n",
       "        vertical-align: top;\n",
       "    }\n",
       "\n",
       "    .dataframe thead th {\n",
       "        text-align: right;\n",
       "    }\n",
       "</style>\n",
       "<table border=\"1\" class=\"dataframe\">\n",
       "  <thead>\n",
       "    <tr style=\"text-align: right;\">\n",
       "      <th></th>\n",
       "      <th>id</th>\n",
       "      <th>title</th>\n",
       "      <th>url</th>\n",
       "      <th>authors</th>\n",
       "      <th>coverType</th>\n",
       "      <th>publisher</th>\n",
       "      <th>edition</th>\n",
       "      <th>publicationDate</th>\n",
       "      <th>rankingCategory</th>\n",
       "      <th>category1</th>\n",
       "      <th>...</th>\n",
       "      <th>pages</th>\n",
       "      <th>reviewCount</th>\n",
       "      <th>rating</th>\n",
       "      <th>width</th>\n",
       "      <th>height</th>\n",
       "      <th>depth</th>\n",
       "      <th>weight</th>\n",
       "      <th>eigenvector_centrality</th>\n",
       "      <th>degree</th>\n",
       "      <th>betweenness_centrality</th>\n",
       "    </tr>\n",
       "  </thead>\n",
       "  <tbody>\n",
       "    <tr>\n",
       "      <th>count</th>\n",
       "      <td>3070.000000</td>\n",
       "      <td>3070</td>\n",
       "      <td>3070</td>\n",
       "      <td>3070</td>\n",
       "      <td>3045</td>\n",
       "      <td>3045</td>\n",
       "      <td>0.0</td>\n",
       "      <td>346</td>\n",
       "      <td>2922</td>\n",
       "      <td>2882</td>\n",
       "      <td>...</td>\n",
       "      <td>3070.000000</td>\n",
       "      <td>3070.000000</td>\n",
       "      <td>3070.000000</td>\n",
       "      <td>3070.000000</td>\n",
       "      <td>3070.000000</td>\n",
       "      <td>3070.000000</td>\n",
       "      <td>3070.000000</td>\n",
       "      <td>3.070000e+03</td>\n",
       "      <td>3070.000000</td>\n",
       "      <td>3070.000000</td>\n",
       "    </tr>\n",
       "    <tr>\n",
       "      <th>unique</th>\n",
       "      <td>NaN</td>\n",
       "      <td>3014</td>\n",
       "      <td>3070</td>\n",
       "      <td>2319</td>\n",
       "      <td>8</td>\n",
       "      <td>382</td>\n",
       "      <td>NaN</td>\n",
       "      <td>287</td>\n",
       "      <td>1</td>\n",
       "      <td>1</td>\n",
       "      <td>...</td>\n",
       "      <td>NaN</td>\n",
       "      <td>NaN</td>\n",
       "      <td>NaN</td>\n",
       "      <td>NaN</td>\n",
       "      <td>NaN</td>\n",
       "      <td>NaN</td>\n",
       "      <td>NaN</td>\n",
       "      <td>NaN</td>\n",
       "      <td>NaN</td>\n",
       "      <td>NaN</td>\n",
       "    </tr>\n",
       "    <tr>\n",
       "      <th>top</th>\n",
       "      <td>NaN</td>\n",
       "      <td>Macroeconomia</td>\n",
       "      <td>https://www.amazon.com.br/dp/9724418553/</td>\n",
       "      <td>Vários Autores (Autor)</td>\n",
       "      <td>Capa comum</td>\n",
       "      <td>Companhia das Letras</td>\n",
       "      <td>NaN</td>\n",
       "      <td>1 de janeiro de 2014</td>\n",
       "      <td>Livros</td>\n",
       "      <td>Livros</td>\n",
       "      <td>...</td>\n",
       "      <td>NaN</td>\n",
       "      <td>NaN</td>\n",
       "      <td>NaN</td>\n",
       "      <td>NaN</td>\n",
       "      <td>NaN</td>\n",
       "      <td>NaN</td>\n",
       "      <td>NaN</td>\n",
       "      <td>NaN</td>\n",
       "      <td>NaN</td>\n",
       "      <td>NaN</td>\n",
       "    </tr>\n",
       "    <tr>\n",
       "      <th>freq</th>\n",
       "      <td>NaN</td>\n",
       "      <td>5</td>\n",
       "      <td>1</td>\n",
       "      <td>33</td>\n",
       "      <td>2629</td>\n",
       "      <td>192</td>\n",
       "      <td>NaN</td>\n",
       "      <td>5</td>\n",
       "      <td>2922</td>\n",
       "      <td>2882</td>\n",
       "      <td>...</td>\n",
       "      <td>NaN</td>\n",
       "      <td>NaN</td>\n",
       "      <td>NaN</td>\n",
       "      <td>NaN</td>\n",
       "      <td>NaN</td>\n",
       "      <td>NaN</td>\n",
       "      <td>NaN</td>\n",
       "      <td>NaN</td>\n",
       "      <td>NaN</td>\n",
       "      <td>NaN</td>\n",
       "    </tr>\n",
       "    <tr>\n",
       "      <th>mean</th>\n",
       "      <td>2465.511075</td>\n",
       "      <td>NaN</td>\n",
       "      <td>NaN</td>\n",
       "      <td>NaN</td>\n",
       "      <td>NaN</td>\n",
       "      <td>NaN</td>\n",
       "      <td>NaN</td>\n",
       "      <td>NaN</td>\n",
       "      <td>NaN</td>\n",
       "      <td>NaN</td>\n",
       "      <td>...</td>\n",
       "      <td>368.999853</td>\n",
       "      <td>13.951694</td>\n",
       "      <td>4.469695</td>\n",
       "      <td>15.464900</td>\n",
       "      <td>22.448944</td>\n",
       "      <td>2.147453</td>\n",
       "      <td>441.911335</td>\n",
       "      <td>4.059117e-03</td>\n",
       "      <td>7.702606</td>\n",
       "      <td>0.002551</td>\n",
       "    </tr>\n",
       "    <tr>\n",
       "      <th>std</th>\n",
       "      <td>2176.371452</td>\n",
       "      <td>NaN</td>\n",
       "      <td>NaN</td>\n",
       "      <td>NaN</td>\n",
       "      <td>NaN</td>\n",
       "      <td>NaN</td>\n",
       "      <td>NaN</td>\n",
       "      <td>NaN</td>\n",
       "      <td>NaN</td>\n",
       "      <td>NaN</td>\n",
       "      <td>...</td>\n",
       "      <td>243.904988</td>\n",
       "      <td>34.035873</td>\n",
       "      <td>0.534578</td>\n",
       "      <td>2.570196</td>\n",
       "      <td>2.584363</td>\n",
       "      <td>1.202483</td>\n",
       "      <td>205.124700</td>\n",
       "      <td>1.587279e-02</td>\n",
       "      <td>17.326353</td>\n",
       "      <td>0.008098</td>\n",
       "    </tr>\n",
       "    <tr>\n",
       "      <th>min</th>\n",
       "      <td>1.000000</td>\n",
       "      <td>NaN</td>\n",
       "      <td>NaN</td>\n",
       "      <td>NaN</td>\n",
       "      <td>NaN</td>\n",
       "      <td>NaN</td>\n",
       "      <td>NaN</td>\n",
       "      <td>NaN</td>\n",
       "      <td>NaN</td>\n",
       "      <td>NaN</td>\n",
       "      <td>...</td>\n",
       "      <td>4.000000</td>\n",
       "      <td>1.000000</td>\n",
       "      <td>1.000000</td>\n",
       "      <td>2.600000</td>\n",
       "      <td>10.000000</td>\n",
       "      <td>0.200000</td>\n",
       "      <td>18.100000</td>\n",
       "      <td>5.842757e-08</td>\n",
       "      <td>1.000000</td>\n",
       "      <td>0.000000</td>\n",
       "    </tr>\n",
       "    <tr>\n",
       "      <th>25%</th>\n",
       "      <td>896.250000</td>\n",
       "      <td>NaN</td>\n",
       "      <td>NaN</td>\n",
       "      <td>NaN</td>\n",
       "      <td>NaN</td>\n",
       "      <td>NaN</td>\n",
       "      <td>NaN</td>\n",
       "      <td>NaN</td>\n",
       "      <td>NaN</td>\n",
       "      <td>NaN</td>\n",
       "      <td>...</td>\n",
       "      <td>209.250000</td>\n",
       "      <td>2.000000</td>\n",
       "      <td>4.473275</td>\n",
       "      <td>13.800000</td>\n",
       "      <td>20.800000</td>\n",
       "      <td>1.400000</td>\n",
       "      <td>299.000000</td>\n",
       "      <td>4.509963e-06</td>\n",
       "      <td>1.000000</td>\n",
       "      <td>0.000000</td>\n",
       "    </tr>\n",
       "    <tr>\n",
       "      <th>50%</th>\n",
       "      <td>2100.000000</td>\n",
       "      <td>NaN</td>\n",
       "      <td>NaN</td>\n",
       "      <td>NaN</td>\n",
       "      <td>NaN</td>\n",
       "      <td>NaN</td>\n",
       "      <td>NaN</td>\n",
       "      <td>NaN</td>\n",
       "      <td>NaN</td>\n",
       "      <td>NaN</td>\n",
       "      <td>...</td>\n",
       "      <td>316.000000</td>\n",
       "      <td>9.000000</td>\n",
       "      <td>4.473275</td>\n",
       "      <td>15.500000</td>\n",
       "      <td>22.800000</td>\n",
       "      <td>2.000000</td>\n",
       "      <td>449.233179</td>\n",
       "      <td>1.322924e-05</td>\n",
       "      <td>2.000000</td>\n",
       "      <td>0.000164</td>\n",
       "    </tr>\n",
       "    <tr>\n",
       "      <th>75%</th>\n",
       "      <td>3215.750000</td>\n",
       "      <td>NaN</td>\n",
       "      <td>NaN</td>\n",
       "      <td>NaN</td>\n",
       "      <td>NaN</td>\n",
       "      <td>NaN</td>\n",
       "      <td>NaN</td>\n",
       "      <td>NaN</td>\n",
       "      <td>NaN</td>\n",
       "      <td>NaN</td>\n",
       "      <td>...</td>\n",
       "      <td>456.000000</td>\n",
       "      <td>13.873001</td>\n",
       "      <td>4.900000</td>\n",
       "      <td>16.200000</td>\n",
       "      <td>23.400000</td>\n",
       "      <td>2.600000</td>\n",
       "      <td>544.000000</td>\n",
       "      <td>1.293926e-04</td>\n",
       "      <td>5.000000</td>\n",
       "      <td>0.001708</td>\n",
       "    </tr>\n",
       "    <tr>\n",
       "      <th>max</th>\n",
       "      <td>9996.000000</td>\n",
       "      <td>NaN</td>\n",
       "      <td>NaN</td>\n",
       "      <td>NaN</td>\n",
       "      <td>NaN</td>\n",
       "      <td>NaN</td>\n",
       "      <td>NaN</td>\n",
       "      <td>NaN</td>\n",
       "      <td>NaN</td>\n",
       "      <td>NaN</td>\n",
       "      <td>...</td>\n",
       "      <td>4424.000000</td>\n",
       "      <td>755.000000</td>\n",
       "      <td>5.000000</td>\n",
       "      <td>30.400000</td>\n",
       "      <td>37.800000</td>\n",
       "      <td>16.000000</td>\n",
       "      <td>998.000000</td>\n",
       "      <td>1.928515e-01</td>\n",
       "      <td>198.000000</td>\n",
       "      <td>0.123420</td>\n",
       "    </tr>\n",
       "  </tbody>\n",
       "</table>\n",
       "<p>11 rows × 35 columns</p>\n",
       "</div>"
      ],
      "text/plain": [
       "                 id          title                                       url  \\\n",
       "count   3070.000000           3070                                      3070   \n",
       "unique          NaN           3014                                      3070   \n",
       "top             NaN  Macroeconomia  https://www.amazon.com.br/dp/9724418553/   \n",
       "freq            NaN              5                                         1   \n",
       "mean    2465.511075            NaN                                       NaN   \n",
       "std     2176.371452            NaN                                       NaN   \n",
       "min        1.000000            NaN                                       NaN   \n",
       "25%      896.250000            NaN                                       NaN   \n",
       "50%     2100.000000            NaN                                       NaN   \n",
       "75%     3215.750000            NaN                                       NaN   \n",
       "max     9996.000000            NaN                                       NaN   \n",
       "\n",
       "                       authors   coverType             publisher  edition  \\\n",
       "count                     3070        3045                  3045      0.0   \n",
       "unique                    2319           8                   382      NaN   \n",
       "top     Vários Autores (Autor)  Capa comum  Companhia das Letras      NaN   \n",
       "freq                        33        2629                   192      NaN   \n",
       "mean                       NaN         NaN                   NaN      NaN   \n",
       "std                        NaN         NaN                   NaN      NaN   \n",
       "min                        NaN         NaN                   NaN      NaN   \n",
       "25%                        NaN         NaN                   NaN      NaN   \n",
       "50%                        NaN         NaN                   NaN      NaN   \n",
       "75%                        NaN         NaN                   NaN      NaN   \n",
       "max                        NaN         NaN                   NaN      NaN   \n",
       "\n",
       "             publicationDate rankingCategory category1          ...            \\\n",
       "count                    346            2922      2882          ...             \n",
       "unique                   287               1         1          ...             \n",
       "top     1 de janeiro de 2014          Livros    Livros          ...             \n",
       "freq                       5            2922      2882          ...             \n",
       "mean                     NaN             NaN       NaN          ...             \n",
       "std                      NaN             NaN       NaN          ...             \n",
       "min                      NaN             NaN       NaN          ...             \n",
       "25%                      NaN             NaN       NaN          ...             \n",
       "50%                      NaN             NaN       NaN          ...             \n",
       "75%                      NaN             NaN       NaN          ...             \n",
       "max                      NaN             NaN       NaN          ...             \n",
       "\n",
       "              pages  reviewCount       rating        width       height  \\\n",
       "count   3070.000000  3070.000000  3070.000000  3070.000000  3070.000000   \n",
       "unique          NaN          NaN          NaN          NaN          NaN   \n",
       "top             NaN          NaN          NaN          NaN          NaN   \n",
       "freq            NaN          NaN          NaN          NaN          NaN   \n",
       "mean     368.999853    13.951694     4.469695    15.464900    22.448944   \n",
       "std      243.904988    34.035873     0.534578     2.570196     2.584363   \n",
       "min        4.000000     1.000000     1.000000     2.600000    10.000000   \n",
       "25%      209.250000     2.000000     4.473275    13.800000    20.800000   \n",
       "50%      316.000000     9.000000     4.473275    15.500000    22.800000   \n",
       "75%      456.000000    13.873001     4.900000    16.200000    23.400000   \n",
       "max     4424.000000   755.000000     5.000000    30.400000    37.800000   \n",
       "\n",
       "              depth       weight  eigenvector_centrality       degree  \\\n",
       "count   3070.000000  3070.000000            3.070000e+03  3070.000000   \n",
       "unique          NaN          NaN                     NaN          NaN   \n",
       "top             NaN          NaN                     NaN          NaN   \n",
       "freq            NaN          NaN                     NaN          NaN   \n",
       "mean       2.147453   441.911335            4.059117e-03     7.702606   \n",
       "std        1.202483   205.124700            1.587279e-02    17.326353   \n",
       "min        0.200000    18.100000            5.842757e-08     1.000000   \n",
       "25%        1.400000   299.000000            4.509963e-06     1.000000   \n",
       "50%        2.000000   449.233179            1.322924e-05     2.000000   \n",
       "75%        2.600000   544.000000            1.293926e-04     5.000000   \n",
       "max       16.000000   998.000000            1.928515e-01   198.000000   \n",
       "\n",
       "       betweenness_centrality  \n",
       "count             3070.000000  \n",
       "unique                    NaN  \n",
       "top                       NaN  \n",
       "freq                      NaN  \n",
       "mean                 0.002551  \n",
       "std                  0.008098  \n",
       "min                  0.000000  \n",
       "25%                  0.000000  \n",
       "50%                  0.000164  \n",
       "75%                  0.001708  \n",
       "max                  0.123420  \n",
       "\n",
       "[11 rows x 35 columns]"
      ]
     },
     "execution_count": 14,
     "metadata": {},
     "output_type": "execute_result"
    }
   ],
   "source": [
    "df.describe(include='all')"
   ]
  },
  {
   "cell_type": "markdown",
   "metadata": {},
   "source": [
    "Below we can inspect the first rows of data, containing title, price, degree and other centrality measures."
   ]
  },
  {
   "cell_type": "code",
   "execution_count": 15,
   "metadata": {
    "ExecuteTime": {
     "end_time": "2018-11-05T09:30:58.718363Z",
     "start_time": "2018-11-05T09:30:58.670111Z"
    }
   },
   "outputs": [
    {
     "data": {
      "text/html": [
       "<div>\n",
       "<style scoped>\n",
       "    .dataframe tbody tr th:only-of-type {\n",
       "        vertical-align: middle;\n",
       "    }\n",
       "\n",
       "    .dataframe tbody tr th {\n",
       "        vertical-align: top;\n",
       "    }\n",
       "\n",
       "    .dataframe thead th {\n",
       "        text-align: right;\n",
       "    }\n",
       "</style>\n",
       "<table border=\"1\" class=\"dataframe\">\n",
       "  <thead>\n",
       "    <tr style=\"text-align: right;\">\n",
       "      <th></th>\n",
       "      <th>id</th>\n",
       "      <th>title</th>\n",
       "      <th>url</th>\n",
       "      <th>authors</th>\n",
       "      <th>coverType</th>\n",
       "      <th>publisher</th>\n",
       "      <th>edition</th>\n",
       "      <th>publicationDate</th>\n",
       "      <th>rankingCategory</th>\n",
       "      <th>category1</th>\n",
       "      <th>...</th>\n",
       "      <th>pages</th>\n",
       "      <th>reviewCount</th>\n",
       "      <th>rating</th>\n",
       "      <th>width</th>\n",
       "      <th>height</th>\n",
       "      <th>depth</th>\n",
       "      <th>weight</th>\n",
       "      <th>eigenvector_centrality</th>\n",
       "      <th>degree</th>\n",
       "      <th>betweenness_centrality</th>\n",
       "    </tr>\n",
       "  </thead>\n",
       "  <tbody>\n",
       "    <tr>\n",
       "      <th>0</th>\n",
       "      <td>1</td>\n",
       "      <td>The Stanford Mathematics Problem Book: With Hi...</td>\n",
       "      <td>https://www.amazon.com.br/dp/0486469247/</td>\n",
       "      <td>George Polya (Autor),</td>\n",
       "      <td>Capa comum</td>\n",
       "      <td>Dover Publications</td>\n",
       "      <td>NaN</td>\n",
       "      <td>19 de fevereiro de 2009</td>\n",
       "      <td>Livros</td>\n",
       "      <td>Livros</td>\n",
       "      <td>...</td>\n",
       "      <td>68.0</td>\n",
       "      <td>1.000000</td>\n",
       "      <td>4.000000</td>\n",
       "      <td>14.0</td>\n",
       "      <td>21.0</td>\n",
       "      <td>0.6</td>\n",
       "      <td>181.0</td>\n",
       "      <td>0.012593</td>\n",
       "      <td>19</td>\n",
       "      <td>0.005734</td>\n",
       "    </tr>\n",
       "    <tr>\n",
       "      <th>1</th>\n",
       "      <td>2</td>\n",
       "      <td>Fourier Series</td>\n",
       "      <td>https://www.amazon.com.br/dp/0486633179/</td>\n",
       "      <td>Georgi P. Tolstov (Autor),</td>\n",
       "      <td>Capa comum</td>\n",
       "      <td>Dover Publications</td>\n",
       "      <td>NaN</td>\n",
       "      <td>1 de junho de 1976</td>\n",
       "      <td>Livros</td>\n",
       "      <td>Livros</td>\n",
       "      <td>...</td>\n",
       "      <td>352.0</td>\n",
       "      <td>3.000000</td>\n",
       "      <td>4.600000</td>\n",
       "      <td>14.6</td>\n",
       "      <td>21.0</td>\n",
       "      <td>1.9</td>\n",
       "      <td>363.0</td>\n",
       "      <td>0.053497</td>\n",
       "      <td>62</td>\n",
       "      <td>0.002665</td>\n",
       "    </tr>\n",
       "    <tr>\n",
       "      <th>2</th>\n",
       "      <td>3</td>\n",
       "      <td>Probability Theory: A Concise Course</td>\n",
       "      <td>https://www.amazon.com.br/dp/0486635449/</td>\n",
       "      <td>Y. A. Rozanov (Autor),</td>\n",
       "      <td>Capa comum</td>\n",
       "      <td>Dover Publications</td>\n",
       "      <td>NaN</td>\n",
       "      <td>NaN</td>\n",
       "      <td>Livros</td>\n",
       "      <td>Livros</td>\n",
       "      <td>...</td>\n",
       "      <td>160.0</td>\n",
       "      <td>13.873001</td>\n",
       "      <td>4.473275</td>\n",
       "      <td>14.4</td>\n",
       "      <td>20.8</td>\n",
       "      <td>0.8</td>\n",
       "      <td>200.0</td>\n",
       "      <td>0.034535</td>\n",
       "      <td>59</td>\n",
       "      <td>0.009335</td>\n",
       "    </tr>\n",
       "    <tr>\n",
       "      <th>3</th>\n",
       "      <td>4</td>\n",
       "      <td>Vectors, Tensors and the Basic Equations of Fl...</td>\n",
       "      <td>https://www.amazon.com.br/dp/0486661105/</td>\n",
       "      <td>Rutherford Aris (Autor),</td>\n",
       "      <td>Capa comum</td>\n",
       "      <td>Dover Publications</td>\n",
       "      <td>NaN</td>\n",
       "      <td>NaN</td>\n",
       "      <td>Livros</td>\n",
       "      <td>Livros</td>\n",
       "      <td>...</td>\n",
       "      <td>320.0</td>\n",
       "      <td>2.000000</td>\n",
       "      <td>4.500000</td>\n",
       "      <td>13.7</td>\n",
       "      <td>21.5</td>\n",
       "      <td>1.6</td>\n",
       "      <td>381.0</td>\n",
       "      <td>0.011868</td>\n",
       "      <td>18</td>\n",
       "      <td>0.006475</td>\n",
       "    </tr>\n",
       "    <tr>\n",
       "      <th>4</th>\n",
       "      <td>5</td>\n",
       "      <td>Ordinary Differential Equations</td>\n",
       "      <td>https://www.amazon.com.br/dp/0486649407/</td>\n",
       "      <td>Morris Tenenbaum (Autor),</td>\n",
       "      <td>Capa comum</td>\n",
       "      <td>Dover Publications</td>\n",
       "      <td>NaN</td>\n",
       "      <td>NaN</td>\n",
       "      <td>Livros</td>\n",
       "      <td>Livros</td>\n",
       "      <td>...</td>\n",
       "      <td>848.0</td>\n",
       "      <td>4.000000</td>\n",
       "      <td>4.500000</td>\n",
       "      <td>13.8</td>\n",
       "      <td>21.8</td>\n",
       "      <td>4.0</td>\n",
       "      <td>939.0</td>\n",
       "      <td>0.074795</td>\n",
       "      <td>88</td>\n",
       "      <td>0.014521</td>\n",
       "    </tr>\n",
       "    <tr>\n",
       "      <th>5</th>\n",
       "      <td>6</td>\n",
       "      <td>The Variational Principles of Mechanics</td>\n",
       "      <td>https://www.amazon.com.br/dp/0486650677/</td>\n",
       "      <td>Cornelius Lanczos (Autor),</td>\n",
       "      <td>Capa comum</td>\n",
       "      <td>Dover Publications</td>\n",
       "      <td>NaN</td>\n",
       "      <td>NaN</td>\n",
       "      <td>Livros</td>\n",
       "      <td>Livros</td>\n",
       "      <td>...</td>\n",
       "      <td>418.0</td>\n",
       "      <td>1.000000</td>\n",
       "      <td>5.000000</td>\n",
       "      <td>13.8</td>\n",
       "      <td>21.5</td>\n",
       "      <td>2.2</td>\n",
       "      <td>581.0</td>\n",
       "      <td>0.050004</td>\n",
       "      <td>43</td>\n",
       "      <td>0.009172</td>\n",
       "    </tr>\n",
       "    <tr>\n",
       "      <th>6</th>\n",
       "      <td>7</td>\n",
       "      <td>A First Look at Perturbation Theory</td>\n",
       "      <td>https://www.amazon.com.br/dp/0486675513/</td>\n",
       "      <td>James G. Simmonds (Autor)</td>\n",
       "      <td>Capa comum</td>\n",
       "      <td>Dover Publications Inc.</td>\n",
       "      <td>NaN</td>\n",
       "      <td>NaN</td>\n",
       "      <td>Livros</td>\n",
       "      <td>Livros</td>\n",
       "      <td>...</td>\n",
       "      <td>160.0</td>\n",
       "      <td>13.873001</td>\n",
       "      <td>4.473275</td>\n",
       "      <td>13.7</td>\n",
       "      <td>21.5</td>\n",
       "      <td>0.8</td>\n",
       "      <td>159.0</td>\n",
       "      <td>0.008733</td>\n",
       "      <td>9</td>\n",
       "      <td>0.000559</td>\n",
       "    </tr>\n",
       "    <tr>\n",
       "      <th>7</th>\n",
       "      <td>8</td>\n",
       "      <td>Thermodynamics and the Kinetic Theory of Gases...</td>\n",
       "      <td>https://www.amazon.com.br/dp/0486414612/</td>\n",
       "      <td>Wolfgang Pauli (Autor),</td>\n",
       "      <td>Capa comum</td>\n",
       "      <td>Dover Publications</td>\n",
       "      <td>NaN</td>\n",
       "      <td>18 de outubro de 2010</td>\n",
       "      <td>Livros</td>\n",
       "      <td>Livros</td>\n",
       "      <td>...</td>\n",
       "      <td>160.0</td>\n",
       "      <td>2.000000</td>\n",
       "      <td>5.000000</td>\n",
       "      <td>13.8</td>\n",
       "      <td>21.6</td>\n",
       "      <td>1.0</td>\n",
       "      <td>159.0</td>\n",
       "      <td>0.004537</td>\n",
       "      <td>10</td>\n",
       "      <td>0.008173</td>\n",
       "    </tr>\n",
       "    <tr>\n",
       "      <th>8</th>\n",
       "      <td>9</td>\n",
       "      <td>Mechanics</td>\n",
       "      <td>https://www.amazon.com.br/dp/0486607542/</td>\n",
       "      <td>Jacob P. Den Hartog (Autor),</td>\n",
       "      <td>Capa comum</td>\n",
       "      <td>Dover Publications</td>\n",
       "      <td>NaN</td>\n",
       "      <td>1 de junho de 1961</td>\n",
       "      <td>Livros</td>\n",
       "      <td>Livros</td>\n",
       "      <td>...</td>\n",
       "      <td>480.0</td>\n",
       "      <td>13.873001</td>\n",
       "      <td>4.473275</td>\n",
       "      <td>13.6</td>\n",
       "      <td>20.3</td>\n",
       "      <td>2.3</td>\n",
       "      <td>522.0</td>\n",
       "      <td>0.019512</td>\n",
       "      <td>23</td>\n",
       "      <td>0.002438</td>\n",
       "    </tr>\n",
       "    <tr>\n",
       "      <th>9</th>\n",
       "      <td>10</td>\n",
       "      <td>Statistical Thermodynamics</td>\n",
       "      <td>https://www.amazon.com.br/dp/0486661016/</td>\n",
       "      <td>Erwin Schrodinger (Autor),</td>\n",
       "      <td>Capa comum</td>\n",
       "      <td>Dover Publications</td>\n",
       "      <td>NaN</td>\n",
       "      <td>NaN</td>\n",
       "      <td>Livros</td>\n",
       "      <td>Livros</td>\n",
       "      <td>...</td>\n",
       "      <td>112.0</td>\n",
       "      <td>13.873001</td>\n",
       "      <td>4.473275</td>\n",
       "      <td>14.0</td>\n",
       "      <td>20.3</td>\n",
       "      <td>1.3</td>\n",
       "      <td>159.0</td>\n",
       "      <td>0.007206</td>\n",
       "      <td>15</td>\n",
       "      <td>0.005378</td>\n",
       "    </tr>\n",
       "  </tbody>\n",
       "</table>\n",
       "<p>10 rows × 35 columns</p>\n",
       "</div>"
      ],
      "text/plain": [
       "   id                                              title  \\\n",
       "0   1  The Stanford Mathematics Problem Book: With Hi...   \n",
       "1   2                                     Fourier Series   \n",
       "2   3               Probability Theory: A Concise Course   \n",
       "3   4  Vectors, Tensors and the Basic Equations of Fl...   \n",
       "4   5                    Ordinary Differential Equations   \n",
       "5   6            The Variational Principles of Mechanics   \n",
       "6   7                A First Look at Perturbation Theory   \n",
       "7   8  Thermodynamics and the Kinetic Theory of Gases...   \n",
       "8   9                                          Mechanics   \n",
       "9  10                         Statistical Thermodynamics   \n",
       "\n",
       "                                        url                       authors  \\\n",
       "0  https://www.amazon.com.br/dp/0486469247/         George Polya (Autor),   \n",
       "1  https://www.amazon.com.br/dp/0486633179/    Georgi P. Tolstov (Autor),   \n",
       "2  https://www.amazon.com.br/dp/0486635449/        Y. A. Rozanov (Autor),   \n",
       "3  https://www.amazon.com.br/dp/0486661105/      Rutherford Aris (Autor),   \n",
       "4  https://www.amazon.com.br/dp/0486649407/     Morris Tenenbaum (Autor),   \n",
       "5  https://www.amazon.com.br/dp/0486650677/    Cornelius Lanczos (Autor),   \n",
       "6  https://www.amazon.com.br/dp/0486675513/     James G. Simmonds (Autor)   \n",
       "7  https://www.amazon.com.br/dp/0486414612/       Wolfgang Pauli (Autor),   \n",
       "8  https://www.amazon.com.br/dp/0486607542/  Jacob P. Den Hartog (Autor),   \n",
       "9  https://www.amazon.com.br/dp/0486661016/    Erwin Schrodinger (Autor),   \n",
       "\n",
       "    coverType                publisher  edition          publicationDate  \\\n",
       "0  Capa comum       Dover Publications      NaN  19 de fevereiro de 2009   \n",
       "1  Capa comum       Dover Publications      NaN       1 de junho de 1976   \n",
       "2  Capa comum       Dover Publications      NaN                      NaN   \n",
       "3  Capa comum       Dover Publications      NaN                      NaN   \n",
       "4  Capa comum       Dover Publications      NaN                      NaN   \n",
       "5  Capa comum       Dover Publications      NaN                      NaN   \n",
       "6  Capa comum  Dover Publications Inc.      NaN                      NaN   \n",
       "7  Capa comum       Dover Publications      NaN    18 de outubro de 2010   \n",
       "8  Capa comum       Dover Publications      NaN       1 de junho de 1961   \n",
       "9  Capa comum       Dover Publications      NaN                      NaN   \n",
       "\n",
       "  rankingCategory category1          ...            pages reviewCount  \\\n",
       "0          Livros    Livros          ...             68.0    1.000000   \n",
       "1          Livros    Livros          ...            352.0    3.000000   \n",
       "2          Livros    Livros          ...            160.0   13.873001   \n",
       "3          Livros    Livros          ...            320.0    2.000000   \n",
       "4          Livros    Livros          ...            848.0    4.000000   \n",
       "5          Livros    Livros          ...            418.0    1.000000   \n",
       "6          Livros    Livros          ...            160.0   13.873001   \n",
       "7          Livros    Livros          ...            160.0    2.000000   \n",
       "8          Livros    Livros          ...            480.0   13.873001   \n",
       "9          Livros    Livros          ...            112.0   13.873001   \n",
       "\n",
       "     rating width height depth  weight  eigenvector_centrality  degree  \\\n",
       "0  4.000000  14.0   21.0   0.6   181.0                0.012593      19   \n",
       "1  4.600000  14.6   21.0   1.9   363.0                0.053497      62   \n",
       "2  4.473275  14.4   20.8   0.8   200.0                0.034535      59   \n",
       "3  4.500000  13.7   21.5   1.6   381.0                0.011868      18   \n",
       "4  4.500000  13.8   21.8   4.0   939.0                0.074795      88   \n",
       "5  5.000000  13.8   21.5   2.2   581.0                0.050004      43   \n",
       "6  4.473275  13.7   21.5   0.8   159.0                0.008733       9   \n",
       "7  5.000000  13.8   21.6   1.0   159.0                0.004537      10   \n",
       "8  4.473275  13.6   20.3   2.3   522.0                0.019512      23   \n",
       "9  4.473275  14.0   20.3   1.3   159.0                0.007206      15   \n",
       "\n",
       "  betweenness_centrality  \n",
       "0               0.005734  \n",
       "1               0.002665  \n",
       "2               0.009335  \n",
       "3               0.006475  \n",
       "4               0.014521  \n",
       "5               0.009172  \n",
       "6               0.000559  \n",
       "7               0.008173  \n",
       "8               0.002438  \n",
       "9               0.005378  \n",
       "\n",
       "[10 rows x 35 columns]"
      ]
     },
     "execution_count": 15,
     "metadata": {},
     "output_type": "execute_result"
    }
   ],
   "source": [
    "df.head(10)"
   ]
  },
  {
   "cell_type": "markdown",
   "metadata": {},
   "source": [
    "## Random forest using degree as feature, price as target"
   ]
  },
  {
   "cell_type": "markdown",
   "metadata": {},
   "source": [
    "### Preparing data"
   ]
  },
  {
   "cell_type": "code",
   "execution_count": 16,
   "metadata": {
    "ExecuteTime": {
     "end_time": "2018-11-05T09:30:58.779622Z",
     "start_time": "2018-11-05T09:30:58.720514Z"
    },
    "collapsed": true
   },
   "outputs": [],
   "source": [
    "df_with_dummies = pd.get_dummies(df[numeric_features + categorical_features + ['price']],columns=categorical_features,drop_first=True)"
   ]
  },
  {
   "cell_type": "code",
   "execution_count": 17,
   "metadata": {
    "ExecuteTime": {
     "end_time": "2018-11-05T09:30:58.828208Z",
     "start_time": "2018-11-05T09:30:58.781375Z"
    },
    "collapsed": true
   },
   "outputs": [],
   "source": [
    "feature_list = list(df_with_dummies.drop(columns = ['price']))\n",
    "features = np.array(df_with_dummies.drop(columns = ['price']))\n",
    "target = np.array(df_with_dummies['price'])"
   ]
  },
  {
   "cell_type": "markdown",
   "metadata": {},
   "source": [
    "### Average price as baseline"
   ]
  },
  {
   "cell_type": "markdown",
   "metadata": {},
   "source": [
    "It's important to have a baseline, so we can validate our predictions after running our model. One easy choice for baseline is the average price of a book.\n",
    "\n",
    "We have an average price around R\\$43, so this means that a very easy prediction would be to always guess R$43 for the price of any book."
   ]
  },
  {
   "cell_type": "code",
   "execution_count": 18,
   "metadata": {
    "ExecuteTime": {
     "end_time": "2018-11-05T09:30:58.834447Z",
     "start_time": "2018-11-05T09:30:58.830095Z"
    }
   },
   "outputs": [
    {
     "name": "stdout",
     "output_type": "stream",
     "text": [
      "Average price: R$ 68.1872247557\n"
     ]
    }
   ],
   "source": [
    "average_target = np.average(target)\n",
    "print \"Average price: R$\", average_target"
   ]
  },
  {
   "cell_type": "markdown",
   "metadata": {},
   "source": [
    "### Training data split"
   ]
  },
  {
   "cell_type": "markdown",
   "metadata": {},
   "source": [
    "Let's split our dataset into two sets: train and test. We use the first to train or model, and we use the second to test the precision of our model."
   ]
  },
  {
   "cell_type": "code",
   "execution_count": 19,
   "metadata": {
    "ExecuteTime": {
     "end_time": "2018-11-05T09:30:58.969566Z",
     "start_time": "2018-11-05T09:30:58.836899Z"
    }
   },
   "outputs": [
    {
     "name": "stdout",
     "output_type": "stream",
     "text": [
      "('Training Features Shape:', (2302, 1061))\n",
      "('Training Labels Shape:', (2302,))\n",
      "('Testing Features Shape:', (768, 1061))\n",
      "('Testing Labels Shape:', (768,))\n"
     ]
    }
   ],
   "source": [
    "# Split the data into training and testing sets\n",
    "train_features, test_features, train_target, test_target \\\n",
    "    = train_test_split(features, target, test_size = 0.25)\n",
    "\n",
    "# Summary\n",
    "print('Training Features Shape:', train_features.shape)\n",
    "print('Training Labels Shape:', train_target.shape)\n",
    "print('Testing Features Shape:', test_features.shape)\n",
    "print('Testing Labels Shape:', test_target.shape)"
   ]
  },
  {
   "cell_type": "markdown",
   "metadata": {},
   "source": [
    "### Train data"
   ]
  },
  {
   "cell_type": "markdown",
   "metadata": {},
   "source": [
    "We train a random forest model with 500 estimators."
   ]
  },
  {
   "cell_type": "code",
   "execution_count": 20,
   "metadata": {
    "ExecuteTime": {
     "end_time": "2018-11-05T09:31:52.646158Z",
     "start_time": "2018-11-05T09:30:58.972659Z"
    },
    "collapsed": true
   },
   "outputs": [],
   "source": [
    "# Load model\n",
    "rf = RandomForestRegressor(n_estimators = 500)\n",
    "# Train\n",
    "rf.fit(train_features, train_target);"
   ]
  },
  {
   "cell_type": "markdown",
   "metadata": {},
   "source": [
    "### Prediction"
   ]
  },
  {
   "cell_type": "code",
   "execution_count": 21,
   "metadata": {
    "ExecuteTime": {
     "end_time": "2018-11-05T09:31:53.052879Z",
     "start_time": "2018-11-05T09:31:52.647803Z"
    },
    "collapsed": true
   },
   "outputs": [],
   "source": [
    "predictions = rf.predict(test_features)"
   ]
  },
  {
   "cell_type": "markdown",
   "metadata": {},
   "source": [
    "####  List of most important features"
   ]
  },
  {
   "cell_type": "code",
   "execution_count": 22,
   "metadata": {
    "ExecuteTime": {
     "end_time": "2018-11-05T09:31:53.349858Z",
     "start_time": "2018-11-05T09:31:53.054844Z"
    }
   },
   "outputs": [
    {
     "data": {
      "text/html": [
       "<div>\n",
       "<style scoped>\n",
       "    .dataframe tbody tr th:only-of-type {\n",
       "        vertical-align: middle;\n",
       "    }\n",
       "\n",
       "    .dataframe tbody tr th {\n",
       "        vertical-align: top;\n",
       "    }\n",
       "\n",
       "    .dataframe thead th {\n",
       "        text-align: right;\n",
       "    }\n",
       "</style>\n",
       "<table border=\"1\" class=\"dataframe\">\n",
       "  <thead>\n",
       "    <tr style=\"text-align: right;\">\n",
       "      <th></th>\n",
       "      <th>0</th>\n",
       "      <th>1</th>\n",
       "    </tr>\n",
       "  </thead>\n",
       "  <tbody>\n",
       "    <tr>\n",
       "      <th>0</th>\n",
       "      <td>height</td>\n",
       "      <td>0.199991</td>\n",
       "    </tr>\n",
       "    <tr>\n",
       "      <th>1</th>\n",
       "      <td>width</td>\n",
       "      <td>0.174737</td>\n",
       "    </tr>\n",
       "    <tr>\n",
       "      <th>2</th>\n",
       "      <td>eigenvector_centrality</td>\n",
       "      <td>0.160988</td>\n",
       "    </tr>\n",
       "    <tr>\n",
       "      <th>3</th>\n",
       "      <td>pages</td>\n",
       "      <td>0.096946</td>\n",
       "    </tr>\n",
       "    <tr>\n",
       "      <th>4</th>\n",
       "      <td>publisher_Springer</td>\n",
       "      <td>0.043352</td>\n",
       "    </tr>\n",
       "    <tr>\n",
       "      <th>5</th>\n",
       "      <td>weight</td>\n",
       "      <td>0.037413</td>\n",
       "    </tr>\n",
       "    <tr>\n",
       "      <th>6</th>\n",
       "      <td>publisher_Cambridge University Press</td>\n",
       "      <td>0.033184</td>\n",
       "    </tr>\n",
       "    <tr>\n",
       "      <th>7</th>\n",
       "      <td>ranking</td>\n",
       "      <td>0.030764</td>\n",
       "    </tr>\n",
       "    <tr>\n",
       "      <th>8</th>\n",
       "      <td>depth</td>\n",
       "      <td>0.030068</td>\n",
       "    </tr>\n",
       "    <tr>\n",
       "      <th>9</th>\n",
       "      <td>language_Inglês</td>\n",
       "      <td>0.018333</td>\n",
       "    </tr>\n",
       "    <tr>\n",
       "      <th>10</th>\n",
       "      <td>coverType_Capa dura</td>\n",
       "      <td>0.017837</td>\n",
       "    </tr>\n",
       "    <tr>\n",
       "      <th>11</th>\n",
       "      <td>betweenness_centrality</td>\n",
       "      <td>0.017761</td>\n",
       "    </tr>\n",
       "    <tr>\n",
       "      <th>12</th>\n",
       "      <td>publisher_World Scientific Publishing Company</td>\n",
       "      <td>0.014010</td>\n",
       "    </tr>\n",
       "    <tr>\n",
       "      <th>13</th>\n",
       "      <td>category2_Inglês e Outras Línguas</td>\n",
       "      <td>0.011991</td>\n",
       "    </tr>\n",
       "    <tr>\n",
       "      <th>14</th>\n",
       "      <td>degree</td>\n",
       "      <td>0.009795</td>\n",
       "    </tr>\n",
       "    <tr>\n",
       "      <th>15</th>\n",
       "      <td>language_Português</td>\n",
       "      <td>0.006588</td>\n",
       "    </tr>\n",
       "    <tr>\n",
       "      <th>16</th>\n",
       "      <td>coverType_Capa comum</td>\n",
       "      <td>0.005634</td>\n",
       "    </tr>\n",
       "    <tr>\n",
       "      <th>17</th>\n",
       "      <td>reviewCount</td>\n",
       "      <td>0.004731</td>\n",
       "    </tr>\n",
       "    <tr>\n",
       "      <th>18</th>\n",
       "      <td>rating</td>\n",
       "      <td>0.003467</td>\n",
       "    </tr>\n",
       "    <tr>\n",
       "      <th>19</th>\n",
       "      <td>publisher_Pearson</td>\n",
       "      <td>0.003280</td>\n",
       "    </tr>\n",
       "    <tr>\n",
       "      <th>20</th>\n",
       "      <td>category2_Educação, Referência e Didáticos</td>\n",
       "      <td>0.003267</td>\n",
       "    </tr>\n",
       "    <tr>\n",
       "      <th>21</th>\n",
       "      <td>publisher_O′Reilly</td>\n",
       "      <td>0.003175</td>\n",
       "    </tr>\n",
       "    <tr>\n",
       "      <th>22</th>\n",
       "      <td>publisher_OUP Oxford</td>\n",
       "      <td>0.002705</td>\n",
       "    </tr>\n",
       "    <tr>\n",
       "      <th>23</th>\n",
       "      <td>publisher_University Science Books</td>\n",
       "      <td>0.002305</td>\n",
       "    </tr>\n",
       "    <tr>\n",
       "      <th>24</th>\n",
       "      <td>publisher_LTC Editora</td>\n",
       "      <td>0.002289</td>\n",
       "    </tr>\n",
       "    <tr>\n",
       "      <th>25</th>\n",
       "      <td>category3_Ciências Tecnológicas</td>\n",
       "      <td>0.002055</td>\n",
       "    </tr>\n",
       "    <tr>\n",
       "      <th>26</th>\n",
       "      <td>publisher_Artmed</td>\n",
       "      <td>0.001912</td>\n",
       "    </tr>\n",
       "    <tr>\n",
       "      <th>27</th>\n",
       "      <td>publisher_Edições 70</td>\n",
       "      <td>0.001891</td>\n",
       "    </tr>\n",
       "    <tr>\n",
       "      <th>28</th>\n",
       "      <td>category3_Física</td>\n",
       "      <td>0.001727</td>\n",
       "    </tr>\n",
       "    <tr>\n",
       "      <th>29</th>\n",
       "      <td>publisher_Princeton University Press</td>\n",
       "      <td>0.001610</td>\n",
       "    </tr>\n",
       "    <tr>\n",
       "      <th>...</th>\n",
       "      <td>...</td>\n",
       "      <td>...</td>\n",
       "    </tr>\n",
       "    <tr>\n",
       "      <th>170</th>\n",
       "      <td>category2_Computação, Informática e Mídias Dig...</td>\n",
       "      <td>0.000070</td>\n",
       "    </tr>\n",
       "    <tr>\n",
       "      <th>171</th>\n",
       "      <td>publisher_Saraiva</td>\n",
       "      <td>0.000067</td>\n",
       "    </tr>\n",
       "    <tr>\n",
       "      <th>172</th>\n",
       "      <td>category4_Ecologia</td>\n",
       "      <td>0.000067</td>\n",
       "    </tr>\n",
       "    <tr>\n",
       "      <th>173</th>\n",
       "      <td>publisher_Editora 34</td>\n",
       "      <td>0.000066</td>\n",
       "    </tr>\n",
       "    <tr>\n",
       "      <th>174</th>\n",
       "      <td>publisher_Zahar</td>\n",
       "      <td>0.000066</td>\n",
       "    </tr>\n",
       "    <tr>\n",
       "      <th>175</th>\n",
       "      <td>category4_Finanças e Investimentos</td>\n",
       "      <td>0.000065</td>\n",
       "    </tr>\n",
       "    <tr>\n",
       "      <th>176</th>\n",
       "      <td>category5_Probabilidade e Estatística</td>\n",
       "      <td>0.000065</td>\n",
       "    </tr>\n",
       "    <tr>\n",
       "      <th>177</th>\n",
       "      <td>publisher_Scipione</td>\n",
       "      <td>0.000064</td>\n",
       "    </tr>\n",
       "    <tr>\n",
       "      <th>178</th>\n",
       "      <td>publisher_Wiley-Vch</td>\n",
       "      <td>0.000063</td>\n",
       "    </tr>\n",
       "    <tr>\n",
       "      <th>179</th>\n",
       "      <td>category4_Aplicada</td>\n",
       "      <td>0.000063</td>\n",
       "    </tr>\n",
       "    <tr>\n",
       "      <th>180</th>\n",
       "      <td>category3_Engenharia e Transporte</td>\n",
       "      <td>0.000062</td>\n",
       "    </tr>\n",
       "    <tr>\n",
       "      <th>181</th>\n",
       "      <td>category2_Arte, Cinema e Fotografia</td>\n",
       "      <td>0.000062</td>\n",
       "    </tr>\n",
       "    <tr>\n",
       "      <th>182</th>\n",
       "      <td>publisher_Sterling</td>\n",
       "      <td>0.000061</td>\n",
       "    </tr>\n",
       "    <tr>\n",
       "      <th>183</th>\n",
       "      <td>category6_Análise Vetorial</td>\n",
       "      <td>0.000060</td>\n",
       "    </tr>\n",
       "    <tr>\n",
       "      <th>184</th>\n",
       "      <td>publisher_LeYa</td>\n",
       "      <td>0.000059</td>\n",
       "    </tr>\n",
       "    <tr>\n",
       "      <th>185</th>\n",
       "      <td>publisher_Jelezky Publishing UG</td>\n",
       "      <td>0.000057</td>\n",
       "    </tr>\n",
       "    <tr>\n",
       "      <th>186</th>\n",
       "      <td>category4_Eletromagnetismo</td>\n",
       "      <td>0.000056</td>\n",
       "    </tr>\n",
       "    <tr>\n",
       "      <th>187</th>\n",
       "      <td>publisher_Pensamento</td>\n",
       "      <td>0.000055</td>\n",
       "    </tr>\n",
       "    <tr>\n",
       "      <th>188</th>\n",
       "      <td>publisher_Kaplan Publishing</td>\n",
       "      <td>0.000054</td>\n",
       "    </tr>\n",
       "    <tr>\n",
       "      <th>189</th>\n",
       "      <td>publisher_WWW.Snowballpublishing.com</td>\n",
       "      <td>0.000053</td>\n",
       "    </tr>\n",
       "    <tr>\n",
       "      <th>190</th>\n",
       "      <td>publisher_Penso</td>\n",
       "      <td>0.000053</td>\n",
       "    </tr>\n",
       "    <tr>\n",
       "      <th>191</th>\n",
       "      <td>publisher_Firefly Books</td>\n",
       "      <td>0.000053</td>\n",
       "    </tr>\n",
       "    <tr>\n",
       "      <th>192</th>\n",
       "      <td>publisher_Editora do Autor</td>\n",
       "      <td>0.000051</td>\n",
       "    </tr>\n",
       "    <tr>\n",
       "      <th>193</th>\n",
       "      <td>category4_Escola de Pos-Gradução</td>\n",
       "      <td>0.000050</td>\n",
       "    </tr>\n",
       "    <tr>\n",
       "      <th>194</th>\n",
       "      <td>category4_Teoria</td>\n",
       "      <td>0.000049</td>\n",
       "    </tr>\n",
       "    <tr>\n",
       "      <th>195</th>\n",
       "      <td>category4_Astronomia e Ciência Espacial</td>\n",
       "      <td>0.000049</td>\n",
       "    </tr>\n",
       "    <tr>\n",
       "      <th>196</th>\n",
       "      <td>category3_Infantil e Infantojuvenil</td>\n",
       "      <td>0.000047</td>\n",
       "    </tr>\n",
       "    <tr>\n",
       "      <th>197</th>\n",
       "      <td>publisher_Green Lion Press</td>\n",
       "      <td>0.000047</td>\n",
       "    </tr>\n",
       "    <tr>\n",
       "      <th>198</th>\n",
       "      <td>publisher_Summus</td>\n",
       "      <td>0.000046</td>\n",
       "    </tr>\n",
       "    <tr>\n",
       "      <th>199</th>\n",
       "      <td>category2_Autoajuda</td>\n",
       "      <td>0.000044</td>\n",
       "    </tr>\n",
       "  </tbody>\n",
       "</table>\n",
       "<p>200 rows × 2 columns</p>\n",
       "</div>"
      ],
      "text/plain": [
       "                                                     0         1\n",
       "0                                               height  0.199991\n",
       "1                                                width  0.174737\n",
       "2                               eigenvector_centrality  0.160988\n",
       "3                                                pages  0.096946\n",
       "4                                   publisher_Springer  0.043352\n",
       "5                                               weight  0.037413\n",
       "6                 publisher_Cambridge University Press  0.033184\n",
       "7                                              ranking  0.030764\n",
       "8                                                depth  0.030068\n",
       "9                                      language_Inglês  0.018333\n",
       "10                                 coverType_Capa dura  0.017837\n",
       "11                              betweenness_centrality  0.017761\n",
       "12       publisher_World Scientific Publishing Company  0.014010\n",
       "13                   category2_Inglês e Outras Línguas  0.011991\n",
       "14                                              degree  0.009795\n",
       "15                                  language_Português  0.006588\n",
       "16                                coverType_Capa comum  0.005634\n",
       "17                                         reviewCount  0.004731\n",
       "18                                              rating  0.003467\n",
       "19                                   publisher_Pearson  0.003280\n",
       "20          category2_Educação, Referência e Didáticos  0.003267\n",
       "21                                  publisher_O′Reilly  0.003175\n",
       "22                                publisher_OUP Oxford  0.002705\n",
       "23                  publisher_University Science Books  0.002305\n",
       "24                               publisher_LTC Editora  0.002289\n",
       "25                     category3_Ciências Tecnológicas  0.002055\n",
       "26                                    publisher_Artmed  0.001912\n",
       "27                                publisher_Edições 70  0.001891\n",
       "28                                    category3_Física  0.001727\n",
       "29                publisher_Princeton University Press  0.001610\n",
       "..                                                 ...       ...\n",
       "170  category2_Computação, Informática e Mídias Dig...  0.000070\n",
       "171                                  publisher_Saraiva  0.000067\n",
       "172                                 category4_Ecologia  0.000067\n",
       "173                               publisher_Editora 34  0.000066\n",
       "174                                    publisher_Zahar  0.000066\n",
       "175                 category4_Finanças e Investimentos  0.000065\n",
       "176              category5_Probabilidade e Estatística  0.000065\n",
       "177                                 publisher_Scipione  0.000064\n",
       "178                                publisher_Wiley-Vch  0.000063\n",
       "179                                 category4_Aplicada  0.000063\n",
       "180                  category3_Engenharia e Transporte  0.000062\n",
       "181                category2_Arte, Cinema e Fotografia  0.000062\n",
       "182                                 publisher_Sterling  0.000061\n",
       "183                         category6_Análise Vetorial  0.000060\n",
       "184                                     publisher_LeYa  0.000059\n",
       "185                    publisher_Jelezky Publishing UG  0.000057\n",
       "186                         category4_Eletromagnetismo  0.000056\n",
       "187                               publisher_Pensamento  0.000055\n",
       "188                        publisher_Kaplan Publishing  0.000054\n",
       "189               publisher_WWW.Snowballpublishing.com  0.000053\n",
       "190                                    publisher_Penso  0.000053\n",
       "191                            publisher_Firefly Books  0.000053\n",
       "192                         publisher_Editora do Autor  0.000051\n",
       "193                   category4_Escola de Pos-Gradução  0.000050\n",
       "194                                   category4_Teoria  0.000049\n",
       "195            category4_Astronomia e Ciência Espacial  0.000049\n",
       "196                category3_Infantil e Infantojuvenil  0.000047\n",
       "197                         publisher_Green Lion Press  0.000047\n",
       "198                                   publisher_Summus  0.000046\n",
       "199                                category2_Autoajuda  0.000044\n",
       "\n",
       "[200 rows x 2 columns]"
      ]
     },
     "execution_count": 22,
     "metadata": {},
     "output_type": "execute_result"
    }
   ],
   "source": [
    "importance = zip(feature_list, rf.feature_importances_)\n",
    "importance.sort(key=lambda x:-x[1])\n",
    "pd.DataFrame(importance).head(200)"
   ]
  },
  {
   "cell_type": "markdown",
   "metadata": {},
   "source": [
    "####  Preço previsto vs. Preço real"
   ]
  },
  {
   "cell_type": "code",
   "execution_count": 23,
   "metadata": {
    "ExecuteTime": {
     "end_time": "2018-11-05T09:31:53.846136Z",
     "start_time": "2018-11-05T09:31:53.351314Z"
    }
   },
   "outputs": [
    {
     "data": {
      "image/png": "[encoded data removed]",
      "text/plain": [
       "<matplotlib.figure.Figure at 0x7f3e02038c90>"
      ]
     },
     "metadata": {},
     "output_type": "display_data"
    }
   ],
   "source": [
    "plt.figure(figsize=(8,8), dpi=130)\n",
    "plt.scatter(test_target, predictions, 100, alpha=0.05, edgecolors=\"none\")\n",
    "baseline = [0, np.max(test_target)]\n",
    "plt.plot(baseline, baseline, \"--\", color=\"green\", label = u\"Preço previsto = Preço real\")\n",
    "ax = plt.gca()\n",
    "ax.set_ylabel(u\"Preço previsto (R$)\")\n",
    "ax.set_xlabel(u\"Preço real (R$)\")\n",
    "ax.legend()\n",
    "plt.title(u\"Preço previsto vs. Preço real\")\n",
    "plt.axes().set_aspect('equal', 'datalim')\n",
    "#plt.xlim(0, 150)\n",
    "#plt.ylim(0, 150)\n",
    "plt.show()"
   ]
  },
  {
   "cell_type": "markdown",
   "metadata": {},
   "source": [
    "### Mean absolute error"
   ]
  },
  {
   "cell_type": "markdown",
   "metadata": {},
   "source": [
    "Now we can compare the errors obtained by our predictions against the errors provided by the baseline (average price). Our prediction errors should be less than the baseline errors to consider the model successful."
   ]
  },
  {
   "cell_type": "code",
   "execution_count": 24,
   "metadata": {
    "ExecuteTime": {
     "end_time": "2018-11-05T09:31:53.852318Z",
     "start_time": "2018-11-05T09:31:53.847512Z"
    }
   },
   "outputs": [
    {
     "name": "stdout",
     "output_type": "stream",
     "text": [
      "('Mean absolute prediction error: R$', 19.4)\n",
      "('Mean absolute error using average: R$', 44.6)\n"
     ]
    }
   ],
   "source": [
    "# Calculate the absolute errors\n",
    "errors = abs(predictions - test_target)\n",
    "errors_baseline = abs(average_target - test_target)\n",
    "# Print out the mean absolute error (mae)\n",
    "print('Mean absolute prediction error: R$', round(np.mean(errors), 2))\n",
    "print('Mean absolute error using average: R$',\n",
    "      round(np.mean(errors_baseline), 2))"
   ]
  },
  {
   "cell_type": "markdown",
   "metadata": {},
   "source": [
    "### Worst predictions"
   ]
  },
  {
   "cell_type": "markdown",
   "metadata": {},
   "source": [
    "Below we can inspect the rows with the biggest prediction error."
   ]
  },
  {
   "cell_type": "code",
   "execution_count": 25,
   "metadata": {
    "ExecuteTime": {
     "end_time": "2018-11-05T09:31:53.969126Z",
     "start_time": "2018-11-05T09:31:53.853636Z"
    }
   },
   "outputs": [
    {
     "data": {
      "text/html": [
       "<div>\n",
       "<style scoped>\n",
       "    .dataframe tbody tr th:only-of-type {\n",
       "        vertical-align: middle;\n",
       "    }\n",
       "\n",
       "    .dataframe tbody tr th {\n",
       "        vertical-align: top;\n",
       "    }\n",
       "\n",
       "    .dataframe thead th {\n",
       "        text-align: right;\n",
       "    }\n",
       "</style>\n",
       "<table border=\"1\" class=\"dataframe\">\n",
       "  <thead>\n",
       "    <tr style=\"text-align: right;\">\n",
       "      <th></th>\n",
       "      <th>degree</th>\n",
       "      <th>error</th>\n",
       "      <th>errors_baseline</th>\n",
       "      <th>prediction</th>\n",
       "      <th>target</th>\n",
       "    </tr>\n",
       "  </thead>\n",
       "  <tbody>\n",
       "    <tr>\n",
       "      <th>655</th>\n",
       "      <td>[78.0, 0.0857558887756, 0.00662960589608, 4416...</td>\n",
       "      <td>365.87326</td>\n",
       "      <td>389.662775</td>\n",
       "      <td>91.97674</td>\n",
       "      <td>457.85</td>\n",
       "    </tr>\n",
       "    <tr>\n",
       "      <th>654</th>\n",
       "      <td>[1.0, 0.00191994637408, 0.0, 128507.0, 13.8730...</td>\n",
       "      <td>244.51168</td>\n",
       "      <td>279.672775</td>\n",
       "      <td>103.34832</td>\n",
       "      <td>347.86</td>\n",
       "    </tr>\n",
       "    <tr>\n",
       "      <th>442</th>\n",
       "      <td>[32.0, 0.0696851503013, 0.00176132246306, 3583...</td>\n",
       "      <td>229.62524</td>\n",
       "      <td>402.682775</td>\n",
       "      <td>241.24476</td>\n",
       "      <td>470.87</td>\n",
       "    </tr>\n",
       "    <tr>\n",
       "      <th>130</th>\n",
       "      <td>[33.0, 0.070319621365, 0.00185685271901, 44166...</td>\n",
       "      <td>195.58934</td>\n",
       "      <td>339.402775</td>\n",
       "      <td>212.00066</td>\n",
       "      <td>407.59</td>\n",
       "    </tr>\n",
       "    <tr>\n",
       "      <th>332</th>\n",
       "      <td>[27.0, 0.0608766019643, 0.00119946950387, 4416...</td>\n",
       "      <td>177.63610</td>\n",
       "      <td>354.282775</td>\n",
       "      <td>244.83390</td>\n",
       "      <td>422.47</td>\n",
       "    </tr>\n",
       "    <tr>\n",
       "      <th>614</th>\n",
       "      <td>[8.0, 0.0185953466597, 0.000296601348954, 4416...</td>\n",
       "      <td>177.29850</td>\n",
       "      <td>314.952775</td>\n",
       "      <td>205.84150</td>\n",
       "      <td>383.14</td>\n",
       "    </tr>\n",
       "    <tr>\n",
       "      <th>231</th>\n",
       "      <td>[116.0, 0.115255912433, 0.00861388601227, 2321...</td>\n",
       "      <td>176.85914</td>\n",
       "      <td>423.072775</td>\n",
       "      <td>314.40086</td>\n",
       "      <td>491.26</td>\n",
       "    </tr>\n",
       "    <tr>\n",
       "      <th>289</th>\n",
       "      <td>[53.0, 0.0643325293893, 0.00669490871705, 1091...</td>\n",
       "      <td>166.15074</td>\n",
       "      <td>427.112775</td>\n",
       "      <td>329.14926</td>\n",
       "      <td>495.30</td>\n",
       "    </tr>\n",
       "    <tr>\n",
       "      <th>336</th>\n",
       "      <td>[30.0, 0.0580169156872, 0.00127766898951, 8185...</td>\n",
       "      <td>165.32188</td>\n",
       "      <td>25.542775</td>\n",
       "      <td>259.05188</td>\n",
       "      <td>93.73</td>\n",
       "    </tr>\n",
       "    <tr>\n",
       "      <th>477</th>\n",
       "      <td>[6.0, 0.00713253353327, 0.000499584978784, 441...</td>\n",
       "      <td>158.95144</td>\n",
       "      <td>227.252775</td>\n",
       "      <td>136.48856</td>\n",
       "      <td>295.44</td>\n",
       "    </tr>\n",
       "  </tbody>\n",
       "</table>\n",
       "</div>"
      ],
      "text/plain": [
       "                                                degree      error  \\\n",
       "655  [78.0, 0.0857558887756, 0.00662960589608, 4416...  365.87326   \n",
       "654  [1.0, 0.00191994637408, 0.0, 128507.0, 13.8730...  244.51168   \n",
       "442  [32.0, 0.0696851503013, 0.00176132246306, 3583...  229.62524   \n",
       "130  [33.0, 0.070319621365, 0.00185685271901, 44166...  195.58934   \n",
       "332  [27.0, 0.0608766019643, 0.00119946950387, 4416...  177.63610   \n",
       "614  [8.0, 0.0185953466597, 0.000296601348954, 4416...  177.29850   \n",
       "231  [116.0, 0.115255912433, 0.00861388601227, 2321...  176.85914   \n",
       "289  [53.0, 0.0643325293893, 0.00669490871705, 1091...  166.15074   \n",
       "336  [30.0, 0.0580169156872, 0.00127766898951, 8185...  165.32188   \n",
       "477  [6.0, 0.00713253353327, 0.000499584978784, 441...  158.95144   \n",
       "\n",
       "     errors_baseline  prediction  target  \n",
       "655       389.662775    91.97674  457.85  \n",
       "654       279.672775   103.34832  347.86  \n",
       "442       402.682775   241.24476  470.87  \n",
       "130       339.402775   212.00066  407.59  \n",
       "332       354.282775   244.83390  422.47  \n",
       "614       314.952775   205.84150  383.14  \n",
       "231       423.072775   314.40086  491.26  \n",
       "289       427.112775   329.14926  495.30  \n",
       "336        25.542775   259.05188   93.73  \n",
       "477       227.252775   136.48856  295.44  "
      ]
     },
     "execution_count": 25,
     "metadata": {},
     "output_type": "execute_result"
    }
   ],
   "source": [
    "data = {\n",
    "    \"degree\": test_features.tolist(),\n",
    "    \"target\": test_target,\n",
    "    \"prediction\": predictions,\n",
    "    \"error\": errors,\n",
    "    \"errors_baseline\": errors_baseline\n",
    "}\n",
    "predicted_df = pd.DataFrame(data = data)\n",
    "predicted_df.sort_values('error', ascending = False).head(10)"
   ]
  },
  {
   "cell_type": "markdown",
   "metadata": {},
   "source": [
    "### Best predictions"
   ]
  },
  {
   "cell_type": "code",
   "execution_count": 26,
   "metadata": {
    "ExecuteTime": {
     "end_time": "2018-11-05T09:31:54.039922Z",
     "start_time": "2018-11-05T09:31:53.971191Z"
    }
   },
   "outputs": [
    {
     "data": {
      "text/html": [
       "<div>\n",
       "<style scoped>\n",
       "    .dataframe tbody tr th:only-of-type {\n",
       "        vertical-align: middle;\n",
       "    }\n",
       "\n",
       "    .dataframe tbody tr th {\n",
       "        vertical-align: top;\n",
       "    }\n",
       "\n",
       "    .dataframe thead th {\n",
       "        text-align: right;\n",
       "    }\n",
       "</style>\n",
       "<table border=\"1\" class=\"dataframe\">\n",
       "  <thead>\n",
       "    <tr style=\"text-align: right;\">\n",
       "      <th></th>\n",
       "      <th>degree</th>\n",
       "      <th>error</th>\n",
       "      <th>errors_baseline</th>\n",
       "      <th>prediction</th>\n",
       "      <th>target</th>\n",
       "    </tr>\n",
       "  </thead>\n",
       "  <tbody>\n",
       "    <tr>\n",
       "      <th>105</th>\n",
       "      <td>[1.0, 4.50996325025e-06, 0.0, 24854.0, 13.8730...</td>\n",
       "      <td>0.03714</td>\n",
       "      <td>41.887225</td>\n",
       "      <td>26.33714</td>\n",
       "      <td>26.30</td>\n",
       "    </tr>\n",
       "    <tr>\n",
       "      <th>250</th>\n",
       "      <td>[3.0, 0.00212975246107, 0.000542460052846, 125...</td>\n",
       "      <td>0.04124</td>\n",
       "      <td>2.902775</td>\n",
       "      <td>71.13124</td>\n",
       "      <td>71.09</td>\n",
       "    </tr>\n",
       "    <tr>\n",
       "      <th>706</th>\n",
       "      <td>[2.0, 7.78109476584e-06, 0.00380866529846, 172...</td>\n",
       "      <td>0.06090</td>\n",
       "      <td>4.812775</td>\n",
       "      <td>73.06090</td>\n",
       "      <td>73.00</td>\n",
       "    </tr>\n",
       "    <tr>\n",
       "      <th>589</th>\n",
       "      <td>[2.0, 2.63437878382e-05, 0.000246143003173, 14...</td>\n",
       "      <td>0.06930</td>\n",
       "      <td>39.157225</td>\n",
       "      <td>28.96070</td>\n",
       "      <td>29.03</td>\n",
       "    </tr>\n",
       "    <tr>\n",
       "      <th>660</th>\n",
       "      <td>[18.0, 9.37342571194e-05, 0.00236472965863, 34...</td>\n",
       "      <td>0.13220</td>\n",
       "      <td>46.997225</td>\n",
       "      <td>21.05780</td>\n",
       "      <td>21.19</td>\n",
       "    </tr>\n",
       "    <tr>\n",
       "      <th>89</th>\n",
       "      <td>[7.0, 2.32386077996e-05, 0.00155887334628, 839...</td>\n",
       "      <td>0.14138</td>\n",
       "      <td>47.287225</td>\n",
       "      <td>21.04138</td>\n",
       "      <td>20.90</td>\n",
       "    </tr>\n",
       "    <tr>\n",
       "      <th>737</th>\n",
       "      <td>[3.0, 0.00283964857464, 0.00285218962654, 1302...</td>\n",
       "      <td>0.14974</td>\n",
       "      <td>19.237225</td>\n",
       "      <td>48.80026</td>\n",
       "      <td>48.95</td>\n",
       "    </tr>\n",
       "    <tr>\n",
       "      <th>557</th>\n",
       "      <td>[5.0, 7.66966176255e-05, 0.00278855656408, 412...</td>\n",
       "      <td>0.17578</td>\n",
       "      <td>15.567225</td>\n",
       "      <td>52.79578</td>\n",
       "      <td>52.62</td>\n",
       "    </tr>\n",
       "    <tr>\n",
       "      <th>118</th>\n",
       "      <td>[2.0, 2.7167135419e-05, 0.000267853077182, 866...</td>\n",
       "      <td>0.18010</td>\n",
       "      <td>140.812775</td>\n",
       "      <td>208.81990</td>\n",
       "      <td>209.00</td>\n",
       "    </tr>\n",
       "    <tr>\n",
       "      <th>465</th>\n",
       "      <td>[1.0, 4.7988237127e-06, 0.0, 2021.0, 15.0, 856...</td>\n",
       "      <td>0.20658</td>\n",
       "      <td>93.682775</td>\n",
       "      <td>162.07658</td>\n",
       "      <td>161.87</td>\n",
       "    </tr>\n",
       "  </tbody>\n",
       "</table>\n",
       "</div>"
      ],
      "text/plain": [
       "                                                degree    error  \\\n",
       "105  [1.0, 4.50996325025e-06, 0.0, 24854.0, 13.8730...  0.03714   \n",
       "250  [3.0, 0.00212975246107, 0.000542460052846, 125...  0.04124   \n",
       "706  [2.0, 7.78109476584e-06, 0.00380866529846, 172...  0.06090   \n",
       "589  [2.0, 2.63437878382e-05, 0.000246143003173, 14...  0.06930   \n",
       "660  [18.0, 9.37342571194e-05, 0.00236472965863, 34...  0.13220   \n",
       "89   [7.0, 2.32386077996e-05, 0.00155887334628, 839...  0.14138   \n",
       "737  [3.0, 0.00283964857464, 0.00285218962654, 1302...  0.14974   \n",
       "557  [5.0, 7.66966176255e-05, 0.00278855656408, 412...  0.17578   \n",
       "118  [2.0, 2.7167135419e-05, 0.000267853077182, 866...  0.18010   \n",
       "465  [1.0, 4.7988237127e-06, 0.0, 2021.0, 15.0, 856...  0.20658   \n",
       "\n",
       "     errors_baseline  prediction  target  \n",
       "105        41.887225    26.33714   26.30  \n",
       "250         2.902775    71.13124   71.09  \n",
       "706         4.812775    73.06090   73.00  \n",
       "589        39.157225    28.96070   29.03  \n",
       "660        46.997225    21.05780   21.19  \n",
       "89         47.287225    21.04138   20.90  \n",
       "737        19.237225    48.80026   48.95  \n",
       "557        15.567225    52.79578   52.62  \n",
       "118       140.812775   208.81990  209.00  \n",
       "465        93.682775   162.07658  161.87  "
      ]
     },
     "execution_count": 26,
     "metadata": {},
     "output_type": "execute_result"
    }
   ],
   "source": [
    "predicted_df.sort_values('error', ascending = True).head(10)"
   ]
  },
  {
   "cell_type": "code",
   "execution_count": 27,
   "metadata": {
    "ExecuteTime": {
     "end_time": "2018-11-05T09:31:54.084881Z",
     "start_time": "2018-11-05T09:31:54.048881Z"
    }
   },
   "outputs": [
    {
     "data": {
      "text/html": [
       "<div>\n",
       "<style scoped>\n",
       "    .dataframe tbody tr th:only-of-type {\n",
       "        vertical-align: middle;\n",
       "    }\n",
       "\n",
       "    .dataframe tbody tr th {\n",
       "        vertical-align: top;\n",
       "    }\n",
       "\n",
       "    .dataframe thead th {\n",
       "        text-align: right;\n",
       "    }\n",
       "</style>\n",
       "<table border=\"1\" class=\"dataframe\">\n",
       "  <thead>\n",
       "    <tr style=\"text-align: right;\">\n",
       "      <th></th>\n",
       "      <th>error</th>\n",
       "      <th>errors_baseline</th>\n",
       "      <th>prediction</th>\n",
       "      <th>target</th>\n",
       "    </tr>\n",
       "  </thead>\n",
       "  <tbody>\n",
       "    <tr>\n",
       "      <th>count</th>\n",
       "      <td>768.000000</td>\n",
       "      <td>768.000000</td>\n",
       "      <td>768.000000</td>\n",
       "      <td>768.000000</td>\n",
       "    </tr>\n",
       "    <tr>\n",
       "      <th>mean</th>\n",
       "      <td>19.402931</td>\n",
       "      <td>44.596121</td>\n",
       "      <td>65.426856</td>\n",
       "      <td>67.270833</td>\n",
       "    </tr>\n",
       "    <tr>\n",
       "      <th>std</th>\n",
       "      <td>32.381932</td>\n",
       "      <td>58.430644</td>\n",
       "      <td>58.047174</td>\n",
       "      <td>73.516708</td>\n",
       "    </tr>\n",
       "    <tr>\n",
       "      <th>min</th>\n",
       "      <td>0.037140</td>\n",
       "      <td>0.287225</td>\n",
       "      <td>11.611060</td>\n",
       "      <td>5.900000</td>\n",
       "    </tr>\n",
       "    <tr>\n",
       "      <th>25%</th>\n",
       "      <td>4.309765</td>\n",
       "      <td>19.287225</td>\n",
       "      <td>31.685765</td>\n",
       "      <td>29.900000</td>\n",
       "    </tr>\n",
       "    <tr>\n",
       "      <th>50%</th>\n",
       "      <td>9.413550</td>\n",
       "      <td>32.540000</td>\n",
       "      <td>43.078050</td>\n",
       "      <td>44.145000</td>\n",
       "    </tr>\n",
       "    <tr>\n",
       "      <th>75%</th>\n",
       "      <td>19.527465</td>\n",
       "      <td>45.412225</td>\n",
       "      <td>74.719440</td>\n",
       "      <td>70.040000</td>\n",
       "    </tr>\n",
       "    <tr>\n",
       "      <th>max</th>\n",
       "      <td>365.873260</td>\n",
       "      <td>427.112775</td>\n",
       "      <td>418.264120</td>\n",
       "      <td>495.300000</td>\n",
       "    </tr>\n",
       "  </tbody>\n",
       "</table>\n",
       "</div>"
      ],
      "text/plain": [
       "            error  errors_baseline  prediction      target\n",
       "count  768.000000       768.000000  768.000000  768.000000\n",
       "mean    19.402931        44.596121   65.426856   67.270833\n",
       "std     32.381932        58.430644   58.047174   73.516708\n",
       "min      0.037140         0.287225   11.611060    5.900000\n",
       "25%      4.309765        19.287225   31.685765   29.900000\n",
       "50%      9.413550        32.540000   43.078050   44.145000\n",
       "75%     19.527465        45.412225   74.719440   70.040000\n",
       "max    365.873260       427.112775  418.264120  495.300000"
      ]
     },
     "execution_count": 27,
     "metadata": {},
     "output_type": "execute_result"
    }
   ],
   "source": [
    "predicted_df.describe()"
   ]
  },
  {
   "cell_type": "markdown",
   "metadata": {},
   "source": [
    "### Visualize decision tree"
   ]
  },
  {
   "cell_type": "code",
   "execution_count": 28,
   "metadata": {
    "ExecuteTime": {
     "end_time": "2018-08-11T12:29:52.886454Z",
     "start_time": "2018-08-11T12:29:49.054278Z"
    },
    "collapsed": true,
    "deletable": false,
    "editable": false,
    "run_control": {
     "frozen": true
    }
   },
   "outputs": [],
   "source": [
    "# Pull out one tree from the forest\n",
    "tree = rf.estimators_[0]\n",
    "# Export the image to a dot file\n",
    "export_graphviz(tree, out_file = 'tree.dot',\n",
    "                feature_names = feature_list, rounded = True)\n",
    "# Use dot file to create a graph\n",
    "(graph, ) = pydot.graph_from_dot_file('tree.dot')\n",
    "# Write graph to a png file\n",
    "graph.write_png('tree.png')"
   ]
  },
  {
   "cell_type": "markdown",
   "metadata": {},
   "source": [
    "<img src=\"files/image.png\">"
   ]
  }
 ],
 "metadata": {
  "kernelspec": {
   "display_name": "Python 2",
   "language": "python",
   "name": "python2"
  },
  "language_info": {
   "codemirror_mode": {
    "name": "ipython",
    "version": 2
   },
   "file_extension": ".py",
   "mimetype": "text/x-python",
   "name": "python",
   "nbconvert_exporter": "python",
   "pygments_lexer": "ipython2",
   "version": "2.7.13"
  },
  "toc": {
   "base_numbering": 1,
   "nav_menu": {
    "height": "591px",
    "width": "459px"
   },
   "number_sections": true,
   "sideBar": true,
   "skip_h1_title": false,
   "title_cell": "Table of Contents",
   "title_sidebar": "Contents",
   "toc_cell": false,
   "toc_position": {},
   "toc_section_display": true,
   "toc_window_display": true
  },
  "varInspector": {
   "cols": {
    "lenName": 16,
    "lenType": 16,
    "lenVar": 40
   },
   "kernels_config": {
    "python": {
     "delete_cmd_postfix": "",
     "delete_cmd_prefix": "del ",
     "library": "var_list.py",
     "varRefreshCmd": "print(var_dic_list())"
    },
    "r": {
     "delete_cmd_postfix": ") ",
     "delete_cmd_prefix": "rm(",
     "library": "var_list.r",
     "varRefreshCmd": "cat(var_dic_list()) "
    }
   },
   "position": {
    "height": "241px",
    "left": "1550px",
    "right": "20px",
    "top": "120px",
    "width": "353px"
   },
   "types_to_exclude": [
    "module",
    "function",
    "builtin_function_or_method",
    "instance",
    "_Feature"
   ],
   "window_display": false
  }
 },
 "nbformat": 4,
 "nbformat_minor": 2
}
