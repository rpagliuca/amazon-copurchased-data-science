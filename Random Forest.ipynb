{
 "cells": [
  {
   "cell_type": "markdown",
   "metadata": {},
   "source": [
    "# Amazon Copurchased"
   ]
  },
  {
   "cell_type": "markdown",
   "metadata": {},
   "source": [
    "This is a Python notebook created using \"jupyter\".\n",
    "\n",
    "Author: Rafael J. P. dos Santos"
   ]
  },
  {
   "cell_type": "markdown",
   "metadata": {},
   "source": [
    "## Parameters"
   ]
  },
  {
   "cell_type": "markdown",
   "metadata": {},
   "source": [
    "We use the parameter below to set the maximum number of edges to be read from the CSV containing edges (links)."
   ]
  },
  {
   "cell_type": "code",
   "execution_count": 1,
   "metadata": {
    "collapsed": true
   },
   "outputs": [],
   "source": [
    "max_edges = 1000 # Set to 0 to read all nodes from file\n",
    "edges_csv_file = \"data/20180810_links\"\n",
    "nodes_csv_file = \"data/20180810_nodes\""
   ]
  },
  {
   "cell_type": "markdown",
   "metadata": {},
   "source": [
    "## Load the libraries"
   ]
  },
  {
   "cell_type": "markdown",
   "metadata": {},
   "source": [
    "Let's load the Python libraries that we will need throughout the script"
   ]
  },
  {
   "cell_type": "code",
   "execution_count": 2,
   "metadata": {
    "collapsed": true
   },
   "outputs": [],
   "source": [
    "import networkx as nx\n",
    "import matplotlib.pyplot as plt\n",
    "import pandas as pd\n",
    "from sklearn.model_selection import train_test_split\n",
    "import numpy as np\n",
    "from sklearn.tree import export_graphviz\n",
    "import pydot\n",
    "from sklearn.ensemble import RandomForestRegressor"
   ]
  },
  {
   "cell_type": "markdown",
   "metadata": {},
   "source": [
    "## Read graph"
   ]
  },
  {
   "cell_type": "markdown",
   "metadata": {},
   "source": [
    "### Read only first lines of datafile"
   ]
  },
  {
   "cell_type": "markdown",
   "metadata": {},
   "source": [
    "Due to slowness in calculating centrality measures, we use the parameter provided in the beggining of the script to limit the number of edges we will read."
   ]
  },
  {
   "cell_type": "code",
   "execution_count": 3,
   "metadata": {
    "collapsed": true
   },
   "outputs": [],
   "source": [
    "lines = []\n",
    "with open(edges_csv_file, 'rb') as f:\n",
    "    f.readline()   # skip first line / header\n",
    "    while True:\n",
    "        line = f.readline()\n",
    "        if not line or (max_edges > 0 and len(lines) >= max_edges):\n",
    "            break\n",
    "        lines.append(line)\n",
    "G = nx.parse_edgelist(lines, delimiter=',', nodetype=int)"
   ]
  },
  {
   "cell_type": "markdown",
   "metadata": {},
   "source": [
    "### Calculate nodes centrality measures"
   ]
  },
  {
   "cell_type": "markdown",
   "metadata": {},
   "source": [
    "Now that we have our NetworkX graph, let's calculate some centrality measures for every node."
   ]
  },
  {
   "cell_type": "markdown",
   "metadata": {},
   "source": [
    "#### Degree"
   ]
  },
  {
   "cell_type": "code",
   "execution_count": 4,
   "metadata": {
    "collapsed": true
   },
   "outputs": [],
   "source": [
    "degrees = nx.degree(G)"
   ]
  },
  {
   "cell_type": "markdown",
   "metadata": {},
   "source": [
    "#### Eigenvector centrality"
   ]
  },
  {
   "cell_type": "code",
   "execution_count": 5,
   "metadata": {
    "collapsed": true
   },
   "outputs": [],
   "source": [
    "ec = nx.eigenvector_centrality(G)"
   ]
  },
  {
   "cell_type": "markdown",
   "metadata": {},
   "source": [
    "#### Closeness centrality"
   ]
  },
  {
   "cell_type": "code",
   "execution_count": 6,
   "metadata": {
    "collapsed": true
   },
   "outputs": [],
   "source": [
    "# Very slow!\n",
    "cc = nx.closeness_centrality(G)"
   ]
  },
  {
   "cell_type": "markdown",
   "metadata": {},
   "source": [
    "#### Betweenness centrality"
   ]
  },
  {
   "cell_type": "code",
   "execution_count": 7,
   "metadata": {
    "collapsed": true
   },
   "outputs": [],
   "source": [
    "# Very slow!\n",
    "bc = nx.betweenness_centrality(G)"
   ]
  },
  {
   "cell_type": "markdown",
   "metadata": {
    "collapsed": true
   },
   "source": [
    "### Load node properties"
   ]
  },
  {
   "cell_type": "markdown",
   "metadata": {},
   "source": [
    "Let's load the CSV containing the nodes data (title, price) into a Pandas dataframe, and append the centrality measures calculated above."
   ]
  },
  {
   "cell_type": "code",
   "execution_count": 8,
   "metadata": {
    "collapsed": true
   },
   "outputs": [],
   "source": [
    "df = pd.read_csv(nodes_csv_file)\n",
    "df['degree'] = None\n",
    "df['eigenvector_centrality'] = None\n",
    "df['closeness_centrality'] = None\n",
    "df['betweenness_centrality'] = None\n",
    "for index, row in df.iterrows():\n",
    "    try:\n",
    "        df.loc[index, 'degree'] = degrees[row['id']]\n",
    "        df.loc[index, 'eigenvector_centrality'] = ec[row['id']]\n",
    "        df.loc[index, 'closeness_centrality'] = cc[row['id']]\n",
    "        df.loc[index, 'betweenness_centrality'] = bc[row['id']]\n",
    "    except:\n",
    "        df.drop([index], inplace=True)"
   ]
  },
  {
   "cell_type": "markdown",
   "metadata": {},
   "source": [
    "### Let's convert some fields to numeric"
   ]
  },
  {
   "cell_type": "code",
   "execution_count": 9,
   "metadata": {
    "collapsed": true
   },
   "outputs": [],
   "source": [
    "categorical_features = [\n",
    "    'category1',\n",
    "    'category2',\n",
    "    'category3',\n",
    "    'language',\n",
    "    'coverType',\n",
    "    'publisher',\n",
    "    'rankingCategory'\n",
    "]\n",
    "\n",
    "numeric_features = [\n",
    "    'degree',\n",
    "    'eigenvector_centrality',\n",
    "    'closeness_centrality',\n",
    "    'betweenness_centrality',\n",
    "    'ranking',\n",
    "    'reviewCount',\n",
    "    'pages',\n",
    "    'weight',\n",
    "    'height',\n",
    "    'width',\n",
    "    'depth',\n",
    "    'rating'\n",
    "]\n",
    "\n",
    "df = df.replace(\"<<MISSING_DATA>>\", np.NaN)\n",
    "df[numeric_features] = df[numeric_features].apply(pd.to_numeric)\n",
    "df[['price']] = df[['price']].apply(pd.to_numeric)\n",
    "\n",
    "for feature in numeric_features:\n",
    "    df[feature].fillna(df[feature].mean(), inplace = True)"
   ]
  },
  {
   "cell_type": "markdown",
   "metadata": {},
   "source": [
    "### Remove nodes without price and outliers"
   ]
  },
  {
   "cell_type": "code",
   "execution_count": 10,
   "metadata": {
    "collapsed": true
   },
   "outputs": [],
   "source": [
    "df = df.drop(df[df[\"price\"].isnull()].index)\n",
    "df = df.drop(df[df[\"price\"] > 300].index)"
   ]
  },
  {
   "cell_type": "markdown",
   "metadata": {},
   "source": [
    "### Inspect columns"
   ]
  },
  {
   "cell_type": "code",
   "execution_count": 11,
   "metadata": {},
   "outputs": [
    {
     "data": {
      "text/plain": [
       "Index([u'id', u'title', u'url', u'authors', u'coverType', u'publisher',\n",
       "       u'edition', u'publicationDate', u'rankingCategory', u'category1',\n",
       "       u'category2', u'category3', u'category4', u'category5', u'category6',\n",
       "       u'category7', u'category8', u'category9', u'category10', u'isbn10',\n",
       "       u'isbn13', u'language', u'postProcessed', u'price', u'ranking',\n",
       "       u'pages', u'reviewCount', u'rating', u'width', u'height', u'depth',\n",
       "       u'weight', u'degree', u'eigenvector_centrality',\n",
       "       u'closeness_centrality', u'betweenness_centrality'],\n",
       "      dtype='object')"
      ]
     },
     "execution_count": 11,
     "metadata": {},
     "output_type": "execute_result"
    }
   ],
   "source": [
    "df.columns"
   ]
  },
  {
   "cell_type": "markdown",
   "metadata": {},
   "source": [
    "### Features summary"
   ]
  },
  {
   "cell_type": "markdown",
   "metadata": {},
   "source": [
    "Below we have a summary of the Pandas dataframe. We can see the number of nodes that we are actually analyzing, which depends on the max_edges parameter defined before."
   ]
  },
  {
   "cell_type": "code",
   "execution_count": 12,
   "metadata": {},
   "outputs": [
    {
     "data": {
      "text/html": [
       "<div>\n",
       "<style scoped>\n",
       "    .dataframe tbody tr th:only-of-type {\n",
       "        vertical-align: middle;\n",
       "    }\n",
       "\n",
       "    .dataframe tbody tr th {\n",
       "        vertical-align: top;\n",
       "    }\n",
       "\n",
       "    .dataframe thead th {\n",
       "        text-align: right;\n",
       "    }\n",
       "</style>\n",
       "<table border=\"1\" class=\"dataframe\">\n",
       "  <thead>\n",
       "    <tr style=\"text-align: right;\">\n",
       "      <th></th>\n",
       "      <th>id</th>\n",
       "      <th>title</th>\n",
       "      <th>url</th>\n",
       "      <th>authors</th>\n",
       "      <th>coverType</th>\n",
       "      <th>publisher</th>\n",
       "      <th>edition</th>\n",
       "      <th>publicationDate</th>\n",
       "      <th>rankingCategory</th>\n",
       "      <th>category1</th>\n",
       "      <th>...</th>\n",
       "      <th>reviewCount</th>\n",
       "      <th>rating</th>\n",
       "      <th>width</th>\n",
       "      <th>height</th>\n",
       "      <th>depth</th>\n",
       "      <th>weight</th>\n",
       "      <th>degree</th>\n",
       "      <th>eigenvector_centrality</th>\n",
       "      <th>closeness_centrality</th>\n",
       "      <th>betweenness_centrality</th>\n",
       "    </tr>\n",
       "  </thead>\n",
       "  <tbody>\n",
       "    <tr>\n",
       "      <th>count</th>\n",
       "      <td>375.000000</td>\n",
       "      <td>375</td>\n",
       "      <td>375</td>\n",
       "      <td>375</td>\n",
       "      <td>373</td>\n",
       "      <td>373</td>\n",
       "      <td>0.0</td>\n",
       "      <td>57</td>\n",
       "      <td>366</td>\n",
       "      <td>366</td>\n",
       "      <td>...</td>\n",
       "      <td>375.000000</td>\n",
       "      <td>375.000000</td>\n",
       "      <td>375.000000</td>\n",
       "      <td>375.000000</td>\n",
       "      <td>375.000000</td>\n",
       "      <td>375.000000</td>\n",
       "      <td>375.000000</td>\n",
       "      <td>375.000000</td>\n",
       "      <td>375.000000</td>\n",
       "      <td>375.000000</td>\n",
       "    </tr>\n",
       "    <tr>\n",
       "      <th>unique</th>\n",
       "      <td>NaN</td>\n",
       "      <td>363</td>\n",
       "      <td>375</td>\n",
       "      <td>299</td>\n",
       "      <td>2</td>\n",
       "      <td>97</td>\n",
       "      <td>NaN</td>\n",
       "      <td>56</td>\n",
       "      <td>1</td>\n",
       "      <td>1</td>\n",
       "      <td>...</td>\n",
       "      <td>NaN</td>\n",
       "      <td>NaN</td>\n",
       "      <td>NaN</td>\n",
       "      <td>NaN</td>\n",
       "      <td>NaN</td>\n",
       "      <td>NaN</td>\n",
       "      <td>NaN</td>\n",
       "      <td>NaN</td>\n",
       "      <td>NaN</td>\n",
       "      <td>NaN</td>\n",
       "    </tr>\n",
       "    <tr>\n",
       "      <th>top</th>\n",
       "      <td>NaN</td>\n",
       "      <td>Cálculo - Volume 2</td>\n",
       "      <td>https://www.amazon.com.br/dp/8577804828/</td>\n",
       "      <td>Richard P. Feynman (Autor),</td>\n",
       "      <td>Capa comum</td>\n",
       "      <td>Dover Publications</td>\n",
       "      <td>NaN</td>\n",
       "      <td>27 de agosto de 2018</td>\n",
       "      <td>Livros</td>\n",
       "      <td>Livros</td>\n",
       "      <td>...</td>\n",
       "      <td>NaN</td>\n",
       "      <td>NaN</td>\n",
       "      <td>NaN</td>\n",
       "      <td>NaN</td>\n",
       "      <td>NaN</td>\n",
       "      <td>NaN</td>\n",
       "      <td>NaN</td>\n",
       "      <td>NaN</td>\n",
       "      <td>NaN</td>\n",
       "      <td>NaN</td>\n",
       "    </tr>\n",
       "    <tr>\n",
       "      <th>freq</th>\n",
       "      <td>NaN</td>\n",
       "      <td>4</td>\n",
       "      <td>1</td>\n",
       "      <td>6</td>\n",
       "      <td>345</td>\n",
       "      <td>56</td>\n",
       "      <td>NaN</td>\n",
       "      <td>2</td>\n",
       "      <td>366</td>\n",
       "      <td>366</td>\n",
       "      <td>...</td>\n",
       "      <td>NaN</td>\n",
       "      <td>NaN</td>\n",
       "      <td>NaN</td>\n",
       "      <td>NaN</td>\n",
       "      <td>NaN</td>\n",
       "      <td>NaN</td>\n",
       "      <td>NaN</td>\n",
       "      <td>NaN</td>\n",
       "      <td>NaN</td>\n",
       "      <td>NaN</td>\n",
       "    </tr>\n",
       "    <tr>\n",
       "      <th>mean</th>\n",
       "      <td>775.485333</td>\n",
       "      <td>NaN</td>\n",
       "      <td>NaN</td>\n",
       "      <td>NaN</td>\n",
       "      <td>NaN</td>\n",
       "      <td>NaN</td>\n",
       "      <td>NaN</td>\n",
       "      <td>NaN</td>\n",
       "      <td>NaN</td>\n",
       "      <td>NaN</td>\n",
       "      <td>...</td>\n",
       "      <td>6.309290</td>\n",
       "      <td>4.582593</td>\n",
       "      <td>16.332356</td>\n",
       "      <td>23.407024</td>\n",
       "      <td>2.174415</td>\n",
       "      <td>461.237480</td>\n",
       "      <td>4.320000</td>\n",
       "      <td>0.023805</td>\n",
       "      <td>0.270281</td>\n",
       "      <td>0.006517</td>\n",
       "    </tr>\n",
       "    <tr>\n",
       "      <th>std</th>\n",
       "      <td>1252.259976</td>\n",
       "      <td>NaN</td>\n",
       "      <td>NaN</td>\n",
       "      <td>NaN</td>\n",
       "      <td>NaN</td>\n",
       "      <td>NaN</td>\n",
       "      <td>NaN</td>\n",
       "      <td>NaN</td>\n",
       "      <td>NaN</td>\n",
       "      <td>NaN</td>\n",
       "      <td>...</td>\n",
       "      <td>13.445275</td>\n",
       "      <td>0.444681</td>\n",
       "      <td>2.718732</td>\n",
       "      <td>2.592803</td>\n",
       "      <td>1.033565</td>\n",
       "      <td>208.744110</td>\n",
       "      <td>7.745898</td>\n",
       "      <td>0.040681</td>\n",
       "      <td>0.033856</td>\n",
       "      <td>0.023048</td>\n",
       "    </tr>\n",
       "    <tr>\n",
       "      <th>min</th>\n",
       "      <td>1.000000</td>\n",
       "      <td>NaN</td>\n",
       "      <td>NaN</td>\n",
       "      <td>NaN</td>\n",
       "      <td>NaN</td>\n",
       "      <td>NaN</td>\n",
       "      <td>NaN</td>\n",
       "      <td>NaN</td>\n",
       "      <td>NaN</td>\n",
       "      <td>NaN</td>\n",
       "      <td>...</td>\n",
       "      <td>1.000000</td>\n",
       "      <td>1.900000</td>\n",
       "      <td>10.200000</td>\n",
       "      <td>14.800000</td>\n",
       "      <td>0.400000</td>\n",
       "      <td>59.000000</td>\n",
       "      <td>1.000000</td>\n",
       "      <td>0.000335</td>\n",
       "      <td>0.201346</td>\n",
       "      <td>0.000000</td>\n",
       "    </tr>\n",
       "    <tr>\n",
       "      <th>25%</th>\n",
       "      <td>108.000000</td>\n",
       "      <td>NaN</td>\n",
       "      <td>NaN</td>\n",
       "      <td>NaN</td>\n",
       "      <td>NaN</td>\n",
       "      <td>NaN</td>\n",
       "      <td>NaN</td>\n",
       "      <td>NaN</td>\n",
       "      <td>NaN</td>\n",
       "      <td>NaN</td>\n",
       "      <td>...</td>\n",
       "      <td>2.000000</td>\n",
       "      <td>4.592276</td>\n",
       "      <td>14.000000</td>\n",
       "      <td>21.400000</td>\n",
       "      <td>1.400000</td>\n",
       "      <td>322.000000</td>\n",
       "      <td>1.000000</td>\n",
       "      <td>0.003075</td>\n",
       "      <td>0.251199</td>\n",
       "      <td>0.000000</td>\n",
       "    </tr>\n",
       "    <tr>\n",
       "      <th>50%</th>\n",
       "      <td>267.000000</td>\n",
       "      <td>NaN</td>\n",
       "      <td>NaN</td>\n",
       "      <td>NaN</td>\n",
       "      <td>NaN</td>\n",
       "      <td>NaN</td>\n",
       "      <td>NaN</td>\n",
       "      <td>NaN</td>\n",
       "      <td>NaN</td>\n",
       "      <td>NaN</td>\n",
       "      <td>...</td>\n",
       "      <td>6.260163</td>\n",
       "      <td>4.592276</td>\n",
       "      <td>15.800000</td>\n",
       "      <td>22.900000</td>\n",
       "      <td>2.000000</td>\n",
       "      <td>464.027987</td>\n",
       "      <td>1.000000</td>\n",
       "      <td>0.007483</td>\n",
       "      <td>0.269627</td>\n",
       "      <td>0.000000</td>\n",
       "    </tr>\n",
       "    <tr>\n",
       "      <th>75%</th>\n",
       "      <td>457.000000</td>\n",
       "      <td>NaN</td>\n",
       "      <td>NaN</td>\n",
       "      <td>NaN</td>\n",
       "      <td>NaN</td>\n",
       "      <td>NaN</td>\n",
       "      <td>NaN</td>\n",
       "      <td>NaN</td>\n",
       "      <td>NaN</td>\n",
       "      <td>NaN</td>\n",
       "      <td>...</td>\n",
       "      <td>6.260163</td>\n",
       "      <td>5.000000</td>\n",
       "      <td>17.800000</td>\n",
       "      <td>24.650000</td>\n",
       "      <td>2.800000</td>\n",
       "      <td>574.000000</td>\n",
       "      <td>3.000000</td>\n",
       "      <td>0.021563</td>\n",
       "      <td>0.288369</td>\n",
       "      <td>0.000645</td>\n",
       "    </tr>\n",
       "    <tr>\n",
       "      <th>max</th>\n",
       "      <td>9160.000000</td>\n",
       "      <td>NaN</td>\n",
       "      <td>NaN</td>\n",
       "      <td>NaN</td>\n",
       "      <td>NaN</td>\n",
       "      <td>NaN</td>\n",
       "      <td>NaN</td>\n",
       "      <td>NaN</td>\n",
       "      <td>NaN</td>\n",
       "      <td>NaN</td>\n",
       "      <td>...</td>\n",
       "      <td>219.000000</td>\n",
       "      <td>5.000000</td>\n",
       "      <td>22.400000</td>\n",
       "      <td>29.400000</td>\n",
       "      <td>5.600000</td>\n",
       "      <td>998.000000</td>\n",
       "      <td>69.000000</td>\n",
       "      <td>0.244177</td>\n",
       "      <td>0.393427</td>\n",
       "      <td>0.229089</td>\n",
       "    </tr>\n",
       "  </tbody>\n",
       "</table>\n",
       "<p>11 rows × 36 columns</p>\n",
       "</div>"
      ],
      "text/plain": [
       "                 id               title  \\\n",
       "count    375.000000                 375   \n",
       "unique          NaN                 363   \n",
       "top             NaN  Cálculo - Volume 2   \n",
       "freq            NaN                   4   \n",
       "mean     775.485333                 NaN   \n",
       "std     1252.259976                 NaN   \n",
       "min        1.000000                 NaN   \n",
       "25%      108.000000                 NaN   \n",
       "50%      267.000000                 NaN   \n",
       "75%      457.000000                 NaN   \n",
       "max     9160.000000                 NaN   \n",
       "\n",
       "                                             url                      authors  \\\n",
       "count                                        375                          375   \n",
       "unique                                       375                          299   \n",
       "top     https://www.amazon.com.br/dp/8577804828/  Richard P. Feynman (Autor),   \n",
       "freq                                           1                            6   \n",
       "mean                                         NaN                          NaN   \n",
       "std                                          NaN                          NaN   \n",
       "min                                          NaN                          NaN   \n",
       "25%                                          NaN                          NaN   \n",
       "50%                                          NaN                          NaN   \n",
       "75%                                          NaN                          NaN   \n",
       "max                                          NaN                          NaN   \n",
       "\n",
       "         coverType           publisher  edition       publicationDate  \\\n",
       "count          373                 373      0.0                    57   \n",
       "unique           2                  97      NaN                    56   \n",
       "top     Capa comum  Dover Publications      NaN  27 de agosto de 2018   \n",
       "freq           345                  56      NaN                     2   \n",
       "mean           NaN                 NaN      NaN                   NaN   \n",
       "std            NaN                 NaN      NaN                   NaN   \n",
       "min            NaN                 NaN      NaN                   NaN   \n",
       "25%            NaN                 NaN      NaN                   NaN   \n",
       "50%            NaN                 NaN      NaN                   NaN   \n",
       "75%            NaN                 NaN      NaN                   NaN   \n",
       "max            NaN                 NaN      NaN                   NaN   \n",
       "\n",
       "       rankingCategory category1          ...           reviewCount  \\\n",
       "count              366       366          ...            375.000000   \n",
       "unique               1         1          ...                   NaN   \n",
       "top             Livros    Livros          ...                   NaN   \n",
       "freq               366       366          ...                   NaN   \n",
       "mean               NaN       NaN          ...              6.309290   \n",
       "std                NaN       NaN          ...             13.445275   \n",
       "min                NaN       NaN          ...              1.000000   \n",
       "25%                NaN       NaN          ...              2.000000   \n",
       "50%                NaN       NaN          ...              6.260163   \n",
       "75%                NaN       NaN          ...              6.260163   \n",
       "max                NaN       NaN          ...            219.000000   \n",
       "\n",
       "            rating       width      height       depth      weight  \\\n",
       "count   375.000000  375.000000  375.000000  375.000000  375.000000   \n",
       "unique         NaN         NaN         NaN         NaN         NaN   \n",
       "top            NaN         NaN         NaN         NaN         NaN   \n",
       "freq           NaN         NaN         NaN         NaN         NaN   \n",
       "mean      4.582593   16.332356   23.407024    2.174415  461.237480   \n",
       "std       0.444681    2.718732    2.592803    1.033565  208.744110   \n",
       "min       1.900000   10.200000   14.800000    0.400000   59.000000   \n",
       "25%       4.592276   14.000000   21.400000    1.400000  322.000000   \n",
       "50%       4.592276   15.800000   22.900000    2.000000  464.027987   \n",
       "75%       5.000000   17.800000   24.650000    2.800000  574.000000   \n",
       "max       5.000000   22.400000   29.400000    5.600000  998.000000   \n",
       "\n",
       "            degree  eigenvector_centrality  closeness_centrality  \\\n",
       "count   375.000000              375.000000            375.000000   \n",
       "unique         NaN                     NaN                   NaN   \n",
       "top            NaN                     NaN                   NaN   \n",
       "freq           NaN                     NaN                   NaN   \n",
       "mean      4.320000                0.023805              0.270281   \n",
       "std       7.745898                0.040681              0.033856   \n",
       "min       1.000000                0.000335              0.201346   \n",
       "25%       1.000000                0.003075              0.251199   \n",
       "50%       1.000000                0.007483              0.269627   \n",
       "75%       3.000000                0.021563              0.288369   \n",
       "max      69.000000                0.244177              0.393427   \n",
       "\n",
       "       betweenness_centrality  \n",
       "count              375.000000  \n",
       "unique                    NaN  \n",
       "top                       NaN  \n",
       "freq                      NaN  \n",
       "mean                 0.006517  \n",
       "std                  0.023048  \n",
       "min                  0.000000  \n",
       "25%                  0.000000  \n",
       "50%                  0.000000  \n",
       "75%                  0.000645  \n",
       "max                  0.229089  \n",
       "\n",
       "[11 rows x 36 columns]"
      ]
     },
     "execution_count": 12,
     "metadata": {},
     "output_type": "execute_result"
    }
   ],
   "source": [
    "df.describe(include='all')"
   ]
  },
  {
   "cell_type": "markdown",
   "metadata": {},
   "source": [
    "Below we can inspect the first rows of data, containing title, price, degree and other centrality measures."
   ]
  },
  {
   "cell_type": "code",
   "execution_count": 13,
   "metadata": {},
   "outputs": [
    {
     "data": {
      "text/html": [
       "<div>\n",
       "<style scoped>\n",
       "    .dataframe tbody tr th:only-of-type {\n",
       "        vertical-align: middle;\n",
       "    }\n",
       "\n",
       "    .dataframe tbody tr th {\n",
       "        vertical-align: top;\n",
       "    }\n",
       "\n",
       "    .dataframe thead th {\n",
       "        text-align: right;\n",
       "    }\n",
       "</style>\n",
       "<table border=\"1\" class=\"dataframe\">\n",
       "  <thead>\n",
       "    <tr style=\"text-align: right;\">\n",
       "      <th></th>\n",
       "      <th>id</th>\n",
       "      <th>title</th>\n",
       "      <th>url</th>\n",
       "      <th>authors</th>\n",
       "      <th>coverType</th>\n",
       "      <th>publisher</th>\n",
       "      <th>edition</th>\n",
       "      <th>publicationDate</th>\n",
       "      <th>rankingCategory</th>\n",
       "      <th>category1</th>\n",
       "      <th>...</th>\n",
       "      <th>reviewCount</th>\n",
       "      <th>rating</th>\n",
       "      <th>width</th>\n",
       "      <th>height</th>\n",
       "      <th>depth</th>\n",
       "      <th>weight</th>\n",
       "      <th>degree</th>\n",
       "      <th>eigenvector_centrality</th>\n",
       "      <th>closeness_centrality</th>\n",
       "      <th>betweenness_centrality</th>\n",
       "    </tr>\n",
       "  </thead>\n",
       "  <tbody>\n",
       "    <tr>\n",
       "      <th>0</th>\n",
       "      <td>1</td>\n",
       "      <td>The Stanford Mathematics Problem Book: With Hi...</td>\n",
       "      <td>https://www.amazon.com.br/dp/0486469247/</td>\n",
       "      <td>George Polya (Autor),</td>\n",
       "      <td>Capa comum</td>\n",
       "      <td>Dover Publications</td>\n",
       "      <td>NaN</td>\n",
       "      <td>19 de fevereiro de 2009</td>\n",
       "      <td>Livros</td>\n",
       "      <td>Livros</td>\n",
       "      <td>...</td>\n",
       "      <td>1.000000</td>\n",
       "      <td>4.000000</td>\n",
       "      <td>14.0</td>\n",
       "      <td>21.0</td>\n",
       "      <td>0.6</td>\n",
       "      <td>181.0</td>\n",
       "      <td>15</td>\n",
       "      <td>0.092519</td>\n",
       "      <td>0.343443</td>\n",
       "      <td>0.073199</td>\n",
       "    </tr>\n",
       "    <tr>\n",
       "      <th>1</th>\n",
       "      <td>2</td>\n",
       "      <td>Fourier Series</td>\n",
       "      <td>https://www.amazon.com.br/dp/0486633179/</td>\n",
       "      <td>Georgi P. Tolstov (Autor),</td>\n",
       "      <td>Capa comum</td>\n",
       "      <td>Dover Publications</td>\n",
       "      <td>NaN</td>\n",
       "      <td>1 de junho de 1976</td>\n",
       "      <td>Livros</td>\n",
       "      <td>Livros</td>\n",
       "      <td>...</td>\n",
       "      <td>3.000000</td>\n",
       "      <td>4.600000</td>\n",
       "      <td>14.6</td>\n",
       "      <td>21.0</td>\n",
       "      <td>1.9</td>\n",
       "      <td>363.0</td>\n",
       "      <td>21</td>\n",
       "      <td>0.173882</td>\n",
       "      <td>0.344007</td>\n",
       "      <td>0.029658</td>\n",
       "    </tr>\n",
       "    <tr>\n",
       "      <th>2</th>\n",
       "      <td>3</td>\n",
       "      <td>Probability Theory: A Concise Course</td>\n",
       "      <td>https://www.amazon.com.br/dp/0486635449/</td>\n",
       "      <td>Y. A. Rozanov (Autor),</td>\n",
       "      <td>Capa comum</td>\n",
       "      <td>Dover Publications</td>\n",
       "      <td>NaN</td>\n",
       "      <td>NaN</td>\n",
       "      <td>Livros</td>\n",
       "      <td>Livros</td>\n",
       "      <td>...</td>\n",
       "      <td>6.260163</td>\n",
       "      <td>4.592276</td>\n",
       "      <td>14.4</td>\n",
       "      <td>20.8</td>\n",
       "      <td>0.8</td>\n",
       "      <td>200.0</td>\n",
       "      <td>39</td>\n",
       "      <td>0.243070</td>\n",
       "      <td>0.335200</td>\n",
       "      <td>0.089836</td>\n",
       "    </tr>\n",
       "    <tr>\n",
       "      <th>3</th>\n",
       "      <td>4</td>\n",
       "      <td>Vectors, Tensors and the Basic Equations of Fl...</td>\n",
       "      <td>https://www.amazon.com.br/dp/0486661105/</td>\n",
       "      <td>Rutherford Aris (Autor),</td>\n",
       "      <td>Capa comum</td>\n",
       "      <td>Dover Publications</td>\n",
       "      <td>NaN</td>\n",
       "      <td>NaN</td>\n",
       "      <td>Livros</td>\n",
       "      <td>Livros</td>\n",
       "      <td>...</td>\n",
       "      <td>2.000000</td>\n",
       "      <td>4.500000</td>\n",
       "      <td>13.7</td>\n",
       "      <td>21.5</td>\n",
       "      <td>1.6</td>\n",
       "      <td>381.0</td>\n",
       "      <td>10</td>\n",
       "      <td>0.074681</td>\n",
       "      <td>0.312221</td>\n",
       "      <td>0.005997</td>\n",
       "    </tr>\n",
       "    <tr>\n",
       "      <th>4</th>\n",
       "      <td>5</td>\n",
       "      <td>Números. Uma Introdução à Matemática</td>\n",
       "      <td>https://www.amazon.com.br/dp/8531404584/</td>\n",
       "      <td>César Polcino Milies (Autor),</td>\n",
       "      <td>Capa comum</td>\n",
       "      <td>EDUSP</td>\n",
       "      <td>NaN</td>\n",
       "      <td>NaN</td>\n",
       "      <td>Livros</td>\n",
       "      <td>Livros</td>\n",
       "      <td>...</td>\n",
       "      <td>6.260163</td>\n",
       "      <td>4.592276</td>\n",
       "      <td>15.8</td>\n",
       "      <td>22.8</td>\n",
       "      <td>1.6</td>\n",
       "      <td>440.0</td>\n",
       "      <td>13</td>\n",
       "      <td>0.023458</td>\n",
       "      <td>0.346854</td>\n",
       "      <td>0.124833</td>\n",
       "    </tr>\n",
       "    <tr>\n",
       "      <th>5</th>\n",
       "      <td>6</td>\n",
       "      <td>Ordinary Differential Equations</td>\n",
       "      <td>https://www.amazon.com.br/dp/0486649407/</td>\n",
       "      <td>Morris Tenenbaum (Autor),</td>\n",
       "      <td>Capa comum</td>\n",
       "      <td>Dover Publications</td>\n",
       "      <td>NaN</td>\n",
       "      <td>NaN</td>\n",
       "      <td>Livros</td>\n",
       "      <td>Livros</td>\n",
       "      <td>...</td>\n",
       "      <td>4.000000</td>\n",
       "      <td>4.500000</td>\n",
       "      <td>13.8</td>\n",
       "      <td>21.8</td>\n",
       "      <td>4.0</td>\n",
       "      <td>939.0</td>\n",
       "      <td>34</td>\n",
       "      <td>0.244177</td>\n",
       "      <td>0.334932</td>\n",
       "      <td>0.057468</td>\n",
       "    </tr>\n",
       "    <tr>\n",
       "      <th>6</th>\n",
       "      <td>7</td>\n",
       "      <td>The Variational Principles of Mechanics</td>\n",
       "      <td>https://www.amazon.com.br/dp/0486650677/</td>\n",
       "      <td>Cornelius Lanczos (Autor),</td>\n",
       "      <td>Capa comum</td>\n",
       "      <td>Dover Publications</td>\n",
       "      <td>NaN</td>\n",
       "      <td>NaN</td>\n",
       "      <td>Livros</td>\n",
       "      <td>Livros</td>\n",
       "      <td>...</td>\n",
       "      <td>1.000000</td>\n",
       "      <td>5.000000</td>\n",
       "      <td>13.8</td>\n",
       "      <td>21.5</td>\n",
       "      <td>2.2</td>\n",
       "      <td>581.0</td>\n",
       "      <td>26</td>\n",
       "      <td>0.216816</td>\n",
       "      <td>0.329662</td>\n",
       "      <td>0.026434</td>\n",
       "    </tr>\n",
       "    <tr>\n",
       "      <th>7</th>\n",
       "      <td>8</td>\n",
       "      <td>A First Look at Perturbation Theory</td>\n",
       "      <td>https://www.amazon.com.br/dp/0486675513/</td>\n",
       "      <td>James G. Simmonds (Autor)</td>\n",
       "      <td>Capa comum</td>\n",
       "      <td>Dover Publications Inc.</td>\n",
       "      <td>NaN</td>\n",
       "      <td>NaN</td>\n",
       "      <td>Livros</td>\n",
       "      <td>Livros</td>\n",
       "      <td>...</td>\n",
       "      <td>6.260163</td>\n",
       "      <td>4.592276</td>\n",
       "      <td>13.7</td>\n",
       "      <td>21.5</td>\n",
       "      <td>0.8</td>\n",
       "      <td>159.0</td>\n",
       "      <td>3</td>\n",
       "      <td>0.023477</td>\n",
       "      <td>0.264187</td>\n",
       "      <td>0.000023</td>\n",
       "    </tr>\n",
       "    <tr>\n",
       "      <th>9</th>\n",
       "      <td>10</td>\n",
       "      <td>Geometria Analítica</td>\n",
       "      <td>https://www.amazon.com.br/dp/0074504096/</td>\n",
       "      <td>Alfredo Steimbruch (Autor),</td>\n",
       "      <td>Capa comum</td>\n",
       "      <td>Pearson</td>\n",
       "      <td>NaN</td>\n",
       "      <td>NaN</td>\n",
       "      <td>Livros</td>\n",
       "      <td>Livros</td>\n",
       "      <td>...</td>\n",
       "      <td>1.000000</td>\n",
       "      <td>5.000000</td>\n",
       "      <td>15.6</td>\n",
       "      <td>23.0</td>\n",
       "      <td>1.4</td>\n",
       "      <td>240.0</td>\n",
       "      <td>24</td>\n",
       "      <td>0.031744</td>\n",
       "      <td>0.344856</td>\n",
       "      <td>0.048665</td>\n",
       "    </tr>\n",
       "    <tr>\n",
       "      <th>10</th>\n",
       "      <td>11</td>\n",
       "      <td>Curso de Física Básica: Eletromagnetismo (Volu...</td>\n",
       "      <td>https://www.amazon.com.br/dp/8521208014/</td>\n",
       "      <td>Herch Moysés Nussenzveig (Autor)</td>\n",
       "      <td>Capa comum</td>\n",
       "      <td>Blucher</td>\n",
       "      <td>NaN</td>\n",
       "      <td>NaN</td>\n",
       "      <td>Livros</td>\n",
       "      <td>Livros</td>\n",
       "      <td>...</td>\n",
       "      <td>4.000000</td>\n",
       "      <td>4.100000</td>\n",
       "      <td>16.8</td>\n",
       "      <td>23.9</td>\n",
       "      <td>1.5</td>\n",
       "      <td>522.0</td>\n",
       "      <td>26</td>\n",
       "      <td>0.041158</td>\n",
       "      <td>0.337088</td>\n",
       "      <td>0.038658</td>\n",
       "    </tr>\n",
       "  </tbody>\n",
       "</table>\n",
       "<p>10 rows × 36 columns</p>\n",
       "</div>"
      ],
      "text/plain": [
       "    id                                              title  \\\n",
       "0    1  The Stanford Mathematics Problem Book: With Hi...   \n",
       "1    2                                     Fourier Series   \n",
       "2    3               Probability Theory: A Concise Course   \n",
       "3    4  Vectors, Tensors and the Basic Equations of Fl...   \n",
       "4    5               Números. Uma Introdução à Matemática   \n",
       "5    6                    Ordinary Differential Equations   \n",
       "6    7            The Variational Principles of Mechanics   \n",
       "7    8                A First Look at Perturbation Theory   \n",
       "9   10                                Geometria Analítica   \n",
       "10  11  Curso de Física Básica: Eletromagnetismo (Volu...   \n",
       "\n",
       "                                         url  \\\n",
       "0   https://www.amazon.com.br/dp/0486469247/   \n",
       "1   https://www.amazon.com.br/dp/0486633179/   \n",
       "2   https://www.amazon.com.br/dp/0486635449/   \n",
       "3   https://www.amazon.com.br/dp/0486661105/   \n",
       "4   https://www.amazon.com.br/dp/8531404584/   \n",
       "5   https://www.amazon.com.br/dp/0486649407/   \n",
       "6   https://www.amazon.com.br/dp/0486650677/   \n",
       "7   https://www.amazon.com.br/dp/0486675513/   \n",
       "9   https://www.amazon.com.br/dp/0074504096/   \n",
       "10  https://www.amazon.com.br/dp/8521208014/   \n",
       "\n",
       "                             authors   coverType                publisher  \\\n",
       "0              George Polya (Autor),  Capa comum       Dover Publications   \n",
       "1         Georgi P. Tolstov (Autor),  Capa comum       Dover Publications   \n",
       "2             Y. A. Rozanov (Autor),  Capa comum       Dover Publications   \n",
       "3           Rutherford Aris (Autor),  Capa comum       Dover Publications   \n",
       "4      César Polcino Milies (Autor),  Capa comum                    EDUSP   \n",
       "5          Morris Tenenbaum (Autor),  Capa comum       Dover Publications   \n",
       "6         Cornelius Lanczos (Autor),  Capa comum       Dover Publications   \n",
       "7          James G. Simmonds (Autor)  Capa comum  Dover Publications Inc.   \n",
       "9        Alfredo Steimbruch (Autor),  Capa comum                  Pearson   \n",
       "10  Herch Moysés Nussenzveig (Autor)  Capa comum                  Blucher   \n",
       "\n",
       "    edition          publicationDate rankingCategory category1  \\\n",
       "0       NaN  19 de fevereiro de 2009          Livros    Livros   \n",
       "1       NaN       1 de junho de 1976          Livros    Livros   \n",
       "2       NaN                      NaN          Livros    Livros   \n",
       "3       NaN                      NaN          Livros    Livros   \n",
       "4       NaN                      NaN          Livros    Livros   \n",
       "5       NaN                      NaN          Livros    Livros   \n",
       "6       NaN                      NaN          Livros    Livros   \n",
       "7       NaN                      NaN          Livros    Livros   \n",
       "9       NaN                      NaN          Livros    Livros   \n",
       "10      NaN                      NaN          Livros    Livros   \n",
       "\n",
       "            ...           reviewCount    rating width height depth weight  \\\n",
       "0           ...              1.000000  4.000000  14.0   21.0   0.6  181.0   \n",
       "1           ...              3.000000  4.600000  14.6   21.0   1.9  363.0   \n",
       "2           ...              6.260163  4.592276  14.4   20.8   0.8  200.0   \n",
       "3           ...              2.000000  4.500000  13.7   21.5   1.6  381.0   \n",
       "4           ...              6.260163  4.592276  15.8   22.8   1.6  440.0   \n",
       "5           ...              4.000000  4.500000  13.8   21.8   4.0  939.0   \n",
       "6           ...              1.000000  5.000000  13.8   21.5   2.2  581.0   \n",
       "7           ...              6.260163  4.592276  13.7   21.5   0.8  159.0   \n",
       "9           ...              1.000000  5.000000  15.6   23.0   1.4  240.0   \n",
       "10          ...              4.000000  4.100000  16.8   23.9   1.5  522.0   \n",
       "\n",
       "    degree  eigenvector_centrality  closeness_centrality  \\\n",
       "0       15                0.092519              0.343443   \n",
       "1       21                0.173882              0.344007   \n",
       "2       39                0.243070              0.335200   \n",
       "3       10                0.074681              0.312221   \n",
       "4       13                0.023458              0.346854   \n",
       "5       34                0.244177              0.334932   \n",
       "6       26                0.216816              0.329662   \n",
       "7        3                0.023477              0.264187   \n",
       "9       24                0.031744              0.344856   \n",
       "10      26                0.041158              0.337088   \n",
       "\n",
       "   betweenness_centrality  \n",
       "0                0.073199  \n",
       "1                0.029658  \n",
       "2                0.089836  \n",
       "3                0.005997  \n",
       "4                0.124833  \n",
       "5                0.057468  \n",
       "6                0.026434  \n",
       "7                0.000023  \n",
       "9                0.048665  \n",
       "10               0.038658  \n",
       "\n",
       "[10 rows x 36 columns]"
      ]
     },
     "execution_count": 13,
     "metadata": {},
     "output_type": "execute_result"
    }
   ],
   "source": [
    "df.head(10)"
   ]
  },
  {
   "cell_type": "markdown",
   "metadata": {},
   "source": [
    "## Random forest using degree as feature, price as target"
   ]
  },
  {
   "cell_type": "markdown",
   "metadata": {},
   "source": [
    "### Preparing data"
   ]
  },
  {
   "cell_type": "code",
   "execution_count": 14,
   "metadata": {
    "collapsed": true
   },
   "outputs": [],
   "source": [
    "df_with_dummies = pd.get_dummies(df[numeric_features + categorical_features + ['price']],columns=categorical_features,drop_first=True)"
   ]
  },
  {
   "cell_type": "code",
   "execution_count": 15,
   "metadata": {
    "collapsed": true
   },
   "outputs": [],
   "source": [
    "feature_list = list(df_with_dummies.drop(columns = ['price']))\n",
    "features = np.array(df_with_dummies.drop(columns = ['price']))\n",
    "target = np.array(df_with_dummies['price'])"
   ]
  },
  {
   "cell_type": "markdown",
   "metadata": {},
   "source": [
    "### Average price as baseline"
   ]
  },
  {
   "cell_type": "markdown",
   "metadata": {},
   "source": [
    "It's important to have a baseline, so we can validate our predictions after running our model. One easy choice for baseline is the average price of a book.\n",
    "\n",
    "We have an average price around R\\$43, so this means that a very easy prediction would be to always guess R$43 for the price of any book."
   ]
  },
  {
   "cell_type": "code",
   "execution_count": 16,
   "metadata": {},
   "outputs": [
    {
     "name": "stdout",
     "output_type": "stream",
     "text": [
      "Average price: R$ 79.3456533333\n"
     ]
    }
   ],
   "source": [
    "average_target = np.average(target)\n",
    "print \"Average price: R$\", average_target"
   ]
  },
  {
   "cell_type": "markdown",
   "metadata": {},
   "source": [
    "### Training data split"
   ]
  },
  {
   "cell_type": "markdown",
   "metadata": {},
   "source": [
    "Let's split our dataset into two sets: train and test. We use the first to train or model, and we use the second to test the precision of our model."
   ]
  },
  {
   "cell_type": "code",
   "execution_count": 17,
   "metadata": {},
   "outputs": [
    {
     "name": "stdout",
     "output_type": "stream",
     "text": [
      "('Training Features Shape:', (281, 160))\n",
      "('Training Labels Shape:', (281,))\n",
      "('Testing Features Shape:', (94, 160))\n",
      "('Testing Labels Shape:', (94,))\n"
     ]
    }
   ],
   "source": [
    "# Split the data into training and testing sets\n",
    "train_features, test_features, train_target, test_target \\\n",
    "    = train_test_split(features, target, test_size = 0.25)\n",
    "\n",
    "# Summary\n",
    "print('Training Features Shape:', train_features.shape)\n",
    "print('Training Labels Shape:', train_target.shape)\n",
    "print('Testing Features Shape:', test_features.shape)\n",
    "print('Testing Labels Shape:', test_target.shape)"
   ]
  },
  {
   "cell_type": "markdown",
   "metadata": {},
   "source": [
    "### Train data"
   ]
  },
  {
   "cell_type": "markdown",
   "metadata": {},
   "source": [
    "We train a random forest model with 500 estimators."
   ]
  },
  {
   "cell_type": "code",
   "execution_count": 18,
   "metadata": {},
   "outputs": [],
   "source": [
    "# Load model\n",
    "rf = RandomForestRegressor(n_estimators = 500)\n",
    "# Train\n",
    "rf.fit(train_features, train_target);"
   ]
  },
  {
   "cell_type": "markdown",
   "metadata": {},
   "source": [
    "### Prediction"
   ]
  },
  {
   "cell_type": "code",
   "execution_count": 19,
   "metadata": {
    "collapsed": true
   },
   "outputs": [],
   "source": [
    "predictions = rf.predict(test_features)"
   ]
  },
  {
   "cell_type": "markdown",
   "metadata": {},
   "source": [
    "####  Preço previsto vs. Preço real"
   ]
  },
  {
   "cell_type": "code",
   "execution_count": 20,
   "metadata": {},
   "outputs": [
    {
     "data": {
      "image/png": "[encoded data removed]",
      "text/plain": [
       "<matplotlib.figure.Figure at 0x7f2e64487f10>"
      ]
     },
     "metadata": {},
     "output_type": "display_data"
    }
   ],
   "source": [
    "plt.figure(figsize=(8,8), dpi=130)\n",
    "plt.scatter(test_target, predictions)\n",
    "baseline = [np.min(test_target), np.max(test_target)]\n",
    "plt.plot(baseline, baseline, \"--\", color=\"green\", label = u\"Preço previsto = Preço real\")\n",
    "ax = plt.gca()\n",
    "ax.set_ylabel(u\"Preço previsto (R$)\")\n",
    "ax.set_xlabel(u\"Preço real (R$)\")\n",
    "ax.legend()\n",
    "plt.title(u\"Preço previsto vs. Preço real\")\n",
    "plt.axes().set_aspect('equal', 'datalim')\n",
    "plt.show()"
   ]
  },
  {
   "cell_type": "markdown",
   "metadata": {},
   "source": [
    "### Mean absolute error"
   ]
  },
  {
   "cell_type": "markdown",
   "metadata": {},
   "source": [
    "Now we can compare the errors obtained by our predictions against the errors provided by the baseline (average price). Our prediction errors should be less than the baseline errors to consider the model successful."
   ]
  },
  {
   "cell_type": "code",
   "execution_count": 21,
   "metadata": {},
   "outputs": [
    {
     "name": "stdout",
     "output_type": "stream",
     "text": [
      "('Mean absolute prediction error: R$', 24.82)\n",
      "('Mean absolute error using average: R$', 40.35)\n"
     ]
    }
   ],
   "source": [
    "# Calculate the absolute errors\n",
    "errors = abs(predictions - test_target)\n",
    "errors_baseline = abs(average_target - test_target)\n",
    "# Print out the mean absolute error (mae)\n",
    "print('Mean absolute prediction error: R$', round(np.mean(errors), 2))\n",
    "print('Mean absolute error using average: R$',\n",
    "      round(np.mean(errors_baseline), 2))"
   ]
  },
  {
   "cell_type": "markdown",
   "metadata": {},
   "source": [
    "### Worst predictions"
   ]
  },
  {
   "cell_type": "markdown",
   "metadata": {},
   "source": [
    "Below we can inspect the rows with the biggest prediction error."
   ]
  },
  {
   "cell_type": "code",
   "execution_count": 22,
   "metadata": {},
   "outputs": [
    {
     "data": {
      "text/html": [
       "<div>\n",
       "<style scoped>\n",
       "    .dataframe tbody tr th:only-of-type {\n",
       "        vertical-align: middle;\n",
       "    }\n",
       "\n",
       "    .dataframe tbody tr th {\n",
       "        vertical-align: top;\n",
       "    }\n",
       "\n",
       "    .dataframe thead th {\n",
       "        text-align: right;\n",
       "    }\n",
       "</style>\n",
       "<table border=\"1\" class=\"dataframe\">\n",
       "  <thead>\n",
       "    <tr style=\"text-align: right;\">\n",
       "      <th></th>\n",
       "      <th>degree</th>\n",
       "      <th>error</th>\n",
       "      <th>errors_baseline</th>\n",
       "      <th>prediction</th>\n",
       "      <th>target</th>\n",
       "    </tr>\n",
       "  </thead>\n",
       "  <tbody>\n",
       "    <tr>\n",
       "      <th>6</th>\n",
       "      <td>[3.0, 0.00941020874022, 0.268074216251, 0.0, 3...</td>\n",
       "      <td>141.26534</td>\n",
       "      <td>182.174347</td>\n",
       "      <td>120.25466</td>\n",
       "      <td>261.52</td>\n",
       "    </tr>\n",
       "    <tr>\n",
       "      <th>71</th>\n",
       "      <td>[3.0, 0.0491248329086, 0.288965517241, 7.18038...</td>\n",
       "      <td>119.86248</td>\n",
       "      <td>195.314347</td>\n",
       "      <td>154.79752</td>\n",
       "      <td>274.66</td>\n",
       "    </tr>\n",
       "    <tr>\n",
       "      <th>83</th>\n",
       "      <td>[2.0, 0.0042435737495, 0.265189873418, 0.0, 59...</td>\n",
       "      <td>78.56138</td>\n",
       "      <td>124.654347</td>\n",
       "      <td>125.43862</td>\n",
       "      <td>204.00</td>\n",
       "    </tr>\n",
       "    <tr>\n",
       "      <th>33</th>\n",
       "      <td>[20.0, 0.131166716151, 0.351215423303, 0.03500...</td>\n",
       "      <td>74.84616</td>\n",
       "      <td>1.505653</td>\n",
       "      <td>152.68616</td>\n",
       "      <td>77.84</td>\n",
       "    </tr>\n",
       "    <tr>\n",
       "      <th>35</th>\n",
       "      <td>[4.0, 0.0656190007526, 0.309453471196, 0.00106...</td>\n",
       "      <td>73.82204</td>\n",
       "      <td>160.444347</td>\n",
       "      <td>165.96796</td>\n",
       "      <td>239.79</td>\n",
       "    </tr>\n",
       "    <tr>\n",
       "      <th>48</th>\n",
       "      <td>[5.0, 0.0760081347101, 0.310140636566, 0.00140...</td>\n",
       "      <td>64.75832</td>\n",
       "      <td>2.435653</td>\n",
       "      <td>141.66832</td>\n",
       "      <td>76.91</td>\n",
       "    </tr>\n",
       "    <tr>\n",
       "      <th>28</th>\n",
       "      <td>[1.0, 0.00339131956247, 0.270322580645, 0.0, 4...</td>\n",
       "      <td>64.49012</td>\n",
       "      <td>57.574347</td>\n",
       "      <td>72.42988</td>\n",
       "      <td>136.92</td>\n",
       "    </tr>\n",
       "    <tr>\n",
       "      <th>7</th>\n",
       "      <td>[6.0, 0.083535723233, 0.309682187731, 0.001599...</td>\n",
       "      <td>61.39350</td>\n",
       "      <td>2.435653</td>\n",
       "      <td>138.30350</td>\n",
       "      <td>76.91</td>\n",
       "    </tr>\n",
       "    <tr>\n",
       "      <th>79</th>\n",
       "      <td>[1.0, 0.00339131956247, 0.270322580645, 0.0, 8...</td>\n",
       "      <td>58.03716</td>\n",
       "      <td>5.454347</td>\n",
       "      <td>142.83716</td>\n",
       "      <td>84.80</td>\n",
       "    </tr>\n",
       "    <tr>\n",
       "      <th>76</th>\n",
       "      <td>[1.0, 0.00339131956247, 0.270322580645, 0.0, 6...</td>\n",
       "      <td>49.95480</td>\n",
       "      <td>51.445653</td>\n",
       "      <td>77.85480</td>\n",
       "      <td>27.90</td>\n",
       "    </tr>\n",
       "  </tbody>\n",
       "</table>\n",
       "</div>"
      ],
      "text/plain": [
       "                                               degree      error  \\\n",
       "6   [3.0, 0.00941020874022, 0.268074216251, 0.0, 3...  141.26534   \n",
       "71  [3.0, 0.0491248329086, 0.288965517241, 7.18038...  119.86248   \n",
       "83  [2.0, 0.0042435737495, 0.265189873418, 0.0, 59...   78.56138   \n",
       "33  [20.0, 0.131166716151, 0.351215423303, 0.03500...   74.84616   \n",
       "35  [4.0, 0.0656190007526, 0.309453471196, 0.00106...   73.82204   \n",
       "48  [5.0, 0.0760081347101, 0.310140636566, 0.00140...   64.75832   \n",
       "28  [1.0, 0.00339131956247, 0.270322580645, 0.0, 4...   64.49012   \n",
       "7   [6.0, 0.083535723233, 0.309682187731, 0.001599...   61.39350   \n",
       "79  [1.0, 0.00339131956247, 0.270322580645, 0.0, 8...   58.03716   \n",
       "76  [1.0, 0.00339131956247, 0.270322580645, 0.0, 6...   49.95480   \n",
       "\n",
       "    errors_baseline  prediction  target  \n",
       "6        182.174347   120.25466  261.52  \n",
       "71       195.314347   154.79752  274.66  \n",
       "83       124.654347   125.43862  204.00  \n",
       "33         1.505653   152.68616   77.84  \n",
       "35       160.444347   165.96796  239.79  \n",
       "48         2.435653   141.66832   76.91  \n",
       "28        57.574347    72.42988  136.92  \n",
       "7          2.435653   138.30350   76.91  \n",
       "79         5.454347   142.83716   84.80  \n",
       "76        51.445653    77.85480   27.90  "
      ]
     },
     "execution_count": 22,
     "metadata": {},
     "output_type": "execute_result"
    }
   ],
   "source": [
    "data = {\n",
    "    \"degree\": test_features.tolist(),\n",
    "    \"target\": test_target,\n",
    "    \"prediction\": predictions,\n",
    "    \"error\": errors,\n",
    "    \"errors_baseline\": errors_baseline\n",
    "}\n",
    "predicted_df = pd.DataFrame(data = data)\n",
    "predicted_df.sort_values('error', ascending = False).head(10)"
   ]
  },
  {
   "cell_type": "markdown",
   "metadata": {},
   "source": [
    "### Best predictions"
   ]
  },
  {
   "cell_type": "code",
   "execution_count": 23,
   "metadata": {},
   "outputs": [
    {
     "data": {
      "text/html": [
       "<div>\n",
       "<style scoped>\n",
       "    .dataframe tbody tr th:only-of-type {\n",
       "        vertical-align: middle;\n",
       "    }\n",
       "\n",
       "    .dataframe tbody tr th {\n",
       "        vertical-align: top;\n",
       "    }\n",
       "\n",
       "    .dataframe thead th {\n",
       "        text-align: right;\n",
       "    }\n",
       "</style>\n",
       "<table border=\"1\" class=\"dataframe\">\n",
       "  <thead>\n",
       "    <tr style=\"text-align: right;\">\n",
       "      <th></th>\n",
       "      <th>degree</th>\n",
       "      <th>error</th>\n",
       "      <th>errors_baseline</th>\n",
       "      <th>prediction</th>\n",
       "      <th>target</th>\n",
       "    </tr>\n",
       "  </thead>\n",
       "  <tbody>\n",
       "    <tr>\n",
       "      <th>81</th>\n",
       "      <td>[1.0, 0.0176261766704, 0.251199040767, 0.0, 13...</td>\n",
       "      <td>0.03320</td>\n",
       "      <td>23.435653</td>\n",
       "      <td>55.87680</td>\n",
       "      <td>55.91</td>\n",
       "    </tr>\n",
       "    <tr>\n",
       "      <th>26</th>\n",
       "      <td>[15.0, 0.0925187595742, 0.343442622951, 0.0731...</td>\n",
       "      <td>0.84680</td>\n",
       "      <td>53.095653</td>\n",
       "      <td>27.09680</td>\n",
       "      <td>26.25</td>\n",
       "    </tr>\n",
       "    <tr>\n",
       "      <th>37</th>\n",
       "      <td>[3.0, 0.0203202726548, 0.295278365046, 0.0, 14...</td>\n",
       "      <td>1.32872</td>\n",
       "      <td>30.445653</td>\n",
       "      <td>50.22872</td>\n",
       "      <td>48.90</td>\n",
       "    </tr>\n",
       "    <tr>\n",
       "      <th>64</th>\n",
       "      <td>[10.0, 0.052765539215, 0.3352, 0.0306192185212...</td>\n",
       "      <td>1.33954</td>\n",
       "      <td>53.335653</td>\n",
       "      <td>27.34954</td>\n",
       "      <td>26.01</td>\n",
       "    </tr>\n",
       "    <tr>\n",
       "      <th>10</th>\n",
       "      <td>[29.0, 0.17629017324, 0.300573888092, 0.019495...</td>\n",
       "      <td>1.43468</td>\n",
       "      <td>16.235653</td>\n",
       "      <td>64.54468</td>\n",
       "      <td>63.11</td>\n",
       "    </tr>\n",
       "    <tr>\n",
       "      <th>5</th>\n",
       "      <td>[1.0, 0.00715598385298, 0.263687853996, 0.0, 1...</td>\n",
       "      <td>1.70662</td>\n",
       "      <td>53.685653</td>\n",
       "      <td>23.95338</td>\n",
       "      <td>25.66</td>\n",
       "    </tr>\n",
       "    <tr>\n",
       "      <th>92</th>\n",
       "      <td>[3.0, 0.0234774342362, 0.264186633039, 2.33583...</td>\n",
       "      <td>2.04366</td>\n",
       "      <td>43.245653</td>\n",
       "      <td>34.05634</td>\n",
       "      <td>36.10</td>\n",
       "    </tr>\n",
       "    <tr>\n",
       "      <th>41</th>\n",
       "      <td>[1.0, 0.00360404845082, 0.247635933806, 0.0, 1...</td>\n",
       "      <td>2.39648</td>\n",
       "      <td>42.075653</td>\n",
       "      <td>34.87352</td>\n",
       "      <td>37.27</td>\n",
       "    </tr>\n",
       "    <tr>\n",
       "      <th>1</th>\n",
       "      <td>[1.0, 0.0209118386161, 0.265694356373, 0.0, 11...</td>\n",
       "      <td>2.92718</td>\n",
       "      <td>9.804347</td>\n",
       "      <td>92.07718</td>\n",
       "      <td>89.15</td>\n",
       "    </tr>\n",
       "    <tr>\n",
       "      <th>53</th>\n",
       "      <td>[3.0, 0.0121089578697, 0.285422343324, 0.00232...</td>\n",
       "      <td>3.24158</td>\n",
       "      <td>44.445653</td>\n",
       "      <td>31.65842</td>\n",
       "      <td>34.90</td>\n",
       "    </tr>\n",
       "  </tbody>\n",
       "</table>\n",
       "</div>"
      ],
      "text/plain": [
       "                                               degree    error  \\\n",
       "81  [1.0, 0.0176261766704, 0.251199040767, 0.0, 13...  0.03320   \n",
       "26  [15.0, 0.0925187595742, 0.343442622951, 0.0731...  0.84680   \n",
       "37  [3.0, 0.0203202726548, 0.295278365046, 0.0, 14...  1.32872   \n",
       "64  [10.0, 0.052765539215, 0.3352, 0.0306192185212...  1.33954   \n",
       "10  [29.0, 0.17629017324, 0.300573888092, 0.019495...  1.43468   \n",
       "5   [1.0, 0.00715598385298, 0.263687853996, 0.0, 1...  1.70662   \n",
       "92  [3.0, 0.0234774342362, 0.264186633039, 2.33583...  2.04366   \n",
       "41  [1.0, 0.00360404845082, 0.247635933806, 0.0, 1...  2.39648   \n",
       "1   [1.0, 0.0209118386161, 0.265694356373, 0.0, 11...  2.92718   \n",
       "53  [3.0, 0.0121089578697, 0.285422343324, 0.00232...  3.24158   \n",
       "\n",
       "    errors_baseline  prediction  target  \n",
       "81        23.435653    55.87680   55.91  \n",
       "26        53.095653    27.09680   26.25  \n",
       "37        30.445653    50.22872   48.90  \n",
       "64        53.335653    27.34954   26.01  \n",
       "10        16.235653    64.54468   63.11  \n",
       "5         53.685653    23.95338   25.66  \n",
       "92        43.245653    34.05634   36.10  \n",
       "41        42.075653    34.87352   37.27  \n",
       "1          9.804347    92.07718   89.15  \n",
       "53        44.445653    31.65842   34.90  "
      ]
     },
     "execution_count": 23,
     "metadata": {},
     "output_type": "execute_result"
    }
   ],
   "source": [
    "predicted_df.sort_values('error', ascending = True).head(10)"
   ]
  },
  {
   "cell_type": "code",
   "execution_count": 24,
   "metadata": {},
   "outputs": [
    {
     "data": {
      "text/html": [
       "<div>\n",
       "<style scoped>\n",
       "    .dataframe tbody tr th:only-of-type {\n",
       "        vertical-align: middle;\n",
       "    }\n",
       "\n",
       "    .dataframe tbody tr th {\n",
       "        vertical-align: top;\n",
       "    }\n",
       "\n",
       "    .dataframe thead th {\n",
       "        text-align: right;\n",
       "    }\n",
       "</style>\n",
       "<table border=\"1\" class=\"dataframe\">\n",
       "  <thead>\n",
       "    <tr style=\"text-align: right;\">\n",
       "      <th></th>\n",
       "      <th>error</th>\n",
       "      <th>errors_baseline</th>\n",
       "      <th>prediction</th>\n",
       "      <th>target</th>\n",
       "    </tr>\n",
       "  </thead>\n",
       "  <tbody>\n",
       "    <tr>\n",
       "      <th>count</th>\n",
       "      <td>94.000000</td>\n",
       "      <td>94.000000</td>\n",
       "      <td>94.000000</td>\n",
       "      <td>94.000000</td>\n",
       "    </tr>\n",
       "    <tr>\n",
       "      <th>mean</th>\n",
       "      <td>24.819688</td>\n",
       "      <td>40.350315</td>\n",
       "      <td>79.699648</td>\n",
       "      <td>77.801915</td>\n",
       "    </tr>\n",
       "    <tr>\n",
       "      <th>std</th>\n",
       "      <td>24.258873</td>\n",
       "      <td>37.347394</td>\n",
       "      <td>40.670074</td>\n",
       "      <td>55.118726</td>\n",
       "    </tr>\n",
       "    <tr>\n",
       "      <th>min</th>\n",
       "      <td>0.033200</td>\n",
       "      <td>0.345653</td>\n",
       "      <td>23.953380</td>\n",
       "      <td>14.900000</td>\n",
       "    </tr>\n",
       "    <tr>\n",
       "      <th>25%</th>\n",
       "      <td>8.714485</td>\n",
       "      <td>16.522827</td>\n",
       "      <td>48.787205</td>\n",
       "      <td>39.450000</td>\n",
       "    </tr>\n",
       "    <tr>\n",
       "      <th>50%</th>\n",
       "      <td>18.119810</td>\n",
       "      <td>32.815653</td>\n",
       "      <td>68.430420</td>\n",
       "      <td>61.995000</td>\n",
       "    </tr>\n",
       "    <tr>\n",
       "      <th>75%</th>\n",
       "      <td>32.486335</td>\n",
       "      <td>50.823153</td>\n",
       "      <td>104.398055</td>\n",
       "      <td>90.372500</td>\n",
       "    </tr>\n",
       "    <tr>\n",
       "      <th>max</th>\n",
       "      <td>141.265340</td>\n",
       "      <td>195.314347</td>\n",
       "      <td>175.004240</td>\n",
       "      <td>274.660000</td>\n",
       "    </tr>\n",
       "  </tbody>\n",
       "</table>\n",
       "</div>"
      ],
      "text/plain": [
       "            error  errors_baseline  prediction      target\n",
       "count   94.000000        94.000000   94.000000   94.000000\n",
       "mean    24.819688        40.350315   79.699648   77.801915\n",
       "std     24.258873        37.347394   40.670074   55.118726\n",
       "min      0.033200         0.345653   23.953380   14.900000\n",
       "25%      8.714485        16.522827   48.787205   39.450000\n",
       "50%     18.119810        32.815653   68.430420   61.995000\n",
       "75%     32.486335        50.823153  104.398055   90.372500\n",
       "max    141.265340       195.314347  175.004240  274.660000"
      ]
     },
     "execution_count": 24,
     "metadata": {},
     "output_type": "execute_result"
    }
   ],
   "source": [
    "predicted_df.describe()"
   ]
  },
  {
   "cell_type": "markdown",
   "metadata": {},
   "source": [
    "### Visualize decision tree"
   ]
  },
  {
   "cell_type": "code",
   "execution_count": 25,
   "metadata": {
    "collapsed": true
   },
   "outputs": [],
   "source": [
    "# Pull out one tree from the forest\n",
    "tree = rf.estimators_[0]\n",
    "# Export the image to a dot file\n",
    "export_graphviz(tree, out_file = 'tree.dot',\n",
    "                feature_names = feature_list, rounded = True)\n",
    "# Use dot file to create a graph\n",
    "(graph, ) = pydot.graph_from_dot_file('tree.dot')\n",
    "# Write graph to a png file\n",
    "graph.write_png('tree.png')"
   ]
  },
  {
   "cell_type": "markdown",
   "metadata": {},
   "source": [
    "<img src=\"files/image.png\">"
   ]
  },
  {
   "cell_type": "code",
   "execution_count": null,
   "metadata": {
    "collapsed": true
   },
   "outputs": [],
   "source": []
  }
 ],
 "metadata": {
  "kernelspec": {
   "display_name": "Python 2",
   "language": "python",
   "name": "python2"
  },
  "language_info": {
   "codemirror_mode": {
    "name": "ipython",
    "version": 2
   },
   "file_extension": ".py",
   "mimetype": "text/x-python",
   "name": "python",
   "nbconvert_exporter": "python",
   "pygments_lexer": "ipython2",
   "version": "2.7.13"
  }
 },
 "nbformat": 4,
 "nbformat_minor": 2
}
