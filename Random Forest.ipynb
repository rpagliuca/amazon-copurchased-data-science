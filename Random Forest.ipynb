{
 "cells": [
  {
   "cell_type": "markdown",
   "metadata": {},
   "source": [
    "# Amazon Copurchased"
   ]
  },
  {
   "cell_type": "markdown",
   "metadata": {},
   "source": [
    "This is a Python notebook created using \"jupyter\".\n",
    "\n",
    "Author: Rafael J. P. dos Santos"
   ]
  },
  {
   "cell_type": "markdown",
   "metadata": {},
   "source": [
    "## Parameters"
   ]
  },
  {
   "cell_type": "markdown",
   "metadata": {},
   "source": [
    "We use the parameter below to set the maximum number of edges to be read from the CSV containing edges (links)."
   ]
  },
  {
   "cell_type": "code",
   "execution_count": 1,
   "metadata": {
    "collapsed": true
   },
   "outputs": [],
   "source": [
    "max_edges = 20000 # Set to 0 to read all nodes from file"
   ]
  },
  {
   "cell_type": "markdown",
   "metadata": {},
   "source": [
    "## Load the libraries"
   ]
  },
  {
   "cell_type": "markdown",
   "metadata": {},
   "source": [
    "Let's load the Python libraries that we will need throughout the script"
   ]
  },
  {
   "cell_type": "code",
   "execution_count": 2,
   "metadata": {
    "collapsed": true
   },
   "outputs": [],
   "source": [
    "import networkx as nx\n",
    "import matplotlib.pyplot as plt\n",
    "import pandas as pd\n",
    "from sklearn.model_selection import train_test_split\n",
    "import numpy as np\n",
    "from sklearn.tree import export_graphviz\n",
    "import pydot\n",
    "from sklearn.ensemble import RandomForestRegressor"
   ]
  },
  {
   "cell_type": "markdown",
   "metadata": {},
   "source": [
    "## Read graph"
   ]
  },
  {
   "cell_type": "markdown",
   "metadata": {},
   "source": [
    "### Read only first lines of datafile"
   ]
  },
  {
   "cell_type": "markdown",
   "metadata": {},
   "source": [
    "Due to slowness in calculating centrality measures, we use the parameter provided in the beggining of the script to limit the number of edges we will read."
   ]
  },
  {
   "cell_type": "code",
   "execution_count": 3,
   "metadata": {},
   "outputs": [],
   "source": [
    "lines = []\n",
    "with open('data/links', 'rb') as f:\n",
    "    f.readline()   # skip first line / header\n",
    "    while True:\n",
    "        line = f.readline()\n",
    "        if not line or (max_edges > 0 and len(lines) >= max_edges):\n",
    "            break\n",
    "        lines.append(line)\n",
    "G = nx.parse_edgelist(lines, delimiter=',', nodetype=int)"
   ]
  },
  {
   "cell_type": "markdown",
   "metadata": {},
   "source": [
    "### Calculate nodes centrality measures"
   ]
  },
  {
   "cell_type": "markdown",
   "metadata": {},
   "source": [
    "Now that we have our NetworkX graph, let's calculate some centrality measures for every node."
   ]
  },
  {
   "cell_type": "markdown",
   "metadata": {},
   "source": [
    "#### Degree"
   ]
  },
  {
   "cell_type": "code",
   "execution_count": 4,
   "metadata": {},
   "outputs": [],
   "source": [
    "degrees = nx.degree(G)"
   ]
  },
  {
   "cell_type": "markdown",
   "metadata": {},
   "source": [
    "#### Eigenvector centrality"
   ]
  },
  {
   "cell_type": "code",
   "execution_count": 5,
   "metadata": {},
   "outputs": [],
   "source": [
    "ec = nx.eigenvector_centrality(G)"
   ]
  },
  {
   "cell_type": "markdown",
   "metadata": {},
   "source": [
    "#### Closeness centrality"
   ]
  },
  {
   "cell_type": "code",
   "execution_count": 6,
   "metadata": {},
   "outputs": [],
   "source": [
    "# Very slow!\n",
    "cc = nx.closeness_centrality(G)"
   ]
  },
  {
   "cell_type": "markdown",
   "metadata": {},
   "source": [
    "#### Betweenness centrality"
   ]
  },
  {
   "cell_type": "code",
   "execution_count": 7,
   "metadata": {},
   "outputs": [],
   "source": [
    "# Very slow!\n",
    "bc = nx.betweenness_centrality(G)"
   ]
  },
  {
   "cell_type": "markdown",
   "metadata": {
    "collapsed": true
   },
   "source": [
    "### Load node properties"
   ]
  },
  {
   "cell_type": "markdown",
   "metadata": {},
   "source": [
    "Let's load the CSV containing the nodes data (title, price) into a Pandas dataframe, and append the centrality measures calculated above."
   ]
  },
  {
   "cell_type": "code",
   "execution_count": 8,
   "metadata": {},
   "outputs": [],
   "source": [
    "df = pd.read_csv('data/nodes')\n",
    "df['degree'] = None\n",
    "df['eigenvector_centrality'] = None\n",
    "df['closeness_centrality'] = None\n",
    "df['betweenness_centrality'] = None\n",
    "for index, row in df.iterrows():\n",
    "    try:\n",
    "        df.loc[index, 'degree'] = degrees[row['id']]\n",
    "        df.loc[index, 'eigenvector_centrality'] = ec[row['id']]\n",
    "        df.loc[index, 'closeness_centrality'] = cc[row['id']]\n",
    "        df.loc[index, 'betweenness_centrality'] = bc[row['id']]\n",
    "    except:\n",
    "        df.drop([index], inplace=True)\n",
    "features = ['degree', 'eigenvector_centrality',\n",
    "    'closeness_centrality', 'betweenness_centrality']\n",
    "df[features] = df[features].apply(pd.to_numeric)"
   ]
  },
  {
   "cell_type": "markdown",
   "metadata": {},
   "source": [
    "### Features summary"
   ]
  },
  {
   "cell_type": "markdown",
   "metadata": {},
   "source": [
    "Below we have a summary of the Pandas dataframe. We can see the number of nodes that we are actually analyzing, which depends on the max_edges parameter defined before."
   ]
  },
  {
   "cell_type": "code",
   "execution_count": 9,
   "metadata": {},
   "outputs": [
    {
     "data": {
      "text/html": [
       "<div>\n",
       "<style scoped>\n",
       "    .dataframe tbody tr th:only-of-type {\n",
       "        vertical-align: middle;\n",
       "    }\n",
       "\n",
       "    .dataframe tbody tr th {\n",
       "        vertical-align: top;\n",
       "    }\n",
       "\n",
       "    .dataframe thead th {\n",
       "        text-align: right;\n",
       "    }\n",
       "</style>\n",
       "<table border=\"1\" class=\"dataframe\">\n",
       "  <thead>\n",
       "    <tr style=\"text-align: right;\">\n",
       "      <th></th>\n",
       "      <th>id</th>\n",
       "      <th>title</th>\n",
       "      <th>price</th>\n",
       "      <th>degree</th>\n",
       "      <th>eigenvector_centrality</th>\n",
       "      <th>closeness_centrality</th>\n",
       "      <th>betweenness_centrality</th>\n",
       "    </tr>\n",
       "  </thead>\n",
       "  <tbody>\n",
       "    <tr>\n",
       "      <th>count</th>\n",
       "      <td>2884.000000</td>\n",
       "      <td>2884</td>\n",
       "      <td>2884.000000</td>\n",
       "      <td>2884.000000</td>\n",
       "      <td>2.884000e+03</td>\n",
       "      <td>2884.000000</td>\n",
       "      <td>2884.000000</td>\n",
       "    </tr>\n",
       "    <tr>\n",
       "      <th>unique</th>\n",
       "      <td>NaN</td>\n",
       "      <td>2827</td>\n",
       "      <td>NaN</td>\n",
       "      <td>NaN</td>\n",
       "      <td>NaN</td>\n",
       "      <td>NaN</td>\n",
       "      <td>NaN</td>\n",
       "    </tr>\n",
       "    <tr>\n",
       "      <th>top</th>\n",
       "      <td>NaN</td>\n",
       "      <td>Fedro</td>\n",
       "      <td>NaN</td>\n",
       "      <td>NaN</td>\n",
       "      <td>NaN</td>\n",
       "      <td>NaN</td>\n",
       "      <td>NaN</td>\n",
       "    </tr>\n",
       "    <tr>\n",
       "      <th>freq</th>\n",
       "      <td>NaN</td>\n",
       "      <td>3</td>\n",
       "      <td>NaN</td>\n",
       "      <td>NaN</td>\n",
       "      <td>NaN</td>\n",
       "      <td>NaN</td>\n",
       "      <td>NaN</td>\n",
       "    </tr>\n",
       "    <tr>\n",
       "      <th>mean</th>\n",
       "      <td>1920.887656</td>\n",
       "      <td>NaN</td>\n",
       "      <td>43.641456</td>\n",
       "      <td>11.446602</td>\n",
       "      <td>6.244550e-03</td>\n",
       "      <td>0.270490</td>\n",
       "      <td>0.000955</td>\n",
       "    </tr>\n",
       "    <tr>\n",
       "      <th>std</th>\n",
       "      <td>1447.029989</td>\n",
       "      <td>NaN</td>\n",
       "      <td>31.423349</td>\n",
       "      <td>26.264145</td>\n",
       "      <td>1.754574e-02</td>\n",
       "      <td>0.033969</td>\n",
       "      <td>0.004040</td>\n",
       "    </tr>\n",
       "    <tr>\n",
       "      <th>min</th>\n",
       "      <td>1.000000</td>\n",
       "      <td>NaN</td>\n",
       "      <td>4.900000</td>\n",
       "      <td>1.000000</td>\n",
       "      <td>2.311803e-07</td>\n",
       "      <td>0.190259</td>\n",
       "      <td>0.000000</td>\n",
       "    </tr>\n",
       "    <tr>\n",
       "      <th>25%</th>\n",
       "      <td>819.750000</td>\n",
       "      <td>NaN</td>\n",
       "      <td>24.967500</td>\n",
       "      <td>1.000000</td>\n",
       "      <td>3.572957e-05</td>\n",
       "      <td>0.243230</td>\n",
       "      <td>0.000000</td>\n",
       "    </tr>\n",
       "    <tr>\n",
       "      <th>50%</th>\n",
       "      <td>1717.500000</td>\n",
       "      <td>NaN</td>\n",
       "      <td>36.100000</td>\n",
       "      <td>2.000000</td>\n",
       "      <td>2.452775e-04</td>\n",
       "      <td>0.265103</td>\n",
       "      <td>0.000000</td>\n",
       "    </tr>\n",
       "    <tr>\n",
       "      <th>75%</th>\n",
       "      <td>2674.250000</td>\n",
       "      <td>NaN</td>\n",
       "      <td>52.577500</td>\n",
       "      <td>8.000000</td>\n",
       "      <td>2.637485e-03</td>\n",
       "      <td>0.292290</td>\n",
       "      <td>0.000075</td>\n",
       "    </tr>\n",
       "    <tr>\n",
       "      <th>max</th>\n",
       "      <td>7008.000000</td>\n",
       "      <td>NaN</td>\n",
       "      <td>439.900000</td>\n",
       "      <td>296.000000</td>\n",
       "      <td>1.656613e-01</td>\n",
       "      <td>0.403330</td>\n",
       "      <td>0.076011</td>\n",
       "    </tr>\n",
       "  </tbody>\n",
       "</table>\n",
       "</div>"
      ],
      "text/plain": [
       "                 id  title        price       degree  eigenvector_centrality  \\\n",
       "count   2884.000000   2884  2884.000000  2884.000000            2.884000e+03   \n",
       "unique          NaN   2827          NaN          NaN                     NaN   \n",
       "top             NaN  Fedro          NaN          NaN                     NaN   \n",
       "freq            NaN      3          NaN          NaN                     NaN   \n",
       "mean    1920.887656    NaN    43.641456    11.446602            6.244550e-03   \n",
       "std     1447.029989    NaN    31.423349    26.264145            1.754574e-02   \n",
       "min        1.000000    NaN     4.900000     1.000000            2.311803e-07   \n",
       "25%      819.750000    NaN    24.967500     1.000000            3.572957e-05   \n",
       "50%     1717.500000    NaN    36.100000     2.000000            2.452775e-04   \n",
       "75%     2674.250000    NaN    52.577500     8.000000            2.637485e-03   \n",
       "max     7008.000000    NaN   439.900000   296.000000            1.656613e-01   \n",
       "\n",
       "        closeness_centrality  betweenness_centrality  \n",
       "count            2884.000000             2884.000000  \n",
       "unique                   NaN                     NaN  \n",
       "top                      NaN                     NaN  \n",
       "freq                     NaN                     NaN  \n",
       "mean                0.270490                0.000955  \n",
       "std                 0.033969                0.004040  \n",
       "min                 0.190259                0.000000  \n",
       "25%                 0.243230                0.000000  \n",
       "50%                 0.265103                0.000000  \n",
       "75%                 0.292290                0.000075  \n",
       "max                 0.403330                0.076011  "
      ]
     },
     "execution_count": 9,
     "metadata": {},
     "output_type": "execute_result"
    }
   ],
   "source": [
    "df.describe(include='all')"
   ]
  },
  {
   "cell_type": "markdown",
   "metadata": {},
   "source": [
    "Below we can inspect the first rows of data, containing title, price, degree and other centrality measures."
   ]
  },
  {
   "cell_type": "code",
   "execution_count": 10,
   "metadata": {},
   "outputs": [
    {
     "data": {
      "text/html": [
       "<div>\n",
       "<style scoped>\n",
       "    .dataframe tbody tr th:only-of-type {\n",
       "        vertical-align: middle;\n",
       "    }\n",
       "\n",
       "    .dataframe tbody tr th {\n",
       "        vertical-align: top;\n",
       "    }\n",
       "\n",
       "    .dataframe thead th {\n",
       "        text-align: right;\n",
       "    }\n",
       "</style>\n",
       "<table border=\"1\" class=\"dataframe\">\n",
       "  <thead>\n",
       "    <tr style=\"text-align: right;\">\n",
       "      <th></th>\n",
       "      <th>id</th>\n",
       "      <th>title</th>\n",
       "      <th>price</th>\n",
       "      <th>degree</th>\n",
       "      <th>eigenvector_centrality</th>\n",
       "      <th>closeness_centrality</th>\n",
       "      <th>betweenness_centrality</th>\n",
       "    </tr>\n",
       "  </thead>\n",
       "  <tbody>\n",
       "    <tr>\n",
       "      <th>0</th>\n",
       "      <td>1</td>\n",
       "      <td>A Política</td>\n",
       "      <td>38.90</td>\n",
       "      <td>41</td>\n",
       "      <td>0.009902</td>\n",
       "      <td>0.368105</td>\n",
       "      <td>0.007037</td>\n",
       "    </tr>\n",
       "    <tr>\n",
       "      <th>1</th>\n",
       "      <td>2</td>\n",
       "      <td>História da Filosofia Grega e Romana. Aristóte...</td>\n",
       "      <td>36.50</td>\n",
       "      <td>67</td>\n",
       "      <td>0.011528</td>\n",
       "      <td>0.345435</td>\n",
       "      <td>0.012753</td>\n",
       "    </tr>\n",
       "    <tr>\n",
       "      <th>2</th>\n",
       "      <td>3</td>\n",
       "      <td>Ordem e História. A Era Ecumênica - Volume 4</td>\n",
       "      <td>112.43</td>\n",
       "      <td>39</td>\n",
       "      <td>0.021038</td>\n",
       "      <td>0.324297</td>\n",
       "      <td>0.001071</td>\n",
       "    </tr>\n",
       "    <tr>\n",
       "      <th>3</th>\n",
       "      <td>4</td>\n",
       "      <td>Física I-II</td>\n",
       "      <td>44.80</td>\n",
       "      <td>40</td>\n",
       "      <td>0.007521</td>\n",
       "      <td>0.339376</td>\n",
       "      <td>0.015963</td>\n",
       "    </tr>\n",
       "    <tr>\n",
       "      <th>4</th>\n",
       "      <td>5</td>\n",
       "      <td>A Estrutura das Revoluções Cientificas</td>\n",
       "      <td>46.02</td>\n",
       "      <td>35</td>\n",
       "      <td>0.000645</td>\n",
       "      <td>0.306996</td>\n",
       "      <td>0.011153</td>\n",
       "    </tr>\n",
       "    <tr>\n",
       "      <th>5</th>\n",
       "      <td>6</td>\n",
       "      <td>Discurso de Metafísica</td>\n",
       "      <td>28.37</td>\n",
       "      <td>32</td>\n",
       "      <td>0.009921</td>\n",
       "      <td>0.318177</td>\n",
       "      <td>0.001308</td>\n",
       "    </tr>\n",
       "    <tr>\n",
       "      <th>6</th>\n",
       "      <td>7</td>\n",
       "      <td>Do Cidadão</td>\n",
       "      <td>61.16</td>\n",
       "      <td>9</td>\n",
       "      <td>0.000324</td>\n",
       "      <td>0.282426</td>\n",
       "      <td>0.000271</td>\n",
       "    </tr>\n",
       "    <tr>\n",
       "      <th>7</th>\n",
       "      <td>8</td>\n",
       "      <td>Sobre A Revolução</td>\n",
       "      <td>55.40</td>\n",
       "      <td>32</td>\n",
       "      <td>0.003971</td>\n",
       "      <td>0.320013</td>\n",
       "      <td>0.012883</td>\n",
       "    </tr>\n",
       "    <tr>\n",
       "      <th>8</th>\n",
       "      <td>9</td>\n",
       "      <td>Ética a Nicômaco</td>\n",
       "      <td>13.90</td>\n",
       "      <td>111</td>\n",
       "      <td>0.029438</td>\n",
       "      <td>0.403330</td>\n",
       "      <td>0.076011</td>\n",
       "    </tr>\n",
       "    <tr>\n",
       "      <th>9</th>\n",
       "      <td>10</td>\n",
       "      <td>Da Justiça</td>\n",
       "      <td>31.19</td>\n",
       "      <td>53</td>\n",
       "      <td>0.025993</td>\n",
       "      <td>0.340378</td>\n",
       "      <td>0.013198</td>\n",
       "    </tr>\n",
       "  </tbody>\n",
       "</table>\n",
       "</div>"
      ],
      "text/plain": [
       "   id                                              title   price  degree  \\\n",
       "0   1                                         A Política   38.90      41   \n",
       "1   2  História da Filosofia Grega e Romana. Aristóte...   36.50      67   \n",
       "2   3       Ordem e História. A Era Ecumênica - Volume 4  112.43      39   \n",
       "3   4                                        Física I-II   44.80      40   \n",
       "4   5             A Estrutura das Revoluções Cientificas   46.02      35   \n",
       "5   6                            Discurso de Metafísica    28.37      32   \n",
       "6   7                                         Do Cidadão   61.16       9   \n",
       "7   8                                  Sobre A Revolução   55.40      32   \n",
       "8   9                                   Ética a Nicômaco   13.90     111   \n",
       "9  10                                         Da Justiça   31.19      53   \n",
       "\n",
       "   eigenvector_centrality  closeness_centrality  betweenness_centrality  \n",
       "0                0.009902              0.368105                0.007037  \n",
       "1                0.011528              0.345435                0.012753  \n",
       "2                0.021038              0.324297                0.001071  \n",
       "3                0.007521              0.339376                0.015963  \n",
       "4                0.000645              0.306996                0.011153  \n",
       "5                0.009921              0.318177                0.001308  \n",
       "6                0.000324              0.282426                0.000271  \n",
       "7                0.003971              0.320013                0.012883  \n",
       "8                0.029438              0.403330                0.076011  \n",
       "9                0.025993              0.340378                0.013198  "
      ]
     },
     "execution_count": 10,
     "metadata": {},
     "output_type": "execute_result"
    }
   ],
   "source": [
    "df.head(10)"
   ]
  },
  {
   "cell_type": "markdown",
   "metadata": {},
   "source": [
    "## Random forest using degree as feature, price as target"
   ]
  },
  {
   "cell_type": "markdown",
   "metadata": {},
   "source": [
    "### Preparing data"
   ]
  },
  {
   "cell_type": "code",
   "execution_count": 11,
   "metadata": {
    "collapsed": true
   },
   "outputs": [],
   "source": [
    "feature_list = list(df[features].columns)\n",
    "features = np.array(df[features])\n",
    "target = np.array(df['price'])"
   ]
  },
  {
   "cell_type": "markdown",
   "metadata": {},
   "source": [
    "### Average price as baseline"
   ]
  },
  {
   "cell_type": "markdown",
   "metadata": {},
   "source": [
    "It's important to have a baseline, so we can validate our predictions after running our model. One easy choice for baseline is the average price of a book.\n",
    "\n",
    "We have an average price around R\\$43, so this means that a very easy prediction would be to always guess R$43 for the price of any book."
   ]
  },
  {
   "cell_type": "code",
   "execution_count": 12,
   "metadata": {},
   "outputs": [
    {
     "name": "stdout",
     "output_type": "stream",
     "text": [
      "Average price: R$ 43.6414563107\n"
     ]
    }
   ],
   "source": [
    "average_target = np.average(target)\n",
    "print \"Average price: R$\", average_target"
   ]
  },
  {
   "cell_type": "markdown",
   "metadata": {},
   "source": [
    "### Training data split"
   ]
  },
  {
   "cell_type": "markdown",
   "metadata": {},
   "source": [
    "Let's split our dataset into two sets: train and test. We use the first to train or model, and we use the second to test the precision of our model."
   ]
  },
  {
   "cell_type": "code",
   "execution_count": 13,
   "metadata": {},
   "outputs": [
    {
     "name": "stdout",
     "output_type": "stream",
     "text": [
      "('Training Features Shape:', (2163, 4))\n",
      "('Training Labels Shape:', (2163,))\n",
      "('Testing Features Shape:', (721, 4))\n",
      "('Testing Labels Shape:', (721,))\n"
     ]
    }
   ],
   "source": [
    "# Split the data into training and testing sets\n",
    "train_features, test_features, train_target, test_target \\\n",
    "    = train_test_split(features, target, test_size = 0.25)\n",
    "\n",
    "# Summary\n",
    "print('Training Features Shape:', train_features.shape)\n",
    "print('Training Labels Shape:', train_target.shape)\n",
    "print('Testing Features Shape:', test_features.shape)\n",
    "print('Testing Labels Shape:', test_target.shape)"
   ]
  },
  {
   "cell_type": "markdown",
   "metadata": {},
   "source": [
    "### Train data"
   ]
  },
  {
   "cell_type": "markdown",
   "metadata": {},
   "source": [
    "We train a random forest model with 500 estimators."
   ]
  },
  {
   "cell_type": "code",
   "execution_count": 14,
   "metadata": {},
   "outputs": [],
   "source": [
    "# Load model\n",
    "rf = RandomForestRegressor(n_estimators = 500)\n",
    "# Train\n",
    "rf.fit(train_features, train_target);"
   ]
  },
  {
   "cell_type": "markdown",
   "metadata": {},
   "source": [
    "### Prediction"
   ]
  },
  {
   "cell_type": "code",
   "execution_count": 15,
   "metadata": {},
   "outputs": [],
   "source": [
    "predictions = rf.predict(test_features)"
   ]
  },
  {
   "cell_type": "markdown",
   "metadata": {},
   "source": [
    "### Mean absolute error"
   ]
  },
  {
   "cell_type": "markdown",
   "metadata": {},
   "source": [
    "Now we can compare the errors obtained by our predictions against the errors provided by the baseline (average price). Our prediction errors should be less than the baseline errors to consider the model successful."
   ]
  },
  {
   "cell_type": "code",
   "execution_count": 16,
   "metadata": {},
   "outputs": [
    {
     "name": "stdout",
     "output_type": "stream",
     "text": [
      "('Mean absolute prediction error: R$', 19.99)\n",
      "('Mean absolute error using average: R$', 19.33)\n"
     ]
    }
   ],
   "source": [
    "# Calculate the absolute errors\n",
    "errors = abs(predictions - test_target)\n",
    "errors_baseline = abs(average_target - test_target)\n",
    "# Print out the mean absolute error (mae)\n",
    "print('Mean absolute prediction error: R$', round(np.mean(errors), 2))\n",
    "print('Mean absolute error using average: R$',\n",
    "      round(np.mean(errors_baseline), 2))"
   ]
  },
  {
   "cell_type": "markdown",
   "metadata": {},
   "source": [
    "### List a few target vs. predicted"
   ]
  },
  {
   "cell_type": "markdown",
   "metadata": {},
   "source": [
    "Below we can inspect the rows with the biggest prediction error."
   ]
  },
  {
   "cell_type": "code",
   "execution_count": 17,
   "metadata": {},
   "outputs": [
    {
     "data": {
      "text/html": [
       "<div>\n",
       "<style scoped>\n",
       "    .dataframe tbody tr th:only-of-type {\n",
       "        vertical-align: middle;\n",
       "    }\n",
       "\n",
       "    .dataframe tbody tr th {\n",
       "        vertical-align: top;\n",
       "    }\n",
       "\n",
       "    .dataframe thead th {\n",
       "        text-align: right;\n",
       "    }\n",
       "</style>\n",
       "<table border=\"1\" class=\"dataframe\">\n",
       "  <thead>\n",
       "    <tr style=\"text-align: right;\">\n",
       "      <th></th>\n",
       "      <th>degree</th>\n",
       "      <th>error</th>\n",
       "      <th>errors_baseline</th>\n",
       "      <th>prediction</th>\n",
       "      <th>target</th>\n",
       "    </tr>\n",
       "  </thead>\n",
       "  <tbody>\n",
       "    <tr>\n",
       "      <th>713</th>\n",
       "      <td>[4.0, 0.00286559083722, 0.279577191621, 1.1456...</td>\n",
       "      <td>170.321038</td>\n",
       "      <td>166.058544</td>\n",
       "      <td>39.378962</td>\n",
       "      <td>209.70</td>\n",
       "    </tr>\n",
       "    <tr>\n",
       "      <th>690</th>\n",
       "      <td>[1.0, 1.32625312538e-06, 0.207499640132, 0.0]</td>\n",
       "      <td>148.541293</td>\n",
       "      <td>147.338544</td>\n",
       "      <td>42.438707</td>\n",
       "      <td>190.98</td>\n",
       "    </tr>\n",
       "    <tr>\n",
       "      <th>495</th>\n",
       "      <td>[1.0, 0.00137877097198, 0.262640065592, 0.0]</td>\n",
       "      <td>139.270938</td>\n",
       "      <td>136.278544</td>\n",
       "      <td>40.649062</td>\n",
       "      <td>179.92</td>\n",
       "    </tr>\n",
       "    <tr>\n",
       "      <th>691</th>\n",
       "      <td>[1.0, 8.62011831887e-06, 0.236680075527, 0.0]</td>\n",
       "      <td>124.367733</td>\n",
       "      <td>151.478544</td>\n",
       "      <td>70.752267</td>\n",
       "      <td>195.12</td>\n",
       "    </tr>\n",
       "    <tr>\n",
       "      <th>420</th>\n",
       "      <td>[5.0, 0.000641187697288, 0.2862959285, 1.40914...</td>\n",
       "      <td>123.946115</td>\n",
       "      <td>129.058544</td>\n",
       "      <td>48.753885</td>\n",
       "      <td>172.70</td>\n",
       "    </tr>\n",
       "    <tr>\n",
       "      <th>515</th>\n",
       "      <td>[5.0, 0.00596870198413, 0.281597968353, 3.7733...</td>\n",
       "      <td>121.721580</td>\n",
       "      <td>116.258544</td>\n",
       "      <td>38.178420</td>\n",
       "      <td>159.90</td>\n",
       "    </tr>\n",
       "    <tr>\n",
       "      <th>1</th>\n",
       "      <td>[7.0, 0.0002802827206, 0.284375616492, 0.00012...</td>\n",
       "      <td>111.417816</td>\n",
       "      <td>25.841456</td>\n",
       "      <td>129.217816</td>\n",
       "      <td>17.80</td>\n",
       "    </tr>\n",
       "    <tr>\n",
       "      <th>600</th>\n",
       "      <td>[19.0, 0.00967963147015, 0.291565533981, 0.000...</td>\n",
       "      <td>110.580900</td>\n",
       "      <td>113.158544</td>\n",
       "      <td>46.219100</td>\n",
       "      <td>156.80</td>\n",
       "    </tr>\n",
       "    <tr>\n",
       "      <th>188</th>\n",
       "      <td>[1.0, 1.20514736417e-05, 0.23056621881, 0.0]</td>\n",
       "      <td>107.906120</td>\n",
       "      <td>133.338544</td>\n",
       "      <td>69.073880</td>\n",
       "      <td>176.98</td>\n",
       "    </tr>\n",
       "    <tr>\n",
       "      <th>292</th>\n",
       "      <td>[2.0, 2.42195251481e-05, 0.237616418033, 0.0]</td>\n",
       "      <td>106.550282</td>\n",
       "      <td>18.741456</td>\n",
       "      <td>131.450282</td>\n",
       "      <td>24.90</td>\n",
       "    </tr>\n",
       "  </tbody>\n",
       "</table>\n",
       "</div>"
      ],
      "text/plain": [
       "                                                degree       error  \\\n",
       "713  [4.0, 0.00286559083722, 0.279577191621, 1.1456...  170.321038   \n",
       "690      [1.0, 1.32625312538e-06, 0.207499640132, 0.0]  148.541293   \n",
       "495       [1.0, 0.00137877097198, 0.262640065592, 0.0]  139.270938   \n",
       "691      [1.0, 8.62011831887e-06, 0.236680075527, 0.0]  124.367733   \n",
       "420  [5.0, 0.000641187697288, 0.2862959285, 1.40914...  123.946115   \n",
       "515  [5.0, 0.00596870198413, 0.281597968353, 3.7733...  121.721580   \n",
       "1    [7.0, 0.0002802827206, 0.284375616492, 0.00012...  111.417816   \n",
       "600  [19.0, 0.00967963147015, 0.291565533981, 0.000...  110.580900   \n",
       "188       [1.0, 1.20514736417e-05, 0.23056621881, 0.0]  107.906120   \n",
       "292      [2.0, 2.42195251481e-05, 0.237616418033, 0.0]  106.550282   \n",
       "\n",
       "     errors_baseline  prediction  target  \n",
       "713       166.058544   39.378962  209.70  \n",
       "690       147.338544   42.438707  190.98  \n",
       "495       136.278544   40.649062  179.92  \n",
       "691       151.478544   70.752267  195.12  \n",
       "420       129.058544   48.753885  172.70  \n",
       "515       116.258544   38.178420  159.90  \n",
       "1          25.841456  129.217816   17.80  \n",
       "600       113.158544   46.219100  156.80  \n",
       "188       133.338544   69.073880  176.98  \n",
       "292        18.741456  131.450282   24.90  "
      ]
     },
     "execution_count": 17,
     "metadata": {},
     "output_type": "execute_result"
    }
   ],
   "source": [
    "data = {\n",
    "    \"degree\": test_features.tolist(),\n",
    "    \"target\": test_target,\n",
    "    \"prediction\": predictions,\n",
    "    \"error\": errors,\n",
    "    \"errors_baseline\": errors_baseline\n",
    "}\n",
    "predicted_df = pd.DataFrame(data = data)\n",
    "predicted_df.sort_values('error', ascending = False).head(10)"
   ]
  },
  {
   "cell_type": "code",
   "execution_count": 18,
   "metadata": {},
   "outputs": [
    {
     "data": {
      "text/html": [
       "<div>\n",
       "<style scoped>\n",
       "    .dataframe tbody tr th:only-of-type {\n",
       "        vertical-align: middle;\n",
       "    }\n",
       "\n",
       "    .dataframe tbody tr th {\n",
       "        vertical-align: top;\n",
       "    }\n",
       "\n",
       "    .dataframe thead th {\n",
       "        text-align: right;\n",
       "    }\n",
       "</style>\n",
       "<table border=\"1\" class=\"dataframe\">\n",
       "  <thead>\n",
       "    <tr style=\"text-align: right;\">\n",
       "      <th></th>\n",
       "      <th>error</th>\n",
       "      <th>errors_baseline</th>\n",
       "      <th>prediction</th>\n",
       "      <th>target</th>\n",
       "    </tr>\n",
       "  </thead>\n",
       "  <tbody>\n",
       "    <tr>\n",
       "      <th>count</th>\n",
       "      <td>721.000000</td>\n",
       "      <td>721.000000</td>\n",
       "      <td>721.000000</td>\n",
       "      <td>721.000000</td>\n",
       "    </tr>\n",
       "    <tr>\n",
       "      <th>mean</th>\n",
       "      <td>19.990947</td>\n",
       "      <td>19.325790</td>\n",
       "      <td>44.313799</td>\n",
       "      <td>42.666325</td>\n",
       "    </tr>\n",
       "    <tr>\n",
       "      <th>std</th>\n",
       "      <td>21.362225</td>\n",
       "      <td>19.813392</td>\n",
       "      <td>15.131511</td>\n",
       "      <td>27.669897</td>\n",
       "    </tr>\n",
       "    <tr>\n",
       "      <th>min</th>\n",
       "      <td>0.043260</td>\n",
       "      <td>0.061456</td>\n",
       "      <td>18.765520</td>\n",
       "      <td>5.990000</td>\n",
       "    </tr>\n",
       "    <tr>\n",
       "      <th>25%</th>\n",
       "      <td>6.818190</td>\n",
       "      <td>8.158544</td>\n",
       "      <td>34.199580</td>\n",
       "      <td>24.800000</td>\n",
       "    </tr>\n",
       "    <tr>\n",
       "      <th>50%</th>\n",
       "      <td>14.580560</td>\n",
       "      <td>15.301456</td>\n",
       "      <td>42.007564</td>\n",
       "      <td>35.840000</td>\n",
       "    </tr>\n",
       "    <tr>\n",
       "      <th>75%</th>\n",
       "      <td>25.093298</td>\n",
       "      <td>24.531456</td>\n",
       "      <td>50.931186</td>\n",
       "      <td>51.900000</td>\n",
       "    </tr>\n",
       "    <tr>\n",
       "      <th>max</th>\n",
       "      <td>170.321038</td>\n",
       "      <td>166.058544</td>\n",
       "      <td>131.450282</td>\n",
       "      <td>209.700000</td>\n",
       "    </tr>\n",
       "  </tbody>\n",
       "</table>\n",
       "</div>"
      ],
      "text/plain": [
       "            error  errors_baseline  prediction      target\n",
       "count  721.000000       721.000000  721.000000  721.000000\n",
       "mean    19.990947        19.325790   44.313799   42.666325\n",
       "std     21.362225        19.813392   15.131511   27.669897\n",
       "min      0.043260         0.061456   18.765520    5.990000\n",
       "25%      6.818190         8.158544   34.199580   24.800000\n",
       "50%     14.580560        15.301456   42.007564   35.840000\n",
       "75%     25.093298        24.531456   50.931186   51.900000\n",
       "max    170.321038       166.058544  131.450282  209.700000"
      ]
     },
     "execution_count": 18,
     "metadata": {},
     "output_type": "execute_result"
    }
   ],
   "source": [
    "predicted_df.describe()"
   ]
  },
  {
   "cell_type": "markdown",
   "metadata": {},
   "source": [
    "### Visualize decision tree"
   ]
  },
  {
   "cell_type": "code",
   "execution_count": 19,
   "metadata": {
    "collapsed": true
   },
   "outputs": [],
   "source": [
    "# Pull out one tree from the forest\n",
    "tree = rf.estimators_[0]\n",
    "# Export the image to a dot file\n",
    "export_graphviz(tree, out_file = 'tree.dot',\n",
    "                feature_names = feature_list, rounded = True)\n",
    "# Use dot file to create a graph\n",
    "(graph, ) = pydot.graph_from_dot_file('tree.dot')\n",
    "# Write graph to a png file\n",
    "graph.write_png('tree.png')"
   ]
  },
  {
   "cell_type": "markdown",
   "metadata": {},
   "source": [
    "<img src=\"files/image.png\">"
   ]
  }
 ],
 "metadata": {
  "kernelspec": {
   "display_name": "Python 2",
   "language": "python",
   "name": "python2"
  },
  "language_info": {
   "codemirror_mode": {
    "name": "ipython",
    "version": 2
   },
   "file_extension": ".py",
   "mimetype": "text/x-python",
   "name": "python",
   "nbconvert_exporter": "python",
   "pygments_lexer": "ipython2",
   "version": "2.7.13"
  }
 },
 "nbformat": 4,
 "nbformat_minor": 2
}
