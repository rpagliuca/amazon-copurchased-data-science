{
 "cells": [
  {
   "cell_type": "markdown",
   "metadata": {},
   "source": [
    "# Amazon Copurchased"
   ]
  },
  {
   "cell_type": "markdown",
   "metadata": {},
   "source": [
    "This is a Python notebook created using \"jupyter\".\n",
    "\n",
    "Author: Rafael J. P. dos Santos"
   ]
  },
  {
   "cell_type": "markdown",
   "metadata": {},
   "source": [
    "## Condições do experimento"
   ]
  },
  {
   "cell_type": "markdown",
   "metadata": {},
   "source": [
    "* Todos os dados\n",
    "* Todas as features"
   ]
  },
  {
   "cell_type": "markdown",
   "metadata": {},
   "source": [
    "## Parameters"
   ]
  },
  {
   "cell_type": "markdown",
   "metadata": {},
   "source": [
    "We use the parameter below to set the maximum number of edges to be read from the CSV containing edges (links)."
   ]
  },
  {
   "cell_type": "code",
   "execution_count": 1,
   "metadata": {
    "ExecuteTime": {
     "end_time": "2019-02-02T17:04:04.179353Z",
     "start_time": "2019-02-02T17:04:04.173423Z"
    },
    "cell_style": "center",
    "collapsed": true,
    "hide_input": false
   },
   "outputs": [],
   "source": [
    "max_edges = 0 # Set quantity to read from file\n",
    "edges_csv_file = \"data/20180812_links\"\n",
    "nodes_csv_file = \"data/20180812_nodes\""
   ]
  },
  {
   "cell_type": "markdown",
   "metadata": {},
   "source": [
    "## Load the libraries"
   ]
  },
  {
   "cell_type": "markdown",
   "metadata": {},
   "source": [
    "Let's load the Python libraries that we will need throughout the script"
   ]
  },
  {
   "cell_type": "code",
   "execution_count": 2,
   "metadata": {
    "ExecuteTime": {
     "end_time": "2019-02-02T17:04:05.930920Z",
     "start_time": "2019-02-02T17:04:04.308817Z"
    },
    "collapsed": true
   },
   "outputs": [],
   "source": [
    "%load_ext autoreload\n",
    "%autoreload 1\n",
    "%aimport shared_functions\n",
    "import pandas as pd\n",
    "import numpy as np\n",
    "from __future__ import division\n",
    "import shared_functions\n",
    "from IPython.display import display, HTML"
   ]
  },
  {
   "cell_type": "markdown",
   "metadata": {},
   "source": [
    "## Read graph"
   ]
  },
  {
   "cell_type": "markdown",
   "metadata": {},
   "source": [
    "### Read only first lines of datafile"
   ]
  },
  {
   "cell_type": "markdown",
   "metadata": {},
   "source": [
    "Due to slowness in calculating centrality measures, we use the parameter provided in the beggining of the script to limit the number of edges we will read."
   ]
  },
  {
   "cell_type": "code",
   "execution_count": 3,
   "metadata": {
    "ExecuteTime": {
     "end_time": "2019-02-02T17:04:08.837292Z",
     "start_time": "2019-02-02T17:04:05.939045Z"
    }
   },
   "outputs": [
    {
     "name": "stdout",
     "output_type": "stream",
     "text": [
      "Using 229338 edges out of 229338 available (100.00% of data)\n"
     ]
    }
   ],
   "source": [
    "G = shared_functions.read_G(edges_csv_file, max_edges)"
   ]
  },
  {
   "cell_type": "markdown",
   "metadata": {},
   "source": [
    "### Calculate nodes centrality measures"
   ]
  },
  {
   "cell_type": "markdown",
   "metadata": {},
   "source": [
    "Now that we have our NetworkX graph, let's calculate some centrality measures for every node."
   ]
  },
  {
   "cell_type": "code",
   "execution_count": 4,
   "metadata": {
    "ExecuteTime": {
     "end_time": "2019-02-02T17:07:47.030607Z",
     "start_time": "2019-02-02T17:04:08.840066Z"
    }
   },
   "outputs": [
    {
     "name": "stdout",
     "output_type": "stream",
     "text": [
      "['eigenvector_centrality', 'degree', 'betweenness_centrality']\n"
     ]
    }
   ],
   "source": [
    "centrality_measures = shared_functions.centrality_measures(G)\n",
    "print centrality_measures.keys()"
   ]
  },
  {
   "cell_type": "markdown",
   "metadata": {
    "collapsed": true
   },
   "source": [
    "### Load node properties"
   ]
  },
  {
   "cell_type": "markdown",
   "metadata": {},
   "source": [
    "Let's load the CSV containing the nodes data (title, price) into a Pandas dataframe, and append the centrality measures calculated above."
   ]
  },
  {
   "cell_type": "code",
   "execution_count": 5,
   "metadata": {
    "ExecuteTime": {
     "end_time": "2019-02-02T17:07:47.172383Z",
     "start_time": "2019-02-02T17:07:47.032880Z"
    },
    "collapsed": true
   },
   "outputs": [],
   "source": [
    "df = pd.read_csv(nodes_csv_file)"
   ]
  },
  {
   "cell_type": "markdown",
   "metadata": {
    "ExecuteTime": {
     "end_time": "2019-01-15T08:11:02.694982Z",
     "start_time": "2019-01-15T08:11:02.682718Z"
    }
   },
   "source": [
    "####  Convert ID to random int to avoid leaking knowledge"
   ]
  },
  {
   "cell_type": "code",
   "execution_count": 6,
   "metadata": {
    "ExecuteTime": {
     "end_time": "2019-02-02T17:07:47.287057Z",
     "start_time": "2019-02-02T17:07:47.174835Z"
    },
    "collapsed": true
   },
   "outputs": [],
   "source": [
    "df = shared_functions.add_sha256_column_from_id(df)"
   ]
  },
  {
   "cell_type": "markdown",
   "metadata": {},
   "source": [
    "#### Add centrality measures"
   ]
  },
  {
   "cell_type": "code",
   "execution_count": 7,
   "metadata": {
    "ExecuteTime": {
     "end_time": "2019-02-02T17:07:47.492071Z",
     "start_time": "2019-02-02T17:07:47.289485Z"
    },
    "collapsed": true
   },
   "outputs": [],
   "source": [
    "df = shared_functions.merge_columns(df, centrality_measures)"
   ]
  },
  {
   "cell_type": "markdown",
   "metadata": {},
   "source": [
    "### Let's convert some fields to numeric"
   ]
  },
  {
   "cell_type": "code",
   "execution_count": 8,
   "metadata": {
    "ExecuteTime": {
     "end_time": "2019-02-02T17:07:47.774750Z",
     "start_time": "2019-02-02T17:07:47.494438Z"
    },
    "collapsed": true
   },
   "outputs": [],
   "source": [
    "categorical_features = [\n",
    "    'category1',\n",
    "    'category2',\n",
    "    'category3',\n",
    "    'category4',\n",
    "    'category5',\n",
    "    'category6',\n",
    "    'category7',\n",
    "    'category8',\n",
    "    'category9',\n",
    "    'category10',\n",
    "    'language',\n",
    "    'coverType',\n",
    "    'publisher',\n",
    "    'rankingCategory',\n",
    "    'authors'\n",
    "]\n",
    "\n",
    "numeric_features = [\n",
    "    'degree',\n",
    "    'eigenvector_centrality',\n",
    "    'betweenness_centrality',\n",
    "    'ranking',\n",
    "    'reviewCount',\n",
    "    'pages',\n",
    "    'weight',\n",
    "    'height',\n",
    "    'width',\n",
    "    'depth',\n",
    "    'rating'\n",
    "]\n",
    "\n",
    "df = shared_functions.prepare_data(df, numeric_features)"
   ]
  },
  {
   "cell_type": "markdown",
   "metadata": {},
   "source": [
    "### Remove nodes without price"
   ]
  },
  {
   "cell_type": "code",
   "execution_count": 9,
   "metadata": {
    "ExecuteTime": {
     "end_time": "2019-02-02T17:07:47.799862Z",
     "start_time": "2019-02-02T17:07:47.785364Z"
    },
    "collapsed": true
   },
   "outputs": [],
   "source": [
    "df = df.drop(df[df[\"price\"].isnull()].index)"
   ]
  },
  {
   "cell_type": "markdown",
   "metadata": {},
   "source": [
    "### Inspect columns"
   ]
  },
  {
   "cell_type": "code",
   "execution_count": 10,
   "metadata": {
    "ExecuteTime": {
     "end_time": "2019-02-02T17:07:47.829865Z",
     "start_time": "2019-02-02T17:07:47.801925Z"
    }
   },
   "outputs": [
    {
     "data": {
      "text/plain": [
       "Index([u'id', u'title', u'url', u'authors', u'coverType', u'publisher',\n",
       "       u'edition', u'publicationDate', u'rankingCategory', u'category1',\n",
       "       u'category2', u'category3', u'category4', u'category5', u'category6',\n",
       "       u'category7', u'category8', u'category9', u'category10', u'isbn10',\n",
       "       u'isbn13', u'language', u'postProcessed', u'price', u'ranking',\n",
       "       u'pages', u'reviewCount', u'rating', u'width', u'height', u'depth',\n",
       "       u'weight', u'sha256_id', u'eigenvector_centrality', u'degree',\n",
       "       u'betweenness_centrality'],\n",
       "      dtype='object')"
      ]
     },
     "execution_count": 10,
     "metadata": {},
     "output_type": "execute_result"
    }
   ],
   "source": [
    "df.columns"
   ]
  },
  {
   "cell_type": "markdown",
   "metadata": {},
   "source": [
    "### Features summary"
   ]
  },
  {
   "cell_type": "markdown",
   "metadata": {},
   "source": [
    "Below we have a summary of the Pandas dataframe. We can see the number of nodes that we are actually analyzing, which depends on the max_edges parameter defined before."
   ]
  },
  {
   "cell_type": "code",
   "execution_count": 11,
   "metadata": {
    "ExecuteTime": {
     "end_time": "2019-02-02T17:07:48.255195Z",
     "start_time": "2019-02-02T17:07:47.833643Z"
    }
   },
   "outputs": [
    {
     "data": {
      "text/html": [
       "<div>\n",
       "<style scoped>\n",
       "    .dataframe tbody tr th:only-of-type {\n",
       "        vertical-align: middle;\n",
       "    }\n",
       "\n",
       "    .dataframe tbody tr th {\n",
       "        vertical-align: top;\n",
       "    }\n",
       "\n",
       "    .dataframe thead th {\n",
       "        text-align: right;\n",
       "    }\n",
       "</style>\n",
       "<table border=\"1\" class=\"dataframe\">\n",
       "  <thead>\n",
       "    <tr style=\"text-align: right;\">\n",
       "      <th></th>\n",
       "      <th>id</th>\n",
       "      <th>title</th>\n",
       "      <th>url</th>\n",
       "      <th>authors</th>\n",
       "      <th>coverType</th>\n",
       "      <th>publisher</th>\n",
       "      <th>edition</th>\n",
       "      <th>publicationDate</th>\n",
       "      <th>rankingCategory</th>\n",
       "      <th>category1</th>\n",
       "      <th>category2</th>\n",
       "      <th>category3</th>\n",
       "      <th>category4</th>\n",
       "      <th>category5</th>\n",
       "      <th>category6</th>\n",
       "      <th>category7</th>\n",
       "      <th>category8</th>\n",
       "      <th>category9</th>\n",
       "      <th>category10</th>\n",
       "      <th>isbn10</th>\n",
       "      <th>isbn13</th>\n",
       "      <th>language</th>\n",
       "      <th>postProcessed</th>\n",
       "      <th>price</th>\n",
       "      <th>ranking</th>\n",
       "      <th>pages</th>\n",
       "      <th>reviewCount</th>\n",
       "      <th>rating</th>\n",
       "      <th>width</th>\n",
       "      <th>height</th>\n",
       "      <th>depth</th>\n",
       "      <th>weight</th>\n",
       "      <th>sha256_id</th>\n",
       "      <th>eigenvector_centrality</th>\n",
       "      <th>degree</th>\n",
       "      <th>betweenness_centrality</th>\n",
       "    </tr>\n",
       "  </thead>\n",
       "  <tbody>\n",
       "    <tr>\n",
       "      <th>count</th>\n",
       "      <td>9153.000000</td>\n",
       "      <td>9153</td>\n",
       "      <td>9153</td>\n",
       "      <td>9152</td>\n",
       "      <td>9035</td>\n",
       "      <td>9052</td>\n",
       "      <td>0.0</td>\n",
       "      <td>783</td>\n",
       "      <td>8820</td>\n",
       "      <td>8707</td>\n",
       "      <td>8707</td>\n",
       "      <td>6525</td>\n",
       "      <td>3345</td>\n",
       "      <td>1205</td>\n",
       "      <td>188</td>\n",
       "      <td>17</td>\n",
       "      <td>0.0</td>\n",
       "      <td>0.0</td>\n",
       "      <td>0.0</td>\n",
       "      <td>9055</td>\n",
       "      <td>9055</td>\n",
       "      <td>9050</td>\n",
       "      <td>9153.0</td>\n",
       "      <td>9153.000000</td>\n",
       "      <td>9153.000000</td>\n",
       "      <td>9153.000000</td>\n",
       "      <td>9153.000000</td>\n",
       "      <td>9153.000000</td>\n",
       "      <td>9153.000000</td>\n",
       "      <td>9153.000000</td>\n",
       "      <td>9153.000000</td>\n",
       "      <td>9153.000000</td>\n",
       "      <td>9.153000e+03</td>\n",
       "      <td>9.153000e+03</td>\n",
       "      <td>9153.000000</td>\n",
       "      <td>9153.000000</td>\n",
       "    </tr>\n",
       "    <tr>\n",
       "      <th>unique</th>\n",
       "      <td>NaN</td>\n",
       "      <td>8952</td>\n",
       "      <td>9153</td>\n",
       "      <td>6177</td>\n",
       "      <td>11</td>\n",
       "      <td>728</td>\n",
       "      <td>NaN</td>\n",
       "      <td>574</td>\n",
       "      <td>1</td>\n",
       "      <td>1</td>\n",
       "      <td>28</td>\n",
       "      <td>228</td>\n",
       "      <td>440</td>\n",
       "      <td>309</td>\n",
       "      <td>71</td>\n",
       "      <td>8</td>\n",
       "      <td>NaN</td>\n",
       "      <td>NaN</td>\n",
       "      <td>NaN</td>\n",
       "      <td>9055</td>\n",
       "      <td>9055</td>\n",
       "      <td>7</td>\n",
       "      <td>NaN</td>\n",
       "      <td>NaN</td>\n",
       "      <td>NaN</td>\n",
       "      <td>NaN</td>\n",
       "      <td>NaN</td>\n",
       "      <td>NaN</td>\n",
       "      <td>NaN</td>\n",
       "      <td>NaN</td>\n",
       "      <td>NaN</td>\n",
       "      <td>NaN</td>\n",
       "      <td>NaN</td>\n",
       "      <td>NaN</td>\n",
       "      <td>NaN</td>\n",
       "      <td>NaN</td>\n",
       "    </tr>\n",
       "    <tr>\n",
       "      <th>top</th>\n",
       "      <td>NaN</td>\n",
       "      <td>Macroeconomia</td>\n",
       "      <td>https://www.amazon.com.br/dp/8580332990/</td>\n",
       "      <td>Vários Autores (Autor)</td>\n",
       "      <td>Capa comum</td>\n",
       "      <td>Companhia das Letras</td>\n",
       "      <td>NaN</td>\n",
       "      <td>1 de janeiro de 2014</td>\n",
       "      <td>Livros</td>\n",
       "      <td>Livros</td>\n",
       "      <td>Política, Filosofia e Ciências Sociais</td>\n",
       "      <td>Filosofia</td>\n",
       "      <td>Matemática</td>\n",
       "      <td>Brasil</td>\n",
       "      <td>Probabilidade e Estatística</td>\n",
       "      <td>Neurociência</td>\n",
       "      <td>NaN</td>\n",
       "      <td>NaN</td>\n",
       "      <td>NaN</td>\n",
       "      <td>8525431494</td>\n",
       "      <td>978-8582600481</td>\n",
       "      <td>Português</td>\n",
       "      <td>NaN</td>\n",
       "      <td>NaN</td>\n",
       "      <td>NaN</td>\n",
       "      <td>NaN</td>\n",
       "      <td>NaN</td>\n",
       "      <td>NaN</td>\n",
       "      <td>NaN</td>\n",
       "      <td>NaN</td>\n",
       "      <td>NaN</td>\n",
       "      <td>NaN</td>\n",
       "      <td>NaN</td>\n",
       "      <td>NaN</td>\n",
       "      <td>NaN</td>\n",
       "      <td>NaN</td>\n",
       "    </tr>\n",
       "    <tr>\n",
       "      <th>freq</th>\n",
       "      <td>NaN</td>\n",
       "      <td>6</td>\n",
       "      <td>1</td>\n",
       "      <td>106</td>\n",
       "      <td>7729</td>\n",
       "      <td>536</td>\n",
       "      <td>NaN</td>\n",
       "      <td>13</td>\n",
       "      <td>8820</td>\n",
       "      <td>8707</td>\n",
       "      <td>1557</td>\n",
       "      <td>914</td>\n",
       "      <td>165</td>\n",
       "      <td>78</td>\n",
       "      <td>18</td>\n",
       "      <td>4</td>\n",
       "      <td>NaN</td>\n",
       "      <td>NaN</td>\n",
       "      <td>NaN</td>\n",
       "      <td>1</td>\n",
       "      <td>1</td>\n",
       "      <td>7976</td>\n",
       "      <td>NaN</td>\n",
       "      <td>NaN</td>\n",
       "      <td>NaN</td>\n",
       "      <td>NaN</td>\n",
       "      <td>NaN</td>\n",
       "      <td>NaN</td>\n",
       "      <td>NaN</td>\n",
       "      <td>NaN</td>\n",
       "      <td>NaN</td>\n",
       "      <td>NaN</td>\n",
       "      <td>NaN</td>\n",
       "      <td>NaN</td>\n",
       "      <td>NaN</td>\n",
       "      <td>NaN</td>\n",
       "    </tr>\n",
       "    <tr>\n",
       "      <th>mean</th>\n",
       "      <td>4896.658473</td>\n",
       "      <td>NaN</td>\n",
       "      <td>NaN</td>\n",
       "      <td>NaN</td>\n",
       "      <td>NaN</td>\n",
       "      <td>NaN</td>\n",
       "      <td>NaN</td>\n",
       "      <td>NaN</td>\n",
       "      <td>NaN</td>\n",
       "      <td>NaN</td>\n",
       "      <td>NaN</td>\n",
       "      <td>NaN</td>\n",
       "      <td>NaN</td>\n",
       "      <td>NaN</td>\n",
       "      <td>NaN</td>\n",
       "      <td>NaN</td>\n",
       "      <td>NaN</td>\n",
       "      <td>NaN</td>\n",
       "      <td>NaN</td>\n",
       "      <td>NaN</td>\n",
       "      <td>NaN</td>\n",
       "      <td>NaN</td>\n",
       "      <td>1.0</td>\n",
       "      <td>71.900469</td>\n",
       "      <td>35581.243023</td>\n",
       "      <td>352.333450</td>\n",
       "      <td>14.392313</td>\n",
       "      <td>4.443767</td>\n",
       "      <td>15.276002</td>\n",
       "      <td>22.264502</td>\n",
       "      <td>2.077165</td>\n",
       "      <td>425.828030</td>\n",
       "      <td>2.122251e+09</td>\n",
       "      <td>3.406945e-03</td>\n",
       "      <td>31.259587</td>\n",
       "      <td>0.000995</td>\n",
       "    </tr>\n",
       "    <tr>\n",
       "      <th>std</th>\n",
       "      <td>2826.520995</td>\n",
       "      <td>NaN</td>\n",
       "      <td>NaN</td>\n",
       "      <td>NaN</td>\n",
       "      <td>NaN</td>\n",
       "      <td>NaN</td>\n",
       "      <td>NaN</td>\n",
       "      <td>NaN</td>\n",
       "      <td>NaN</td>\n",
       "      <td>NaN</td>\n",
       "      <td>NaN</td>\n",
       "      <td>NaN</td>\n",
       "      <td>NaN</td>\n",
       "      <td>NaN</td>\n",
       "      <td>NaN</td>\n",
       "      <td>NaN</td>\n",
       "      <td>NaN</td>\n",
       "      <td>NaN</td>\n",
       "      <td>NaN</td>\n",
       "      <td>NaN</td>\n",
       "      <td>NaN</td>\n",
       "      <td>NaN</td>\n",
       "      <td>0.0</td>\n",
       "      <td>145.716338</td>\n",
       "      <td>45683.667822</td>\n",
       "      <td>249.857638</td>\n",
       "      <td>32.650533</td>\n",
       "      <td>0.551851</td>\n",
       "      <td>2.574086</td>\n",
       "      <td>2.590565</td>\n",
       "      <td>1.208801</td>\n",
       "      <td>201.984523</td>\n",
       "      <td>1.240653e+09</td>\n",
       "      <td>9.780235e-03</td>\n",
       "      <td>34.801327</td>\n",
       "      <td>0.001414</td>\n",
       "    </tr>\n",
       "    <tr>\n",
       "      <th>min</th>\n",
       "      <td>1.000000</td>\n",
       "      <td>NaN</td>\n",
       "      <td>NaN</td>\n",
       "      <td>NaN</td>\n",
       "      <td>NaN</td>\n",
       "      <td>NaN</td>\n",
       "      <td>NaN</td>\n",
       "      <td>NaN</td>\n",
       "      <td>NaN</td>\n",
       "      <td>NaN</td>\n",
       "      <td>NaN</td>\n",
       "      <td>NaN</td>\n",
       "      <td>NaN</td>\n",
       "      <td>NaN</td>\n",
       "      <td>NaN</td>\n",
       "      <td>NaN</td>\n",
       "      <td>NaN</td>\n",
       "      <td>NaN</td>\n",
       "      <td>NaN</td>\n",
       "      <td>NaN</td>\n",
       "      <td>NaN</td>\n",
       "      <td>NaN</td>\n",
       "      <td>1.0</td>\n",
       "      <td>2.900000</td>\n",
       "      <td>3.000000</td>\n",
       "      <td>2.000000</td>\n",
       "      <td>1.000000</td>\n",
       "      <td>1.000000</td>\n",
       "      <td>0.800000</td>\n",
       "      <td>8.600000</td>\n",
       "      <td>0.200000</td>\n",
       "      <td>4.500000</td>\n",
       "      <td>2.291770e+05</td>\n",
       "      <td>6.734553e-11</td>\n",
       "      <td>1.000000</td>\n",
       "      <td>0.000000</td>\n",
       "    </tr>\n",
       "    <tr>\n",
       "      <th>25%</th>\n",
       "      <td>2481.000000</td>\n",
       "      <td>NaN</td>\n",
       "      <td>NaN</td>\n",
       "      <td>NaN</td>\n",
       "      <td>NaN</td>\n",
       "      <td>NaN</td>\n",
       "      <td>NaN</td>\n",
       "      <td>NaN</td>\n",
       "      <td>NaN</td>\n",
       "      <td>NaN</td>\n",
       "      <td>NaN</td>\n",
       "      <td>NaN</td>\n",
       "      <td>NaN</td>\n",
       "      <td>NaN</td>\n",
       "      <td>NaN</td>\n",
       "      <td>NaN</td>\n",
       "      <td>NaN</td>\n",
       "      <td>NaN</td>\n",
       "      <td>NaN</td>\n",
       "      <td>NaN</td>\n",
       "      <td>NaN</td>\n",
       "      <td>NaN</td>\n",
       "      <td>1.0</td>\n",
       "      <td>26.310000</td>\n",
       "      <td>8345.000000</td>\n",
       "      <td>192.000000</td>\n",
       "      <td>2.000000</td>\n",
       "      <td>4.400000</td>\n",
       "      <td>13.600000</td>\n",
       "      <td>20.800000</td>\n",
       "      <td>1.300000</td>\n",
       "      <td>281.000000</td>\n",
       "      <td>1.025729e+09</td>\n",
       "      <td>1.755986e-05</td>\n",
       "      <td>8.000000</td>\n",
       "      <td>0.000188</td>\n",
       "    </tr>\n",
       "    <tr>\n",
       "      <th>50%</th>\n",
       "      <td>4900.000000</td>\n",
       "      <td>NaN</td>\n",
       "      <td>NaN</td>\n",
       "      <td>NaN</td>\n",
       "      <td>NaN</td>\n",
       "      <td>NaN</td>\n",
       "      <td>NaN</td>\n",
       "      <td>NaN</td>\n",
       "      <td>NaN</td>\n",
       "      <td>NaN</td>\n",
       "      <td>NaN</td>\n",
       "      <td>NaN</td>\n",
       "      <td>NaN</td>\n",
       "      <td>NaN</td>\n",
       "      <td>NaN</td>\n",
       "      <td>NaN</td>\n",
       "      <td>NaN</td>\n",
       "      <td>NaN</td>\n",
       "      <td>NaN</td>\n",
       "      <td>NaN</td>\n",
       "      <td>NaN</td>\n",
       "      <td>NaN</td>\n",
       "      <td>1.0</td>\n",
       "      <td>39.110000</td>\n",
       "      <td>22980.000000</td>\n",
       "      <td>304.000000</td>\n",
       "      <td>10.000000</td>\n",
       "      <td>4.445241</td>\n",
       "      <td>15.304075</td>\n",
       "      <td>22.600000</td>\n",
       "      <td>1.800000</td>\n",
       "      <td>426.421903</td>\n",
       "      <td>2.113182e+09</td>\n",
       "      <td>2.125446e-04</td>\n",
       "      <td>19.000000</td>\n",
       "      <td>0.000520</td>\n",
       "    </tr>\n",
       "    <tr>\n",
       "      <th>75%</th>\n",
       "      <td>7348.000000</td>\n",
       "      <td>NaN</td>\n",
       "      <td>NaN</td>\n",
       "      <td>NaN</td>\n",
       "      <td>NaN</td>\n",
       "      <td>NaN</td>\n",
       "      <td>NaN</td>\n",
       "      <td>NaN</td>\n",
       "      <td>NaN</td>\n",
       "      <td>NaN</td>\n",
       "      <td>NaN</td>\n",
       "      <td>NaN</td>\n",
       "      <td>NaN</td>\n",
       "      <td>NaN</td>\n",
       "      <td>NaN</td>\n",
       "      <td>NaN</td>\n",
       "      <td>NaN</td>\n",
       "      <td>NaN</td>\n",
       "      <td>NaN</td>\n",
       "      <td>NaN</td>\n",
       "      <td>NaN</td>\n",
       "      <td>NaN</td>\n",
       "      <td>1.0</td>\n",
       "      <td>63.110000</td>\n",
       "      <td>45609.000000</td>\n",
       "      <td>432.000000</td>\n",
       "      <td>14.304266</td>\n",
       "      <td>4.800000</td>\n",
       "      <td>16.000000</td>\n",
       "      <td>23.200000</td>\n",
       "      <td>2.600000</td>\n",
       "      <td>535.000000</td>\n",
       "      <td>3.182206e+09</td>\n",
       "      <td>1.596866e-03</td>\n",
       "      <td>43.000000</td>\n",
       "      <td>0.001282</td>\n",
       "    </tr>\n",
       "    <tr>\n",
       "      <th>85%</th>\n",
       "      <td>8326.200000</td>\n",
       "      <td>NaN</td>\n",
       "      <td>NaN</td>\n",
       "      <td>NaN</td>\n",
       "      <td>NaN</td>\n",
       "      <td>NaN</td>\n",
       "      <td>NaN</td>\n",
       "      <td>NaN</td>\n",
       "      <td>NaN</td>\n",
       "      <td>NaN</td>\n",
       "      <td>NaN</td>\n",
       "      <td>NaN</td>\n",
       "      <td>NaN</td>\n",
       "      <td>NaN</td>\n",
       "      <td>NaN</td>\n",
       "      <td>NaN</td>\n",
       "      <td>NaN</td>\n",
       "      <td>NaN</td>\n",
       "      <td>NaN</td>\n",
       "      <td>NaN</td>\n",
       "      <td>NaN</td>\n",
       "      <td>NaN</td>\n",
       "      <td>1.0</td>\n",
       "      <td>90.572000</td>\n",
       "      <td>63152.400000</td>\n",
       "      <td>544.000000</td>\n",
       "      <td>14.304266</td>\n",
       "      <td>5.000000</td>\n",
       "      <td>17.000000</td>\n",
       "      <td>23.900000</td>\n",
       "      <td>3.000000</td>\n",
       "      <td>640.000000</td>\n",
       "      <td>3.637575e+09</td>\n",
       "      <td>4.675157e-03</td>\n",
       "      <td>61.000000</td>\n",
       "      <td>0.001852</td>\n",
       "    </tr>\n",
       "    <tr>\n",
       "      <th>90%</th>\n",
       "      <td>8813.800000</td>\n",
       "      <td>NaN</td>\n",
       "      <td>NaN</td>\n",
       "      <td>NaN</td>\n",
       "      <td>NaN</td>\n",
       "      <td>NaN</td>\n",
       "      <td>NaN</td>\n",
       "      <td>NaN</td>\n",
       "      <td>NaN</td>\n",
       "      <td>NaN</td>\n",
       "      <td>NaN</td>\n",
       "      <td>NaN</td>\n",
       "      <td>NaN</td>\n",
       "      <td>NaN</td>\n",
       "      <td>NaN</td>\n",
       "      <td>NaN</td>\n",
       "      <td>NaN</td>\n",
       "      <td>NaN</td>\n",
       "      <td>NaN</td>\n",
       "      <td>NaN</td>\n",
       "      <td>NaN</td>\n",
       "      <td>NaN</td>\n",
       "      <td>1.0</td>\n",
       "      <td>120.744000</td>\n",
       "      <td>78753.400000</td>\n",
       "      <td>624.000000</td>\n",
       "      <td>20.000000</td>\n",
       "      <td>5.000000</td>\n",
       "      <td>18.980000</td>\n",
       "      <td>25.400000</td>\n",
       "      <td>3.400000</td>\n",
       "      <td>721.000000</td>\n",
       "      <td>3.869782e+09</td>\n",
       "      <td>8.931196e-03</td>\n",
       "      <td>77.000000</td>\n",
       "      <td>0.002401</td>\n",
       "    </tr>\n",
       "    <tr>\n",
       "      <th>95%</th>\n",
       "      <td>9294.400000</td>\n",
       "      <td>NaN</td>\n",
       "      <td>NaN</td>\n",
       "      <td>NaN</td>\n",
       "      <td>NaN</td>\n",
       "      <td>NaN</td>\n",
       "      <td>NaN</td>\n",
       "      <td>NaN</td>\n",
       "      <td>NaN</td>\n",
       "      <td>NaN</td>\n",
       "      <td>NaN</td>\n",
       "      <td>NaN</td>\n",
       "      <td>NaN</td>\n",
       "      <td>NaN</td>\n",
       "      <td>NaN</td>\n",
       "      <td>NaN</td>\n",
       "      <td>NaN</td>\n",
       "      <td>NaN</td>\n",
       "      <td>NaN</td>\n",
       "      <td>NaN</td>\n",
       "      <td>NaN</td>\n",
       "      <td>NaN</td>\n",
       "      <td>1.0</td>\n",
       "      <td>193.970000</td>\n",
       "      <td>107340.000000</td>\n",
       "      <td>784.000000</td>\n",
       "      <td>43.000000</td>\n",
       "      <td>5.000000</td>\n",
       "      <td>20.800000</td>\n",
       "      <td>27.600000</td>\n",
       "      <td>4.100000</td>\n",
       "      <td>821.000000</td>\n",
       "      <td>4.072882e+09</td>\n",
       "      <td>1.960686e-02</td>\n",
       "      <td>100.000000</td>\n",
       "      <td>0.003442</td>\n",
       "    </tr>\n",
       "    <tr>\n",
       "      <th>99%</th>\n",
       "      <td>9671.480000</td>\n",
       "      <td>NaN</td>\n",
       "      <td>NaN</td>\n",
       "      <td>NaN</td>\n",
       "      <td>NaN</td>\n",
       "      <td>NaN</td>\n",
       "      <td>NaN</td>\n",
       "      <td>NaN</td>\n",
       "      <td>NaN</td>\n",
       "      <td>NaN</td>\n",
       "      <td>NaN</td>\n",
       "      <td>NaN</td>\n",
       "      <td>NaN</td>\n",
       "      <td>NaN</td>\n",
       "      <td>NaN</td>\n",
       "      <td>NaN</td>\n",
       "      <td>NaN</td>\n",
       "      <td>NaN</td>\n",
       "      <td>NaN</td>\n",
       "      <td>NaN</td>\n",
       "      <td>NaN</td>\n",
       "      <td>NaN</td>\n",
       "      <td>1.0</td>\n",
       "      <td>723.754400</td>\n",
       "      <td>245419.320000</td>\n",
       "      <td>1196.880000</td>\n",
       "      <td>134.000000</td>\n",
       "      <td>5.000000</td>\n",
       "      <td>22.200000</td>\n",
       "      <td>28.600000</td>\n",
       "      <td>6.000000</td>\n",
       "      <td>962.000000</td>\n",
       "      <td>4.246925e+09</td>\n",
       "      <td>5.493844e-02</td>\n",
       "      <td>157.000000</td>\n",
       "      <td>0.006736</td>\n",
       "    </tr>\n",
       "    <tr>\n",
       "      <th>max</th>\n",
       "      <td>9770.000000</td>\n",
       "      <td>NaN</td>\n",
       "      <td>NaN</td>\n",
       "      <td>NaN</td>\n",
       "      <td>NaN</td>\n",
       "      <td>NaN</td>\n",
       "      <td>NaN</td>\n",
       "      <td>NaN</td>\n",
       "      <td>NaN</td>\n",
       "      <td>NaN</td>\n",
       "      <td>NaN</td>\n",
       "      <td>NaN</td>\n",
       "      <td>NaN</td>\n",
       "      <td>NaN</td>\n",
       "      <td>NaN</td>\n",
       "      <td>NaN</td>\n",
       "      <td>NaN</td>\n",
       "      <td>NaN</td>\n",
       "      <td>NaN</td>\n",
       "      <td>NaN</td>\n",
       "      <td>NaN</td>\n",
       "      <td>NaN</td>\n",
       "      <td>1.0</td>\n",
       "      <td>2531.070000</td>\n",
       "      <td>438525.000000</td>\n",
       "      <td>4804.000000</td>\n",
       "      <td>755.000000</td>\n",
       "      <td>5.000000</td>\n",
       "      <td>35.500000</td>\n",
       "      <td>53.200000</td>\n",
       "      <td>17.800000</td>\n",
       "      <td>998.000000</td>\n",
       "      <td>4.294447e+09</td>\n",
       "      <td>1.164722e-01</td>\n",
       "      <td>474.000000</td>\n",
       "      <td>0.031989</td>\n",
       "    </tr>\n",
       "  </tbody>\n",
       "</table>\n",
       "</div>"
      ],
      "text/plain": [
       "                 id          title                                       url  \\\n",
       "count   9153.000000           9153                                      9153   \n",
       "unique          NaN           8952                                      9153   \n",
       "top             NaN  Macroeconomia  https://www.amazon.com.br/dp/8580332990/   \n",
       "freq            NaN              6                                         1   \n",
       "mean    4896.658473            NaN                                       NaN   \n",
       "std     2826.520995            NaN                                       NaN   \n",
       "min        1.000000            NaN                                       NaN   \n",
       "25%     2481.000000            NaN                                       NaN   \n",
       "50%     4900.000000            NaN                                       NaN   \n",
       "75%     7348.000000            NaN                                       NaN   \n",
       "85%     8326.200000            NaN                                       NaN   \n",
       "90%     8813.800000            NaN                                       NaN   \n",
       "95%     9294.400000            NaN                                       NaN   \n",
       "99%     9671.480000            NaN                                       NaN   \n",
       "max     9770.000000            NaN                                       NaN   \n",
       "\n",
       "                       authors   coverType             publisher  edition  \\\n",
       "count                     9152        9035                  9052      0.0   \n",
       "unique                    6177          11                   728      NaN   \n",
       "top     Vários Autores (Autor)  Capa comum  Companhia das Letras      NaN   \n",
       "freq                       106        7729                   536      NaN   \n",
       "mean                       NaN         NaN                   NaN      NaN   \n",
       "std                        NaN         NaN                   NaN      NaN   \n",
       "min                        NaN         NaN                   NaN      NaN   \n",
       "25%                        NaN         NaN                   NaN      NaN   \n",
       "50%                        NaN         NaN                   NaN      NaN   \n",
       "75%                        NaN         NaN                   NaN      NaN   \n",
       "85%                        NaN         NaN                   NaN      NaN   \n",
       "90%                        NaN         NaN                   NaN      NaN   \n",
       "95%                        NaN         NaN                   NaN      NaN   \n",
       "99%                        NaN         NaN                   NaN      NaN   \n",
       "max                        NaN         NaN                   NaN      NaN   \n",
       "\n",
       "             publicationDate rankingCategory category1  \\\n",
       "count                    783            8820      8707   \n",
       "unique                   574               1         1   \n",
       "top     1 de janeiro de 2014          Livros    Livros   \n",
       "freq                      13            8820      8707   \n",
       "mean                     NaN             NaN       NaN   \n",
       "std                      NaN             NaN       NaN   \n",
       "min                      NaN             NaN       NaN   \n",
       "25%                      NaN             NaN       NaN   \n",
       "50%                      NaN             NaN       NaN   \n",
       "75%                      NaN             NaN       NaN   \n",
       "85%                      NaN             NaN       NaN   \n",
       "90%                      NaN             NaN       NaN   \n",
       "95%                      NaN             NaN       NaN   \n",
       "99%                      NaN             NaN       NaN   \n",
       "max                      NaN             NaN       NaN   \n",
       "\n",
       "                                     category2  category3   category4  \\\n",
       "count                                     8707       6525        3345   \n",
       "unique                                      28        228         440   \n",
       "top     Política, Filosofia e Ciências Sociais  Filosofia  Matemática   \n",
       "freq                                      1557        914         165   \n",
       "mean                                       NaN        NaN         NaN   \n",
       "std                                        NaN        NaN         NaN   \n",
       "min                                        NaN        NaN         NaN   \n",
       "25%                                        NaN        NaN         NaN   \n",
       "50%                                        NaN        NaN         NaN   \n",
       "75%                                        NaN        NaN         NaN   \n",
       "85%                                        NaN        NaN         NaN   \n",
       "90%                                        NaN        NaN         NaN   \n",
       "95%                                        NaN        NaN         NaN   \n",
       "99%                                        NaN        NaN         NaN   \n",
       "max                                        NaN        NaN         NaN   \n",
       "\n",
       "       category5                    category6     category7  category8  \\\n",
       "count       1205                          188            17        0.0   \n",
       "unique       309                           71             8        NaN   \n",
       "top       Brasil  Probabilidade e Estatística  Neurociência        NaN   \n",
       "freq          78                           18             4        NaN   \n",
       "mean         NaN                          NaN           NaN        NaN   \n",
       "std          NaN                          NaN           NaN        NaN   \n",
       "min          NaN                          NaN           NaN        NaN   \n",
       "25%          NaN                          NaN           NaN        NaN   \n",
       "50%          NaN                          NaN           NaN        NaN   \n",
       "75%          NaN                          NaN           NaN        NaN   \n",
       "85%          NaN                          NaN           NaN        NaN   \n",
       "90%          NaN                          NaN           NaN        NaN   \n",
       "95%          NaN                          NaN           NaN        NaN   \n",
       "99%          NaN                          NaN           NaN        NaN   \n",
       "max          NaN                          NaN           NaN        NaN   \n",
       "\n",
       "        category9  category10      isbn10          isbn13   language  \\\n",
       "count         0.0         0.0        9055            9055       9050   \n",
       "unique        NaN         NaN        9055            9055          7   \n",
       "top           NaN         NaN  8525431494  978-8582600481  Português   \n",
       "freq          NaN         NaN           1               1       7976   \n",
       "mean          NaN         NaN         NaN             NaN        NaN   \n",
       "std           NaN         NaN         NaN             NaN        NaN   \n",
       "min           NaN         NaN         NaN             NaN        NaN   \n",
       "25%           NaN         NaN         NaN             NaN        NaN   \n",
       "50%           NaN         NaN         NaN             NaN        NaN   \n",
       "75%           NaN         NaN         NaN             NaN        NaN   \n",
       "85%           NaN         NaN         NaN             NaN        NaN   \n",
       "90%           NaN         NaN         NaN             NaN        NaN   \n",
       "95%           NaN         NaN         NaN             NaN        NaN   \n",
       "99%           NaN         NaN         NaN             NaN        NaN   \n",
       "max           NaN         NaN         NaN             NaN        NaN   \n",
       "\n",
       "        postProcessed        price        ranking        pages  reviewCount  \\\n",
       "count          9153.0  9153.000000    9153.000000  9153.000000  9153.000000   \n",
       "unique            NaN          NaN            NaN          NaN          NaN   \n",
       "top               NaN          NaN            NaN          NaN          NaN   \n",
       "freq              NaN          NaN            NaN          NaN          NaN   \n",
       "mean              1.0    71.900469   35581.243023   352.333450    14.392313   \n",
       "std               0.0   145.716338   45683.667822   249.857638    32.650533   \n",
       "min               1.0     2.900000       3.000000     2.000000     1.000000   \n",
       "25%               1.0    26.310000    8345.000000   192.000000     2.000000   \n",
       "50%               1.0    39.110000   22980.000000   304.000000    10.000000   \n",
       "75%               1.0    63.110000   45609.000000   432.000000    14.304266   \n",
       "85%               1.0    90.572000   63152.400000   544.000000    14.304266   \n",
       "90%               1.0   120.744000   78753.400000   624.000000    20.000000   \n",
       "95%               1.0   193.970000  107340.000000   784.000000    43.000000   \n",
       "99%               1.0   723.754400  245419.320000  1196.880000   134.000000   \n",
       "max               1.0  2531.070000  438525.000000  4804.000000   755.000000   \n",
       "\n",
       "             rating        width       height        depth       weight  \\\n",
       "count   9153.000000  9153.000000  9153.000000  9153.000000  9153.000000   \n",
       "unique          NaN          NaN          NaN          NaN          NaN   \n",
       "top             NaN          NaN          NaN          NaN          NaN   \n",
       "freq            NaN          NaN          NaN          NaN          NaN   \n",
       "mean       4.443767    15.276002    22.264502     2.077165   425.828030   \n",
       "std        0.551851     2.574086     2.590565     1.208801   201.984523   \n",
       "min        1.000000     0.800000     8.600000     0.200000     4.500000   \n",
       "25%        4.400000    13.600000    20.800000     1.300000   281.000000   \n",
       "50%        4.445241    15.304075    22.600000     1.800000   426.421903   \n",
       "75%        4.800000    16.000000    23.200000     2.600000   535.000000   \n",
       "85%        5.000000    17.000000    23.900000     3.000000   640.000000   \n",
       "90%        5.000000    18.980000    25.400000     3.400000   721.000000   \n",
       "95%        5.000000    20.800000    27.600000     4.100000   821.000000   \n",
       "99%        5.000000    22.200000    28.600000     6.000000   962.000000   \n",
       "max        5.000000    35.500000    53.200000    17.800000   998.000000   \n",
       "\n",
       "           sha256_id  eigenvector_centrality       degree  \\\n",
       "count   9.153000e+03            9.153000e+03  9153.000000   \n",
       "unique           NaN                     NaN          NaN   \n",
       "top              NaN                     NaN          NaN   \n",
       "freq             NaN                     NaN          NaN   \n",
       "mean    2.122251e+09            3.406945e-03    31.259587   \n",
       "std     1.240653e+09            9.780235e-03    34.801327   \n",
       "min     2.291770e+05            6.734553e-11     1.000000   \n",
       "25%     1.025729e+09            1.755986e-05     8.000000   \n",
       "50%     2.113182e+09            2.125446e-04    19.000000   \n",
       "75%     3.182206e+09            1.596866e-03    43.000000   \n",
       "85%     3.637575e+09            4.675157e-03    61.000000   \n",
       "90%     3.869782e+09            8.931196e-03    77.000000   \n",
       "95%     4.072882e+09            1.960686e-02   100.000000   \n",
       "99%     4.246925e+09            5.493844e-02   157.000000   \n",
       "max     4.294447e+09            1.164722e-01   474.000000   \n",
       "\n",
       "        betweenness_centrality  \n",
       "count              9153.000000  \n",
       "unique                     NaN  \n",
       "top                        NaN  \n",
       "freq                       NaN  \n",
       "mean                  0.000995  \n",
       "std                   0.001414  \n",
       "min                   0.000000  \n",
       "25%                   0.000188  \n",
       "50%                   0.000520  \n",
       "75%                   0.001282  \n",
       "85%                   0.001852  \n",
       "90%                   0.002401  \n",
       "95%                   0.003442  \n",
       "99%                   0.006736  \n",
       "max                   0.031989  "
      ]
     },
     "execution_count": 11,
     "metadata": {},
     "output_type": "execute_result"
    }
   ],
   "source": [
    "pd.set_option('display.max_columns', None)\n",
    "df.describe(include='all', percentiles=[0.25, 0.5, 0.75, 0.85, 0.9, 0.95, 0.99])"
   ]
  },
  {
   "cell_type": "markdown",
   "metadata": {},
   "source": [
    "Below we can inspect the first rows of data, containing title, price, degree and other centrality measures."
   ]
  },
  {
   "cell_type": "code",
   "execution_count": 12,
   "metadata": {
    "ExecuteTime": {
     "end_time": "2019-02-02T17:07:48.427079Z",
     "start_time": "2019-02-02T17:07:48.258091Z"
    }
   },
   "outputs": [
    {
     "data": {
      "text/html": [
       "<div>\n",
       "<style scoped>\n",
       "    .dataframe tbody tr th:only-of-type {\n",
       "        vertical-align: middle;\n",
       "    }\n",
       "\n",
       "    .dataframe tbody tr th {\n",
       "        vertical-align: top;\n",
       "    }\n",
       "\n",
       "    .dataframe thead th {\n",
       "        text-align: right;\n",
       "    }\n",
       "</style>\n",
       "<table border=\"1\" class=\"dataframe\">\n",
       "  <thead>\n",
       "    <tr style=\"text-align: right;\">\n",
       "      <th></th>\n",
       "      <th>id</th>\n",
       "      <th>title</th>\n",
       "      <th>url</th>\n",
       "      <th>authors</th>\n",
       "      <th>coverType</th>\n",
       "      <th>publisher</th>\n",
       "      <th>edition</th>\n",
       "      <th>publicationDate</th>\n",
       "      <th>rankingCategory</th>\n",
       "      <th>category1</th>\n",
       "      <th>category2</th>\n",
       "      <th>category3</th>\n",
       "      <th>category4</th>\n",
       "      <th>category5</th>\n",
       "      <th>category6</th>\n",
       "      <th>category7</th>\n",
       "      <th>category8</th>\n",
       "      <th>category9</th>\n",
       "      <th>category10</th>\n",
       "      <th>isbn10</th>\n",
       "      <th>isbn13</th>\n",
       "      <th>language</th>\n",
       "      <th>postProcessed</th>\n",
       "      <th>price</th>\n",
       "      <th>ranking</th>\n",
       "      <th>pages</th>\n",
       "      <th>reviewCount</th>\n",
       "      <th>rating</th>\n",
       "      <th>width</th>\n",
       "      <th>height</th>\n",
       "      <th>depth</th>\n",
       "      <th>weight</th>\n",
       "      <th>sha256_id</th>\n",
       "      <th>eigenvector_centrality</th>\n",
       "      <th>degree</th>\n",
       "      <th>betweenness_centrality</th>\n",
       "    </tr>\n",
       "  </thead>\n",
       "  <tbody>\n",
       "    <tr>\n",
       "      <th>0</th>\n",
       "      <td>1</td>\n",
       "      <td>The Stanford Mathematics Problem Book: With Hi...</td>\n",
       "      <td>https://www.amazon.com.br/dp/0486469247/</td>\n",
       "      <td>George Polya (Autor),</td>\n",
       "      <td>Capa comum</td>\n",
       "      <td>Dover Publications</td>\n",
       "      <td>NaN</td>\n",
       "      <td>19 de fevereiro de 2009</td>\n",
       "      <td>Livros</td>\n",
       "      <td>Livros</td>\n",
       "      <td>Inglês e Outras Línguas</td>\n",
       "      <td>Ciências Tecnológicas</td>\n",
       "      <td>Matemática</td>\n",
       "      <td>Estudo e Ensino</td>\n",
       "      <td>NaN</td>\n",
       "      <td>NaN</td>\n",
       "      <td>NaN</td>\n",
       "      <td>NaN</td>\n",
       "      <td>NaN</td>\n",
       "      <td>0486469247</td>\n",
       "      <td>978-0486469249</td>\n",
       "      <td>Inglês</td>\n",
       "      <td>1</td>\n",
       "      <td>26.25</td>\n",
       "      <td>59183.0</td>\n",
       "      <td>68.0</td>\n",
       "      <td>1.000000</td>\n",
       "      <td>4.000000</td>\n",
       "      <td>14.0</td>\n",
       "      <td>21.0</td>\n",
       "      <td>0.6</td>\n",
       "      <td>181.0</td>\n",
       "      <td>3564330554</td>\n",
       "      <td>2.295138e-05</td>\n",
       "      <td>19</td>\n",
       "      <td>0.000756</td>\n",
       "    </tr>\n",
       "    <tr>\n",
       "      <th>1</th>\n",
       "      <td>2</td>\n",
       "      <td>Fourier Series</td>\n",
       "      <td>https://www.amazon.com.br/dp/0486633179/</td>\n",
       "      <td>Georgi P. Tolstov (Autor),</td>\n",
       "      <td>Capa comum</td>\n",
       "      <td>Dover Publications</td>\n",
       "      <td>NaN</td>\n",
       "      <td>1 de junho de 1976</td>\n",
       "      <td>Livros</td>\n",
       "      <td>Livros</td>\n",
       "      <td>Inglês e Outras Línguas</td>\n",
       "      <td>Ciências Tecnológicas</td>\n",
       "      <td>Matemática</td>\n",
       "      <td>Aplicada</td>\n",
       "      <td>Probabilidade e Estatística</td>\n",
       "      <td>NaN</td>\n",
       "      <td>NaN</td>\n",
       "      <td>NaN</td>\n",
       "      <td>NaN</td>\n",
       "      <td>0486633179</td>\n",
       "      <td>978-0486633176</td>\n",
       "      <td>Inglês</td>\n",
       "      <td>1</td>\n",
       "      <td>50.37</td>\n",
       "      <td>56112.0</td>\n",
       "      <td>352.0</td>\n",
       "      <td>3.000000</td>\n",
       "      <td>4.600000</td>\n",
       "      <td>14.6</td>\n",
       "      <td>21.0</td>\n",
       "      <td>1.9</td>\n",
       "      <td>363.0</td>\n",
       "      <td>1309098117</td>\n",
       "      <td>4.595498e-06</td>\n",
       "      <td>62</td>\n",
       "      <td>0.000765</td>\n",
       "    </tr>\n",
       "    <tr>\n",
       "      <th>2</th>\n",
       "      <td>3</td>\n",
       "      <td>Probability Theory: A Concise Course</td>\n",
       "      <td>https://www.amazon.com.br/dp/0486635449/</td>\n",
       "      <td>Y. A. Rozanov (Autor),</td>\n",
       "      <td>Capa comum</td>\n",
       "      <td>Dover Publications</td>\n",
       "      <td>NaN</td>\n",
       "      <td>NaN</td>\n",
       "      <td>Livros</td>\n",
       "      <td>Livros</td>\n",
       "      <td>Inglês e Outras Línguas</td>\n",
       "      <td>Ciências Tecnológicas</td>\n",
       "      <td>Matemática</td>\n",
       "      <td>Aplicada</td>\n",
       "      <td>Probabilidade e Estatística</td>\n",
       "      <td>NaN</td>\n",
       "      <td>NaN</td>\n",
       "      <td>NaN</td>\n",
       "      <td>NaN</td>\n",
       "      <td>0486635449</td>\n",
       "      <td>978-0486635446</td>\n",
       "      <td>Inglês</td>\n",
       "      <td>1</td>\n",
       "      <td>29.23</td>\n",
       "      <td>44345.0</td>\n",
       "      <td>160.0</td>\n",
       "      <td>14.304266</td>\n",
       "      <td>4.445241</td>\n",
       "      <td>14.4</td>\n",
       "      <td>20.8</td>\n",
       "      <td>0.8</td>\n",
       "      <td>200.0</td>\n",
       "      <td>1260550007</td>\n",
       "      <td>5.866979e-06</td>\n",
       "      <td>59</td>\n",
       "      <td>0.001921</td>\n",
       "    </tr>\n",
       "    <tr>\n",
       "      <th>3</th>\n",
       "      <td>4</td>\n",
       "      <td>Vectors, Tensors and the Basic Equations of Fl...</td>\n",
       "      <td>https://www.amazon.com.br/dp/0486661105/</td>\n",
       "      <td>Rutherford Aris (Autor),</td>\n",
       "      <td>Capa comum</td>\n",
       "      <td>Dover Publications</td>\n",
       "      <td>NaN</td>\n",
       "      <td>NaN</td>\n",
       "      <td>Livros</td>\n",
       "      <td>Livros</td>\n",
       "      <td>Inglês e Outras Línguas</td>\n",
       "      <td>Engenharia e Transporte</td>\n",
       "      <td>Engenharia</td>\n",
       "      <td>Mecânica</td>\n",
       "      <td>Hidráulica</td>\n",
       "      <td>NaN</td>\n",
       "      <td>NaN</td>\n",
       "      <td>NaN</td>\n",
       "      <td>NaN</td>\n",
       "      <td>0486661105</td>\n",
       "      <td>978-0486661100</td>\n",
       "      <td>Inglês</td>\n",
       "      <td>1</td>\n",
       "      <td>48.79</td>\n",
       "      <td>82275.0</td>\n",
       "      <td>320.0</td>\n",
       "      <td>2.000000</td>\n",
       "      <td>4.500000</td>\n",
       "      <td>13.7</td>\n",
       "      <td>21.5</td>\n",
       "      <td>1.6</td>\n",
       "      <td>381.0</td>\n",
       "      <td>4012708477</td>\n",
       "      <td>1.159003e-06</td>\n",
       "      <td>18</td>\n",
       "      <td>0.000632</td>\n",
       "    </tr>\n",
       "    <tr>\n",
       "      <th>4</th>\n",
       "      <td>5</td>\n",
       "      <td>Ordinary Differential Equations</td>\n",
       "      <td>https://www.amazon.com.br/dp/0486649407/</td>\n",
       "      <td>Morris Tenenbaum (Autor),</td>\n",
       "      <td>Capa comum</td>\n",
       "      <td>Dover Publications</td>\n",
       "      <td>NaN</td>\n",
       "      <td>NaN</td>\n",
       "      <td>Livros</td>\n",
       "      <td>Livros</td>\n",
       "      <td>Inglês e Outras Línguas</td>\n",
       "      <td>Ciências Tecnológicas</td>\n",
       "      <td>Matemática</td>\n",
       "      <td>Aplicada</td>\n",
       "      <td>Equações Diferenciais</td>\n",
       "      <td>NaN</td>\n",
       "      <td>NaN</td>\n",
       "      <td>NaN</td>\n",
       "      <td>NaN</td>\n",
       "      <td>0486649407</td>\n",
       "      <td>978-0486649405</td>\n",
       "      <td>Inglês</td>\n",
       "      <td>1</td>\n",
       "      <td>71.63</td>\n",
       "      <td>40840.0</td>\n",
       "      <td>848.0</td>\n",
       "      <td>4.000000</td>\n",
       "      <td>4.500000</td>\n",
       "      <td>13.8</td>\n",
       "      <td>21.8</td>\n",
       "      <td>4.0</td>\n",
       "      <td>939.0</td>\n",
       "      <td>3891707921</td>\n",
       "      <td>8.827188e-06</td>\n",
       "      <td>88</td>\n",
       "      <td>0.002868</td>\n",
       "    </tr>\n",
       "    <tr>\n",
       "      <th>5</th>\n",
       "      <td>6</td>\n",
       "      <td>The Variational Principles of Mechanics</td>\n",
       "      <td>https://www.amazon.com.br/dp/0486650677/</td>\n",
       "      <td>Cornelius Lanczos (Autor),</td>\n",
       "      <td>Capa comum</td>\n",
       "      <td>Dover Publications</td>\n",
       "      <td>NaN</td>\n",
       "      <td>NaN</td>\n",
       "      <td>Livros</td>\n",
       "      <td>Livros</td>\n",
       "      <td>Inglês e Outras Línguas</td>\n",
       "      <td>Ciências Tecnológicas</td>\n",
       "      <td>Física</td>\n",
       "      <td>Mecânica</td>\n",
       "      <td>NaN</td>\n",
       "      <td>NaN</td>\n",
       "      <td>NaN</td>\n",
       "      <td>NaN</td>\n",
       "      <td>NaN</td>\n",
       "      <td>0486650677</td>\n",
       "      <td>978-0486650678</td>\n",
       "      <td>Inglês</td>\n",
       "      <td>1</td>\n",
       "      <td>88.15</td>\n",
       "      <td>36960.0</td>\n",
       "      <td>418.0</td>\n",
       "      <td>1.000000</td>\n",
       "      <td>5.000000</td>\n",
       "      <td>13.8</td>\n",
       "      <td>21.5</td>\n",
       "      <td>2.2</td>\n",
       "      <td>581.0</td>\n",
       "      <td>2030201243</td>\n",
       "      <td>8.323662e-06</td>\n",
       "      <td>43</td>\n",
       "      <td>0.001534</td>\n",
       "    </tr>\n",
       "    <tr>\n",
       "      <th>6</th>\n",
       "      <td>7</td>\n",
       "      <td>A First Look at Perturbation Theory</td>\n",
       "      <td>https://www.amazon.com.br/dp/0486675513/</td>\n",
       "      <td>James G. Simmonds (Autor)</td>\n",
       "      <td>Capa comum</td>\n",
       "      <td>Dover Publications Inc.</td>\n",
       "      <td>NaN</td>\n",
       "      <td>NaN</td>\n",
       "      <td>Livros</td>\n",
       "      <td>Livros</td>\n",
       "      <td>Inglês e Outras Línguas</td>\n",
       "      <td>Ciências Tecnológicas</td>\n",
       "      <td>Matemática</td>\n",
       "      <td>Aplicada</td>\n",
       "      <td>Equações Diferenciais</td>\n",
       "      <td>NaN</td>\n",
       "      <td>NaN</td>\n",
       "      <td>NaN</td>\n",
       "      <td>NaN</td>\n",
       "      <td>0486675513</td>\n",
       "      <td>978-0486675510</td>\n",
       "      <td>Inglês</td>\n",
       "      <td>1</td>\n",
       "      <td>36.10</td>\n",
       "      <td>37291.0</td>\n",
       "      <td>160.0</td>\n",
       "      <td>14.304266</td>\n",
       "      <td>4.445241</td>\n",
       "      <td>13.7</td>\n",
       "      <td>21.5</td>\n",
       "      <td>0.8</td>\n",
       "      <td>159.0</td>\n",
       "      <td>744636978</td>\n",
       "      <td>4.951852e-07</td>\n",
       "      <td>9</td>\n",
       "      <td>0.000114</td>\n",
       "    </tr>\n",
       "    <tr>\n",
       "      <th>7</th>\n",
       "      <td>8</td>\n",
       "      <td>Thermodynamics and the Kinetic Theory of Gases...</td>\n",
       "      <td>https://www.amazon.com.br/dp/0486414612/</td>\n",
       "      <td>Wolfgang Pauli (Autor),</td>\n",
       "      <td>Capa comum</td>\n",
       "      <td>Dover Publications</td>\n",
       "      <td>NaN</td>\n",
       "      <td>18 de outubro de 2010</td>\n",
       "      <td>Livros</td>\n",
       "      <td>Livros</td>\n",
       "      <td>Inglês e Outras Línguas</td>\n",
       "      <td>Ciências Tecnológicas</td>\n",
       "      <td>Física</td>\n",
       "      <td>Dinâmica</td>\n",
       "      <td>Termodinâmica</td>\n",
       "      <td>NaN</td>\n",
       "      <td>NaN</td>\n",
       "      <td>NaN</td>\n",
       "      <td>NaN</td>\n",
       "      <td>0486414612</td>\n",
       "      <td>978-0486414614</td>\n",
       "      <td>Inglês</td>\n",
       "      <td>1</td>\n",
       "      <td>26.01</td>\n",
       "      <td>24406.0</td>\n",
       "      <td>160.0</td>\n",
       "      <td>2.000000</td>\n",
       "      <td>5.000000</td>\n",
       "      <td>13.8</td>\n",
       "      <td>21.6</td>\n",
       "      <td>1.0</td>\n",
       "      <td>159.0</td>\n",
       "      <td>425205287</td>\n",
       "      <td>1.803160e-05</td>\n",
       "      <td>10</td>\n",
       "      <td>0.000956</td>\n",
       "    </tr>\n",
       "    <tr>\n",
       "      <th>8</th>\n",
       "      <td>9</td>\n",
       "      <td>Mechanics</td>\n",
       "      <td>https://www.amazon.com.br/dp/0486607542/</td>\n",
       "      <td>Jacob P. Den Hartog (Autor),</td>\n",
       "      <td>Capa comum</td>\n",
       "      <td>Dover Publications</td>\n",
       "      <td>NaN</td>\n",
       "      <td>1 de junho de 1961</td>\n",
       "      <td>Livros</td>\n",
       "      <td>Livros</td>\n",
       "      <td>Inglês e Outras Línguas</td>\n",
       "      <td>Ciências Tecnológicas</td>\n",
       "      <td>Física</td>\n",
       "      <td>Mecânica</td>\n",
       "      <td>NaN</td>\n",
       "      <td>NaN</td>\n",
       "      <td>NaN</td>\n",
       "      <td>NaN</td>\n",
       "      <td>NaN</td>\n",
       "      <td>0486607542</td>\n",
       "      <td>978-0486607542</td>\n",
       "      <td>Inglês</td>\n",
       "      <td>1</td>\n",
       "      <td>50.96</td>\n",
       "      <td>90609.0</td>\n",
       "      <td>480.0</td>\n",
       "      <td>14.304266</td>\n",
       "      <td>4.445241</td>\n",
       "      <td>13.6</td>\n",
       "      <td>20.3</td>\n",
       "      <td>2.3</td>\n",
       "      <td>522.0</td>\n",
       "      <td>1246026773</td>\n",
       "      <td>1.837624e-06</td>\n",
       "      <td>23</td>\n",
       "      <td>0.000384</td>\n",
       "    </tr>\n",
       "    <tr>\n",
       "      <th>9</th>\n",
       "      <td>10</td>\n",
       "      <td>Statistical Thermodynamics</td>\n",
       "      <td>https://www.amazon.com.br/dp/0486661016/</td>\n",
       "      <td>Erwin Schrodinger (Autor),</td>\n",
       "      <td>Capa comum</td>\n",
       "      <td>Dover Publications</td>\n",
       "      <td>NaN</td>\n",
       "      <td>NaN</td>\n",
       "      <td>Livros</td>\n",
       "      <td>Livros</td>\n",
       "      <td>Inglês e Outras Línguas</td>\n",
       "      <td>Ciências Tecnológicas</td>\n",
       "      <td>Física</td>\n",
       "      <td>Dinâmica</td>\n",
       "      <td>Termodinâmica</td>\n",
       "      <td>NaN</td>\n",
       "      <td>NaN</td>\n",
       "      <td>NaN</td>\n",
       "      <td>NaN</td>\n",
       "      <td>0486661016</td>\n",
       "      <td>978-0486661018</td>\n",
       "      <td>Inglês</td>\n",
       "      <td>1</td>\n",
       "      <td>32.16</td>\n",
       "      <td>65112.0</td>\n",
       "      <td>112.0</td>\n",
       "      <td>14.304266</td>\n",
       "      <td>4.445241</td>\n",
       "      <td>14.0</td>\n",
       "      <td>20.3</td>\n",
       "      <td>1.3</td>\n",
       "      <td>159.0</td>\n",
       "      <td>1338518310</td>\n",
       "      <td>1.278774e-06</td>\n",
       "      <td>15</td>\n",
       "      <td>0.000530</td>\n",
       "    </tr>\n",
       "  </tbody>\n",
       "</table>\n",
       "</div>"
      ],
      "text/plain": [
       "   id                                              title  \\\n",
       "0   1  The Stanford Mathematics Problem Book: With Hi...   \n",
       "1   2                                     Fourier Series   \n",
       "2   3               Probability Theory: A Concise Course   \n",
       "3   4  Vectors, Tensors and the Basic Equations of Fl...   \n",
       "4   5                    Ordinary Differential Equations   \n",
       "5   6            The Variational Principles of Mechanics   \n",
       "6   7                A First Look at Perturbation Theory   \n",
       "7   8  Thermodynamics and the Kinetic Theory of Gases...   \n",
       "8   9                                          Mechanics   \n",
       "9  10                         Statistical Thermodynamics   \n",
       "\n",
       "                                        url                       authors  \\\n",
       "0  https://www.amazon.com.br/dp/0486469247/         George Polya (Autor),   \n",
       "1  https://www.amazon.com.br/dp/0486633179/    Georgi P. Tolstov (Autor),   \n",
       "2  https://www.amazon.com.br/dp/0486635449/        Y. A. Rozanov (Autor),   \n",
       "3  https://www.amazon.com.br/dp/0486661105/      Rutherford Aris (Autor),   \n",
       "4  https://www.amazon.com.br/dp/0486649407/     Morris Tenenbaum (Autor),   \n",
       "5  https://www.amazon.com.br/dp/0486650677/    Cornelius Lanczos (Autor),   \n",
       "6  https://www.amazon.com.br/dp/0486675513/     James G. Simmonds (Autor)   \n",
       "7  https://www.amazon.com.br/dp/0486414612/       Wolfgang Pauli (Autor),   \n",
       "8  https://www.amazon.com.br/dp/0486607542/  Jacob P. Den Hartog (Autor),   \n",
       "9  https://www.amazon.com.br/dp/0486661016/    Erwin Schrodinger (Autor),   \n",
       "\n",
       "    coverType                publisher  edition          publicationDate  \\\n",
       "0  Capa comum       Dover Publications      NaN  19 de fevereiro de 2009   \n",
       "1  Capa comum       Dover Publications      NaN       1 de junho de 1976   \n",
       "2  Capa comum       Dover Publications      NaN                      NaN   \n",
       "3  Capa comum       Dover Publications      NaN                      NaN   \n",
       "4  Capa comum       Dover Publications      NaN                      NaN   \n",
       "5  Capa comum       Dover Publications      NaN                      NaN   \n",
       "6  Capa comum  Dover Publications Inc.      NaN                      NaN   \n",
       "7  Capa comum       Dover Publications      NaN    18 de outubro de 2010   \n",
       "8  Capa comum       Dover Publications      NaN       1 de junho de 1961   \n",
       "9  Capa comum       Dover Publications      NaN                      NaN   \n",
       "\n",
       "  rankingCategory category1                category2                category3  \\\n",
       "0          Livros    Livros  Inglês e Outras Línguas    Ciências Tecnológicas   \n",
       "1          Livros    Livros  Inglês e Outras Línguas    Ciências Tecnológicas   \n",
       "2          Livros    Livros  Inglês e Outras Línguas    Ciências Tecnológicas   \n",
       "3          Livros    Livros  Inglês e Outras Línguas  Engenharia e Transporte   \n",
       "4          Livros    Livros  Inglês e Outras Línguas    Ciências Tecnológicas   \n",
       "5          Livros    Livros  Inglês e Outras Línguas    Ciências Tecnológicas   \n",
       "6          Livros    Livros  Inglês e Outras Línguas    Ciências Tecnológicas   \n",
       "7          Livros    Livros  Inglês e Outras Línguas    Ciências Tecnológicas   \n",
       "8          Livros    Livros  Inglês e Outras Línguas    Ciências Tecnológicas   \n",
       "9          Livros    Livros  Inglês e Outras Línguas    Ciências Tecnológicas   \n",
       "\n",
       "    category4        category5                    category6 category7  \\\n",
       "0  Matemática  Estudo e Ensino                          NaN       NaN   \n",
       "1  Matemática         Aplicada  Probabilidade e Estatística       NaN   \n",
       "2  Matemática         Aplicada  Probabilidade e Estatística       NaN   \n",
       "3  Engenharia         Mecânica                   Hidráulica       NaN   \n",
       "4  Matemática         Aplicada        Equações Diferenciais       NaN   \n",
       "5      Física         Mecânica                          NaN       NaN   \n",
       "6  Matemática         Aplicada        Equações Diferenciais       NaN   \n",
       "7      Física         Dinâmica                Termodinâmica       NaN   \n",
       "8      Física         Mecânica                          NaN       NaN   \n",
       "9      Física         Dinâmica                Termodinâmica       NaN   \n",
       "\n",
       "   category8  category9  category10      isbn10          isbn13 language  \\\n",
       "0        NaN        NaN         NaN  0486469247  978-0486469249   Inglês   \n",
       "1        NaN        NaN         NaN  0486633179  978-0486633176   Inglês   \n",
       "2        NaN        NaN         NaN  0486635449  978-0486635446   Inglês   \n",
       "3        NaN        NaN         NaN  0486661105  978-0486661100   Inglês   \n",
       "4        NaN        NaN         NaN  0486649407  978-0486649405   Inglês   \n",
       "5        NaN        NaN         NaN  0486650677  978-0486650678   Inglês   \n",
       "6        NaN        NaN         NaN  0486675513  978-0486675510   Inglês   \n",
       "7        NaN        NaN         NaN  0486414612  978-0486414614   Inglês   \n",
       "8        NaN        NaN         NaN  0486607542  978-0486607542   Inglês   \n",
       "9        NaN        NaN         NaN  0486661016  978-0486661018   Inglês   \n",
       "\n",
       "   postProcessed  price  ranking  pages  reviewCount    rating  width  height  \\\n",
       "0              1  26.25  59183.0   68.0     1.000000  4.000000   14.0    21.0   \n",
       "1              1  50.37  56112.0  352.0     3.000000  4.600000   14.6    21.0   \n",
       "2              1  29.23  44345.0  160.0    14.304266  4.445241   14.4    20.8   \n",
       "3              1  48.79  82275.0  320.0     2.000000  4.500000   13.7    21.5   \n",
       "4              1  71.63  40840.0  848.0     4.000000  4.500000   13.8    21.8   \n",
       "5              1  88.15  36960.0  418.0     1.000000  5.000000   13.8    21.5   \n",
       "6              1  36.10  37291.0  160.0    14.304266  4.445241   13.7    21.5   \n",
       "7              1  26.01  24406.0  160.0     2.000000  5.000000   13.8    21.6   \n",
       "8              1  50.96  90609.0  480.0    14.304266  4.445241   13.6    20.3   \n",
       "9              1  32.16  65112.0  112.0    14.304266  4.445241   14.0    20.3   \n",
       "\n",
       "   depth  weight   sha256_id  eigenvector_centrality  degree  \\\n",
       "0    0.6   181.0  3564330554            2.295138e-05      19   \n",
       "1    1.9   363.0  1309098117            4.595498e-06      62   \n",
       "2    0.8   200.0  1260550007            5.866979e-06      59   \n",
       "3    1.6   381.0  4012708477            1.159003e-06      18   \n",
       "4    4.0   939.0  3891707921            8.827188e-06      88   \n",
       "5    2.2   581.0  2030201243            8.323662e-06      43   \n",
       "6    0.8   159.0   744636978            4.951852e-07       9   \n",
       "7    1.0   159.0   425205287            1.803160e-05      10   \n",
       "8    2.3   522.0  1246026773            1.837624e-06      23   \n",
       "9    1.3   159.0  1338518310            1.278774e-06      15   \n",
       "\n",
       "   betweenness_centrality  \n",
       "0                0.000756  \n",
       "1                0.000765  \n",
       "2                0.001921  \n",
       "3                0.000632  \n",
       "4                0.002868  \n",
       "5                0.001534  \n",
       "6                0.000114  \n",
       "7                0.000956  \n",
       "8                0.000384  \n",
       "9                0.000530  "
      ]
     },
     "execution_count": 12,
     "metadata": {},
     "output_type": "execute_result"
    }
   ],
   "source": [
    "df.head(10)"
   ]
  },
  {
   "cell_type": "markdown",
   "metadata": {},
   "source": [
    "## Random forest using various features, price as target"
   ]
  },
  {
   "cell_type": "markdown",
   "metadata": {},
   "source": [
    "### Preparing data"
   ]
  },
  {
   "cell_type": "code",
   "execution_count": 13,
   "metadata": {
    "ExecuteTime": {
     "end_time": "2019-02-02T17:07:57.889482Z",
     "start_time": "2019-02-02T17:07:48.429527Z"
    }
   },
   "outputs": [
    {
     "name": "stdout",
     "output_type": "stream",
     "text": [
      "Numeric features:  ['degree', 'eigenvector_centrality', 'betweenness_centrality', 'ranking', 'reviewCount', 'pages', 'weight', 'height', 'width', 'depth', 'rating']\n",
      "Categorical features:  ['category1', 'category2', 'category3', 'category4', 'category5', 'category6', 'category7', 'category8', 'category9', 'category10', 'language', 'coverType', 'publisher', 'rankingCategory', 'authors']\n",
      "Target column:  price\n",
      "Test percentage:  0.200043701519\n",
      "Train features shape:  (7322, 8009)\n",
      "Train target shape:  (7322,)\n",
      "Test features shape:  (1831, 8009)\n",
      "Test target shape:  (1831,)\n"
     ]
    }
   ],
   "source": [
    "target, features, feature_list, test_features, test_target = shared_functions.prepare_datasets(df, numeric_features, categorical_features, 'price')"
   ]
  },
  {
   "cell_type": "markdown",
   "metadata": {},
   "source": [
    "### Average price and median price as baselines"
   ]
  },
  {
   "cell_type": "markdown",
   "metadata": {},
   "source": [
    "It's important to have a baseline, so we can validate our predictions after running our model. One easy choice for baseline is the average price of a book.\n",
    "\n",
    "We have an average price around R\\$43, so this means that a very easy prediction would be to always guess R$43 for the price of any book."
   ]
  },
  {
   "cell_type": "code",
   "execution_count": null,
   "metadata": {
    "ExecuteTime": {
     "start_time": "2019-02-02T17:04:06.211Z"
    }
   },
   "outputs": [
    {
     "name": "stdout",
     "output_type": "stream",
     "text": [
      "Average price: R$ 71.99866156787762\n",
      "Median parice; R$ 39.265\n"
     ]
    }
   ],
   "source": [
    "average_target = np.average(target)\n",
    "median_target = np.median(target)\n",
    "print \"Average price: R$\", average_target\n",
    "print \"Median parice; R$\", median_target"
   ]
  },
  {
   "cell_type": "markdown",
   "metadata": {},
   "source": [
    "### Cross val"
   ]
  },
  {
   "cell_type": "markdown",
   "metadata": {},
   "source": [
    "#### Run cross val"
   ]
  },
  {
   "cell_type": "code",
   "execution_count": null,
   "metadata": {
    "ExecuteTime": {
     "start_time": "2019-02-02T17:04:06.372Z"
    },
    "collapsed": true
   },
   "outputs": [],
   "source": [
    "estimators, splits, scores = shared_functions.run_cross_validation_regression(features, target)"
   ]
  },
  {
   "cell_type": "markdown",
   "metadata": {
    "ExecuteTime": {
     "end_time": "2019-01-19T21:01:27.297877Z",
     "start_time": "2019-01-19T21:01:27.287443Z"
    }
   },
   "source": [
    "#### Cross val score"
   ]
  },
  {
   "cell_type": "code",
   "execution_count": null,
   "metadata": {
    "ExecuteTime": {
     "start_time": "2019-02-02T17:04:06.443Z"
    }
   },
   "outputs": [],
   "source": [
    "shared_functions.print_score_summary(scores)"
   ]
  },
  {
   "cell_type": "markdown",
   "metadata": {},
   "source": [
    "####  List of most important features"
   ]
  },
  {
   "cell_type": "code",
   "execution_count": null,
   "metadata": {
    "ExecuteTime": {
     "start_time": "2019-02-02T17:04:06.529Z"
    }
   },
   "outputs": [],
   "source": [
    "shared_functions.get_most_important_features(estimators, feature_list)"
   ]
  },
  {
   "cell_type": "markdown",
   "metadata": {},
   "source": [
    "### Predicted price vs real price"
   ]
  },
  {
   "cell_type": "code",
   "execution_count": null,
   "metadata": {
    "ExecuteTime": {
     "start_time": "2019-02-02T17:04:06.630Z"
    }
   },
   "outputs": [],
   "source": [
    "y_pred = shared_functions.get_all_predictions_from_splits(features, target, splits, estimators)                                                  \n",
    "shared_functions.plot_splits_predicted_vs_real(target, y_pred, title=u'Preço previsto pelo modelo vs. Preço real', xlabel=u'Preço real (R$)', ylabel=u'Preço previsto pelo modelo (R$)', legend=u'Preço previsto pelo modelo = Preço real', zoomY = 150)"
   ]
  },
  {
   "cell_type": "markdown",
   "metadata": {},
   "source": [
    "### Mean absolute error"
   ]
  },
  {
   "cell_type": "markdown",
   "metadata": {},
   "source": [
    "Now we can compare the errors obtained by our predictions against the errors provided by the baseline (average price). Our prediction errors should be less than the baseline errors to consider the model successful."
   ]
  },
  {
   "cell_type": "code",
   "execution_count": null,
   "metadata": {
    "ExecuteTime": {
     "start_time": "2019-02-02T17:04:06.968Z"
    }
   },
   "outputs": [],
   "source": [
    "errors, errors_baseline, errors_relative, errors_baseline_relative, errors_baseline_median, errors_baseline_median_relative = shared_functions.print_mean_absolute_error(y_pred, target, average_target, median_target)"
   ]
  },
  {
   "cell_type": "markdown",
   "metadata": {},
   "source": [
    "### Join data"
   ]
  },
  {
   "cell_type": "code",
   "execution_count": null,
   "metadata": {
    "ExecuteTime": {
     "start_time": "2019-02-02T17:04:07.036Z"
    },
    "collapsed": true
   },
   "outputs": [],
   "source": [
    "pd.set_option('display.max_columns', None)\n",
    "predicted_df, joined_predicted_df = shared_functions.join_predicted_df(df, features, target, y_pred, errors, errors_relative, errors_baseline, errors_baseline_relative, errors_baseline_median, errors_baseline_median_relative)"
   ]
  },
  {
   "cell_type": "markdown",
   "metadata": {
    "ExecuteTime": {
     "end_time": "2019-01-19T21:21:07.655357Z",
     "start_time": "2019-01-19T21:21:07.648644Z"
    }
   },
   "source": [
    "### Worst absolute predictions"
   ]
  },
  {
   "cell_type": "markdown",
   "metadata": {},
   "source": [
    "Below we can inspect the rows with the biggest prediction error."
   ]
  },
  {
   "cell_type": "code",
   "execution_count": null,
   "metadata": {
    "ExecuteTime": {
     "start_time": "2019-02-02T17:04:07.245Z"
    }
   },
   "outputs": [],
   "source": [
    "joined_predicted_df.sort_values('error', ascending = False).head(20)"
   ]
  },
  {
   "cell_type": "markdown",
   "metadata": {},
   "source": [
    "### Worst relative predictions"
   ]
  },
  {
   "cell_type": "code",
   "execution_count": null,
   "metadata": {
    "ExecuteTime": {
     "start_time": "2019-02-02T17:04:07.370Z"
    },
    "scrolled": true
   },
   "outputs": [],
   "source": [
    "joined_predicted_df.sort_values('error_relative', ascending = False).head(20)"
   ]
  },
  {
   "cell_type": "markdown",
   "metadata": {},
   "source": [
    "### Best absolute predictions"
   ]
  },
  {
   "cell_type": "code",
   "execution_count": null,
   "metadata": {
    "ExecuteTime": {
     "start_time": "2019-02-02T17:04:07.466Z"
    }
   },
   "outputs": [],
   "source": [
    "joined_predicted_df.sort_values('error', ascending = True).head(20)"
   ]
  },
  {
   "cell_type": "markdown",
   "metadata": {},
   "source": [
    "### Best relative predictions"
   ]
  },
  {
   "cell_type": "code",
   "execution_count": null,
   "metadata": {
    "ExecuteTime": {
     "start_time": "2019-02-02T17:04:07.557Z"
    }
   },
   "outputs": [],
   "source": [
    "joined_predicted_df.sort_values('error', ascending = True).head(20)"
   ]
  },
  {
   "cell_type": "markdown",
   "metadata": {},
   "source": [
    "### Relative errors distribution"
   ]
  },
  {
   "cell_type": "code",
   "execution_count": null,
   "metadata": {
    "ExecuteTime": {
     "start_time": "2019-02-02T17:04:07.638Z"
    }
   },
   "outputs": [],
   "source": [
    "centers, normalized_hist_predicted, normalized_hist_baseline, normalized_hist_baseline_median = shared_functions.plot_relative_error_distribution(predicted_df)"
   ]
  },
  {
   "cell_type": "markdown",
   "metadata": {},
   "source": [
    "#### Accumulated"
   ]
  },
  {
   "cell_type": "code",
   "execution_count": null,
   "metadata": {
    "ExecuteTime": {
     "start_time": "2019-02-02T17:04:07.706Z"
    }
   },
   "outputs": [],
   "source": [
    "shared_functions.plot_accumulated_relative_error(centers, normalized_hist_predicted, normalized_hist_baseline, normalized_hist_baseline_median)"
   ]
  },
  {
   "cell_type": "markdown",
   "metadata": {},
   "source": [
    "### Joined data summary"
   ]
  },
  {
   "cell_type": "code",
   "execution_count": null,
   "metadata": {
    "ExecuteTime": {
     "start_time": "2019-02-02T17:04:07.789Z"
    }
   },
   "outputs": [],
   "source": [
    "joined_predicted_df.describe(percentiles=[0.25, 0.5, 0.75, 0.85, 0.9, 0.95, 0.99])"
   ]
  },
  {
   "cell_type": "markdown",
   "metadata": {},
   "source": [
    "### Visualize decision tree"
   ]
  },
  {
   "cell_type": "code",
   "execution_count": 29,
   "metadata": {
    "ExecuteTime": {
     "end_time": "2019-01-26T19:21:46.218139Z",
     "start_time": "2019-01-26T19:21:44.268535Z"
    },
    "deletable": false,
    "editable": false,
    "run_control": {
     "frozen": true
    }
   },
   "outputs": [
    {
     "name": "stdout",
     "output_type": "stream",
     "text": [
      "Output image:  tree-price.png\n"
     ]
    }
   ],
   "source": [
    "shared_functions.render_image_first_decision_tree(rf, feature_list, 'tree-price.png')"
   ]
  },
  {
   "cell_type": "markdown",
   "metadata": {},
   "source": [
    "<img src=\"files/image.png\">"
   ]
  }
 ],
 "metadata": {
  "kernelspec": {
   "display_name": "Python 2",
   "language": "python",
   "name": "python2"
  },
  "language_info": {
   "codemirror_mode": {
    "name": "ipython",
    "version": 2
   },
   "file_extension": ".py",
   "mimetype": "text/x-python",
   "name": "python",
   "nbconvert_exporter": "python",
   "pygments_lexer": "ipython2",
   "version": "2.7.15"
  },
  "toc": {
   "base_numbering": 1,
   "nav_menu": {
    "height": "591px",
    "width": "459px"
   },
   "number_sections": true,
   "sideBar": true,
   "skip_h1_title": false,
   "title_cell": "Table of Contents",
   "title_sidebar": "Contents",
   "toc_cell": false,
   "toc_position": {
    "height": "calc(100% - 180px)",
    "left": "10px",
    "top": "150px",
    "width": "384px"
   },
   "toc_section_display": true,
   "toc_window_display": true
  },
  "varInspector": {
   "cols": {
    "lenName": 16,
    "lenType": 16,
    "lenVar": 40
   },
   "kernels_config": {
    "python": {
     "delete_cmd_postfix": "",
     "delete_cmd_prefix": "del ",
     "library": "var_list.py",
     "varRefreshCmd": "print(var_dic_list())"
    },
    "r": {
     "delete_cmd_postfix": ") ",
     "delete_cmd_prefix": "rm(",
     "library": "var_list.r",
     "varRefreshCmd": "cat(var_dic_list()) "
    }
   },
   "position": {
    "height": "241px",
    "left": "1550px",
    "right": "20px",
    "top": "120px",
    "width": "353px"
   },
   "types_to_exclude": [
    "module",
    "function",
    "builtin_function_or_method",
    "instance",
    "_Feature"
   ],
   "window_display": false
  }
 },
 "nbformat": 4,
 "nbformat_minor": 2
}
